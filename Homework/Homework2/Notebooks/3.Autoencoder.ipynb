{
 "cells": [
  {
   "cell_type": "markdown",
   "metadata": {
    "id": "aYsmiol_yjDZ"
   },
   "source": [
    "# Question 3 : Dimensionality Reduction"
   ]
  },
  {
   "cell_type": "markdown",
   "metadata": {
    "id": "yZHTlXYFyjDe"
   },
   "source": [
    "# 1) Dimension Reduction on Question 1"
   ]
  },
  {
   "cell_type": "markdown",
   "metadata": {
    "id": "2r1fVSkSyjDe"
   },
   "source": [
    "## Dimensionality Reduction using AutoEncoders"
   ]
  },
  {
   "cell_type": "code",
   "execution_count": 104,
   "metadata": {
    "id": "GYtgg5blyjDe"
   },
   "outputs": [],
   "source": [
    "import numpy as np\n",
    "import pandas as pd\n",
    "\n",
    "from sklearn.preprocessing import minmax_scale\n",
    "from sklearn.model_selection import train_test_split\n",
    "from keras.layers import Input, Dense\n",
    "from keras.models import Model"
   ]
  },
  {
   "cell_type": "code",
   "execution_count": 105,
   "metadata": {
    "id": "Erh9XgaPyjDf"
   },
   "outputs": [],
   "source": [
    "df = pd.read_csv('data/ionosphere.data',header=None)\n",
    "df['target'] = df[34]\n",
    "df = df.drop(34,axis = 1)\n",
    "df[0] = df[0].astype('category')\n",
    "df['target'] = df['target'].astype('category')\n",
    "df['target'] = df['target'].replace({'g':1, 'b' : 0})"
   ]
  },
  {
   "cell_type": "code",
   "execution_count": 106,
   "metadata": {
    "id": "m6PeMvRjyjDf"
   },
   "outputs": [],
   "source": [
    "X = df.drop('target',axis = 1).to_numpy()\n",
    "y = df['target'].to_numpy()"
   ]
  },
  {
   "cell_type": "code",
   "execution_count": 107,
   "metadata": {
    "id": "r1_bjsppyjDg"
   },
   "outputs": [],
   "source": [
    "X_train, X_test, y_train, y_test = train_test_split(\n",
    "    X, y, test_size=0.2, random_state=42, stratify=y\n",
    ")"
   ]
  },
  {
   "cell_type": "code",
   "execution_count": 108,
   "metadata": {
    "id": "W2v2-IXY0fVA"
   },
   "outputs": [],
   "source": [
    "train_scaled = minmax_scale(X_train, axis = 0)\n",
    "test_scaled = minmax_scale(X_test, axis = 0)"
   ]
  },
  {
   "cell_type": "markdown",
   "metadata": {
    "id": "gitO_hHVACUZ"
   },
   "source": [
    "### Defining the AutoEncoder"
   ]
  },
  {
   "cell_type": "code",
   "execution_count": 109,
   "metadata": {
    "id": "Rt5JJW530gF1"
   },
   "outputs": [],
   "source": [
    "encoding_dim = 17\n",
    "ncol = 34\n",
    "input_dim = Input(shape = (ncol, ))\n",
    "\n",
    "# Encoder Layers\n",
    "encoded1 = Dense(28, activation = 'relu')(input_dim)\n",
    "encoded2 = Dense(22, activation = 'relu')(encoded1)\n",
    "encoded3 = Dense(encoding_dim, activation = 'relu')(encoded2)\n",
    "\n",
    "# Decoder Layers\n",
    "decoded1 = Dense(22, activation = 'relu')(encoded3)\n",
    "decoded2 = Dense(28, activation = 'relu')(decoded1)\n",
    "decoded13 = Dense(ncol, activation = 'sigmoid')(decoded2)\n",
    "\n",
    "# Combine Encoder and Deocder layers\n",
    "autoencoder = Model(inputs = input_dim, outputs = decoded13)\n",
    "\n",
    "# Compile the Model\n",
    "autoencoder.compile(optimizer = 'adam', loss = 'binary_crossentropy')"
   ]
  },
  {
   "cell_type": "code",
   "execution_count": 110,
   "metadata": {
    "colab": {
     "base_uri": "https://localhost:8080/"
    },
    "id": "ntnI-rC41pJA",
    "outputId": "e79ca2d8-a196-457a-f60b-c14279fcc274"
   },
   "outputs": [
    {
     "name": "stdout",
     "output_type": "stream",
     "text": [
      "Model: \"model_6\"\n",
      "_________________________________________________________________\n",
      " Layer (type)                Output Shape              Param #   \n",
      "=================================================================\n",
      " input_7 (InputLayer)        [(None, 34)]              0         \n",
      "                                                                 \n",
      " dense_20 (Dense)            (None, 28)                980       \n",
      "                                                                 \n",
      " dense_21 (Dense)            (None, 22)                638       \n",
      "                                                                 \n",
      " dense_22 (Dense)            (None, 17)                391       \n",
      "                                                                 \n",
      " dense_23 (Dense)            (None, 22)                396       \n",
      "                                                                 \n",
      " dense_24 (Dense)            (None, 28)                644       \n",
      "                                                                 \n",
      " dense_25 (Dense)            (None, 34)                986       \n",
      "                                                                 \n",
      "=================================================================\n",
      "Total params: 4,035\n",
      "Trainable params: 4,035\n",
      "Non-trainable params: 0\n",
      "_________________________________________________________________\n"
     ]
    }
   ],
   "source": [
    "autoencoder.summary()"
   ]
  },
  {
   "cell_type": "markdown",
   "metadata": {
    "id": "opU7-4JV97GI"
   },
   "source": [
    "### Training the AutoEncoder"
   ]
  },
  {
   "cell_type": "code",
   "execution_count": 111,
   "metadata": {
    "colab": {
     "base_uri": "https://localhost:8080/"
    },
    "id": "9F3MhCRn3mSZ",
    "outputId": "c3f7abaa-630d-4a49-b2f2-f999c87c0c9e"
   },
   "outputs": [
    {
     "name": "stdout",
     "output_type": "stream",
     "text": [
      "Epoch 1/200\n",
      "9/9 [==============================] - 1s 22ms/step - loss: 0.6958 - val_loss: 0.6925\n",
      "Epoch 2/200\n",
      "9/9 [==============================] - 0s 8ms/step - loss: 0.6911 - val_loss: 0.6894\n",
      "Epoch 3/200\n",
      "9/9 [==============================] - 0s 6ms/step - loss: 0.6885 - val_loss: 0.6865\n",
      "Epoch 4/200\n",
      "9/9 [==============================] - 0s 5ms/step - loss: 0.6853 - val_loss: 0.6820\n",
      "Epoch 5/200\n",
      "9/9 [==============================] - 0s 5ms/step - loss: 0.6801 - val_loss: 0.6743\n",
      "Epoch 6/200\n",
      "9/9 [==============================] - 0s 8ms/step - loss: 0.6714 - val_loss: 0.6613\n",
      "Epoch 7/200\n",
      "9/9 [==============================] - 0s 6ms/step - loss: 0.6577 - val_loss: 0.6430\n",
      "Epoch 8/200\n",
      "9/9 [==============================] - 0s 6ms/step - loss: 0.6419 - val_loss: 0.6249\n",
      "Epoch 9/200\n",
      "9/9 [==============================] - 0s 6ms/step - loss: 0.6265 - val_loss: 0.6091\n",
      "Epoch 10/200\n",
      "9/9 [==============================] - 0s 6ms/step - loss: 0.6131 - val_loss: 0.5962\n",
      "Epoch 11/200\n",
      "9/9 [==============================] - 0s 5ms/step - loss: 0.6015 - val_loss: 0.5859\n",
      "Epoch 12/200\n",
      "9/9 [==============================] - 0s 6ms/step - loss: 0.5917 - val_loss: 0.5779\n",
      "Epoch 13/200\n",
      "9/9 [==============================] - 0s 5ms/step - loss: 0.5839 - val_loss: 0.5719\n",
      "Epoch 14/200\n",
      "9/9 [==============================] - 0s 5ms/step - loss: 0.5782 - val_loss: 0.5680\n",
      "Epoch 15/200\n",
      "9/9 [==============================] - 0s 5ms/step - loss: 0.5739 - val_loss: 0.5650\n",
      "Epoch 16/200\n",
      "9/9 [==============================] - 0s 6ms/step - loss: 0.5701 - val_loss: 0.5623\n",
      "Epoch 17/200\n",
      "9/9 [==============================] - 0s 7ms/step - loss: 0.5665 - val_loss: 0.5599\n",
      "Epoch 18/200\n",
      "9/9 [==============================] - 0s 6ms/step - loss: 0.5633 - val_loss: 0.5576\n",
      "Epoch 19/200\n",
      "9/9 [==============================] - 0s 5ms/step - loss: 0.5605 - val_loss: 0.5555\n",
      "Epoch 20/200\n",
      "9/9 [==============================] - 0s 7ms/step - loss: 0.5580 - val_loss: 0.5536\n",
      "Epoch 21/200\n",
      "9/9 [==============================] - 0s 7ms/step - loss: 0.5557 - val_loss: 0.5518\n",
      "Epoch 22/200\n",
      "9/9 [==============================] - 0s 6ms/step - loss: 0.5537 - val_loss: 0.5501\n",
      "Epoch 23/200\n",
      "9/9 [==============================] - 0s 6ms/step - loss: 0.5517 - val_loss: 0.5484\n",
      "Epoch 24/200\n",
      "9/9 [==============================] - 0s 6ms/step - loss: 0.5499 - val_loss: 0.5468\n",
      "Epoch 25/200\n",
      "9/9 [==============================] - 0s 5ms/step - loss: 0.5481 - val_loss: 0.5453\n",
      "Epoch 26/200\n",
      "9/9 [==============================] - 0s 7ms/step - loss: 0.5463 - val_loss: 0.5437\n",
      "Epoch 27/200\n",
      "9/9 [==============================] - 0s 9ms/step - loss: 0.5444 - val_loss: 0.5424\n",
      "Epoch 28/200\n",
      "9/9 [==============================] - 0s 7ms/step - loss: 0.5424 - val_loss: 0.5411\n",
      "Epoch 29/200\n",
      "9/9 [==============================] - 0s 7ms/step - loss: 0.5403 - val_loss: 0.5400\n",
      "Epoch 30/200\n",
      "9/9 [==============================] - 0s 6ms/step - loss: 0.5382 - val_loss: 0.5388\n",
      "Epoch 31/200\n",
      "9/9 [==============================] - 0s 6ms/step - loss: 0.5362 - val_loss: 0.5372\n",
      "Epoch 32/200\n",
      "9/9 [==============================] - 0s 7ms/step - loss: 0.5342 - val_loss: 0.5353\n",
      "Epoch 33/200\n",
      "9/9 [==============================] - 0s 8ms/step - loss: 0.5322 - val_loss: 0.5337\n",
      "Epoch 34/200\n",
      "9/9 [==============================] - 0s 7ms/step - loss: 0.5302 - val_loss: 0.5325\n",
      "Epoch 35/200\n",
      "9/9 [==============================] - 0s 6ms/step - loss: 0.5284 - val_loss: 0.5314\n",
      "Epoch 36/200\n",
      "9/9 [==============================] - 0s 8ms/step - loss: 0.5268 - val_loss: 0.5302\n",
      "Epoch 37/200\n",
      "9/9 [==============================] - 0s 6ms/step - loss: 0.5252 - val_loss: 0.5291\n",
      "Epoch 38/200\n",
      "9/9 [==============================] - 0s 6ms/step - loss: 0.5238 - val_loss: 0.5280\n",
      "Epoch 39/200\n",
      "9/9 [==============================] - 0s 5ms/step - loss: 0.5225 - val_loss: 0.5267\n",
      "Epoch 40/200\n",
      "9/9 [==============================] - 0s 6ms/step - loss: 0.5213 - val_loss: 0.5259\n",
      "Epoch 41/200\n",
      "9/9 [==============================] - 0s 6ms/step - loss: 0.5201 - val_loss: 0.5252\n",
      "Epoch 42/200\n",
      "9/9 [==============================] - 0s 6ms/step - loss: 0.5191 - val_loss: 0.5245\n",
      "Epoch 43/200\n",
      "9/9 [==============================] - 0s 7ms/step - loss: 0.5180 - val_loss: 0.5238\n",
      "Epoch 44/200\n",
      "9/9 [==============================] - 0s 6ms/step - loss: 0.5169 - val_loss: 0.5232\n",
      "Epoch 45/200\n",
      "9/9 [==============================] - 0s 5ms/step - loss: 0.5160 - val_loss: 0.5227\n",
      "Epoch 46/200\n",
      "9/9 [==============================] - 0s 6ms/step - loss: 0.5151 - val_loss: 0.5220\n",
      "Epoch 47/200\n",
      "9/9 [==============================] - 0s 6ms/step - loss: 0.5142 - val_loss: 0.5215\n",
      "Epoch 48/200\n",
      "9/9 [==============================] - 0s 6ms/step - loss: 0.5134 - val_loss: 0.5210\n",
      "Epoch 49/200\n",
      "9/9 [==============================] - 0s 6ms/step - loss: 0.5126 - val_loss: 0.5205\n",
      "Epoch 50/200\n",
      "9/9 [==============================] - 0s 8ms/step - loss: 0.5119 - val_loss: 0.5201\n",
      "Epoch 51/200\n",
      "9/9 [==============================] - 0s 6ms/step - loss: 0.5112 - val_loss: 0.5197\n",
      "Epoch 52/200\n",
      "9/9 [==============================] - 0s 5ms/step - loss: 0.5106 - val_loss: 0.5193\n",
      "Epoch 53/200\n",
      "9/9 [==============================] - 0s 5ms/step - loss: 0.5099 - val_loss: 0.5188\n",
      "Epoch 54/200\n",
      "9/9 [==============================] - 0s 6ms/step - loss: 0.5093 - val_loss: 0.5181\n",
      "Epoch 55/200\n",
      "9/9 [==============================] - 0s 7ms/step - loss: 0.5086 - val_loss: 0.5176\n",
      "Epoch 56/200\n",
      "9/9 [==============================] - 0s 6ms/step - loss: 0.5080 - val_loss: 0.5170\n",
      "Epoch 57/200\n",
      "9/9 [==============================] - 0s 5ms/step - loss: 0.5074 - val_loss: 0.5166\n",
      "Epoch 58/200\n",
      "9/9 [==============================] - 0s 6ms/step - loss: 0.5068 - val_loss: 0.5163\n",
      "Epoch 59/200\n",
      "9/9 [==============================] - 0s 5ms/step - loss: 0.5062 - val_loss: 0.5159\n",
      "Epoch 60/200\n",
      "9/9 [==============================] - 0s 7ms/step - loss: 0.5057 - val_loss: 0.5157\n",
      "Epoch 61/200\n",
      "9/9 [==============================] - 0s 6ms/step - loss: 0.5052 - val_loss: 0.5155\n",
      "Epoch 62/200\n",
      "9/9 [==============================] - 0s 5ms/step - loss: 0.5047 - val_loss: 0.5153\n",
      "Epoch 63/200\n",
      "9/9 [==============================] - 0s 5ms/step - loss: 0.5042 - val_loss: 0.5151\n",
      "Epoch 64/200\n",
      "9/9 [==============================] - 0s 6ms/step - loss: 0.5038 - val_loss: 0.5150\n",
      "Epoch 65/200\n",
      "9/9 [==============================] - 0s 5ms/step - loss: 0.5033 - val_loss: 0.5148\n",
      "Epoch 66/200\n",
      "9/9 [==============================] - 0s 5ms/step - loss: 0.5029 - val_loss: 0.5147\n",
      "Epoch 67/200\n",
      "9/9 [==============================] - 0s 8ms/step - loss: 0.5025 - val_loss: 0.5147\n",
      "Epoch 68/200\n",
      "9/9 [==============================] - 0s 5ms/step - loss: 0.5021 - val_loss: 0.5145\n",
      "Epoch 69/200\n",
      "9/9 [==============================] - 0s 7ms/step - loss: 0.5018 - val_loss: 0.5145\n",
      "Epoch 70/200\n",
      "9/9 [==============================] - 0s 6ms/step - loss: 0.5014 - val_loss: 0.5144\n",
      "Epoch 71/200\n",
      "9/9 [==============================] - 0s 6ms/step - loss: 0.5010 - val_loss: 0.5143\n",
      "Epoch 72/200\n",
      "9/9 [==============================] - 0s 8ms/step - loss: 0.5006 - val_loss: 0.5140\n",
      "Epoch 73/200\n",
      "9/9 [==============================] - 0s 6ms/step - loss: 0.5002 - val_loss: 0.5139\n",
      "Epoch 74/200\n",
      "9/9 [==============================] - 0s 8ms/step - loss: 0.4998 - val_loss: 0.5137\n",
      "Epoch 75/200\n",
      "9/9 [==============================] - 0s 6ms/step - loss: 0.4995 - val_loss: 0.5136\n",
      "Epoch 76/200\n",
      "9/9 [==============================] - 0s 8ms/step - loss: 0.4991 - val_loss: 0.5135\n",
      "Epoch 77/200\n",
      "9/9 [==============================] - 0s 5ms/step - loss: 0.4987 - val_loss: 0.5136\n",
      "Epoch 78/200\n",
      "9/9 [==============================] - 0s 6ms/step - loss: 0.4984 - val_loss: 0.5135\n",
      "Epoch 79/200\n",
      "9/9 [==============================] - 0s 5ms/step - loss: 0.4980 - val_loss: 0.5135\n",
      "Epoch 80/200\n",
      "9/9 [==============================] - 0s 5ms/step - loss: 0.4977 - val_loss: 0.5134\n",
      "Epoch 81/200\n",
      "9/9 [==============================] - 0s 8ms/step - loss: 0.4974 - val_loss: 0.5134\n",
      "Epoch 82/200\n",
      "9/9 [==============================] - 0s 6ms/step - loss: 0.4971 - val_loss: 0.5134\n",
      "Epoch 83/200\n",
      "9/9 [==============================] - 0s 6ms/step - loss: 0.4969 - val_loss: 0.5134\n",
      "Epoch 84/200\n",
      "9/9 [==============================] - 0s 8ms/step - loss: 0.4966 - val_loss: 0.5134\n",
      "Epoch 85/200\n",
      "9/9 [==============================] - 0s 8ms/step - loss: 0.4963 - val_loss: 0.5133\n",
      "Epoch 86/200\n",
      "9/9 [==============================] - 0s 8ms/step - loss: 0.4960 - val_loss: 0.5132\n",
      "Epoch 87/200\n",
      "9/9 [==============================] - 0s 6ms/step - loss: 0.4957 - val_loss: 0.5131\n",
      "Epoch 88/200\n",
      "9/9 [==============================] - 0s 9ms/step - loss: 0.4954 - val_loss: 0.5130\n",
      "Epoch 89/200\n",
      "9/9 [==============================] - 0s 7ms/step - loss: 0.4951 - val_loss: 0.5130\n",
      "Epoch 90/200\n",
      "9/9 [==============================] - 0s 7ms/step - loss: 0.4949 - val_loss: 0.5129\n",
      "Epoch 91/200\n",
      "9/9 [==============================] - 0s 6ms/step - loss: 0.4946 - val_loss: 0.5129\n",
      "Epoch 92/200\n",
      "9/9 [==============================] - 0s 7ms/step - loss: 0.4943 - val_loss: 0.5129\n",
      "Epoch 93/200\n",
      "9/9 [==============================] - 0s 8ms/step - loss: 0.4940 - val_loss: 0.5128\n",
      "Epoch 94/200\n",
      "9/9 [==============================] - 0s 6ms/step - loss: 0.4937 - val_loss: 0.5128\n",
      "Epoch 95/200\n",
      "9/9 [==============================] - 0s 5ms/step - loss: 0.4935 - val_loss: 0.5129\n",
      "Epoch 96/200\n",
      "9/9 [==============================] - 0s 8ms/step - loss: 0.4932 - val_loss: 0.5128\n",
      "Epoch 97/200\n",
      "9/9 [==============================] - 0s 7ms/step - loss: 0.4929 - val_loss: 0.5128\n",
      "Epoch 98/200\n",
      "9/9 [==============================] - 0s 5ms/step - loss: 0.4927 - val_loss: 0.5129\n",
      "Epoch 99/200\n",
      "9/9 [==============================] - 0s 5ms/step - loss: 0.4924 - val_loss: 0.5128\n",
      "Epoch 100/200\n",
      "9/9 [==============================] - 0s 8ms/step - loss: 0.4921 - val_loss: 0.5128\n",
      "Epoch 101/200\n",
      "9/9 [==============================] - 0s 6ms/step - loss: 0.4919 - val_loss: 0.5130\n",
      "Epoch 102/200\n",
      "9/9 [==============================] - 0s 7ms/step - loss: 0.4916 - val_loss: 0.5129\n",
      "Epoch 103/200\n",
      "9/9 [==============================] - 0s 5ms/step - loss: 0.4914 - val_loss: 0.5129\n",
      "Epoch 104/200\n",
      "9/9 [==============================] - 0s 6ms/step - loss: 0.4912 - val_loss: 0.5130\n",
      "Epoch 105/200\n",
      "9/9 [==============================] - 0s 6ms/step - loss: 0.4909 - val_loss: 0.5129\n",
      "Epoch 106/200\n",
      "9/9 [==============================] - 0s 6ms/step - loss: 0.4907 - val_loss: 0.5129\n",
      "Epoch 107/200\n",
      "9/9 [==============================] - 0s 5ms/step - loss: 0.4905 - val_loss: 0.5129\n",
      "Epoch 108/200\n",
      "9/9 [==============================] - 0s 6ms/step - loss: 0.4903 - val_loss: 0.5128\n",
      "Epoch 109/200\n",
      "9/9 [==============================] - 0s 7ms/step - loss: 0.4900 - val_loss: 0.5128\n",
      "Epoch 110/200\n",
      "9/9 [==============================] - 0s 6ms/step - loss: 0.4898 - val_loss: 0.5128\n",
      "Epoch 111/200\n",
      "9/9 [==============================] - 0s 5ms/step - loss: 0.4896 - val_loss: 0.5128\n",
      "Epoch 112/200\n",
      "9/9 [==============================] - 0s 8ms/step - loss: 0.4894 - val_loss: 0.5128\n",
      "Epoch 113/200\n",
      "9/9 [==============================] - 0s 7ms/step - loss: 0.4892 - val_loss: 0.5127\n",
      "Epoch 114/200\n",
      "9/9 [==============================] - 0s 6ms/step - loss: 0.4890 - val_loss: 0.5128\n",
      "Epoch 115/200\n",
      "9/9 [==============================] - 0s 6ms/step - loss: 0.4888 - val_loss: 0.5130\n",
      "Epoch 116/200\n",
      "9/9 [==============================] - 0s 7ms/step - loss: 0.4886 - val_loss: 0.5129\n",
      "Epoch 117/200\n",
      "9/9 [==============================] - 0s 6ms/step - loss: 0.4885 - val_loss: 0.5129\n",
      "Epoch 118/200\n",
      "9/9 [==============================] - 0s 7ms/step - loss: 0.4883 - val_loss: 0.5129\n",
      "Epoch 119/200\n",
      "9/9 [==============================] - 0s 6ms/step - loss: 0.4881 - val_loss: 0.5130\n",
      "Epoch 120/200\n",
      "9/9 [==============================] - 0s 5ms/step - loss: 0.4879 - val_loss: 0.5129\n",
      "Epoch 121/200\n",
      "9/9 [==============================] - 0s 6ms/step - loss: 0.4877 - val_loss: 0.5130\n",
      "Epoch 122/200\n",
      "9/9 [==============================] - 0s 5ms/step - loss: 0.4875 - val_loss: 0.5131\n",
      "Epoch 123/200\n",
      "9/9 [==============================] - 0s 5ms/step - loss: 0.4873 - val_loss: 0.5130\n",
      "Epoch 124/200\n",
      "9/9 [==============================] - 0s 5ms/step - loss: 0.4872 - val_loss: 0.5130\n",
      "Epoch 125/200\n",
      "9/9 [==============================] - 0s 6ms/step - loss: 0.4870 - val_loss: 0.5132\n",
      "Epoch 126/200\n",
      "9/9 [==============================] - 0s 8ms/step - loss: 0.4868 - val_loss: 0.5130\n",
      "Epoch 127/200\n",
      "9/9 [==============================] - 0s 5ms/step - loss: 0.4867 - val_loss: 0.5134\n",
      "Epoch 128/200\n",
      "9/9 [==============================] - 0s 6ms/step - loss: 0.4864 - val_loss: 0.5134\n",
      "Epoch 129/200\n",
      "9/9 [==============================] - 0s 6ms/step - loss: 0.4863 - val_loss: 0.5132\n",
      "Epoch 130/200\n",
      "9/9 [==============================] - 0s 6ms/step - loss: 0.4862 - val_loss: 0.5132\n",
      "Epoch 131/200\n",
      "9/9 [==============================] - 0s 6ms/step - loss: 0.4859 - val_loss: 0.5134\n",
      "Epoch 132/200\n",
      "9/9 [==============================] - 0s 8ms/step - loss: 0.4858 - val_loss: 0.5134\n",
      "Epoch 133/200\n",
      "9/9 [==============================] - 0s 6ms/step - loss: 0.4857 - val_loss: 0.5134\n",
      "Epoch 134/200\n",
      "9/9 [==============================] - 0s 8ms/step - loss: 0.4855 - val_loss: 0.5136\n",
      "Epoch 135/200\n",
      "9/9 [==============================] - 0s 6ms/step - loss: 0.4853 - val_loss: 0.5134\n",
      "Epoch 136/200\n",
      "9/9 [==============================] - 0s 6ms/step - loss: 0.4851 - val_loss: 0.5136\n",
      "Epoch 137/200\n",
      "9/9 [==============================] - 0s 6ms/step - loss: 0.4850 - val_loss: 0.5135\n",
      "Epoch 138/200\n",
      "9/9 [==============================] - 0s 6ms/step - loss: 0.4848 - val_loss: 0.5136\n",
      "Epoch 139/200\n",
      "9/9 [==============================] - 0s 5ms/step - loss: 0.4847 - val_loss: 0.5136\n",
      "Epoch 140/200\n",
      "9/9 [==============================] - 0s 8ms/step - loss: 0.4847 - val_loss: 0.5140\n",
      "Epoch 141/200\n",
      "9/9 [==============================] - 0s 6ms/step - loss: 0.4844 - val_loss: 0.5139\n",
      "Epoch 142/200\n",
      "9/9 [==============================] - 0s 8ms/step - loss: 0.4843 - val_loss: 0.5139\n",
      "Epoch 143/200\n",
      "9/9 [==============================] - 0s 8ms/step - loss: 0.4841 - val_loss: 0.5138\n",
      "Epoch 144/200\n",
      "9/9 [==============================] - 0s 6ms/step - loss: 0.4840 - val_loss: 0.5138\n",
      "Epoch 145/200\n",
      "9/9 [==============================] - 0s 9ms/step - loss: 0.4838 - val_loss: 0.5139\n",
      "Epoch 146/200\n",
      "9/9 [==============================] - 0s 6ms/step - loss: 0.4836 - val_loss: 0.5139\n",
      "Epoch 147/200\n",
      "9/9 [==============================] - 0s 7ms/step - loss: 0.4835 - val_loss: 0.5138\n",
      "Epoch 148/200\n",
      "9/9 [==============================] - 0s 6ms/step - loss: 0.4833 - val_loss: 0.5138\n",
      "Epoch 149/200\n",
      "9/9 [==============================] - 0s 5ms/step - loss: 0.4833 - val_loss: 0.5140\n",
      "Epoch 150/200\n",
      "9/9 [==============================] - 0s 7ms/step - loss: 0.4831 - val_loss: 0.5140\n",
      "Epoch 151/200\n",
      "9/9 [==============================] - 0s 6ms/step - loss: 0.4829 - val_loss: 0.5139\n",
      "Epoch 152/200\n",
      "9/9 [==============================] - 0s 6ms/step - loss: 0.4828 - val_loss: 0.5139\n",
      "Epoch 153/200\n",
      "9/9 [==============================] - 0s 8ms/step - loss: 0.4827 - val_loss: 0.5143\n",
      "Epoch 154/200\n",
      "9/9 [==============================] - 0s 8ms/step - loss: 0.4825 - val_loss: 0.5139\n",
      "Epoch 155/200\n",
      "9/9 [==============================] - 0s 9ms/step - loss: 0.4824 - val_loss: 0.5139\n",
      "Epoch 156/200\n",
      "9/9 [==============================] - 0s 6ms/step - loss: 0.4823 - val_loss: 0.5141\n",
      "Epoch 157/200\n",
      "9/9 [==============================] - 0s 8ms/step - loss: 0.4822 - val_loss: 0.5141\n",
      "Epoch 158/200\n",
      "9/9 [==============================] - 0s 6ms/step - loss: 0.4821 - val_loss: 0.5141\n",
      "Epoch 159/200\n",
      "9/9 [==============================] - 0s 6ms/step - loss: 0.4819 - val_loss: 0.5143\n",
      "Epoch 160/200\n",
      "9/9 [==============================] - 0s 8ms/step - loss: 0.4818 - val_loss: 0.5143\n",
      "Epoch 161/200\n",
      "9/9 [==============================] - 0s 8ms/step - loss: 0.4816 - val_loss: 0.5143\n",
      "Epoch 162/200\n",
      "9/9 [==============================] - 0s 7ms/step - loss: 0.4815 - val_loss: 0.5141\n",
      "Epoch 163/200\n",
      "9/9 [==============================] - 0s 5ms/step - loss: 0.4814 - val_loss: 0.5140\n",
      "Epoch 164/200\n",
      "9/9 [==============================] - 0s 8ms/step - loss: 0.4813 - val_loss: 0.5145\n",
      "Epoch 165/200\n",
      "9/9 [==============================] - 0s 7ms/step - loss: 0.4811 - val_loss: 0.5144\n",
      "Epoch 166/200\n",
      "9/9 [==============================] - 0s 6ms/step - loss: 0.4810 - val_loss: 0.5143\n",
      "Epoch 167/200\n",
      "9/9 [==============================] - 0s 6ms/step - loss: 0.4809 - val_loss: 0.5143\n",
      "Epoch 168/200\n",
      "9/9 [==============================] - 0s 5ms/step - loss: 0.4808 - val_loss: 0.5145\n",
      "Epoch 169/200\n",
      "9/9 [==============================] - 0s 6ms/step - loss: 0.4807 - val_loss: 0.5146\n",
      "Epoch 170/200\n",
      "9/9 [==============================] - 0s 7ms/step - loss: 0.4806 - val_loss: 0.5145\n",
      "Epoch 171/200\n",
      "9/9 [==============================] - 0s 8ms/step - loss: 0.4805 - val_loss: 0.5144\n",
      "Epoch 172/200\n",
      "9/9 [==============================] - 0s 6ms/step - loss: 0.4803 - val_loss: 0.5144\n",
      "Epoch 173/200\n",
      "9/9 [==============================] - 0s 6ms/step - loss: 0.4802 - val_loss: 0.5145\n",
      "Epoch 174/200\n",
      "9/9 [==============================] - 0s 8ms/step - loss: 0.4801 - val_loss: 0.5144\n",
      "Epoch 175/200\n",
      "9/9 [==============================] - 0s 6ms/step - loss: 0.4801 - val_loss: 0.5145\n",
      "Epoch 176/200\n",
      "9/9 [==============================] - 0s 7ms/step - loss: 0.4798 - val_loss: 0.5146\n",
      "Epoch 177/200\n",
      "9/9 [==============================] - 0s 6ms/step - loss: 0.4798 - val_loss: 0.5146\n",
      "Epoch 178/200\n",
      "9/9 [==============================] - 0s 6ms/step - loss: 0.4797 - val_loss: 0.5145\n",
      "Epoch 179/200\n",
      "9/9 [==============================] - 0s 6ms/step - loss: 0.4797 - val_loss: 0.5145\n",
      "Epoch 180/200\n",
      "9/9 [==============================] - 0s 6ms/step - loss: 0.4795 - val_loss: 0.5146\n",
      "Epoch 181/200\n",
      "9/9 [==============================] - 0s 6ms/step - loss: 0.4795 - val_loss: 0.5148\n",
      "Epoch 182/200\n",
      "9/9 [==============================] - 0s 6ms/step - loss: 0.4794 - val_loss: 0.5148\n",
      "Epoch 183/200\n",
      "9/9 [==============================] - 0s 7ms/step - loss: 0.4793 - val_loss: 0.5149\n",
      "Epoch 184/200\n",
      "9/9 [==============================] - 0s 6ms/step - loss: 0.4791 - val_loss: 0.5149\n",
      "Epoch 185/200\n",
      "9/9 [==============================] - 0s 6ms/step - loss: 0.4790 - val_loss: 0.5147\n",
      "Epoch 186/200\n",
      "9/9 [==============================] - 0s 8ms/step - loss: 0.4789 - val_loss: 0.5145\n",
      "Epoch 187/200\n",
      "9/9 [==============================] - 0s 6ms/step - loss: 0.4789 - val_loss: 0.5148\n",
      "Epoch 188/200\n",
      "9/9 [==============================] - 0s 6ms/step - loss: 0.4787 - val_loss: 0.5149\n",
      "Epoch 189/200\n",
      "9/9 [==============================] - 0s 6ms/step - loss: 0.4786 - val_loss: 0.5146\n",
      "Epoch 190/200\n",
      "9/9 [==============================] - 0s 8ms/step - loss: 0.4785 - val_loss: 0.5147\n",
      "Epoch 191/200\n",
      "9/9 [==============================] - 0s 7ms/step - loss: 0.4785 - val_loss: 0.5149\n",
      "Epoch 192/200\n",
      "9/9 [==============================] - 0s 6ms/step - loss: 0.4784 - val_loss: 0.5148\n",
      "Epoch 193/200\n",
      "9/9 [==============================] - 0s 6ms/step - loss: 0.4783 - val_loss: 0.5149\n",
      "Epoch 194/200\n",
      "9/9 [==============================] - 0s 5ms/step - loss: 0.4782 - val_loss: 0.5146\n",
      "Epoch 195/200\n",
      "9/9 [==============================] - 0s 7ms/step - loss: 0.4782 - val_loss: 0.5149\n",
      "Epoch 196/200\n",
      "9/9 [==============================] - 0s 8ms/step - loss: 0.4782 - val_loss: 0.5147\n",
      "Epoch 197/200\n",
      "9/9 [==============================] - 0s 6ms/step - loss: 0.4780 - val_loss: 0.5146\n",
      "Epoch 198/200\n",
      "9/9 [==============================] - 0s 8ms/step - loss: 0.4780 - val_loss: 0.5146\n",
      "Epoch 199/200\n",
      "9/9 [==============================] - 0s 6ms/step - loss: 0.4780 - val_loss: 0.5145\n",
      "Epoch 200/200\n",
      "9/9 [==============================] - 0s 6ms/step - loss: 0.4780 - val_loss: 0.5144\n"
     ]
    },
    {
     "data": {
      "text/plain": [
       "<keras.callbacks.History at 0x7fbc1a230fd0>"
      ]
     },
     "execution_count": 111,
     "metadata": {},
     "output_type": "execute_result"
    }
   ],
   "source": [
    "autoencoder.fit(train_scaled, train_scaled, epochs = 200, batch_size = 32, \n",
    "                shuffle = False, validation_data = (test_scaled, test_scaled))"
   ]
  },
  {
   "cell_type": "markdown",
   "metadata": {
    "id": "U_k1VYL0-FF8"
   },
   "source": [
    "### Use AutoEncoder to reduce dimension of train and test data"
   ]
  },
  {
   "cell_type": "code",
   "execution_count": 112,
   "metadata": {
    "id": "ey0tOZ6c9lCm"
   },
   "outputs": [],
   "source": [
    "encoder = Model(inputs = input_dim, outputs = encoded3)\n",
    "encoded_input = Input(shape = (encoding_dim, ))"
   ]
  },
  {
   "cell_type": "code",
   "execution_count": 113,
   "metadata": {
    "id": "f6bT_1A_-J-_"
   },
   "outputs": [],
   "source": [
    "encoded_train = pd.DataFrame(encoder.predict(train_scaled))\n",
    "encoded_train = encoded_train.add_prefix('feature_')\n",
    "encoded_train = encoded_train.values\n",
    "\n",
    "encoded_test = pd.DataFrame(encoder.predict(test_scaled))\n",
    "encoded_test = encoded_test.add_prefix('feature_')\n",
    "encoded_test = encoded_test.values\n",
    "\n",
    "encoded_train = encoded_train.astype(np.float)\n",
    "encoded_test = encoded_test.astype(np.float)"
   ]
  },
  {
   "cell_type": "code",
   "execution_count": 114,
   "metadata": {
    "colab": {
     "base_uri": "https://localhost:8080/"
    },
    "id": "OWFNFO9x-dOx",
    "outputId": "8b5351a5-2a6b-41e3-b62c-84e849905e34"
   },
   "outputs": [
    {
     "data": {
      "text/plain": [
       "array([[12.44891834,  3.57403398,  3.40646195, ...,  0.        ,\n",
       "        14.05890369,  4.28539228],\n",
       "       [10.51262093,  3.3840394 ,  2.11868024, ...,  0.        ,\n",
       "        11.56116104,  3.17635918],\n",
       "       [10.3824501 ,  3.22484565,  1.71931291, ...,  0.        ,\n",
       "        11.5196476 ,  2.9691503 ],\n",
       "       ...,\n",
       "       [ 7.04390669,  0.93778944,  3.55841637, ...,  0.        ,\n",
       "         5.81766605,  0.        ],\n",
       "       [ 5.88840103,  2.27328229,  0.9406842 , ...,  0.        ,\n",
       "         6.52591705,  2.90134454],\n",
       "       [ 7.61486101,  3.39422536,  2.08512163, ...,  0.        ,\n",
       "         8.39262009,  2.82381725]])"
      ]
     },
     "execution_count": 114,
     "metadata": {},
     "output_type": "execute_result"
    }
   ],
   "source": [
    "encoded_train"
   ]
  },
  {
   "cell_type": "markdown",
   "metadata": {
    "id": "RpCXms8oBiDo"
   },
   "source": [
    "### Trying the encoded training set on the model"
   ]
  },
  {
   "cell_type": "code",
   "execution_count": 115,
   "metadata": {
    "id": "3RtLyjF5BEOL"
   },
   "outputs": [],
   "source": [
    "import torch.nn as nn\n",
    "import torch\n",
    "class Model(nn.Module):\n",
    "    def __init__(self, n_cont, out_sz, layers, p=0.5, activation_function = nn.ReLU(inplace=True),\n",
    "                enable_dropout = False, enable_batch_normalization = False) :\n",
    "        super().__init__()\n",
    "        self.enable_batch_normalization = enable_batch_normalization\n",
    "        if enable_batch_normalization :\n",
    "            self.bn_cont = nn.BatchNorm1d(n_cont)\n",
    "        \n",
    "        layerlist = []\n",
    "        n_in = n_cont\n",
    "        if len(layers) == 0 :\n",
    "            layerlist.append(nn.Linear(n_in,out_sz))\n",
    "            if activation_function != None :\n",
    "                layerlist.append(activation_function)\n",
    "            if enable_dropout == True :\n",
    "                layerlist.append(nn.Dropout(p))\n",
    "        else :\n",
    "            for i in layers:\n",
    "                layerlist.append(nn.Linear(n_in,i)) \n",
    "                if activation_function != None :\n",
    "                    layerlist.append(activation_function)\n",
    "                if enable_batch_normalization :\n",
    "                    layerlist.append(nn.BatchNorm1d(i))\n",
    "                if enable_dropout == True :\n",
    "                    layerlist.append(nn.Dropout(p))\n",
    "                n_in = i\n",
    "            layerlist.append(nn.Linear(layers[-1],out_sz))\n",
    "            \n",
    "        self.layers = nn.Sequential(*layerlist)\n",
    "    \n",
    "    def forward(self, x_cont):\n",
    "        if self.enable_batch_normalization :\n",
    "            x_cont = self.bn_cont(x_cont)\n",
    "        x = self.layers(x_cont)\n",
    "        return x"
   ]
  },
  {
   "cell_type": "code",
   "execution_count": 128,
   "metadata": {
    "id": "RLgh4vQ-CV62"
   },
   "outputs": [],
   "source": [
    "def mini_batch_train(X_t,X_val,y_t,y_val, epochs, batch_size,model,criterion,optimizer):\n",
    "    training_losses = []\n",
    "    test_losses = []\n",
    "\n",
    "    X_t_tensor = torch.tensor(X_t, dtype=torch.float)\n",
    "    X_val_tensor = torch.tensor(X_val, dtype=torch.float)\n",
    "\n",
    "    y_t_tensor = torch.tensor(y_t).flatten()\n",
    "    y_val_tensor = torch.tensor(y_val).flatten()\n",
    "\n",
    "    for i in range(epochs):\n",
    "        i += 1\n",
    "        # Test Loss\n",
    "        with torch.no_grad():\n",
    "            y_test = model(X_val_tensor)\n",
    "            test_loss = criterion(y_test, y_val_tensor)\n",
    "            test_losses.append(test_loss.item())\n",
    "\n",
    "        start = 0\n",
    "        while start < len(X_t) :\n",
    "            if start + batch_size >= len(X_t) :\n",
    "                y_pred = model(X_t_tensor[start:])\n",
    "                loss = criterion(y_pred, y_t_tensor[start:start+batch_size])\n",
    "                training_losses.append(loss.item())\n",
    "                optimizer.zero_grad()\n",
    "                loss.backward()\n",
    "                optimizer.step()\n",
    "                break\n",
    "            else :\n",
    "                y_pred = model(X_t_tensor[start:start+batch_size])\n",
    "                loss = criterion(y_pred, y_t_tensor[start:start+batch_size])\n",
    "                optimizer.zero_grad()\n",
    "                loss.backward()\n",
    "                optimizer.step()\n",
    "\n",
    "                start = start+batch_size\n",
    "\n",
    "\n",
    "        if i%5 == 1:\n",
    "            print(f'Epoch: {i:3}  Training Loss: {loss.item():10.8f} Test Loss: {test_loss}')\n",
    "\n",
    "    print(f'Epoch: {epochs}  Training Loss: {loss.item():10.8f} Test Loss: {test_loss}')\n",
    "\n",
    "    return training_losses,test_losses\n"
   ]
  },
  {
   "cell_type": "code",
   "execution_count": 129,
   "metadata": {
    "id": "q_QS4YJZM8Xf"
   },
   "outputs": [],
   "source": [
    "import matplotlib.pyplot as plt\n",
    "from sklearn.metrics import confusion_matrix \n",
    "import seaborn as sns\n",
    "from sklearn.metrics import classification_report\n",
    "\n",
    "def show_diagrams(training_losses,valid_losses,model,X_t,y_t) :\n",
    "    \n",
    "    plt.plot(training_losses)\n",
    "    plt.plot(valid_losses)\n",
    "    plt.title('Loss per epoch')\n",
    "    plt.ylabel('Loss')\n",
    "    plt.xlabel('epoch')\n",
    "    plt.legend(['train', 'test'], loc='upper right')\n",
    "    plt.show()\n",
    "\n",
    "    X_val_tensor = torch.tensor(X_t, dtype=torch.float)\n",
    "    with torch.no_grad():\n",
    "        y_pred = model(X_val_tensor)\n",
    "\n",
    "    y_val = []\n",
    "\n",
    "    for i in range(len(y_pred)):\n",
    "        y_val.append(y_pred[i].argmax().item())\n",
    "\n",
    "    conf_mat = confusion_matrix(y_t.tolist(), y_val)\n",
    "    sns.heatmap(conf_mat, annot=True, cmap='Blues')\n",
    "    plt.title('Confusion Matrix')\n",
    "    \n",
    "    print(classification_report(y_t.tolist(), y_val, target_names=['bad','good']))"
   ]
  },
  {
   "cell_type": "code",
   "execution_count": 130,
   "metadata": {
    "id": "0q16rgkYCiy8"
   },
   "outputs": [],
   "source": [
    "in_features = encoding_dim\n",
    "out_features = 2\n",
    "hidden_layers = [1000, 500, 250, 125]\n",
    "batch_size = 8\n",
    "epochs = 30\n",
    "\n",
    "model2 = Model(in_features, out_features, hidden_layers, p=0.4, activation_function = nn.ReLU(inplace = True),\n",
    "               enable_dropout = True)\n",
    "\n",
    "criterion = nn.CrossEntropyLoss()\n",
    "\n",
    "optimizer = torch.optim.Adam(model2.parameters(), lr=0.001)"
   ]
  },
  {
   "cell_type": "code",
   "execution_count": 131,
   "metadata": {
    "colab": {
     "base_uri": "https://localhost:8080/"
    },
    "id": "Lwet3YapDYz6",
    "outputId": "2b762368-ac69-41e7-93bc-e93b6e34a907"
   },
   "outputs": [
    {
     "name": "stdout",
     "output_type": "stream",
     "text": [
      "Epoch:   1  Training Loss: 0.45541608 Test Loss: 0.7531951665878296\n",
      "Epoch:   6  Training Loss: 0.07905960 Test Loss: 0.4581572413444519\n",
      "Epoch:  11  Training Loss: 0.27242512 Test Loss: 0.30584418773651123\n",
      "Epoch:  16  Training Loss: 0.09454083 Test Loss: 0.24069122970104218\n",
      "Epoch:  21  Training Loss: 0.27789414 Test Loss: 0.2812822163105011\n",
      "Epoch:  26  Training Loss: 0.49703926 Test Loss: 0.20862886309623718\n",
      "Epoch: 30  Training Loss: 0.18928412 Test Loss: 0.24080748856067657\n",
      "CPU times: user 14.4 s, sys: 160 ms, total: 14.6 s\n",
      "Wall time: 14.5 s\n"
     ]
    }
   ],
   "source": [
    "%%time\n",
    "training_losses,valid_losses = mini_batch_train(encoded_train,encoded_test,\n",
    "                                                y_train,y_test,epochs, batch_size,model2,criterion,optimizer)"
   ]
  },
  {
   "cell_type": "code",
   "execution_count": 132,
   "metadata": {
    "colab": {
     "base_uri": "https://localhost:8080/",
     "height": 715
    },
    "id": "vfi2xMVREpB9",
    "outputId": "a38c8bd0-49ee-4eec-9920-56f4c6c8956a"
   },
   "outputs": [
    {
     "data": {
      "image/png": "[encoded data removed]",
      "text/plain": [
       "<Figure size 432x288 with 1 Axes>"
      ]
     },
     "metadata": {
      "needs_background": "light"
     },
     "output_type": "display_data"
    },
    {
     "name": "stdout",
     "output_type": "stream",
     "text": [
      "              precision    recall  f1-score   support\n",
      "\n",
      "         bad       1.00      0.84      0.91        25\n",
      "        good       0.92      1.00      0.96        46\n",
      "\n",
      "    accuracy                           0.94        71\n",
      "   macro avg       0.96      0.92      0.94        71\n",
      "weighted avg       0.95      0.94      0.94        71\n",
      "\n"
     ]
    },
    {
     "data": {
      "image/png": "[encoded data removed]",
      "text/plain": [
       "<Figure size 432x288 with 2 Axes>"
      ]
     },
     "metadata": {
      "needs_background": "light"
     },
     "output_type": "display_data"
    }
   ],
   "source": [
    "show_diagrams(training_losses,valid_losses,model2,encoded_test,y_test)"
   ]
  },
  {
   "cell_type": "markdown",
   "metadata": {
    "id": "xQcYu2NvPZfS"
   },
   "source": [
    "### The effect of dimension reduction on the model's result\n",
    "In question 1, we achieved 96% precision but with dimension reduction the precision is 88%. The performance of the model became worse due to possible <b>data loss</b> from dimension reduction."
   ]
  },
  {
   "cell_type": "markdown",
   "metadata": {
    "id": "PfgDDXeaWuWI"
   },
   "source": [
    "## Dimensionality Reduction using PCA"
   ]
  },
  {
   "cell_type": "code",
   "execution_count": 18,
   "metadata": {
    "colab": {
     "base_uri": "https://localhost:8080/"
    },
    "id": "nZpA5tInP0bm",
    "outputId": "1565275f-1333-40ec-8989-5827a5ada962"
   },
   "outputs": [
    {
     "data": {
      "text/plain": [
       "array([ 0.34843328,  0.        ,  0.72164805, -0.52781074,  0.63430773,\n",
       "       -1.03758697, -1.33910577, -2.02945199,  0.96407416, -0.46948184,\n",
       "        0.05785987, -1.68478062, -0.09090821, -1.599628  , -1.32077439,\n",
       "       -2.28587042, -0.52979769, -1.24735087, -0.04525228, -1.88290035,\n",
       "       -0.76886206, -0.8915184 , -0.90069558, -0.56945458, -1.03778979,\n",
       "       -0.38305389, -1.44784862, -0.20841918, -0.9891848 , -0.17352964,\n",
       "       -0.90906286, -0.11521328, -0.93260505, -0.08328554])"
      ]
     },
     "execution_count": 18,
     "metadata": {},
     "output_type": "execute_result"
    }
   ],
   "source": [
    "from sklearn.preprocessing import StandardScaler\n",
    "\n",
    "X_scaled = StandardScaler().fit_transform(X)\n",
    "X_scaled[1]"
   ]
  },
  {
   "cell_type": "markdown",
   "metadata": {
    "id": "SIVWg0sMlwgh"
   },
   "source": [
    "### Covariance matrix\n"
   ]
  },
  {
   "cell_type": "code",
   "execution_count": 19,
   "metadata": {
    "colab": {
     "base_uri": "https://localhost:8080/"
    },
    "id": "m-De2x_WWrbS",
    "outputId": "b4094248-d5a6-47b9-8f30-24eec60dc267"
   },
   "outputs": [
    {
     "data": {
      "text/plain": [
       "array([-6.54750578e-03,  0.00000000e+00,  1.43774417e-01,  1.00285714e+00,\n",
       "        1.15514103e-03, -1.90851343e-01, -5.41838976e-02,  2.55731541e-01,\n",
       "       -3.03180852e-01,  2.08290745e-01, -1.90632900e-01,  3.16779785e-01,\n",
       "       -1.49642618e-01,  2.37280420e-01, -2.53872855e-01,  1.86403368e-01,\n",
       "       -2.51860511e-01, -1.47872635e-01, -3.33162250e-01,  1.67721934e-01,\n",
       "       -2.81886795e-01, -3.55018389e-02, -1.44129607e-01,  1.64665149e-01,\n",
       "       -1.04930880e-01, -2.37664211e-01, -4.70435699e-02,  7.45165168e-04,\n",
       "       -4.12078088e-02,  3.43278732e-01, -1.72767939e-01, -1.23138974e-01,\n",
       "       -1.54404292e-01,  3.47073068e-02])"
      ]
     },
     "execution_count": 19,
     "metadata": {},
     "output_type": "execute_result"
    }
   ],
   "source": [
    "features = X_scaled.T\n",
    "cov_matrix = np.cov(features)\n",
    "cov_matrix[3]"
   ]
  },
  {
   "cell_type": "markdown",
   "metadata": {
    "id": "qywjrexQlz9-"
   },
   "source": [
    "### Eigendecomposition\n",
    "Here we will calculate eigen values and eigen vectors : "
   ]
  },
  {
   "cell_type": "code",
   "execution_count": 20,
   "metadata": {
    "colab": {
     "base_uri": "https://localhost:8080/"
    },
    "id": "RgqbVQ_WYtq4",
    "outputId": "171c319e-014a-41b1-969e-a80b39ea942a"
   },
   "outputs": [
    {
     "data": {
      "text/plain": [
       "array([8.83731976, 4.25075499, 2.72400955, 2.39537094, 1.95572286])"
      ]
     },
     "execution_count": 20,
     "metadata": {},
     "output_type": "execute_result"
    }
   ],
   "source": [
    "values, vectors = np.linalg.eig(cov_matrix)\n",
    "values[:5]"
   ]
  },
  {
   "cell_type": "code",
   "execution_count": 21,
   "metadata": {
    "colab": {
     "base_uri": "https://localhost:8080/"
    },
    "id": "8HOW3RgFmMWq",
    "outputId": "5c185f0e-4252-4760-9778-bd70e623f0c9"
   },
   "outputs": [
    {
     "name": "stdout",
     "output_type": "stream",
     "text": [
      "1.0000000000000004 \n",
      " [0.26703461231476505, 0.1284437749715908, 0.0823105708404918, 0.07238019752536178, 0.059095484710595086, 0.03543705764437251, 0.03383567924112817, 0.030600314982258257, 0.02801452920722827, 0.02523130475100366, 0.023396779243677227, 0.021539666225779814, 0.01846089891074043, 0.017065549247044426, 0.016056337886557113, 0.014579057076879247, 0.013454670453810593, 0.002106282995601896, 0.012429550944717805, 0.0029267372726344445, 0.011428814796377265, 0.011286355041708948, 0.01022673480854499, 0.009256607731627528, 0.008435629494280455, 0.003897518646238352, 0.004144880919084293, 0.007408922743682907, 0.005107368467253884, 0.005266100873078514, 0.005882071869741417, 0.006767689272421887, 0.0064922488897214605, 0.0]\n"
     ]
    }
   ],
   "source": [
    "explained_variances = []\n",
    "for i in range(len(values)):\n",
    "    explained_variances.append(values[i] / np.sum(values))\n",
    " \n",
    "print(np.sum(explained_variances), '\\n', explained_variances)"
   ]
  },
  {
   "cell_type": "markdown",
   "metadata": {
    "id": "JAu4P2C-mdJb"
   },
   "source": [
    "### Projection"
   ]
  },
  {
   "cell_type": "code",
   "execution_count": 22,
   "metadata": {
    "id": "GyjB6exCmVW5"
   },
   "outputs": [],
   "source": [
    "projected_1 = X_scaled.dot(vectors.T[0])\n",
    "projected_2 = X_scaled.dot(vectors.T[1])\n",
    "projected_3 = X_scaled.dot(vectors.T[2])\n",
    "projected_4 = X_scaled.dot(vectors.T[3])\n",
    "projected_5 = X_scaled.dot(vectors.T[4])\n",
    "projected_6 = X_scaled.dot(vectors.T[5])\n",
    "projected_7 = X_scaled.dot(vectors.T[6])\n",
    "projected_8 = X_scaled.dot(vectors.T[7])\n",
    "projected_9 = X_scaled.dot(vectors.T[8])\n",
    "projected_10 = X_scaled.dot(vectors.T[9])"
   ]
  },
  {
   "cell_type": "code",
   "execution_count": 23,
   "metadata": {
    "colab": {
     "base_uri": "https://localhost:8080/",
     "height": 0
    },
    "id": "ByADSJb0mfW6",
    "outputId": "f9bf1c62-2023-4ed4-ae77-1b653f9e5af6"
   },
   "outputs": [
    {
     "data": {
      "text/html": [
       "<div>\n",
       "<style scoped>\n",
       "    .dataframe tbody tr th:only-of-type {\n",
       "        vertical-align: middle;\n",
       "    }\n",
       "\n",
       "    .dataframe tbody tr th {\n",
       "        vertical-align: top;\n",
       "    }\n",
       "\n",
       "    .dataframe thead th {\n",
       "        text-align: right;\n",
       "    }\n",
       "</style>\n",
       "<table border=\"1\" class=\"dataframe\">\n",
       "  <thead>\n",
       "    <tr style=\"text-align: right;\">\n",
       "      <th></th>\n",
       "      <th>PC1</th>\n",
       "      <th>PC2</th>\n",
       "      <th>PC3</th>\n",
       "      <th>PC4</th>\n",
       "      <th>PC5</th>\n",
       "      <th>PC6</th>\n",
       "      <th>PC7</th>\n",
       "      <th>PC8</th>\n",
       "      <th>PC9</th>\n",
       "      <th>PC10</th>\n",
       "      <th>target</th>\n",
       "    </tr>\n",
       "  </thead>\n",
       "  <tbody>\n",
       "    <tr>\n",
       "      <th>0</th>\n",
       "      <td>1.668242</td>\n",
       "      <td>2.054597</td>\n",
       "      <td>0.064908</td>\n",
       "      <td>-1.712482</td>\n",
       "      <td>0.009364</td>\n",
       "      <td>0.479606</td>\n",
       "      <td>-0.730332</td>\n",
       "      <td>0.110340</td>\n",
       "      <td>0.718496</td>\n",
       "      <td>-0.874031</td>\n",
       "      <td>1</td>\n",
       "    </tr>\n",
       "    <tr>\n",
       "      <th>1</th>\n",
       "      <td>-0.823940</td>\n",
       "      <td>2.583636</td>\n",
       "      <td>-1.975118</td>\n",
       "      <td>-1.392990</td>\n",
       "      <td>-0.383751</td>\n",
       "      <td>0.763313</td>\n",
       "      <td>-1.535862</td>\n",
       "      <td>0.306477</td>\n",
       "      <td>0.489140</td>\n",
       "      <td>-3.214970</td>\n",
       "      <td>0</td>\n",
       "    </tr>\n",
       "    <tr>\n",
       "      <th>2</th>\n",
       "      <td>2.034095</td>\n",
       "      <td>0.748245</td>\n",
       "      <td>0.837354</td>\n",
       "      <td>-1.108202</td>\n",
       "      <td>0.120072</td>\n",
       "      <td>0.062519</td>\n",
       "      <td>-0.220461</td>\n",
       "      <td>0.100407</td>\n",
       "      <td>0.354253</td>\n",
       "      <td>-0.322654</td>\n",
       "      <td>1</td>\n",
       "    </tr>\n",
       "    <tr>\n",
       "      <th>3</th>\n",
       "      <td>-1.252374</td>\n",
       "      <td>-1.363326</td>\n",
       "      <td>-0.740357</td>\n",
       "      <td>2.670223</td>\n",
       "      <td>-1.934133</td>\n",
       "      <td>1.241942</td>\n",
       "      <td>0.164094</td>\n",
       "      <td>-0.526752</td>\n",
       "      <td>-0.775621</td>\n",
       "      <td>-3.025268</td>\n",
       "      <td>0</td>\n",
       "    </tr>\n",
       "    <tr>\n",
       "      <th>4</th>\n",
       "      <td>-0.017756</td>\n",
       "      <td>1.845357</td>\n",
       "      <td>0.343250</td>\n",
       "      <td>-2.716045</td>\n",
       "      <td>-0.298941</td>\n",
       "      <td>0.297013</td>\n",
       "      <td>-0.590563</td>\n",
       "      <td>-0.370771</td>\n",
       "      <td>1.042176</td>\n",
       "      <td>-1.197267</td>\n",
       "      <td>1</td>\n",
       "    </tr>\n",
       "    <tr>\n",
       "      <th>...</th>\n",
       "      <td>...</td>\n",
       "      <td>...</td>\n",
       "      <td>...</td>\n",
       "      <td>...</td>\n",
       "      <td>...</td>\n",
       "      <td>...</td>\n",
       "      <td>...</td>\n",
       "      <td>...</td>\n",
       "      <td>...</td>\n",
       "      <td>...</td>\n",
       "      <td>...</td>\n",
       "    </tr>\n",
       "    <tr>\n",
       "      <th>346</th>\n",
       "      <td>3.156856</td>\n",
       "      <td>0.000433</td>\n",
       "      <td>0.410117</td>\n",
       "      <td>0.097405</td>\n",
       "      <td>0.503017</td>\n",
       "      <td>-0.297292</td>\n",
       "      <td>-0.409806</td>\n",
       "      <td>-0.126291</td>\n",
       "      <td>-0.486821</td>\n",
       "      <td>0.406002</td>\n",
       "      <td>1</td>\n",
       "    </tr>\n",
       "    <tr>\n",
       "      <th>347</th>\n",
       "      <td>3.562330</td>\n",
       "      <td>-0.324750</td>\n",
       "      <td>0.639838</td>\n",
       "      <td>0.265659</td>\n",
       "      <td>0.266194</td>\n",
       "      <td>-0.140936</td>\n",
       "      <td>-0.076933</td>\n",
       "      <td>-0.037992</td>\n",
       "      <td>-0.282564</td>\n",
       "      <td>0.232936</td>\n",
       "      <td>1</td>\n",
       "    </tr>\n",
       "    <tr>\n",
       "      <th>348</th>\n",
       "      <td>3.512043</td>\n",
       "      <td>-0.204754</td>\n",
       "      <td>0.639182</td>\n",
       "      <td>0.180498</td>\n",
       "      <td>0.164201</td>\n",
       "      <td>-0.092654</td>\n",
       "      <td>-0.060033</td>\n",
       "      <td>-0.033479</td>\n",
       "      <td>-0.316029</td>\n",
       "      <td>0.255157</td>\n",
       "      <td>1</td>\n",
       "    </tr>\n",
       "    <tr>\n",
       "      <th>349</th>\n",
       "      <td>3.308935</td>\n",
       "      <td>0.343454</td>\n",
       "      <td>0.681005</td>\n",
       "      <td>-0.058668</td>\n",
       "      <td>0.051518</td>\n",
       "      <td>0.013579</td>\n",
       "      <td>0.141086</td>\n",
       "      <td>0.077646</td>\n",
       "      <td>-0.212691</td>\n",
       "      <td>0.132033</td>\n",
       "      <td>1</td>\n",
       "    </tr>\n",
       "    <tr>\n",
       "      <th>350</th>\n",
       "      <td>2.705653</td>\n",
       "      <td>0.230427</td>\n",
       "      <td>0.529344</td>\n",
       "      <td>0.036980</td>\n",
       "      <td>0.372647</td>\n",
       "      <td>-0.308558</td>\n",
       "      <td>-0.325846</td>\n",
       "      <td>0.041552</td>\n",
       "      <td>-0.106898</td>\n",
       "      <td>0.329442</td>\n",
       "      <td>1</td>\n",
       "    </tr>\n",
       "  </tbody>\n",
       "</table>\n",
       "<p>351 rows × 11 columns</p>\n",
       "</div>"
      ],
      "text/plain": [
       "          PC1       PC2       PC3  ...       PC9      PC10  target\n",
       "0    1.668242  2.054597  0.064908  ...  0.718496 -0.874031       1\n",
       "1   -0.823940  2.583636 -1.975118  ...  0.489140 -3.214970       0\n",
       "2    2.034095  0.748245  0.837354  ...  0.354253 -0.322654       1\n",
       "3   -1.252374 -1.363326 -0.740357  ... -0.775621 -3.025268       0\n",
       "4   -0.017756  1.845357  0.343250  ...  1.042176 -1.197267       1\n",
       "..        ...       ...       ...  ...       ...       ...     ...\n",
       "346  3.156856  0.000433  0.410117  ... -0.486821  0.406002       1\n",
       "347  3.562330 -0.324750  0.639838  ... -0.282564  0.232936       1\n",
       "348  3.512043 -0.204754  0.639182  ... -0.316029  0.255157       1\n",
       "349  3.308935  0.343454  0.681005  ... -0.212691  0.132033       1\n",
       "350  2.705653  0.230427  0.529344  ... -0.106898  0.329442       1\n",
       "\n",
       "[351 rows x 11 columns]"
      ]
     },
     "execution_count": 23,
     "metadata": {},
     "output_type": "execute_result"
    }
   ],
   "source": [
    "res = pd.DataFrame(projected_1, columns=['PC1'])\n",
    "res['PC2'] = projected_2\n",
    "res['PC3'] = projected_3\n",
    "res['PC4'] = projected_4\n",
    "res['PC5'] = projected_5\n",
    "res['PC6'] = projected_6\n",
    "res['PC7'] = projected_7\n",
    "res['PC8'] = projected_8\n",
    "res['PC9'] = projected_9\n",
    "res['PC10'] = projected_10\n",
    "\n",
    "res['target'] = y\n",
    "res"
   ]
  },
  {
   "cell_type": "code",
   "execution_count": 24,
   "metadata": {
    "id": "DJqiK6OMmhLk"
   },
   "outputs": [],
   "source": [
    "X_train, X_test, y_train, y_test = train_test_split(\n",
    "    res.drop('target',axis = 1), res['target'], test_size=0.2, random_state=42, stratify=res['target']\n",
    ")"
   ]
  },
  {
   "cell_type": "markdown",
   "metadata": {
    "id": "OMAlnMgQp0JB"
   },
   "source": [
    "### Trying the new dataset"
   ]
  },
  {
   "cell_type": "code",
   "execution_count": 25,
   "metadata": {
    "id": "lAB36rpKm1_L"
   },
   "outputs": [],
   "source": [
    "in_features = len(res.columns) - 1\n",
    "out_features = 2\n",
    "hidden_layers = [1000, 500, 250, 125]\n",
    "batch_size = 8\n",
    "epochs = 10\n",
    "\n",
    "model2 = Model(in_features, out_features, hidden_layers, p=0.4, activation_function = nn.ReLU(inplace = True),\n",
    "               enable_dropout = True)\n",
    "\n",
    "criterion = nn.CrossEntropyLoss()\n",
    "\n",
    "optimizer = torch.optim.Adam(model2.parameters(), lr=0.001)"
   ]
  },
  {
   "cell_type": "code",
   "execution_count": 26,
   "metadata": {
    "colab": {
     "base_uri": "https://localhost:8080/"
    },
    "id": "aQvgAe22pzJE",
    "outputId": "880c653a-86ed-494d-dec6-8bd08c46c9b6"
   },
   "outputs": [
    {
     "name": "stdout",
     "output_type": "stream",
     "text": [
      "Epoch:   1  Training Loss: 0.31482306 Test Loss: 0.6939573884010315\n",
      "Epoch:   6  Training Loss: 0.32771161 Test Loss: 0.1007436066865921\n",
      "Epoch: 10  Training Loss: 0.07762404 Test Loss: 0.1085464209318161\n",
      "CPU times: user 2.92 s, sys: 46.8 ms, total: 2.97 s\n",
      "Wall time: 2.98 s\n"
     ]
    }
   ],
   "source": [
    "%%time\n",
    "training_losses,valid_losses = mini_batch_train(X_train.values,X_test.values,\n",
    "                                                y_train.values,y_test.values,epochs,\n",
    "                                                batch_size,model2,criterion,optimizer)"
   ]
  },
  {
   "cell_type": "code",
   "execution_count": 27,
   "metadata": {
    "colab": {
     "base_uri": "https://localhost:8080/",
     "height": 0
    },
    "id": "PvGPhlWDq6uu",
    "outputId": "5c1f759d-b753-4759-a3d4-743106a11f6e"
   },
   "outputs": [
    {
     "data": {
      "image/png": "[encoded data removed]",
      "text/plain": [
       "<Figure size 432x288 with 1 Axes>"
      ]
     },
     "metadata": {
      "needs_background": "light"
     },
     "output_type": "display_data"
    },
    {
     "name": "stdout",
     "output_type": "stream",
     "text": [
      "              precision    recall  f1-score   support\n",
      "\n",
      "         bad       1.00      0.92      0.96        25\n",
      "        good       0.96      1.00      0.98        46\n",
      "\n",
      "    accuracy                           0.97        71\n",
      "   macro avg       0.98      0.96      0.97        71\n",
      "weighted avg       0.97      0.97      0.97        71\n",
      "\n"
     ]
    },
    {
     "data": {
      "image/png": "[encoded data removed]",
      "text/plain": [
       "<Figure size 432x288 with 2 Axes>"
      ]
     },
     "metadata": {
      "needs_background": "light"
     },
     "output_type": "display_data"
    }
   ],
   "source": [
    "show_diagrams(training_losses,valid_losses,model2,X_test.values,y_test.values)"
   ]
  },
  {
   "cell_type": "markdown",
   "metadata": {
    "id": "0AfNFeZtttLz"
   },
   "source": [
    "The performance of our model with PCA method increased by 1% because by removing correlations among input dimensions, nullity spaces of the input data will be removed and the variance of the feature space will be maximized."
   ]
  },
  {
   "cell_type": "markdown",
   "metadata": {
    "id": "R3vZPZA2vFXf"
   },
   "source": [
    "# 2) Dimension Reduction on Question 2"
   ]
  },
  {
   "cell_type": "markdown",
   "metadata": {
    "id": "AvwemGh0KwHK"
   },
   "source": [
    "## Dimensionality Reduction using AutoEncoder"
   ]
  },
  {
   "cell_type": "code",
   "execution_count": 157,
   "metadata": {
    "colab": {
     "base_uri": "https://localhost:8080/",
     "height": 442
    },
    "id": "7tZl55CvvKUD",
    "outputId": "8d195916-e1ae-4bf9-b239-b25e06326467"
   },
   "outputs": [
    {
     "data": {
      "text/html": [
       "<div>\n",
       "<style scoped>\n",
       "    .dataframe tbody tr th:only-of-type {\n",
       "        vertical-align: middle;\n",
       "    }\n",
       "\n",
       "    .dataframe tbody tr th {\n",
       "        vertical-align: top;\n",
       "    }\n",
       "\n",
       "    .dataframe thead th {\n",
       "        text-align: right;\n",
       "    }\n",
       "</style>\n",
       "<table border=\"1\" class=\"dataframe\">\n",
       "  <thead>\n",
       "    <tr style=\"text-align: right;\">\n",
       "      <th></th>\n",
       "      <th>0</th>\n",
       "      <th>1</th>\n",
       "      <th>2</th>\n",
       "      <th>3</th>\n",
       "      <th>4</th>\n",
       "      <th>5</th>\n",
       "      <th>6</th>\n",
       "      <th>7</th>\n",
       "      <th>8</th>\n",
       "      <th>9</th>\n",
       "      <th>10</th>\n",
       "      <th>11</th>\n",
       "      <th>12</th>\n",
       "      <th>13</th>\n",
       "      <th>14</th>\n",
       "      <th>15</th>\n",
       "      <th>16</th>\n",
       "      <th>17</th>\n",
       "      <th>18</th>\n",
       "      <th>19</th>\n",
       "      <th>20</th>\n",
       "      <th>21</th>\n",
       "      <th>22</th>\n",
       "      <th>23</th>\n",
       "      <th>24</th>\n",
       "      <th>25</th>\n",
       "      <th>26</th>\n",
       "      <th>27</th>\n",
       "      <th>28</th>\n",
       "      <th>29</th>\n",
       "      <th>30</th>\n",
       "      <th>31</th>\n",
       "      <th>32</th>\n",
       "      <th>33</th>\n",
       "      <th>34</th>\n",
       "      <th>35</th>\n",
       "      <th>36</th>\n",
       "      <th>37</th>\n",
       "      <th>38</th>\n",
       "      <th>39</th>\n",
       "      <th>40</th>\n",
       "      <th>41</th>\n",
       "      <th>42</th>\n",
       "      <th>43</th>\n",
       "      <th>44</th>\n",
       "      <th>45</th>\n",
       "      <th>46</th>\n",
       "      <th>47</th>\n",
       "      <th>48</th>\n",
       "      <th>49</th>\n",
       "      <th>50</th>\n",
       "      <th>51</th>\n",
       "      <th>52</th>\n",
       "      <th>53</th>\n",
       "      <th>54</th>\n",
       "      <th>55</th>\n",
       "      <th>56</th>\n",
       "      <th>57</th>\n",
       "      <th>58</th>\n",
       "      <th>59</th>\n",
       "      <th>60</th>\n",
       "      <th>61</th>\n",
       "      <th>62</th>\n",
       "      <th>63</th>\n",
       "      <th>64</th>\n",
       "      <th>65</th>\n",
       "      <th>66</th>\n",
       "      <th>67</th>\n",
       "      <th>longitude</th>\n",
       "      <th>latitude</th>\n",
       "    </tr>\n",
       "  </thead>\n",
       "  <tbody>\n",
       "    <tr>\n",
       "      <th>0</th>\n",
       "      <td>7.161286</td>\n",
       "      <td>7.835325</td>\n",
       "      <td>2.911583</td>\n",
       "      <td>0.984049</td>\n",
       "      <td>-1.499546</td>\n",
       "      <td>-2.094097</td>\n",
       "      <td>0.576000</td>\n",
       "      <td>-1.205671</td>\n",
       "      <td>1.849122</td>\n",
       "      <td>-0.425598</td>\n",
       "      <td>-0.105672</td>\n",
       "      <td>1.728885</td>\n",
       "      <td>1.788986</td>\n",
       "      <td>0.849798</td>\n",
       "      <td>-1.109353</td>\n",
       "      <td>0.537904</td>\n",
       "      <td>-0.115368</td>\n",
       "      <td>5.069512</td>\n",
       "      <td>6.007710</td>\n",
       "      <td>0.820869</td>\n",
       "      <td>0.896190</td>\n",
       "      <td>0.131699</td>\n",
       "      <td>0.859286</td>\n",
       "      <td>2.059065</td>\n",
       "      <td>0.266773</td>\n",
       "      <td>1.192932</td>\n",
       "      <td>-1.421091</td>\n",
       "      <td>2.128661</td>\n",
       "      <td>-1.288109</td>\n",
       "      <td>1.458738</td>\n",
       "      <td>-0.734508</td>\n",
       "      <td>-0.092678</td>\n",
       "      <td>-0.571314</td>\n",
       "      <td>-0.142634</td>\n",
       "      <td>2.748619</td>\n",
       "      <td>3.099077</td>\n",
       "      <td>0.317270</td>\n",
       "      <td>-0.130580</td>\n",
       "      <td>2.048282</td>\n",
       "      <td>-0.173489</td>\n",
       "      <td>0.324616</td>\n",
       "      <td>-0.300817</td>\n",
       "      <td>0.471089</td>\n",
       "      <td>-0.538577</td>\n",
       "      <td>-0.979124</td>\n",
       "      <td>-0.679165</td>\n",
       "      <td>0.135963</td>\n",
       "      <td>-1.094049</td>\n",
       "      <td>-0.072197</td>\n",
       "      <td>-0.752002</td>\n",
       "      <td>-0.660715</td>\n",
       "      <td>1.319729</td>\n",
       "      <td>1.094839</td>\n",
       "      <td>-0.937659</td>\n",
       "      <td>-0.895371</td>\n",
       "      <td>-0.734962</td>\n",
       "      <td>0.441859</td>\n",
       "      <td>0.389178</td>\n",
       "      <td>-0.944584</td>\n",
       "      <td>-0.043610</td>\n",
       "      <td>-1.504263</td>\n",
       "      <td>0.351267</td>\n",
       "      <td>-1.018726</td>\n",
       "      <td>-0.174878</td>\n",
       "      <td>-1.089543</td>\n",
       "      <td>-0.668840</td>\n",
       "      <td>-0.914772</td>\n",
       "      <td>-0.836250</td>\n",
       "      <td>-15.75</td>\n",
       "      <td>-47.95</td>\n",
       "    </tr>\n",
       "    <tr>\n",
       "      <th>1</th>\n",
       "      <td>0.225763</td>\n",
       "      <td>-0.094169</td>\n",
       "      <td>-0.603646</td>\n",
       "      <td>0.497745</td>\n",
       "      <td>0.874036</td>\n",
       "      <td>0.290280</td>\n",
       "      <td>-0.077659</td>\n",
       "      <td>-0.887385</td>\n",
       "      <td>0.432062</td>\n",
       "      <td>-0.093963</td>\n",
       "      <td>0.029105</td>\n",
       "      <td>0.407297</td>\n",
       "      <td>-0.034418</td>\n",
       "      <td>-0.000607</td>\n",
       "      <td>-1.587712</td>\n",
       "      <td>-0.134767</td>\n",
       "      <td>0.679050</td>\n",
       "      <td>0.867759</td>\n",
       "      <td>0.549205</td>\n",
       "      <td>-0.357172</td>\n",
       "      <td>-0.578459</td>\n",
       "      <td>0.293603</td>\n",
       "      <td>-0.369997</td>\n",
       "      <td>-0.360397</td>\n",
       "      <td>-0.088276</td>\n",
       "      <td>-0.684480</td>\n",
       "      <td>-0.420736</td>\n",
       "      <td>0.263000</td>\n",
       "      <td>0.074617</td>\n",
       "      <td>0.277973</td>\n",
       "      <td>0.468588</td>\n",
       "      <td>0.978996</td>\n",
       "      <td>0.586847</td>\n",
       "      <td>0.760345</td>\n",
       "      <td>1.400111</td>\n",
       "      <td>0.943587</td>\n",
       "      <td>-0.402494</td>\n",
       "      <td>0.058298</td>\n",
       "      <td>-0.221967</td>\n",
       "      <td>-0.302481</td>\n",
       "      <td>-0.539966</td>\n",
       "      <td>0.179847</td>\n",
       "      <td>-0.634147</td>\n",
       "      <td>-0.252916</td>\n",
       "      <td>-0.441251</td>\n",
       "      <td>-0.342925</td>\n",
       "      <td>0.628843</td>\n",
       "      <td>0.212837</td>\n",
       "      <td>-0.038171</td>\n",
       "      <td>-0.440290</td>\n",
       "      <td>-0.157062</td>\n",
       "      <td>1.627259</td>\n",
       "      <td>1.989545</td>\n",
       "      <td>-0.357803</td>\n",
       "      <td>-0.176835</td>\n",
       "      <td>0.406589</td>\n",
       "      <td>-0.623764</td>\n",
       "      <td>-0.653021</td>\n",
       "      <td>-0.082645</td>\n",
       "      <td>-0.947933</td>\n",
       "      <td>-0.495712</td>\n",
       "      <td>-0.465077</td>\n",
       "      <td>-0.157861</td>\n",
       "      <td>-0.157189</td>\n",
       "      <td>0.380951</td>\n",
       "      <td>1.088478</td>\n",
       "      <td>-0.123595</td>\n",
       "      <td>1.391141</td>\n",
       "      <td>14.91</td>\n",
       "      <td>-23.51</td>\n",
       "    </tr>\n",
       "    <tr>\n",
       "      <th>2</th>\n",
       "      <td>-0.692525</td>\n",
       "      <td>-0.517801</td>\n",
       "      <td>-0.788035</td>\n",
       "      <td>1.214351</td>\n",
       "      <td>-0.907214</td>\n",
       "      <td>0.880213</td>\n",
       "      <td>0.406899</td>\n",
       "      <td>-0.694895</td>\n",
       "      <td>-0.901869</td>\n",
       "      <td>-1.701574</td>\n",
       "      <td>-0.903893</td>\n",
       "      <td>-0.791393</td>\n",
       "      <td>-1.667463</td>\n",
       "      <td>-0.334004</td>\n",
       "      <td>-0.151747</td>\n",
       "      <td>1.210807</td>\n",
       "      <td>1.045059</td>\n",
       "      <td>-0.672476</td>\n",
       "      <td>-0.463102</td>\n",
       "      <td>-0.747421</td>\n",
       "      <td>0.069946</td>\n",
       "      <td>0.305318</td>\n",
       "      <td>0.551537</td>\n",
       "      <td>-0.705611</td>\n",
       "      <td>-0.301218</td>\n",
       "      <td>-0.365297</td>\n",
       "      <td>0.062184</td>\n",
       "      <td>0.366565</td>\n",
       "      <td>0.870098</td>\n",
       "      <td>1.483239</td>\n",
       "      <td>0.614040</td>\n",
       "      <td>1.568182</td>\n",
       "      <td>1.743709</td>\n",
       "      <td>1.388536</td>\n",
       "      <td>-0.694375</td>\n",
       "      <td>-0.285767</td>\n",
       "      <td>-0.291778</td>\n",
       "      <td>-0.274901</td>\n",
       "      <td>-0.351297</td>\n",
       "      <td>0.439170</td>\n",
       "      <td>-0.663293</td>\n",
       "      <td>0.056928</td>\n",
       "      <td>0.801809</td>\n",
       "      <td>0.326462</td>\n",
       "      <td>0.579646</td>\n",
       "      <td>0.991642</td>\n",
       "      <td>1.612214</td>\n",
       "      <td>0.472009</td>\n",
       "      <td>1.060355</td>\n",
       "      <td>1.070834</td>\n",
       "      <td>0.408001</td>\n",
       "      <td>-0.654047</td>\n",
       "      <td>0.264883</td>\n",
       "      <td>-0.421474</td>\n",
       "      <td>-0.405171</td>\n",
       "      <td>0.170239</td>\n",
       "      <td>0.067260</td>\n",
       "      <td>-1.198657</td>\n",
       "      <td>-0.797954</td>\n",
       "      <td>-0.556109</td>\n",
       "      <td>-0.637167</td>\n",
       "      <td>0.147260</td>\n",
       "      <td>0.217914</td>\n",
       "      <td>2.718442</td>\n",
       "      <td>0.972919</td>\n",
       "      <td>2.081069</td>\n",
       "      <td>1.375763</td>\n",
       "      <td>1.063847</td>\n",
       "      <td>12.65</td>\n",
       "      <td>-8.00</td>\n",
       "    </tr>\n",
       "    <tr>\n",
       "      <th>3</th>\n",
       "      <td>-0.735562</td>\n",
       "      <td>-0.684055</td>\n",
       "      <td>2.058215</td>\n",
       "      <td>0.716328</td>\n",
       "      <td>-0.011393</td>\n",
       "      <td>0.805396</td>\n",
       "      <td>1.497982</td>\n",
       "      <td>0.114752</td>\n",
       "      <td>0.692847</td>\n",
       "      <td>0.052377</td>\n",
       "      <td>0.024625</td>\n",
       "      <td>0.429205</td>\n",
       "      <td>0.576029</td>\n",
       "      <td>0.400389</td>\n",
       "      <td>0.519513</td>\n",
       "      <td>0.509497</td>\n",
       "      <td>1.303073</td>\n",
       "      <td>-0.055956</td>\n",
       "      <td>0.001966</td>\n",
       "      <td>2.255016</td>\n",
       "      <td>0.332082</td>\n",
       "      <td>-0.051894</td>\n",
       "      <td>0.376492</td>\n",
       "      <td>1.169377</td>\n",
       "      <td>-0.733187</td>\n",
       "      <td>0.672438</td>\n",
       "      <td>0.979776</td>\n",
       "      <td>0.390647</td>\n",
       "      <td>-0.519658</td>\n",
       "      <td>-0.675643</td>\n",
       "      <td>0.292994</td>\n",
       "      <td>0.349806</td>\n",
       "      <td>-0.058874</td>\n",
       "      <td>-0.521205</td>\n",
       "      <td>1.658281</td>\n",
       "      <td>1.254224</td>\n",
       "      <td>2.535289</td>\n",
       "      <td>0.537780</td>\n",
       "      <td>0.190260</td>\n",
       "      <td>-0.156088</td>\n",
       "      <td>0.707729</td>\n",
       "      <td>-1.073155</td>\n",
       "      <td>-0.428863</td>\n",
       "      <td>-0.663483</td>\n",
       "      <td>-0.304159</td>\n",
       "      <td>-0.203572</td>\n",
       "      <td>-0.200971</td>\n",
       "      <td>1.212091</td>\n",
       "      <td>1.193691</td>\n",
       "      <td>0.609952</td>\n",
       "      <td>-0.296156</td>\n",
       "      <td>2.301748</td>\n",
       "      <td>2.547275</td>\n",
       "      <td>1.485531</td>\n",
       "      <td>-0.179182</td>\n",
       "      <td>0.112038</td>\n",
       "      <td>0.983122</td>\n",
       "      <td>0.788367</td>\n",
       "      <td>-0.805626</td>\n",
       "      <td>0.166616</td>\n",
       "      <td>-0.178325</td>\n",
       "      <td>-0.065059</td>\n",
       "      <td>-0.724247</td>\n",
       "      <td>-1.020687</td>\n",
       "      <td>-0.751380</td>\n",
       "      <td>-0.385005</td>\n",
       "      <td>-0.012326</td>\n",
       "      <td>-0.392197</td>\n",
       "      <td>9.03</td>\n",
       "      <td>38.74</td>\n",
       "    </tr>\n",
       "    <tr>\n",
       "      <th>4</th>\n",
       "      <td>0.570272</td>\n",
       "      <td>0.273157</td>\n",
       "      <td>-0.279214</td>\n",
       "      <td>0.083456</td>\n",
       "      <td>1.049331</td>\n",
       "      <td>-0.869295</td>\n",
       "      <td>-0.265858</td>\n",
       "      <td>-0.401676</td>\n",
       "      <td>-0.872639</td>\n",
       "      <td>1.147483</td>\n",
       "      <td>-0.287746</td>\n",
       "      <td>1.824638</td>\n",
       "      <td>-0.861848</td>\n",
       "      <td>-0.229361</td>\n",
       "      <td>-0.966604</td>\n",
       "      <td>0.278767</td>\n",
       "      <td>0.060231</td>\n",
       "      <td>0.035642</td>\n",
       "      <td>-0.044704</td>\n",
       "      <td>-0.718237</td>\n",
       "      <td>-0.733049</td>\n",
       "      <td>-1.136788</td>\n",
       "      <td>-1.301985</td>\n",
       "      <td>-0.312192</td>\n",
       "      <td>-0.671557</td>\n",
       "      <td>-0.579330</td>\n",
       "      <td>-0.772117</td>\n",
       "      <td>-0.371718</td>\n",
       "      <td>-0.483820</td>\n",
       "      <td>0.068485</td>\n",
       "      <td>0.682731</td>\n",
       "      <td>0.867177</td>\n",
       "      <td>0.769446</td>\n",
       "      <td>1.226698</td>\n",
       "      <td>0.557925</td>\n",
       "      <td>0.175588</td>\n",
       "      <td>-0.324638</td>\n",
       "      <td>-0.089385</td>\n",
       "      <td>-0.186612</td>\n",
       "      <td>-0.415299</td>\n",
       "      <td>1.094179</td>\n",
       "      <td>0.298009</td>\n",
       "      <td>-0.479234</td>\n",
       "      <td>0.239411</td>\n",
       "      <td>-0.388596</td>\n",
       "      <td>-0.013394</td>\n",
       "      <td>0.517086</td>\n",
       "      <td>0.120622</td>\n",
       "      <td>0.317070</td>\n",
       "      <td>0.287059</td>\n",
       "      <td>0.607333</td>\n",
       "      <td>0.984157</td>\n",
       "      <td>0.279686</td>\n",
       "      <td>-0.784654</td>\n",
       "      <td>-0.078594</td>\n",
       "      <td>-0.250279</td>\n",
       "      <td>-1.169305</td>\n",
       "      <td>-0.052781</td>\n",
       "      <td>-0.180181</td>\n",
       "      <td>-0.500785</td>\n",
       "      <td>-0.919463</td>\n",
       "      <td>-0.667912</td>\n",
       "      <td>-0.820172</td>\n",
       "      <td>-0.190488</td>\n",
       "      <td>0.306974</td>\n",
       "      <td>0.119658</td>\n",
       "      <td>0.271838</td>\n",
       "      <td>1.289783</td>\n",
       "      <td>34.03</td>\n",
       "      <td>-6.85</td>\n",
       "    </tr>\n",
       "    <tr>\n",
       "      <th>...</th>\n",
       "      <td>...</td>\n",
       "      <td>...</td>\n",
       "      <td>...</td>\n",
       "      <td>...</td>\n",
       "      <td>...</td>\n",
       "      <td>...</td>\n",
       "      <td>...</td>\n",
       "      <td>...</td>\n",
       "      <td>...</td>\n",
       "      <td>...</td>\n",
       "      <td>...</td>\n",
       "      <td>...</td>\n",
       "      <td>...</td>\n",
       "      <td>...</td>\n",
       "      <td>...</td>\n",
       "      <td>...</td>\n",
       "      <td>...</td>\n",
       "      <td>...</td>\n",
       "      <td>...</td>\n",
       "      <td>...</td>\n",
       "      <td>...</td>\n",
       "      <td>...</td>\n",
       "      <td>...</td>\n",
       "      <td>...</td>\n",
       "      <td>...</td>\n",
       "      <td>...</td>\n",
       "      <td>...</td>\n",
       "      <td>...</td>\n",
       "      <td>...</td>\n",
       "      <td>...</td>\n",
       "      <td>...</td>\n",
       "      <td>...</td>\n",
       "      <td>...</td>\n",
       "      <td>...</td>\n",
       "      <td>...</td>\n",
       "      <td>...</td>\n",
       "      <td>...</td>\n",
       "      <td>...</td>\n",
       "      <td>...</td>\n",
       "      <td>...</td>\n",
       "      <td>...</td>\n",
       "      <td>...</td>\n",
       "      <td>...</td>\n",
       "      <td>...</td>\n",
       "      <td>...</td>\n",
       "      <td>...</td>\n",
       "      <td>...</td>\n",
       "      <td>...</td>\n",
       "      <td>...</td>\n",
       "      <td>...</td>\n",
       "      <td>...</td>\n",
       "      <td>...</td>\n",
       "      <td>...</td>\n",
       "      <td>...</td>\n",
       "      <td>...</td>\n",
       "      <td>...</td>\n",
       "      <td>...</td>\n",
       "      <td>...</td>\n",
       "      <td>...</td>\n",
       "      <td>...</td>\n",
       "      <td>...</td>\n",
       "      <td>...</td>\n",
       "      <td>...</td>\n",
       "      <td>...</td>\n",
       "      <td>...</td>\n",
       "      <td>...</td>\n",
       "      <td>...</td>\n",
       "      <td>...</td>\n",
       "      <td>...</td>\n",
       "      <td>...</td>\n",
       "    </tr>\n",
       "    <tr>\n",
       "      <th>1054</th>\n",
       "      <td>0.399577</td>\n",
       "      <td>0.310805</td>\n",
       "      <td>-0.039326</td>\n",
       "      <td>-0.111546</td>\n",
       "      <td>0.304586</td>\n",
       "      <td>-0.943453</td>\n",
       "      <td>0.114960</td>\n",
       "      <td>-0.335898</td>\n",
       "      <td>0.826753</td>\n",
       "      <td>-0.393786</td>\n",
       "      <td>-0.594327</td>\n",
       "      <td>-0.399561</td>\n",
       "      <td>-0.902700</td>\n",
       "      <td>-0.962526</td>\n",
       "      <td>0.755288</td>\n",
       "      <td>1.532248</td>\n",
       "      <td>1.817804</td>\n",
       "      <td>0.703930</td>\n",
       "      <td>0.533387</td>\n",
       "      <td>0.163344</td>\n",
       "      <td>-0.331143</td>\n",
       "      <td>0.435447</td>\n",
       "      <td>-0.084010</td>\n",
       "      <td>0.336186</td>\n",
       "      <td>0.144317</td>\n",
       "      <td>0.318932</td>\n",
       "      <td>0.634556</td>\n",
       "      <td>1.745209</td>\n",
       "      <td>1.441760</td>\n",
       "      <td>2.056277</td>\n",
       "      <td>1.114849</td>\n",
       "      <td>3.354779</td>\n",
       "      <td>2.921498</td>\n",
       "      <td>3.046333</td>\n",
       "      <td>-0.072653</td>\n",
       "      <td>0.263261</td>\n",
       "      <td>0.112375</td>\n",
       "      <td>-1.306445</td>\n",
       "      <td>-0.203477</td>\n",
       "      <td>0.388166</td>\n",
       "      <td>0.706438</td>\n",
       "      <td>-0.489616</td>\n",
       "      <td>-0.099133</td>\n",
       "      <td>0.982734</td>\n",
       "      <td>-0.219585</td>\n",
       "      <td>-0.096761</td>\n",
       "      <td>0.754293</td>\n",
       "      <td>0.097435</td>\n",
       "      <td>1.869150</td>\n",
       "      <td>1.809183</td>\n",
       "      <td>2.283545</td>\n",
       "      <td>-0.081286</td>\n",
       "      <td>-0.015762</td>\n",
       "      <td>0.244884</td>\n",
       "      <td>0.119565</td>\n",
       "      <td>1.489708</td>\n",
       "      <td>-0.440270</td>\n",
       "      <td>-0.350654</td>\n",
       "      <td>-0.406932</td>\n",
       "      <td>0.425577</td>\n",
       "      <td>-0.558717</td>\n",
       "      <td>0.998897</td>\n",
       "      <td>-0.106835</td>\n",
       "      <td>1.526307</td>\n",
       "      <td>0.646088</td>\n",
       "      <td>2.467278</td>\n",
       "      <td>1.867699</td>\n",
       "      <td>1.719302</td>\n",
       "      <td>-6.17</td>\n",
       "      <td>35.74</td>\n",
       "    </tr>\n",
       "    <tr>\n",
       "      <th>1055</th>\n",
       "      <td>1.640386</td>\n",
       "      <td>1.306224</td>\n",
       "      <td>0.192745</td>\n",
       "      <td>-1.816855</td>\n",
       "      <td>-1.311906</td>\n",
       "      <td>-2.128963</td>\n",
       "      <td>-1.875967</td>\n",
       "      <td>0.094232</td>\n",
       "      <td>-1.429742</td>\n",
       "      <td>0.873777</td>\n",
       "      <td>-0.766201</td>\n",
       "      <td>-0.681298</td>\n",
       "      <td>0.547811</td>\n",
       "      <td>-0.304617</td>\n",
       "      <td>-0.687724</td>\n",
       "      <td>-1.578891</td>\n",
       "      <td>-1.805654</td>\n",
       "      <td>-0.280018</td>\n",
       "      <td>-0.726096</td>\n",
       "      <td>-0.831572</td>\n",
       "      <td>-1.064253</td>\n",
       "      <td>-0.457632</td>\n",
       "      <td>-0.843810</td>\n",
       "      <td>-0.836098</td>\n",
       "      <td>-0.640306</td>\n",
       "      <td>-0.185988</td>\n",
       "      <td>-0.351672</td>\n",
       "      <td>-0.672356</td>\n",
       "      <td>-0.429340</td>\n",
       "      <td>0.219649</td>\n",
       "      <td>-0.827385</td>\n",
       "      <td>-0.101058</td>\n",
       "      <td>1.085476</td>\n",
       "      <td>2.196913</td>\n",
       "      <td>-0.140010</td>\n",
       "      <td>-0.954883</td>\n",
       "      <td>-0.410138</td>\n",
       "      <td>-0.732524</td>\n",
       "      <td>1.261700</td>\n",
       "      <td>0.817146</td>\n",
       "      <td>-0.454849</td>\n",
       "      <td>0.333669</td>\n",
       "      <td>0.391028</td>\n",
       "      <td>0.169994</td>\n",
       "      <td>0.701596</td>\n",
       "      <td>0.737096</td>\n",
       "      <td>2.286726</td>\n",
       "      <td>1.548491</td>\n",
       "      <td>1.067250</td>\n",
       "      <td>1.700256</td>\n",
       "      <td>3.969522</td>\n",
       "      <td>-0.636212</td>\n",
       "      <td>-1.622788</td>\n",
       "      <td>-0.541290</td>\n",
       "      <td>0.260389</td>\n",
       "      <td>2.550315</td>\n",
       "      <td>2.143525</td>\n",
       "      <td>1.075008</td>\n",
       "      <td>-0.467663</td>\n",
       "      <td>0.723125</td>\n",
       "      <td>0.223143</td>\n",
       "      <td>-0.032425</td>\n",
       "      <td>0.226782</td>\n",
       "      <td>0.182107</td>\n",
       "      <td>0.517466</td>\n",
       "      <td>1.126762</td>\n",
       "      <td>2.220671</td>\n",
       "      <td>4.422651</td>\n",
       "      <td>11.55</td>\n",
       "      <td>104.91</td>\n",
       "    </tr>\n",
       "    <tr>\n",
       "      <th>1056</th>\n",
       "      <td>-0.772360</td>\n",
       "      <td>-0.670596</td>\n",
       "      <td>-0.840420</td>\n",
       "      <td>-0.832105</td>\n",
       "      <td>0.277346</td>\n",
       "      <td>1.152162</td>\n",
       "      <td>0.241470</td>\n",
       "      <td>0.229092</td>\n",
       "      <td>0.019036</td>\n",
       "      <td>-0.068804</td>\n",
       "      <td>0.247850</td>\n",
       "      <td>0.636144</td>\n",
       "      <td>-0.392233</td>\n",
       "      <td>-1.268477</td>\n",
       "      <td>0.361104</td>\n",
       "      <td>-0.165390</td>\n",
       "      <td>-0.948137</td>\n",
       "      <td>-0.643912</td>\n",
       "      <td>-0.685403</td>\n",
       "      <td>-0.895588</td>\n",
       "      <td>-0.732369</td>\n",
       "      <td>-0.652789</td>\n",
       "      <td>-0.915942</td>\n",
       "      <td>-0.451783</td>\n",
       "      <td>-0.724729</td>\n",
       "      <td>-0.895216</td>\n",
       "      <td>0.105060</td>\n",
       "      <td>-0.509746</td>\n",
       "      <td>-0.231504</td>\n",
       "      <td>-0.713629</td>\n",
       "      <td>0.591596</td>\n",
       "      <td>-0.671712</td>\n",
       "      <td>-1.387180</td>\n",
       "      <td>0.023488</td>\n",
       "      <td>-0.525601</td>\n",
       "      <td>-0.066513</td>\n",
       "      <td>-0.340651</td>\n",
       "      <td>-0.942980</td>\n",
       "      <td>-0.993363</td>\n",
       "      <td>-0.110193</td>\n",
       "      <td>-0.918620</td>\n",
       "      <td>-1.033125</td>\n",
       "      <td>-0.650516</td>\n",
       "      <td>0.015295</td>\n",
       "      <td>-0.528464</td>\n",
       "      <td>-0.124654</td>\n",
       "      <td>-0.898035</td>\n",
       "      <td>-0.083354</td>\n",
       "      <td>-0.784084</td>\n",
       "      <td>-0.703116</td>\n",
       "      <td>-0.779581</td>\n",
       "      <td>0.087498</td>\n",
       "      <td>0.059951</td>\n",
       "      <td>-0.616315</td>\n",
       "      <td>0.284195</td>\n",
       "      <td>0.718086</td>\n",
       "      <td>-0.096274</td>\n",
       "      <td>-0.339489</td>\n",
       "      <td>-0.413309</td>\n",
       "      <td>-0.287753</td>\n",
       "      <td>0.449239</td>\n",
       "      <td>-0.965270</td>\n",
       "      <td>-0.590039</td>\n",
       "      <td>-0.804297</td>\n",
       "      <td>0.044170</td>\n",
       "      <td>-0.718175</td>\n",
       "      <td>-0.983640</td>\n",
       "      <td>-0.573822</td>\n",
       "      <td>41.33</td>\n",
       "      <td>19.80</td>\n",
       "    </tr>\n",
       "    <tr>\n",
       "      <th>1057</th>\n",
       "      <td>-0.996965</td>\n",
       "      <td>-1.099395</td>\n",
       "      <td>3.515274</td>\n",
       "      <td>-0.508185</td>\n",
       "      <td>-1.102654</td>\n",
       "      <td>0.192081</td>\n",
       "      <td>0.069821</td>\n",
       "      <td>0.264674</td>\n",
       "      <td>-0.411533</td>\n",
       "      <td>0.501164</td>\n",
       "      <td>-1.083711</td>\n",
       "      <td>-0.178807</td>\n",
       "      <td>-1.071450</td>\n",
       "      <td>0.791489</td>\n",
       "      <td>-0.039610</td>\n",
       "      <td>0.866124</td>\n",
       "      <td>1.526957</td>\n",
       "      <td>-0.787095</td>\n",
       "      <td>-0.724768</td>\n",
       "      <td>0.706095</td>\n",
       "      <td>0.208220</td>\n",
       "      <td>0.889540</td>\n",
       "      <td>-0.004371</td>\n",
       "      <td>-1.196990</td>\n",
       "      <td>1.070742</td>\n",
       "      <td>-0.289776</td>\n",
       "      <td>0.418055</td>\n",
       "      <td>0.474727</td>\n",
       "      <td>-0.254779</td>\n",
       "      <td>-0.060529</td>\n",
       "      <td>-1.024367</td>\n",
       "      <td>-1.075734</td>\n",
       "      <td>-1.057314</td>\n",
       "      <td>-0.868599</td>\n",
       "      <td>-0.246996</td>\n",
       "      <td>-0.805779</td>\n",
       "      <td>4.228199</td>\n",
       "      <td>0.055216</td>\n",
       "      <td>0.449377</td>\n",
       "      <td>-0.779292</td>\n",
       "      <td>-0.949769</td>\n",
       "      <td>1.536809</td>\n",
       "      <td>2.455891</td>\n",
       "      <td>1.220840</td>\n",
       "      <td>1.483763</td>\n",
       "      <td>0.253421</td>\n",
       "      <td>2.044239</td>\n",
       "      <td>-0.756032</td>\n",
       "      <td>-0.430440</td>\n",
       "      <td>-0.971596</td>\n",
       "      <td>-0.523559</td>\n",
       "      <td>-0.578250</td>\n",
       "      <td>-0.501226</td>\n",
       "      <td>0.426008</td>\n",
       "      <td>-0.130229</td>\n",
       "      <td>-1.021024</td>\n",
       "      <td>-0.846366</td>\n",
       "      <td>-0.549030</td>\n",
       "      <td>4.288337</td>\n",
       "      <td>1.565493</td>\n",
       "      <td>1.941398</td>\n",
       "      <td>1.769292</td>\n",
       "      <td>0.738616</td>\n",
       "      <td>1.240377</td>\n",
       "      <td>-0.546002</td>\n",
       "      <td>-0.137473</td>\n",
       "      <td>-0.781036</td>\n",
       "      <td>-0.832167</td>\n",
       "      <td>54.68</td>\n",
       "      <td>25.31</td>\n",
       "    </tr>\n",
       "    <tr>\n",
       "      <th>1058</th>\n",
       "      <td>-0.150911</td>\n",
       "      <td>-0.094333</td>\n",
       "      <td>-0.568885</td>\n",
       "      <td>-0.614652</td>\n",
       "      <td>0.332477</td>\n",
       "      <td>-0.954948</td>\n",
       "      <td>-1.527722</td>\n",
       "      <td>-1.591471</td>\n",
       "      <td>-3.678713</td>\n",
       "      <td>-5.930209</td>\n",
       "      <td>-2.091674</td>\n",
       "      <td>0.881171</td>\n",
       "      <td>-0.138141</td>\n",
       "      <td>0.946580</td>\n",
       "      <td>0.026369</td>\n",
       "      <td>-1.556636</td>\n",
       "      <td>-0.778056</td>\n",
       "      <td>-0.578564</td>\n",
       "      <td>-0.658959</td>\n",
       "      <td>-0.775261</td>\n",
       "      <td>-0.726250</td>\n",
       "      <td>-0.652795</td>\n",
       "      <td>-0.479773</td>\n",
       "      <td>-0.391850</td>\n",
       "      <td>0.507284</td>\n",
       "      <td>2.327800</td>\n",
       "      <td>4.977122</td>\n",
       "      <td>3.921483</td>\n",
       "      <td>3.768246</td>\n",
       "      <td>1.222595</td>\n",
       "      <td>1.059004</td>\n",
       "      <td>4.318631</td>\n",
       "      <td>2.834609</td>\n",
       "      <td>2.401068</td>\n",
       "      <td>-0.626377</td>\n",
       "      <td>-0.971869</td>\n",
       "      <td>-1.154825</td>\n",
       "      <td>-0.265373</td>\n",
       "      <td>-0.388169</td>\n",
       "      <td>0.960130</td>\n",
       "      <td>-0.205300</td>\n",
       "      <td>1.374878</td>\n",
       "      <td>4.112404</td>\n",
       "      <td>3.667444</td>\n",
       "      <td>5.505794</td>\n",
       "      <td>4.951096</td>\n",
       "      <td>2.216022</td>\n",
       "      <td>2.507129</td>\n",
       "      <td>4.124122</td>\n",
       "      <td>2.999468</td>\n",
       "      <td>3.828412</td>\n",
       "      <td>-0.710954</td>\n",
       "      <td>-0.557389</td>\n",
       "      <td>-0.818123</td>\n",
       "      <td>0.136330</td>\n",
       "      <td>-0.773602</td>\n",
       "      <td>-1.317640</td>\n",
       "      <td>-0.206349</td>\n",
       "      <td>0.508200</td>\n",
       "      <td>4.159140</td>\n",
       "      <td>5.121875</td>\n",
       "      <td>4.103031</td>\n",
       "      <td>3.673086</td>\n",
       "      <td>0.960420</td>\n",
       "      <td>1.067164</td>\n",
       "      <td>5.244305</td>\n",
       "      <td>2.506568</td>\n",
       "      <td>1.462580</td>\n",
       "      <td>54.68</td>\n",
       "      <td>25.31</td>\n",
       "    </tr>\n",
       "  </tbody>\n",
       "</table>\n",
       "<p>1059 rows × 70 columns</p>\n",
       "</div>"
      ],
      "text/plain": [
       "             0         1         2  ...        67  longitude  latitude\n",
       "0     7.161286  7.835325  2.911583  ... -0.836250     -15.75    -47.95\n",
       "1     0.225763 -0.094169 -0.603646  ...  1.391141      14.91    -23.51\n",
       "2    -0.692525 -0.517801 -0.788035  ...  1.063847      12.65     -8.00\n",
       "3    -0.735562 -0.684055  2.058215  ... -0.392197       9.03     38.74\n",
       "4     0.570272  0.273157 -0.279214  ...  1.289783      34.03     -6.85\n",
       "...        ...       ...       ...  ...       ...        ...       ...\n",
       "1054  0.399577  0.310805 -0.039326  ...  1.719302      -6.17     35.74\n",
       "1055  1.640386  1.306224  0.192745  ...  4.422651      11.55    104.91\n",
       "1056 -0.772360 -0.670596 -0.840420  ... -0.573822      41.33     19.80\n",
       "1057 -0.996965 -1.099395  3.515274  ... -0.832167      54.68     25.31\n",
       "1058 -0.150911 -0.094333 -0.568885  ...  1.462580      54.68     25.31\n",
       "\n",
       "[1059 rows x 70 columns]"
      ]
     },
     "execution_count": 157,
     "metadata": {},
     "output_type": "execute_result"
    }
   ],
   "source": [
    "df = pd.read_csv('data/Reg-Data.txt',header=None)\n",
    "df['longitude'] = df[68]\n",
    "df['latitude'] = df[69]\n",
    "df = df.drop([68,69],axis = 1)\n",
    "X = df.drop(['longitude','latitude'],axis = 1).values\n",
    "y = df[['longitude','latitude']].values\n",
    "df"
   ]
  },
  {
   "cell_type": "code",
   "execution_count": 158,
   "metadata": {
    "id": "vjfTsxJNwsk2"
   },
   "outputs": [],
   "source": [
    "X_train, X_test, y_train, y_test = train_test_split(\n",
    "    X, y, test_size=0.15, random_state=42\n",
    ")"
   ]
  },
  {
   "cell_type": "code",
   "execution_count": 159,
   "metadata": {
    "id": "I4HHdHTSwzlt"
   },
   "outputs": [],
   "source": [
    "train_scaled = minmax_scale(X_train, axis = 0)\n",
    "test_scaled = minmax_scale(X_test, axis = 0)"
   ]
  },
  {
   "cell_type": "code",
   "execution_count": 160,
   "metadata": {
    "id": "F2zd8X06w4oD"
   },
   "outputs": [],
   "source": [
    "X_train_tensor = torch.tensor(train_scaled, dtype=torch.float)\n",
    "X_test_tensor = torch.tensor(test_scaled, dtype=torch.float)\n",
    "\n",
    "y_train_tensor = torch.tensor(y_train, dtype=torch.float).reshape(-1,2)\n",
    "y_test_tensor = torch.tensor(y_test, dtype=torch.float).reshape(-1,2)"
   ]
  },
  {
   "cell_type": "markdown",
   "metadata": {
    "id": "kZ7-fbP8xsIM"
   },
   "source": [
    "### Defining the AutoEncoder"
   ]
  },
  {
   "cell_type": "code",
   "execution_count": 161,
   "metadata": {
    "id": "DrbZbW_BxsIV"
   },
   "outputs": [],
   "source": [
    "import keras\n",
    "encoding_dim = 30\n",
    "ncol = 68\n",
    "input_dim = Input(shape = (ncol, ))\n",
    "\n",
    "# Encoder Layers\n",
    "encoded1 = Dense(60, activation = 'relu')(input_dim)\n",
    "encoded2 = Dense(50, activation = 'relu')(encoded1)\n",
    "encoded3 = Dense(40, activation = 'relu')(encoded2)\n",
    "encoded4 = Dense(encoding_dim, activation = 'relu')(encoded3)\n",
    "\n",
    "# Decoder Layers\n",
    "decoded1 = Dense(40, activation = 'relu')(encoded4)\n",
    "decoded2 = Dense(50, activation = 'relu')(decoded1)\n",
    "decoded3 = Dense(60, activation = 'relu')(decoded2)\n",
    "decoded4 = Dense(ncol, activation = 'sigmoid')(decoded3)\n",
    "\n",
    "# Combine Encoder and Deocder layers\n",
    "autoencoder2 = keras.models.Model(inputs = input_dim, outputs = decoded4)\n",
    "\n",
    "# Compile the Model\n",
    "autoencoder2.compile(optimizer = 'adam', loss = 'mse')"
   ]
  },
  {
   "cell_type": "code",
   "execution_count": 162,
   "metadata": {
    "colab": {
     "base_uri": "https://localhost:8080/"
    },
    "id": "66bVR760xsIV",
    "outputId": "f7d9efb9-273c-4c2c-ee0e-978f89331ffd"
   },
   "outputs": [
    {
     "name": "stdout",
     "output_type": "stream",
     "text": [
      "Model: \"model_10\"\n",
      "_________________________________________________________________\n",
      " Layer (type)                Output Shape              Param #   \n",
      "=================================================================\n",
      " input_11 (InputLayer)       [(None, 68)]              0         \n",
      "                                                                 \n",
      " dense_34 (Dense)            (None, 60)                4140      \n",
      "                                                                 \n",
      " dense_35 (Dense)            (None, 50)                3050      \n",
      "                                                                 \n",
      " dense_36 (Dense)            (None, 40)                2040      \n",
      "                                                                 \n",
      " dense_37 (Dense)            (None, 30)                1230      \n",
      "                                                                 \n",
      " dense_38 (Dense)            (None, 40)                1240      \n",
      "                                                                 \n",
      " dense_39 (Dense)            (None, 50)                2050      \n",
      "                                                                 \n",
      " dense_40 (Dense)            (None, 60)                3060      \n",
      "                                                                 \n",
      " dense_41 (Dense)            (None, 68)                4148      \n",
      "                                                                 \n",
      "=================================================================\n",
      "Total params: 20,958\n",
      "Trainable params: 20,958\n",
      "Non-trainable params: 0\n",
      "_________________________________________________________________\n"
     ]
    }
   ],
   "source": [
    "autoencoder2.summary()"
   ]
  },
  {
   "cell_type": "markdown",
   "metadata": {
    "id": "xWiDfvHwxsIW"
   },
   "source": [
    "### Training the AutoEncoder"
   ]
  },
  {
   "cell_type": "code",
   "execution_count": 163,
   "metadata": {
    "colab": {
     "base_uri": "https://localhost:8080/"
    },
    "id": "KBoKvOEoxsIW",
    "outputId": "09fa9d32-2dd1-47e7-c74d-094fad654637"
   },
   "outputs": [
    {
     "name": "stdout",
     "output_type": "stream",
     "text": [
      "Epoch 1/9\n",
      "29/29 [==============================] - 1s 9ms/step - loss: 0.0619 - val_loss: 0.0470\n",
      "Epoch 2/9\n",
      "29/29 [==============================] - 0s 4ms/step - loss: 0.0235 - val_loss: 0.0332\n",
      "Epoch 3/9\n",
      "29/29 [==============================] - 0s 3ms/step - loss: 0.0158 - val_loss: 0.0303\n",
      "Epoch 4/9\n",
      "29/29 [==============================] - 0s 3ms/step - loss: 0.0150 - val_loss: 0.0304\n",
      "Epoch 5/9\n",
      "29/29 [==============================] - 0s 4ms/step - loss: 0.0146 - val_loss: 0.0291\n",
      "Epoch 6/9\n",
      "29/29 [==============================] - 0s 4ms/step - loss: 0.0136 - val_loss: 0.0272\n",
      "Epoch 7/9\n",
      "29/29 [==============================] - 0s 5ms/step - loss: 0.0128 - val_loss: 0.0258\n",
      "Epoch 8/9\n",
      "29/29 [==============================] - 0s 4ms/step - loss: 0.0123 - val_loss: 0.0251\n",
      "Epoch 9/9\n",
      "29/29 [==============================] - 0s 3ms/step - loss: 0.0120 - val_loss: 0.0250\n"
     ]
    },
    {
     "data": {
      "text/plain": [
       "<keras.callbacks.History at 0x7fbb0b694810>"
      ]
     },
     "execution_count": 163,
     "metadata": {},
     "output_type": "execute_result"
    }
   ],
   "source": [
    "autoencoder2.fit(train_scaled, train_scaled, epochs = 9, \n",
    "                 batch_size = 32, shuffle = False, validation_data = (test_scaled, test_scaled))"
   ]
  },
  {
   "cell_type": "markdown",
   "metadata": {
    "id": "qSaXxhQk1Q9_"
   },
   "source": [
    "### Use AutoEncoder to reduce dimension of train and test data"
   ]
  },
  {
   "cell_type": "code",
   "execution_count": 164,
   "metadata": {
    "id": "-Qlg1gEr1Q-H"
   },
   "outputs": [],
   "source": [
    "encoder = keras.models.Model(inputs = input_dim, outputs = encoded4)\n",
    "encoded_input = Input(shape = (encoding_dim, ))"
   ]
  },
  {
   "cell_type": "code",
   "execution_count": 165,
   "metadata": {
    "id": "mXLVYktx1Q-I"
   },
   "outputs": [],
   "source": [
    "encoded_train = pd.DataFrame(encoder.predict(train_scaled))\n",
    "encoded_train = encoded_train.add_prefix('feature_')\n",
    "encoded_train = encoded_train.values\n",
    "\n",
    "encoded_test = pd.DataFrame(encoder.predict(test_scaled))\n",
    "encoded_test = encoded_test.add_prefix('feature_')\n",
    "encoded_test = encoded_test.values"
   ]
  },
  {
   "cell_type": "code",
   "execution_count": 166,
   "metadata": {
    "colab": {
     "base_uri": "https://localhost:8080/"
    },
    "id": "TJn6jGqh1Q-I",
    "outputId": "48869f10-7c09-43e4-b47f-ecf279d17711"
   },
   "outputs": [
    {
     "data": {
      "text/plain": [
       "array([[0.        , 0.5062831 , 0.        , ..., 0.79190516, 1.1676931 ,\n",
       "        1.2954531 ],\n",
       "       [0.        , 0.5547495 , 0.        , ..., 1.0386316 , 1.014297  ,\n",
       "        1.1831064 ],\n",
       "       [0.        , 0.2798609 , 0.        , ..., 1.68701   , 1.0890676 ,\n",
       "        0.96427184],\n",
       "       ...,\n",
       "       [0.        , 0.57057875, 0.        , ..., 1.833194  , 1.0275724 ,\n",
       "        0.7917586 ],\n",
       "       [0.        , 0.5927711 , 0.        , ..., 0.8613547 , 1.1037238 ,\n",
       "        1.1621649 ],\n",
       "       [0.        , 0.5497524 , 0.        , ..., 0.28247762, 0.9013232 ,\n",
       "        1.1970714 ]], dtype=float32)"
      ]
     },
     "execution_count": 166,
     "metadata": {},
     "output_type": "execute_result"
    }
   ],
   "source": [
    "encoded_train"
   ]
  },
  {
   "cell_type": "markdown",
   "metadata": {
    "id": "37MU_egC1vGH"
   },
   "source": [
    "### Trying the encoded training set on the model"
   ]
  },
  {
   "cell_type": "code",
   "execution_count": 167,
   "metadata": {
    "id": "dG2v8h0DIwKx"
   },
   "outputs": [],
   "source": [
    "def mini_batch_train2(X_t,X_val,y_t,y_val, epochs, batch_size,model,criterion,optimizer):\n",
    "    training_losses = []\n",
    "    test_losses = []\n",
    "\n",
    "    X_t_tensor = torch.tensor(X_t, dtype=torch.float)\n",
    "    X_val_tensor = torch.tensor(X_val, dtype=torch.float)\n",
    "\n",
    "    y_t_tensor = torch.tensor(y_t).reshape(-1,2)\n",
    "    y_val_tensor = torch.tensor(y_val).reshape(-1,2)\n",
    "\n",
    "    for i in range(epochs):\n",
    "        i += 1\n",
    "        # Test Loss\n",
    "        with torch.no_grad():\n",
    "            y_test = model(X_val_tensor)\n",
    "            test_loss = criterion(y_test, y_val_tensor)\n",
    "            test_losses.append(test_loss.item())\n",
    "\n",
    "        start = 0\n",
    "        while start < len(X_t) :\n",
    "            if start + batch_size >= len(X_t) :\n",
    "                y_pred = model(X_t_tensor[start:])\n",
    "                loss = criterion(y_pred, y_t_tensor[start:start+batch_size])\n",
    "                training_losses.append(loss.item())\n",
    "                optimizer.zero_grad()\n",
    "                loss.backward()\n",
    "                optimizer.step()\n",
    "                break\n",
    "            else :\n",
    "                y_pred = model(X_t_tensor[start:start+batch_size])\n",
    "                loss = criterion(y_pred, y_t_tensor[start:start+batch_size])\n",
    "                optimizer.zero_grad()\n",
    "                loss.backward()\n",
    "                optimizer.step()\n",
    "\n",
    "                start = start+batch_size\n",
    "\n",
    "\n",
    "        if i%5 == 1:\n",
    "            print(f'Epoch: {i:3}  Training Loss: {loss.item():10.8f} Test Loss: {test_loss}')\n",
    "\n",
    "    print(f'Epoch: {epochs}  Training Loss: {loss.item():10.8f} Test Loss: {test_loss}')\n",
    "\n",
    "    return training_losses,test_losses\n"
   ]
  },
  {
   "cell_type": "code",
   "execution_count": 168,
   "metadata": {
    "id": "2r1cRbfhJi9T"
   },
   "outputs": [],
   "source": [
    "def show_diagrams(training_losses,valid_losses) :\n",
    "    \n",
    "    plt.plot(training_losses)\n",
    "    plt.plot(valid_losses)\n",
    "    plt.title('Loss per epoch')\n",
    "    plt.ylabel('Loss')\n",
    "    plt.xlabel('epoch')\n",
    "    plt.legend(['train','validation'], loc='upper right')\n",
    "    plt.show()"
   ]
  },
  {
   "cell_type": "code",
   "execution_count": 169,
   "metadata": {
    "id": "uADaNWrT1hR4"
   },
   "outputs": [],
   "source": [
    "hidden_layers = [128,90,70]\n",
    "in_features = encoding_dim\n",
    "out_features = 2\n",
    "model2 = Model(in_features, out_features, hidden_layers, p=0.1, activation_function = nn.ReLU(inplace= True),\n",
    "            enable_dropout = True)\n",
    "criterion = nn.L1Loss()\n",
    "optimizer = torch.optim.SGD(model2.parameters(), lr=0.001, momentum=0.9)"
   ]
  },
  {
   "cell_type": "code",
   "execution_count": 170,
   "metadata": {
    "colab": {
     "base_uri": "https://localhost:8080/"
    },
    "id": "OoYJIgjG14FC",
    "outputId": "dea6f65e-99c5-40bc-8745-bb68e8dd52a4"
   },
   "outputs": [
    {
     "name": "stdout",
     "output_type": "stream",
     "text": [
      "Epoch:   1  Training Loss: 19.69710732 Test Loss: 42.0395393371582\n",
      "Epoch:   6  Training Loss: 15.94266891 Test Loss: 27.40904998779297\n",
      "Epoch:  11  Training Loss: 18.60629654 Test Loss: 27.558895111083984\n",
      "Epoch:  16  Training Loss: 18.75740814 Test Loss: 27.98607063293457\n",
      "Epoch:  21  Training Loss: 17.82673264 Test Loss: 27.332050323486328\n",
      "Epoch:  26  Training Loss: 19.70602417 Test Loss: 26.985719680786133\n",
      "Epoch:  31  Training Loss: 19.44206619 Test Loss: 26.982397079467773\n",
      "Epoch:  36  Training Loss: 20.28242493 Test Loss: 26.584331512451172\n",
      "Epoch:  41  Training Loss: 20.12581635 Test Loss: 27.93431854248047\n",
      "Epoch:  46  Training Loss: 17.45397758 Test Loss: 27.03972625732422\n",
      "Epoch: 50  Training Loss: 17.00311279 Test Loss: 28.837860107421875\n",
      "CPU times: user 11.2 s, sys: 21.2 ms, total: 11.2 s\n",
      "Wall time: 11.2 s\n"
     ]
    }
   ],
   "source": [
    "%%time\n",
    "epochs = 50\n",
    "batch_size = 4\n",
    "training_losses,valid_losses = mini_batch_train2(encoded_train,encoded_test,\n",
    "                                                 y_train,y_test,epochs, batch_size,model2,criterion,optimizer)"
   ]
  },
  {
   "cell_type": "code",
   "execution_count": 171,
   "metadata": {
    "colab": {
     "base_uri": "https://localhost:8080/",
     "height": 295
    },
    "id": "FvbxpXqP184_",
    "outputId": "1ed9725b-886f-49fa-f0d0-b5e186a56ad6"
   },
   "outputs": [
    {
     "data": {
      "image/png": "[encoded data removed]",
      "text/plain": [
       "<Figure size 432x288 with 1 Axes>"
      ]
     },
     "metadata": {
      "needs_background": "light"
     },
     "output_type": "display_data"
    }
   ],
   "source": [
    "show_diagrams(training_losses,valid_losses)"
   ]
  },
  {
   "cell_type": "markdown",
   "metadata": {
    "id": "zFJucOgpKk3w"
   },
   "source": [
    "## Dimensionality Reduction using PCA"
   ]
  },
  {
   "cell_type": "code",
   "execution_count": 172,
   "metadata": {
    "colab": {
     "base_uri": "https://localhost:8080/"
    },
    "id": "hbm_L-_9Kk34",
    "outputId": "f4a8f896-825d-4c21-a76b-c01fb306ec33"
   },
   "outputs": [
    {
     "data": {
      "text/plain": [
       "array([ 0.24819123, -0.07413895, -0.59013731,  0.54780853,  0.84961427,\n",
       "        0.28680671, -0.05712363, -0.89095684,  0.45982203, -0.07521558,\n",
       "        0.0380314 ,  0.41976217, -0.02095287,  0.00224764, -1.57297582,\n",
       "       -0.1222196 ,  0.67467924,  0.93747796,  0.60932402, -0.32857775,\n",
       "       -0.57011705,  0.34725769, -0.33793639, -0.33057652, -0.07452978,\n",
       "       -0.68002137, -0.41588148,  0.26229386,  0.07187932,  0.28514   ,\n",
       "        0.45820445,  0.97864501,  0.57756592,  0.75298774,  1.61279895,\n",
       "        1.05038552, -0.38265972,  0.07540993, -0.2138075 , -0.29413032,\n",
       "       -0.53670959,  0.16069277, -0.64768538, -0.27983517, -0.45270878,\n",
       "       -0.36890013,  0.59450908,  0.18685785, -0.06677047, -0.4663851 ,\n",
       "       -0.17954285,  1.78871821,  2.14482286, -0.34374603, -0.2030083 ,\n",
       "        0.39149326, -0.61411527, -0.65849174, -0.10025101, -0.95588575,\n",
       "       -0.51552421, -0.48051398, -0.18197539, -0.17826406,  0.35354694,\n",
       "        1.06590697, -0.14545659,  1.35971354])"
      ]
     },
     "execution_count": 172,
     "metadata": {},
     "output_type": "execute_result"
    }
   ],
   "source": [
    "from sklearn.preprocessing import StandardScaler\n",
    "\n",
    "X_scaled = StandardScaler().fit_transform(X)\n",
    "X_scaled[1]"
   ]
  },
  {
   "cell_type": "markdown",
   "metadata": {
    "id": "8pvYFFpSKk35"
   },
   "source": [
    "### Covariance matrix\n"
   ]
  },
  {
   "cell_type": "code",
   "execution_count": 173,
   "metadata": {
    "colab": {
     "base_uri": "https://localhost:8080/"
    },
    "id": "St7-2gZjKk35",
    "outputId": "2b65c2c7-3485-414c-ef35-ecb46fbd1b25"
   },
   "outputs": [
    {
     "data": {
      "text/plain": [
       "array([-0.22443836, -0.25844304,  0.17742925,  1.00094518, -0.13305504,\n",
       "        0.26527902,  0.29336275,  0.18259027,  0.23734682,  0.08216195,\n",
       "        0.14319146,  0.08529367,  0.16993029,  0.05622366,  0.04105032,\n",
       "        0.08972513, -0.04116812,  0.15848194,  0.19076913,  0.4032434 ,\n",
       "        0.84206079,  0.44480593,  0.58395767,  0.42263976,  0.30162173,\n",
       "        0.29285195,  0.29315428,  0.2781375 ,  0.21431387,  0.21547585,\n",
       "        0.13545668,  0.15424026,  0.09948574,  0.11527738, -0.01882112,\n",
       "       -0.02385422,  0.03186047,  0.16487642, -0.10124786,  0.00632797,\n",
       "       -0.12168826, -0.14523265, -0.08378495, -0.13058931, -0.1143681 ,\n",
       "       -0.15750107, -0.18638738, -0.19916291, -0.1698706 , -0.22857782,\n",
       "       -0.22309799,  0.08391188,  0.15681993,  0.15707183, -0.1848656 ,\n",
       "       -0.12712475,  0.06814443, -0.04443274, -0.08804227, -0.09538353,\n",
       "       -0.05932736, -0.06267707, -0.12273963, -0.1287769 , -0.16338027,\n",
       "       -0.12223127, -0.15265879, -0.15143429])"
      ]
     },
     "execution_count": 173,
     "metadata": {},
     "output_type": "execute_result"
    }
   ],
   "source": [
    "features = X_scaled.T\n",
    "cov_matrix = np.cov(features)\n",
    "cov_matrix[3]"
   ]
  },
  {
   "cell_type": "markdown",
   "metadata": {
    "id": "vORr6JzrKk35"
   },
   "source": [
    "### Eigendecomposition\n",
    "Here we will calculate eigen values and eigen vectors : "
   ]
  },
  {
   "cell_type": "code",
   "execution_count": 174,
   "metadata": {
    "colab": {
     "base_uri": "https://localhost:8080/"
    },
    "id": "qNygrKUPKk35",
    "outputId": "3a444696-04f8-402b-9e67-e0428a36c0ad"
   },
   "outputs": [
    {
     "data": {
      "text/plain": [
       "array([13.60778002,  8.06754586,  5.24429095,  4.76379249,  3.80692885])"
      ]
     },
     "execution_count": 174,
     "metadata": {},
     "output_type": "execute_result"
    }
   ],
   "source": [
    "values, vectors = np.linalg.eig(cov_matrix)\n",
    "values[:5]"
   ]
  },
  {
   "cell_type": "code",
   "execution_count": 175,
   "metadata": {
    "colab": {
     "base_uri": "https://localhost:8080/"
    },
    "id": "L3O0Qe0AKk35",
    "outputId": "938409cb-b1dd-46c1-835d-2dd470c4ea59"
   },
   "outputs": [
    {
     "name": "stdout",
     "output_type": "stream",
     "text": [
      "1.0 \n",
      " [0.1999254466503587, 0.11852834974323313, 0.07704910047831849, 0.06998961913963109, 0.05593138262970693, 0.03316415101203388, 0.030668654901843367, 0.027492278543740273, 0.02520299388888293, 0.02174396379890392, 0.02053118906873866, 0.01915712035941034, 0.018458931361637437, 0.016369555732943075, 0.014785691602245158, 0.014317792881302038, 0.013866474679956263, 0.013586508496227659, 0.012412975257254688, 0.011915336093598383, 0.011690322373967915, 0.01024420617411587, 0.009332319707971094, 0.009074855853224666, 0.008415330963318602, 0.007896110394006969, 0.0072795733330148615, 0.007097427760417232, 0.0068779191450260195, 0.006632993106598004, 0.0064815650143798, 0.006159730443738818, 0.00592708841996051, 0.005801338159355524, 0.0052701492962598075, 0.004933508670377504, 0.004562956928912433, 8.736856036571654e-05, 0.00419440372605572, 0.004141036189758193, 0.0039757671932681305, 0.00027173204702136955, 0.0035414024143930866, 0.0006427288668363894, 0.0032224002578077108, 0.0007489095012935197, 0.000837216236984873, 0.0009326728415210443, 0.0009535125718978692, 0.0010221672137442587, 0.001096506552504941, 0.0011512200755572576, 0.0012184250193473958, 0.001292998415696224, 0.0014900630946978498, 0.0015588181935276833, 0.0016564294701470596, 0.003039708211417397, 0.00295674563426288, 0.002823541655146448, 0.0027121989685182516, 0.0025938795659822033, 0.0025469670453787184, 0.0023783553431561623, 0.0018298739935740695, 0.0021966971892318447, 0.0020412203339321405, 0.002070121552361585]\n"
     ]
    }
   ],
   "source": [
    "explained_variances = []\n",
    "for i in range(len(values)):\n",
    "    explained_variances.append(values[i] / np.sum(values))\n",
    " \n",
    "print(np.sum(explained_variances), '\\n', explained_variances)"
   ]
  },
  {
   "cell_type": "markdown",
   "metadata": {
    "id": "sCyLFcO0Kk35"
   },
   "source": [
    "### Projection"
   ]
  },
  {
   "cell_type": "code",
   "execution_count": 178,
   "metadata": {
    "id": "2GK-1Qp-Kk35"
   },
   "outputs": [],
   "source": [
    "projected_1 = X_scaled.dot(vectors.T[0])\n",
    "projected_2 = X_scaled.dot(vectors.T[1])\n",
    "projected_3 = X_scaled.dot(vectors.T[2])\n",
    "projected_4 = X_scaled.dot(vectors.T[3])\n",
    "projected_5 = X_scaled.dot(vectors.T[4])\n",
    "projected_6 = X_scaled.dot(vectors.T[5])\n",
    "projected_7 = X_scaled.dot(vectors.T[6])\n",
    "projected_8 = X_scaled.dot(vectors.T[7])\n",
    "projected_9 = X_scaled.dot(vectors.T[8])\n",
    "projected_10 = X_scaled.dot(vectors.T[9])"
   ]
  },
  {
   "cell_type": "code",
   "execution_count": 179,
   "metadata": {
    "colab": {
     "base_uri": "https://localhost:8080/",
     "height": 422
    },
    "id": "W1hG73DrKk36",
    "outputId": "6cda0504-fd24-4c5b-b44f-37ea61f2901e"
   },
   "outputs": [
    {
     "data": {
      "text/html": [
       "<div>\n",
       "<style scoped>\n",
       "    .dataframe tbody tr th:only-of-type {\n",
       "        vertical-align: middle;\n",
       "    }\n",
       "\n",
       "    .dataframe tbody tr th {\n",
       "        vertical-align: top;\n",
       "    }\n",
       "\n",
       "    .dataframe thead th {\n",
       "        text-align: right;\n",
       "    }\n",
       "</style>\n",
       "<table border=\"1\" class=\"dataframe\">\n",
       "  <thead>\n",
       "    <tr style=\"text-align: right;\">\n",
       "      <th></th>\n",
       "      <th>PC1</th>\n",
       "      <th>PC2</th>\n",
       "      <th>PC3</th>\n",
       "      <th>PC4</th>\n",
       "      <th>PC5</th>\n",
       "      <th>PC6</th>\n",
       "      <th>PC7</th>\n",
       "      <th>PC8</th>\n",
       "      <th>PC9</th>\n",
       "      <th>PC10</th>\n",
       "      <th>longitude</th>\n",
       "      <th>latitude</th>\n",
       "    </tr>\n",
       "  </thead>\n",
       "  <tbody>\n",
       "    <tr>\n",
       "      <th>0</th>\n",
       "      <td>-1.068725</td>\n",
       "      <td>8.437277</td>\n",
       "      <td>-5.197232</td>\n",
       "      <td>8.031617</td>\n",
       "      <td>5.961671</td>\n",
       "      <td>1.251664</td>\n",
       "      <td>3.256382</td>\n",
       "      <td>-1.772884</td>\n",
       "      <td>0.748368</td>\n",
       "      <td>-0.797154</td>\n",
       "      <td>-15.75</td>\n",
       "      <td>-47.95</td>\n",
       "    </tr>\n",
       "    <tr>\n",
       "      <th>1</th>\n",
       "      <td>0.190528</td>\n",
       "      <td>0.862663</td>\n",
       "      <td>-0.072849</td>\n",
       "      <td>2.825874</td>\n",
       "      <td>-0.648760</td>\n",
       "      <td>-0.943278</td>\n",
       "      <td>-0.801290</td>\n",
       "      <td>-2.236496</td>\n",
       "      <td>0.254405</td>\n",
       "      <td>-0.098439</td>\n",
       "      <td>14.91</td>\n",
       "      <td>-23.51</td>\n",
       "    </tr>\n",
       "    <tr>\n",
       "      <th>2</th>\n",
       "      <td>4.149918</td>\n",
       "      <td>-1.397989</td>\n",
       "      <td>2.099784</td>\n",
       "      <td>0.745889</td>\n",
       "      <td>-2.962653</td>\n",
       "      <td>0.924669</td>\n",
       "      <td>-0.798065</td>\n",
       "      <td>-1.333758</td>\n",
       "      <td>0.223061</td>\n",
       "      <td>1.625642</td>\n",
       "      <td>12.65</td>\n",
       "      <td>-8.00</td>\n",
       "    </tr>\n",
       "    <tr>\n",
       "      <th>3</th>\n",
       "      <td>-0.947960</td>\n",
       "      <td>4.093904</td>\n",
       "      <td>-2.281610</td>\n",
       "      <td>-0.324632</td>\n",
       "      <td>-1.668090</td>\n",
       "      <td>1.755334</td>\n",
       "      <td>-0.779106</td>\n",
       "      <td>-1.675249</td>\n",
       "      <td>-0.454894</td>\n",
       "      <td>1.931967</td>\n",
       "      <td>9.03</td>\n",
       "      <td>38.74</td>\n",
       "    </tr>\n",
       "    <tr>\n",
       "      <th>4</th>\n",
       "      <td>0.366876</td>\n",
       "      <td>-1.564429</td>\n",
       "      <td>-0.080291</td>\n",
       "      <td>2.907154</td>\n",
       "      <td>0.253194</td>\n",
       "      <td>-0.759745</td>\n",
       "      <td>0.033464</td>\n",
       "      <td>-1.173413</td>\n",
       "      <td>-1.139334</td>\n",
       "      <td>0.068729</td>\n",
       "      <td>34.03</td>\n",
       "      <td>-6.85</td>\n",
       "    </tr>\n",
       "    <tr>\n",
       "      <th>...</th>\n",
       "      <td>...</td>\n",
       "      <td>...</td>\n",
       "      <td>...</td>\n",
       "      <td>...</td>\n",
       "      <td>...</td>\n",
       "      <td>...</td>\n",
       "      <td>...</td>\n",
       "      <td>...</td>\n",
       "      <td>...</td>\n",
       "      <td>...</td>\n",
       "      <td>...</td>\n",
       "      <td>...</td>\n",
       "    </tr>\n",
       "    <tr>\n",
       "      <th>1054</th>\n",
       "      <td>6.036341</td>\n",
       "      <td>1.331828</td>\n",
       "      <td>1.964494</td>\n",
       "      <td>3.493875</td>\n",
       "      <td>-1.804094</td>\n",
       "      <td>0.370083</td>\n",
       "      <td>-1.313056</td>\n",
       "      <td>0.240942</td>\n",
       "      <td>-2.254625</td>\n",
       "      <td>2.249588</td>\n",
       "      <td>-6.17</td>\n",
       "      <td>35.74</td>\n",
       "    </tr>\n",
       "    <tr>\n",
       "      <th>1055</th>\n",
       "      <td>5.145328</td>\n",
       "      <td>-3.306242</td>\n",
       "      <td>-2.368449</td>\n",
       "      <td>2.543880</td>\n",
       "      <td>-1.145478</td>\n",
       "      <td>-2.740121</td>\n",
       "      <td>0.461468</td>\n",
       "      <td>1.368067</td>\n",
       "      <td>-2.773428</td>\n",
       "      <td>0.671453</td>\n",
       "      <td>11.55</td>\n",
       "      <td>104.91</td>\n",
       "    </tr>\n",
       "    <tr>\n",
       "      <th>1056</th>\n",
       "      <td>-3.000066</td>\n",
       "      <td>-1.801716</td>\n",
       "      <td>0.673602</td>\n",
       "      <td>-0.141599</td>\n",
       "      <td>-0.413566</td>\n",
       "      <td>-0.880672</td>\n",
       "      <td>-1.623246</td>\n",
       "      <td>-0.581166</td>\n",
       "      <td>0.354623</td>\n",
       "      <td>-1.247729</td>\n",
       "      <td>41.33</td>\n",
       "      <td>19.80</td>\n",
       "    </tr>\n",
       "    <tr>\n",
       "      <th>1057</th>\n",
       "      <td>1.149372</td>\n",
       "      <td>0.436830</td>\n",
       "      <td>-1.987901</td>\n",
       "      <td>-4.579032</td>\n",
       "      <td>1.235907</td>\n",
       "      <td>2.588423</td>\n",
       "      <td>1.105896</td>\n",
       "      <td>3.567083</td>\n",
       "      <td>-0.738530</td>\n",
       "      <td>0.784035</td>\n",
       "      <td>54.68</td>\n",
       "      <td>25.31</td>\n",
       "    </tr>\n",
       "    <tr>\n",
       "      <th>1058</th>\n",
       "      <td>17.074460</td>\n",
       "      <td>-3.121862</td>\n",
       "      <td>3.309241</td>\n",
       "      <td>-1.052874</td>\n",
       "      <td>0.992973</td>\n",
       "      <td>3.223204</td>\n",
       "      <td>-0.174479</td>\n",
       "      <td>0.475751</td>\n",
       "      <td>3.641558</td>\n",
       "      <td>-1.277468</td>\n",
       "      <td>54.68</td>\n",
       "      <td>25.31</td>\n",
       "    </tr>\n",
       "  </tbody>\n",
       "</table>\n",
       "<p>1059 rows × 12 columns</p>\n",
       "</div>"
      ],
      "text/plain": [
       "            PC1       PC2       PC3  ...      PC10  longitude  latitude\n",
       "0     -1.068725  8.437277 -5.197232  ... -0.797154     -15.75    -47.95\n",
       "1      0.190528  0.862663 -0.072849  ... -0.098439      14.91    -23.51\n",
       "2      4.149918 -1.397989  2.099784  ...  1.625642      12.65     -8.00\n",
       "3     -0.947960  4.093904 -2.281610  ...  1.931967       9.03     38.74\n",
       "4      0.366876 -1.564429 -0.080291  ...  0.068729      34.03     -6.85\n",
       "...         ...       ...       ...  ...       ...        ...       ...\n",
       "1054   6.036341  1.331828  1.964494  ...  2.249588      -6.17     35.74\n",
       "1055   5.145328 -3.306242 -2.368449  ...  0.671453      11.55    104.91\n",
       "1056  -3.000066 -1.801716  0.673602  ... -1.247729      41.33     19.80\n",
       "1057   1.149372  0.436830 -1.987901  ...  0.784035      54.68     25.31\n",
       "1058  17.074460 -3.121862  3.309241  ... -1.277468      54.68     25.31\n",
       "\n",
       "[1059 rows x 12 columns]"
      ]
     },
     "execution_count": 179,
     "metadata": {},
     "output_type": "execute_result"
    }
   ],
   "source": [
    "res = pd.DataFrame(projected_1, columns=['PC1'])\n",
    "res['PC2'] = projected_2\n",
    "res['PC3'] = projected_3\n",
    "res['PC4'] = projected_4\n",
    "res['PC5'] = projected_5\n",
    "res['PC6'] = projected_6\n",
    "res['PC7'] = projected_7\n",
    "res['PC8'] = projected_8\n",
    "res['PC9'] = projected_9\n",
    "res['PC10'] = projected_10\n",
    "\n",
    "res['longitude'] = y[:,0]\n",
    "res['latitude'] = y[:,1]\n",
    "res"
   ]
  },
  {
   "cell_type": "code",
   "execution_count": 182,
   "metadata": {
    "id": "Bmg_89_cKk36"
   },
   "outputs": [],
   "source": [
    "X_train, X_test, y_train, y_test = train_test_split(\n",
    "    res.drop(['longitude','latitude'],axis = 1), res[['longitude','latitude']], test_size=0.2, random_state=42\n",
    ")"
   ]
  },
  {
   "cell_type": "markdown",
   "metadata": {
    "id": "WihS9YwLKk36"
   },
   "source": [
    "### Trying the new dataset"
   ]
  },
  {
   "cell_type": "code",
   "execution_count": 183,
   "metadata": {
    "id": "UOw0VVmVKk36"
   },
   "outputs": [],
   "source": [
    "hidden_layers = [128,90,70]\n",
    "in_features = 10\n",
    "out_features = 2\n",
    "model2 = Model(in_features, out_features, hidden_layers, p=0.1, activation_function = nn.ReLU(inplace= True),\n",
    "            enable_dropout = True)\n",
    "criterion = nn.L1Loss()\n",
    "optimizer = torch.optim.SGD(model2.parameters(), lr=0.001, momentum=0.9)"
   ]
  },
  {
   "cell_type": "code",
   "execution_count": 184,
   "metadata": {
    "colab": {
     "base_uri": "https://localhost:8080/"
    },
    "id": "Mwk8mQAYKk36",
    "outputId": "a6cca0ae-4171-4709-b5d1-1ce955ed5b9a"
   },
   "outputs": [
    {
     "name": "stdout",
     "output_type": "stream",
     "text": [
      "Epoch:   1  Training Loss: 29.69846535 Test Loss: 41.27515411376953\n",
      "Epoch:   6  Training Loss: 18.49985313 Test Loss: 25.81812858581543\n",
      "Epoch:  11  Training Loss: 18.04673576 Test Loss: 24.789751052856445\n",
      "Epoch:  16  Training Loss: 15.70655823 Test Loss: 24.658926010131836\n",
      "Epoch:  21  Training Loss: 14.46919918 Test Loss: 24.899093627929688\n",
      "Epoch:  26  Training Loss: 20.75527191 Test Loss: 25.43099021911621\n",
      "Epoch:  31  Training Loss: 14.02038288 Test Loss: 23.78188705444336\n",
      "Epoch:  36  Training Loss: 14.19924927 Test Loss: 24.3695068359375\n",
      "Epoch:  41  Training Loss: 14.01482391 Test Loss: 24.841533660888672\n",
      "Epoch:  46  Training Loss: 13.18558884 Test Loss: 25.156126022338867\n",
      "Epoch: 50  Training Loss: 17.35544014 Test Loss: 24.68306541442871\n",
      "CPU times: user 9.61 s, sys: 25.9 ms, total: 9.64 s\n",
      "Wall time: 9.67 s\n"
     ]
    }
   ],
   "source": [
    "%%time\n",
    "epochs = 50\n",
    "batch_size = 4\n",
    "training_losses,valid_losses = mini_batch_train2(X_train.values,\n",
    "                                                 X_test.values,y_train.values,y_test.values,\n",
    "                                                 epochs, batch_size,model2,criterion,optimizer)"
   ]
  },
  {
   "cell_type": "code",
   "execution_count": 187,
   "metadata": {
    "colab": {
     "base_uri": "https://localhost:8080/",
     "height": 295
    },
    "id": "Mgc1thBvKk36",
    "outputId": "b89348ed-e714-4286-c822-78e3acf0d973"
   },
   "outputs": [
    {
     "data": {
      "image/png": "[encoded data removed]",
      "text/plain": [
       "<Figure size 432x288 with 1 Axes>"
      ]
     },
     "metadata": {
      "needs_background": "light"
     },
     "output_type": "display_data"
    }
   ],
   "source": [
    "show_diagrams(training_losses,valid_losses)"
   ]
  }
 ],
 "metadata": {
  "colab": {
   "collapsed_sections": [
    "yZHTlXYFyjDe",
    "2r1fVSkSyjDe",
    "gitO_hHVACUZ",
    "opU7-4JV97GI",
    "U_k1VYL0-FF8",
    "RpCXms8oBiDo",
    "PfgDDXeaWuWI",
    "SIVWg0sMlwgh",
    "qywjrexQlz9-",
    "JAu4P2C-mdJb",
    "AvwemGh0KwHK",
    "kZ7-fbP8xsIM",
    "xWiDfvHwxsIW",
    "qSaXxhQk1Q9_",
    "37MU_egC1vGH",
    "zFJucOgpKk3w"
   ],
   "name": "3.Autoencoder.ipynb",
   "provenance": []
  },
  "interpreter": {
   "hash": "c4743f3265159d618cbfb7986907cf5d87d97b4cb2417375c3879348497beb2d"
  },
  "kernelspec": {
   "display_name": "Python 3 (ipykernel)",
   "language": "python",
   "name": "python3"
  },
  "language_info": {
   "codemirror_mode": {
    "name": "ipython",
    "version": 3
   },
   "file_extension": ".py",
   "mimetype": "text/x-python",
   "name": "python",
   "nbconvert_exporter": "python",
   "pygments_lexer": "ipython3",
   "version": "3.9.5"
  }
 },
 "nbformat": 4,
 "nbformat_minor": 1
}
