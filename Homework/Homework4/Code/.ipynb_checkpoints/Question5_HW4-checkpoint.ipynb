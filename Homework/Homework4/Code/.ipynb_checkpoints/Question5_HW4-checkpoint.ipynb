{
 "cells": [
  {
   "cell_type": "markdown",
   "metadata": {
    "id": "ATUfqq9kZyyT"
   },
   "source": [
    "# Question 5: SOM"
   ]
  },
  {
   "cell_type": "markdown",
   "metadata": {
    "id": "HGSUeR-kZ2ii"
   },
   "source": [
    "# Importing Dependecies"
   ]
  },
  {
   "cell_type": "code",
   "execution_count": null,
   "metadata": {
    "id": "lazkjCzv5wQ-"
   },
   "outputs": [],
   "source": [
    "%matplotlib inline\n",
    "import numpy as np\n",
    "import matplotlib.pyplot as plt\n",
    "from sklearn.preprocessing import MinMaxScaler\n",
    "import sys\n",
    "\n",
    "import os\n",
    "import time\n",
    "import torch\n",
    "import argparse\n",
    "import matplotlib.pyplot as plt\n",
    "import torchvision.datasets as datasets\n",
    "import torchvision.transforms as transforms\n",
    "from torch.utils.data.dataloader import DataLoader"
   ]
  },
  {
   "cell_type": "markdown",
   "metadata": {
    "id": "ygHrVNl3aCLK"
   },
   "source": [
    "# Loading Dataset"
   ]
  },
  {
   "cell_type": "code",
   "execution_count": null,
   "metadata": {
    "id": "-vFHm2y85wRH"
   },
   "outputs": [],
   "source": [
    "# Load dataset with labels\n",
    "raw_data = datasets.FashionMNIST('data/', train=True, download=True).data.numpy().astype(float)\n",
    "test_data = raw_data[1000:1300]"
   ]
  },
  {
   "cell_type": "code",
   "execution_count": null,
   "metadata": {
    "id": "S9d1Zd0Hl4Zk"
   },
   "outputs": [],
   "source": [
    "initial_weight = np.random.rand(28*28*(15*15)).reshape(28*28, 15*15)"
   ]
  },
  {
   "cell_type": "code",
   "execution_count": null,
   "metadata": {
    "id": "FU-0qMjdXzjy"
   },
   "outputs": [],
   "source": [
    "raw_data = raw_data[:1000]"
   ]
  },
  {
   "cell_type": "code",
   "execution_count": null,
   "metadata": {
    "id": "ePlt6tuFZRMv"
   },
   "outputs": [],
   "source": [
    "raw_data = raw_data.reshape(1000,28*28)\n",
    "test_data = test_data.reshape(300,28*28)"
   ]
  },
  {
   "cell_type": "code",
   "execution_count": null,
   "metadata": {
    "id": "Qh1XPRAD5wRL"
   },
   "outputs": [],
   "source": [
    "# Number of neurons (1-dimensional)\n",
    "M = 225\n",
    "\n",
    "# Dimension of the input patterns\n",
    "N = raw_data.shape[1]\n",
    "\n",
    "# Total number of input patterns\n",
    "P = raw_data.shape[0]\n",
    "\n",
    "learning_rate = 0.3\n",
    "\n",
    "R = 1\n",
    "\n",
    "MAX_EPOCHS = 100\n",
    "\n",
    "MAX_WEIGHT_DIFF = 0.0001\n",
    "\n",
    "DECAY_FACTOR = 0.0001\n",
    "\n",
    "RADIUS_REDUCTION_STEP = 200\n",
    "\n",
    "np.set_printoptions(threshold=sys.maxsize)"
   ]
  },
  {
   "cell_type": "markdown",
   "metadata": {
    "id": "E2J4yJ5EZs5O"
   },
   "source": [
    "## Pre-processing"
   ]
  },
  {
   "cell_type": "code",
   "execution_count": null,
   "metadata": {
    "id": "eBwyTYoV5wRP"
   },
   "outputs": [],
   "source": [
    "# Normalize input vectors\n",
    "sc = MinMaxScaler(feature_range = (0, 1))\n",
    "data = sc.fit_transform(raw_data)\n",
    "test_data = sc.transform(test_data)\n"
   ]
  },
  {
   "cell_type": "markdown",
   "metadata": {
    "id": "2pE0BKlFaE9j"
   },
   "source": [
    "# Training"
   ]
  },
  {
   "cell_type": "code",
   "execution_count": null,
   "metadata": {
    "colab": {
     "base_uri": "https://localhost:8080/"
    },
    "id": "OrZUqFtI5wRS",
    "outputId": "f5a3e56a-79d2-47c3-e7bf-2a73f4d8bba7"
   },
   "outputs": [
    {
     "name": "stdout",
     "output_type": "stream",
     "text": [
      "\n",
      "Epoch: 0\n",
      "Learning rate: 0.3\n",
      "Neighborhood radius: 1\n",
      "Weight change: 0.9995507571793345 > 0.0001\n",
      "\n",
      "Epoch: 1\n",
      "Learning rate: 3e-05\n",
      "Neighborhood radius: 1\n",
      "Weight change: 0.0034967576816120616 > 0.0001\n",
      "\n",
      "Epoch: 2\n",
      "Learning rate: 0.0\n",
      "Neighborhood radius: 0\n",
      "Weight change: 1.2292408380076836e-07 < 0.0001\n",
      "Stopping condition is satisfied!\n"
     ]
    }
   ],
   "source": [
    "# Step 1: Initialization of each node’s weights with a random number between 0 and 1\n",
    "#weight = 0.1 * np.random.rand(N,M)\n",
    "weight = np.copy(initial_weight)\n",
    "#print(\"Initial weights:\")\n",
    "#print(np.around(weight, 2))\n",
    "\n",
    "last_weight = np.copy(weight)\n",
    "weights_history =[]\n",
    "weights_history.append(last_weight)\n",
    "for epoch in range(MAX_EPOCHS):\n",
    "    print(\"\\r\\nEpoch:\", epoch)\n",
    "    print(\"Learning rate:\", np.around(learning_rate, 6))\n",
    "    print(\"Neighborhood radius:\", R)\n",
    "    \n",
    "    # Step 2: Choosing input patterns ordering\n",
    "    # use normal ordering\n",
    "    pattern_ordering = np.arange(P)\n",
    "    # use random ordering\n",
    "    #np.random.shuffle(pattern_ordering)\n",
    "    #print(\"Random input patterns ordering:\", pattern_ordering)\n",
    "    \n",
    "    progress = 0\n",
    "    \n",
    "    # For each input pattern do the steps 3-5\n",
    "    for p in pattern_ordering:\n",
    "        \n",
    "        progress = progress + 1\n",
    "        \n",
    "        #print(\"\\r\\n\\tCurrent pattern index is\", p, \"and\", np.around(progress/P*100, 2), \"% of patterns has been processed in Epoch\", epoch)\n",
    "        \n",
    "        # Step 3: Calculating the Best Matching Unit (BMU)\n",
    "\n",
    "        # initialize distance vector\n",
    "        distance_vector = np.zeros(M)\n",
    "    \n",
    "        # calculate distance of each weight from each input pattern\n",
    "        for j in range(M):\n",
    "            for i in range(N):\n",
    "                distance_vector[j] = distance_vector[j] + (weight[i,j] - data[p,i])**2\n",
    "                \n",
    "        #print(\"\\tdistance_vector\", np.around(distance_vector, 2))\n",
    "\n",
    "        # Step 4: find index j such that distance_vector[j] is a minimum\n",
    "        min_distance_index = np.argmin(distance_vector)\n",
    "        \n",
    "        #print(\"\\tmin_distance_index\", min_distance_index)\n",
    "        \n",
    "        # Step 5: Update weights for all units j within a specified neighberhood of min_distance_index and for all i\n",
    "        # calculate neighborhood borders\n",
    "        begin_j = min_distance_index - R\n",
    "        if (begin_j < 0):\n",
    "            begin_j = 0\n",
    "        \n",
    "        end_j = min_distance_index + R\n",
    "        if (end_j > M - 1):\n",
    "            end_j = M - 1\n",
    "            \n",
    "        #print(\"neighberhood\", begin_j, end_j)\n",
    "        \n",
    "        for j in range(begin_j, end_j + 1):\n",
    "            for i in range(N):\n",
    "                weight[i,j] = weight[i,j] + learning_rate * (data[p,i] - weight[i,j])\n",
    "\n",
    "    # Step 6: Update learning rate\n",
    "    learning_rate = DECAY_FACTOR * learning_rate\n",
    "\n",
    "    # Step 7: Reduce radius of topological neighborhood at specified times\n",
    "    if (epoch % RADIUS_REDUCTION_STEP):\n",
    "        if R > 0 :\n",
    "            R = R - 1\n",
    "        \n",
    "    # Step 8: Test stopping condition\n",
    "    weight_diff = np.amax(np.abs(weight - last_weight))\n",
    "    \n",
    "    if (weight_diff < MAX_WEIGHT_DIFF):\n",
    "        print(\"Weight change:\", weight_diff, \"<\", MAX_WEIGHT_DIFF)\n",
    "        print(\"Stopping condition is satisfied!\")\n",
    "        break\n",
    "    else:\n",
    "        print(\"Weight change:\", weight_diff, \">\", MAX_WEIGHT_DIFF)\n",
    "    \n",
    "    last_weight = np.copy(weight)\n",
    "    weights_history.append(last_weight)\n",
    "\n",
    "    # end of for loop"
   ]
  },
  {
   "cell_type": "code",
   "execution_count": null,
   "metadata": {
    "id": "KWxU-AYp5wRg"
   },
   "outputs": [],
   "source": [
    "# associate pattern indices with clusters numbers\n",
    "patterns_with_clusters = np.zeros((P, 2), dtype=int)\n",
    "\n",
    "for p in range(300):\n",
    "\n",
    "    distance_vector = np.zeros(M)\n",
    "\n",
    "    # calculate distance of each weight from each input pattern\n",
    "    for j in range(M):\n",
    "        for i in range(N):\n",
    "            distance_vector[j] = distance_vector[j] + (weight[i,j] - test_data[p,i])**2\n",
    "\n",
    "    # find index j such that distance_vector[j] is a minimum\n",
    "    min_distance_index = np.argmin(distance_vector)\n",
    "    \n",
    "    # store pattern index \n",
    "    patterns_with_clusters[p,0] = p\n",
    "    # store cluster number associated with pattern \n",
    "    patterns_with_clusters[p,1] = min_distance_index"
   ]
  },
  {
   "cell_type": "code",
   "execution_count": null,
   "metadata": {
    "colab": {
     "base_uri": "https://localhost:8080/"
    },
    "id": "1P_Pb9qg6RFo",
    "outputId": "2006e90f-5a17-454d-bc29-993ac0b7feab"
   },
   "outputs": [
    {
     "name": "stdout",
     "output_type": "stream",
     "text": [
      "20 Largest Clusters\n",
      "Cluster 145 \t=>\t 44 patterns.\n",
      "Cluster 147 \t=>\t 23 patterns.\n",
      "Cluster 151 \t=>\t 20 patterns.\n",
      "Cluster 152 \t=>\t 18 patterns.\n",
      "Cluster 141 \t=>\t 18 patterns.\n",
      "Cluster 146 \t=>\t 17 patterns.\n",
      "Cluster 153 \t=>\t 15 patterns.\n",
      "Cluster 137 \t=>\t 12 patterns.\n",
      "Cluster 149 \t=>\t 12 patterns.\n",
      "Cluster 144 \t=>\t 11 patterns.\n",
      "Cluster 157 \t=>\t 10 patterns.\n",
      "Cluster 136 \t=>\t 10 patterns.\n",
      "Cluster 140 \t=>\t 10 patterns.\n",
      "Cluster 142 \t=>\t 10 patterns.\n",
      "Cluster 156 \t=>\t 8 patterns.\n",
      "Cluster 139 \t=>\t 8 patterns.\n",
      "Cluster 155 \t=>\t 7 patterns.\n",
      "Cluster 154 \t=>\t 7 patterns.\n",
      "Cluster 138 \t=>\t 7 patterns.\n",
      "Cluster 158 \t=>\t 7 patterns.\n",
      "\r\n",
      "Total 274 patterns are in top 20 clusters.\n"
     ]
    }
   ],
   "source": [
    "# make an array of clusters size and members\n",
    "clusters_size = [0 for j in range(M)]\n",
    "clusters_members = [[] for j in range(M)]\n",
    "for p in range(300):\n",
    "    # increment cluster size by 1\n",
    "    clusters_size[patterns_with_clusters[p,1].astype(int)] = clusters_size[patterns_with_clusters[p,1].astype(int)] + 1\n",
    "    # append the pattern index to cluster members list\n",
    "    clusters_members[patterns_with_clusters[p,1].astype(int)].append(p)\n",
    "\n",
    "\n",
    "clustered_patterns = [clusters_size, clusters_members]\n",
    "\n",
    "# find 20 largest clusters\n",
    "largest_clusters = np.asarray(clusters_size).argsort()[-20:][::-1]\n",
    "\n",
    "print(\"20 Largest Clusters\")\n",
    "total_of_20 = 0\n",
    "for j in largest_clusters:\n",
    "    print(\"Cluster\", j, \"\\t=>\\t\", clusters_size[j],\"patterns.\")\n",
    "    total_of_20 = total_of_20 + clusters_size[j]\n",
    "print(\"\\r\\nTotal\", total_of_20, \"patterns are in top 20 clusters.\")"
   ]
  },
  {
   "cell_type": "markdown",
   "metadata": {
    "id": "2ftInJpffqBe"
   },
   "source": [
    "# Part B"
   ]
  },
  {
   "cell_type": "code",
   "execution_count": null,
   "metadata": {
    "id": "TLipiV_pRprh"
   },
   "outputs": [],
   "source": [
    "import seaborn as sns\n",
    "clusters = np.asarray(clusters_size)"
   ]
  },
  {
   "cell_type": "code",
   "execution_count": null,
   "metadata": {
    "colab": {
     "base_uri": "https://localhost:8080/",
     "height": 609
    },
    "id": "Ub838Y5PfpMY",
    "outputId": "4907d0bd-f75f-40c7-86ab-edf2f55d7022"
   },
   "outputs": [
    {
     "data": {
      "text/plain": [
       "<BarContainer object of 225 artists>"
      ]
     },
     "execution_count": 21,
     "metadata": {},
     "output_type": "execute_result"
    },
    {
     "data": {
      "image/png": "[encoded data removed]",
      "text/plain": [
       "<Figure size 1080x720 with 1 Axes>"
      ]
     },
     "metadata": {
      "needs_background": "light"
     },
     "output_type": "display_data"
    }
   ],
   "source": [
    "# Set position of bar on X axis\n",
    "br1 = np.arange(len(clusters))\n",
    " \n",
    "# Make the plot\n",
    "plt.figure(figsize=(15,10))\n",
    "plt.bar(br1, clusters, color ='r', width = 1,\n",
    "        edgecolor ='grey', label ='IT')\n"
   ]
  },
  {
   "cell_type": "code",
   "execution_count": null,
   "metadata": {
    "colab": {
     "base_uri": "https://localhost:8080/"
    },
    "id": "Em_5j55Yf48c",
    "outputId": "e97fbe71-e2fb-4e5f-b026-934d8e0b7624"
   },
   "outputs": [
    {
     "data": {
      "text/plain": [
       "(784, 225)"
      ]
     },
     "execution_count": 17,
     "metadata": {},
     "output_type": "execute_result"
    }
   ],
   "source": [
    "last_weight.shape"
   ]
  },
  {
   "cell_type": "code",
   "execution_count": null,
   "metadata": {
    "id": "vijC0ljwkYJN"
   },
   "outputs": [],
   "source": []
  }
 ],
 "metadata": {
  "accelerator": "GPU",
  "colab": {
   "collapsed_sections": [],
   "name": "Q1-SOM-Part2.ipynb",
   "provenance": []
  },
  "kernelspec": {
   "display_name": "Python 3 (ipykernel)",
   "language": "python",
   "name": "python3"
  },
  "language_info": {
   "codemirror_mode": {
    "name": "ipython",
    "version": 3
   },
   "file_extension": ".py",
   "mimetype": "text/x-python",
   "name": "python",
   "nbconvert_exporter": "python",
   "pygments_lexer": "ipython3",
   "version": "3.9.5"
  }
 },
 "nbformat": 4,
 "nbformat_minor": 1
}
