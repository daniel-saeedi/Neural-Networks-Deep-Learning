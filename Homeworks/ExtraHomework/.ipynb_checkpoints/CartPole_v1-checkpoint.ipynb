{
 "cells": [
  {
   "cell_type": "markdown",
   "metadata": {
    "id": "ADUyrt8sxQA1"
   },
   "source": [
    "# CartPole-v1"
   ]
  },
  {
   "cell_type": "markdown",
   "metadata": {
    "id": "6EfYS6Taxm7t"
   },
   "source": [
    "# Import Dependencies"
   ]
  },
  {
   "cell_type": "code",
   "execution_count": null,
   "metadata": {
    "id": "mzYMgJqaON7c"
   },
   "outputs": [],
   "source": [
    "import numpy as np\n",
    "import torch.nn as nn\n",
    "import torch.nn.functional as F\n",
    "import torch\n",
    "import gym\n",
    "from torch.autograd import Variable\n",
    "import random"
   ]
  },
  {
   "cell_type": "markdown",
   "metadata": {
    "id": "mGRlOT8ROcB7"
   },
   "source": [
    "# Define Parameters"
   ]
  },
  {
   "cell_type": "code",
   "execution_count": null,
   "metadata": {
    "id": "g3zMY7KKOO-F"
   },
   "outputs": [],
   "source": [
    "LR = 0.01\n",
    "GAMMA = 0.99"
   ]
  },
  {
   "cell_type": "markdown",
   "metadata": {
    "id": "EQjsEh0HPStk"
   },
   "source": [
    "# Creating an environment in OpenAI Gym"
   ]
  },
  {
   "cell_type": "code",
   "execution_count": null,
   "metadata": {
    "id": "nBnuTm29OPBX"
   },
   "outputs": [],
   "source": [
    "env = gym.make('CartPole-v0').unwrapped\n",
    "history = []"
   ]
  },
  {
   "cell_type": "markdown",
   "metadata": {
    "id": "Qhs0W8iUPldz"
   },
   "source": [
    "# Setting up the policy network"
   ]
  },
  {
   "cell_type": "code",
   "execution_count": null,
   "metadata": {
    "id": "842bAZcpOPDr"
   },
   "outputs": [],
   "source": [
    "class Network(nn.Module):\n",
    "    def __init__(self):\n",
    "        super(Network, self).__init__()\n",
    "        # define forward pass with one hidden layer with ReLU activation and sofmax after output layer\n",
    "        self.l1 = nn.Linear(4, 150)\n",
    "        self.l2 = nn.Linear(150, 2)\n",
    "    def forward(self, x):\n",
    "        x = F.relu(self.l1(x))\n",
    "        x = F.softmax(self.l2(x))\n",
    "        return x"
   ]
  },
  {
   "cell_type": "code",
   "execution_count": null,
   "metadata": {
    "id": "i_tc3dZVOPF5"
   },
   "outputs": [],
   "source": [
    "model = Network()\n",
    "\n",
    "use_cuda = torch.cuda.is_available()\n",
    "if use_cuda:\n",
    "    model.cuda()\n",
    "FloatTensor = torch.cuda.FloatTensor if use_cuda else torch.FloatTensor\n",
    "LongTensor = torch.cuda.LongTensor if use_cuda else torch.LongTensor\n",
    "\n",
    "optim = torch.optim.Adam(model.parameters(), lr=LR)"
   ]
  },
  {
   "cell_type": "markdown",
   "metadata": {
    "id": "S_WBsxorQMud"
   },
   "source": [
    "# Training"
   ]
  },
  {
   "cell_type": "code",
   "execution_count": null,
   "metadata": {
    "id": "GsLmX5DDOPtG"
   },
   "outputs": [],
   "source": [
    "def calculate_discount_rewards(r):\n",
    "    discounted_r = torch.zeros(r.size())\n",
    "    running_add = 0\n",
    "    for t in reversed(range(len(r))):\n",
    "        running_add = running_add * GAMMA + r[t]\n",
    "        discounted_r[t] = running_add\n",
    "\n",
    "    return discounted_r"
   ]
  },
  {
   "cell_type": "code",
   "execution_count": null,
   "metadata": {
    "id": "K0PZDaSGOPv2"
   },
   "outputs": [],
   "source": [
    "def run_episode(net, e, env):\n",
    "    state = env.reset()\n",
    "    reward_sum = 0\n",
    "    xs = FloatTensor([])\n",
    "    ys = FloatTensor([])\n",
    "    rewards = FloatTensor([])\n",
    "    steps = 0\n",
    "\n",
    "    while True:\n",
    "        x = FloatTensor([state])\n",
    "        xs = torch.cat([xs, x])\n",
    "\n",
    "        action_prob = net(Variable(x))\n",
    "\n",
    "        # select an action depends on probability\n",
    "        action = 0 if random.random() < action_prob.data[0][0] else 1\n",
    "\n",
    "        y = FloatTensor([[1, 0]] if action == 0 else [[0, 1]])\n",
    "        ys = torch.cat([ys, y])\n",
    "\n",
    "        state, reward, done, _ = env.step(action)\n",
    "        rewards = torch.cat([rewards, FloatTensor([[reward]])])\n",
    "        reward_sum += reward\n",
    "        steps += 1\n",
    "\n",
    "        if done or steps >= 500:\n",
    "            adv = calculate_discount_rewards(rewards)\n",
    "            adv = (adv - adv.mean())/(adv.std() + 1e-7)\n",
    "            loss = learn(xs, ys, adv)\n",
    "            history.append(reward_sum)\n",
    "            print(\"[Episode {:>5}] reward: {}\".format(e, reward_sum))\n",
    "            if sum(history[-5:])/5 > 490:\n",
    "                return True\n",
    "            else:\n",
    "                return False\n",
    "\n",
    "def learn(x, y, adv):\n",
    "    # calculate probabilities of taking each action\n",
    "    action_pred = model(Variable(x))\n",
    "    y = Variable(y, requires_grad=True)\n",
    "    adv = Variable(adv).cuda()\n",
    "    log_lik = -y * torch.log(action_pred)\n",
    "    log_lik_adv = log_lik * adv\n",
    "    loss = torch.sum(log_lik_adv, 1).mean()\n",
    "\n",
    "    optim.zero_grad()\n",
    "    loss.backward()\n",
    "    optim.step()\n",
    "\n",
    "    return loss.data"
   ]
  },
  {
   "cell_type": "code",
   "execution_count": null,
   "metadata": {
    "colab": {
     "base_uri": "https://localhost:8080/"
    },
    "id": "XX9HhxfAJAzd",
    "outputId": "787afa1d-d25a-4c38-e633-6a6b7b3c48c2"
   },
   "outputs": [
    {
     "name": "stderr",
     "output_type": "stream",
     "text": [
      "/usr/local/lib/python3.7/dist-packages/ipykernel_launcher.py:12: UserWarning: Creating a tensor from a list of numpy.ndarrays is extremely slow. Please consider converting the list to a single numpy.ndarray with numpy.array() before converting to a tensor. (Triggered internally at  ../torch/csrc/utils/tensor_new.cpp:201.)\n",
      "  if sys.path[0] == '':\n",
      "/usr/local/lib/python3.7/dist-packages/ipykernel_launcher.py:8: UserWarning: Implicit dimension choice for softmax has been deprecated. Change the call to include dim=X as an argument.\n",
      "  \n"
     ]
    },
    {
     "name": "stdout",
     "output_type": "stream",
     "text": [
      "[Episode     0] reward: 12.0\n",
      "[Episode     1] reward: 14.0\n",
      "[Episode     2] reward: 31.0\n",
      "[Episode     3] reward: 42.0\n",
      "[Episode     4] reward: 33.0\n",
      "[Episode     5] reward: 25.0\n",
      "[Episode     6] reward: 27.0\n",
      "[Episode     7] reward: 25.0\n",
      "[Episode     8] reward: 33.0\n",
      "[Episode     9] reward: 36.0\n",
      "[Episode    10] reward: 75.0\n",
      "[Episode    11] reward: 50.0\n",
      "[Episode    12] reward: 39.0\n",
      "[Episode    13] reward: 73.0\n",
      "[Episode    14] reward: 31.0\n",
      "[Episode    15] reward: 28.0\n",
      "[Episode    16] reward: 53.0\n",
      "[Episode    17] reward: 83.0\n",
      "[Episode    18] reward: 100.0\n",
      "[Episode    19] reward: 41.0\n",
      "[Episode    20] reward: 103.0\n",
      "[Episode    21] reward: 169.0\n",
      "[Episode    22] reward: 159.0\n",
      "[Episode    23] reward: 56.0\n",
      "[Episode    24] reward: 76.0\n",
      "[Episode    25] reward: 108.0\n",
      "[Episode    26] reward: 34.0\n",
      "[Episode    27] reward: 81.0\n",
      "[Episode    28] reward: 86.0\n",
      "[Episode    29] reward: 272.0\n",
      "[Episode    30] reward: 68.0\n",
      "[Episode    31] reward: 99.0\n",
      "[Episode    32] reward: 47.0\n",
      "[Episode    33] reward: 218.0\n",
      "[Episode    34] reward: 89.0\n",
      "[Episode    35] reward: 89.0\n",
      "[Episode    36] reward: 181.0\n",
      "[Episode    37] reward: 169.0\n",
      "[Episode    38] reward: 120.0\n",
      "[Episode    39] reward: 126.0\n",
      "[Episode    40] reward: 95.0\n",
      "[Episode    41] reward: 72.0\n",
      "[Episode    42] reward: 97.0\n",
      "[Episode    43] reward: 253.0\n",
      "[Episode    44] reward: 68.0\n",
      "[Episode    45] reward: 125.0\n",
      "[Episode    46] reward: 229.0\n",
      "[Episode    47] reward: 99.0\n",
      "[Episode    48] reward: 120.0\n",
      "[Episode    49] reward: 195.0\n",
      "[Episode    50] reward: 337.0\n",
      "[Episode    51] reward: 120.0\n",
      "[Episode    52] reward: 89.0\n",
      "[Episode    53] reward: 73.0\n",
      "[Episode    54] reward: 144.0\n",
      "[Episode    55] reward: 214.0\n",
      "[Episode    56] reward: 197.0\n",
      "[Episode    57] reward: 160.0\n",
      "[Episode    58] reward: 206.0\n",
      "[Episode    59] reward: 133.0\n",
      "[Episode    60] reward: 311.0\n",
      "[Episode    61] reward: 166.0\n",
      "[Episode    62] reward: 222.0\n",
      "[Episode    63] reward: 159.0\n",
      "[Episode    64] reward: 261.0\n",
      "[Episode    65] reward: 224.0\n",
      "[Episode    66] reward: 163.0\n",
      "[Episode    67] reward: 206.0\n",
      "[Episode    68] reward: 135.0\n",
      "[Episode    69] reward: 186.0\n",
      "[Episode    70] reward: 117.0\n",
      "[Episode    71] reward: 148.0\n",
      "[Episode    72] reward: 134.0\n",
      "[Episode    73] reward: 124.0\n",
      "[Episode    74] reward: 38.0\n",
      "[Episode    75] reward: 110.0\n",
      "[Episode    76] reward: 91.0\n",
      "[Episode    77] reward: 104.0\n",
      "[Episode    78] reward: 118.0\n",
      "[Episode    79] reward: 112.0\n",
      "[Episode    80] reward: 160.0\n",
      "[Episode    81] reward: 133.0\n",
      "[Episode    82] reward: 147.0\n",
      "[Episode    83] reward: 154.0\n",
      "[Episode    84] reward: 169.0\n",
      "[Episode    85] reward: 197.0\n",
      "[Episode    86] reward: 180.0\n",
      "[Episode    87] reward: 334.0\n",
      "[Episode    88] reward: 297.0\n",
      "[Episode    89] reward: 92.0\n",
      "[Episode    90] reward: 351.0\n",
      "[Episode    91] reward: 270.0\n",
      "[Episode    92] reward: 254.0\n",
      "[Episode    93] reward: 108.0\n",
      "[Episode    94] reward: 211.0\n",
      "[Episode    95] reward: 320.0\n",
      "[Episode    96] reward: 481.0\n",
      "[Episode    97] reward: 225.0\n",
      "[Episode    98] reward: 234.0\n",
      "[Episode    99] reward: 231.0\n",
      "[Episode   100] reward: 219.0\n",
      "[Episode   101] reward: 173.0\n",
      "[Episode   102] reward: 500.0\n",
      "[Episode   103] reward: 399.0\n",
      "[Episode   104] reward: 255.0\n",
      "[Episode   105] reward: 152.0\n",
      "[Episode   106] reward: 153.0\n",
      "[Episode   107] reward: 148.0\n",
      "[Episode   108] reward: 129.0\n",
      "[Episode   109] reward: 203.0\n",
      "[Episode   110] reward: 127.0\n",
      "[Episode   111] reward: 150.0\n",
      "[Episode   112] reward: 243.0\n",
      "[Episode   113] reward: 255.0\n",
      "[Episode   114] reward: 448.0\n",
      "[Episode   115] reward: 500.0\n",
      "[Episode   116] reward: 170.0\n",
      "[Episode   117] reward: 500.0\n",
      "[Episode   118] reward: 207.0\n",
      "[Episode   119] reward: 255.0\n",
      "[Episode   120] reward: 332.0\n",
      "[Episode   121] reward: 393.0\n",
      "[Episode   122] reward: 500.0\n",
      "[Episode   123] reward: 500.0\n",
      "[Episode   124] reward: 115.0\n",
      "[Episode   125] reward: 387.0\n",
      "[Episode   126] reward: 326.0\n",
      "[Episode   127] reward: 482.0\n",
      "[Episode   128] reward: 500.0\n",
      "[Episode   129] reward: 500.0\n",
      "[Episode   130] reward: 396.0\n",
      "[Episode   131] reward: 500.0\n",
      "[Episode   132] reward: 160.0\n",
      "[Episode   133] reward: 427.0\n",
      "[Episode   134] reward: 500.0\n",
      "[Episode   135] reward: 500.0\n",
      "[Episode   136] reward: 500.0\n",
      "[Episode   137] reward: 500.0\n",
      "[Episode   138] reward: 500.0\n"
     ]
    }
   ],
   "source": [
    "for e in range(10000):\n",
    "    complete = run_episode(model, e, env)\n",
    "\n",
    "    if complete:\n",
    "        break"
   ]
  },
  {
   "cell_type": "markdown",
   "metadata": {
    "id": "vqHNFkteCHwC"
   },
   "source": [
    "# Plotting average reward per episode"
   ]
  },
  {
   "cell_type": "code",
   "execution_count": null,
   "metadata": {
    "colab": {
     "base_uri": "https://localhost:8080/",
     "height": 313
    },
    "id": "1EWFuF1IRAeH",
    "outputId": "bf9727fb-5bcb-42da-91bb-5a28a3798dec"
   },
   "outputs": [
    {
     "data": {
      "text/plain": [
       "[<matplotlib.lines.Line2D at 0x7f1e86f04190>]"
      ]
     },
     "execution_count": 22,
     "metadata": {},
     "output_type": "execute_result"
    },
    {
     "data": {
      "image/png": "[encoded data removed]",
      "text/plain": [
       "<Figure size 432x288 with 1 Axes>"
      ]
     },
     "metadata": {
      "needs_background": "light"
     },
     "output_type": "display_data"
    }
   ],
   "source": [
    "import matplotlib.pyplot as plt\n",
    "\n",
    "plt.figure(2)\n",
    "plt.clf()\n",
    "plt.title('Training - CartPole')\n",
    "plt.xlabel('Episode')\n",
    "plt.ylabel('Avg Reward')\n",
    "plt.plot(history)"
   ]
  }
 ],
 "metadata": {
  "accelerator": "GPU",
  "colab": {
   "collapsed_sections": [],
   "name": "CartPole-v1.ipynb",
   "provenance": []
  },
  "kernelspec": {
   "display_name": "Python 3 (ipykernel)",
   "language": "python",
   "name": "python3"
  },
  "language_info": {
   "codemirror_mode": {
    "name": "ipython",
    "version": 3
   },
   "file_extension": ".py",
   "mimetype": "text/x-python",
   "name": "python",
   "nbconvert_exporter": "python",
   "pygments_lexer": "ipython3",
   "version": "3.9.5"
  }
 },
 "nbformat": 4,
 "nbformat_minor": 1
}
