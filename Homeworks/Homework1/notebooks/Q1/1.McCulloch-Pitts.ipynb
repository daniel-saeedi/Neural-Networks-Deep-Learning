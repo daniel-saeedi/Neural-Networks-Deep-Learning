{
 "cells": [
  {
   "cell_type": "markdown",
   "metadata": {},
   "source": [
    "# Question 1 : McCulloch-Pitts Neuron\n"
   ]
  },
  {
   "cell_type": "markdown",
   "metadata": {},
   "source": [
    "## Task\n",
    "\n",
    "The task is to design a McCulloch-Pitts Neural Network such that it can seperate inside point from outside of this Trapezoid.\n",
    "\n",
    "<img src = \"images/Q1-Trapezoid.png\" width=400 height = 200>"
   ]
  },
  {
   "cell_type": "markdown",
   "metadata": {},
   "source": [
    "## Model Architecture\n",
    "\n",
    "Let's choose $\\Theta = 0$ for the neuron's threshhold.The activation function of each output neuron is :\n",
    "\n",
    "$$ d_{i}(net_{i}) = {sign}(net_{i}) =   \\left\\{\n",
    "\\begin{array}{ll}\n",
    "      1 & net_{i}>\\Theta \\\\\n",
    "      0 & net_{i}=\\Theta \\\\\n",
    "      -1 & net_{i}<\\Theta \\\\\n",
    "\\end{array} \n",
    "\\right.  $$\n",
    "\n",
    "$$net_{i} = {w}_{i1}x + {w}_{i2}y + b_j$$\n",
    "\n",
    "\n",
    "\n",
    "Each output neuron represents one of these lines :\n",
    "\n",
    "$${d}_{1} : {y} - 5{x} - 3 = 0 $$\n",
    "\n",
    "$${d}_{2} : {y}  - 3 = 0 $$\n",
    "\n",
    "$${d}_{3} : {y}  + 2.5{x} - 10.5 = 0 $$\n",
    "\n",
    "$${d}_{4} : {y}  + 2 = 0 $$\n",
    "\n",
    "The weights and biases of each output neuron are adjusted according to their coefficient in the line equation."
   ]
  },
  {
   "cell_type": "markdown",
   "metadata": {},
   "source": [
    "<img src = \"images/Q1-Model.png\">"
   ]
  },
  {
   "cell_type": "markdown",
   "metadata": {},
   "source": [
    "## How to determine whether a 2D Point $A(x,y)$ is within the Trapezoid\n",
    "\n",
    "We know that if the ${net}_{i}$ of each output neuron is greater than 0, that means $A$ is above the line , otherwise it's below the line. If ${net}_{i} = 0$ then A is exactly on line ${d}_{i}$\n",
    "\n",
    "If $A$ is below $d_1,d_2,d_3$ and above $d_4$ then $A$ is inside the Trapezoid. Otherwise it is outside of this area. Thus the output of $d_1,d_2,d_3$ should be less than or equal to 0 and he output of $d_4$ should be greater or equal to 0.\n"
   ]
  },
  {
   "cell_type": "markdown",
   "metadata": {},
   "source": [
    "## Forward Propagation\n",
    "\n",
    "$$\\begin{bmatrix} d_1 \\\\ d_2 \\\\ d_3 \\\\ d_4 \\end{bmatrix}  \n",
    "= {sign}(\\begin{bmatrix} w_{11} && w_{12} \\\\ w_{21} && w_{22} \\\\ w_{31} && w_{32} \\\\ w_{41} && w_{42} \\end{bmatrix}\n",
    "\\begin{bmatrix} x \\\\ y \\end{bmatrix} \n",
    "+ \\begin{bmatrix} b_{1} \\\\ b_{2} \\\\ b_{3} \\\\ b_{4} \\end{bmatrix})$$"
   ]
  },
  {
   "cell_type": "markdown",
   "metadata": {},
   "source": [
    "## Implementation"
   ]
  },
  {
   "cell_type": "code",
   "execution_count": 1,
   "metadata": {},
   "outputs": [],
   "source": [
    "import numpy as np\n",
    "import pandas as pd"
   ]
  },
  {
   "cell_type": "code",
   "execution_count": 2,
   "metadata": {},
   "outputs": [],
   "source": [
    "class NeuralNetwork() :\n",
    "    \n",
    "    def __init__(self, weights, biases, in_features, out_features) :\n",
    "        #Seed\n",
    "        np.random.seed(42)\n",
    "        \n",
    "        self.weights = weights\n",
    "        self.biases = biases\n",
    "        self.in_features = in_features\n",
    "        self.out_features = out_features\n",
    "    \n",
    "    def forward(self, x) :\n",
    "        mult = np.sign(np.matmul(self.weights,x)+self.biases)\n",
    "        \n",
    "        return mult\n",
    "    \n",
    "    \"\"\"\n",
    "    Checks if a the given point is inside or not.\n",
    "    If the point is inside the output is 1 and otherwise 0.\n",
    "    d1 : arr[0]\n",
    "    d2 : arr[1]\n",
    "    d3 : arr[3]\n",
    "    d4 : arr[4]\n",
    "    \"\"\" \n",
    "    def predict(self,x) :\n",
    "        result = []\n",
    "        for point in x :\n",
    "            arr = self.forward(point)\n",
    "            result.append(arr[0] <= 0 and arr[1] <= 0 and arr[2] <= 0 and arr[3] >= 0)\n",
    "        \n",
    "        return result"
   ]
  },
  {
   "cell_type": "code",
   "execution_count": 3,
   "metadata": {},
   "outputs": [],
   "source": [
    "weights = np.array([\n",
    "    [-5,1],\n",
    "    [0,1],\n",
    "    [2.5,1],\n",
    "    [0,1]\n",
    "])\n",
    "biases = [-3,-3,-10.5,2]\n",
    "in_features = 2\n",
    "out_feature = 4"
   ]
  },
  {
   "cell_type": "code",
   "execution_count": 4,
   "metadata": {},
   "outputs": [],
   "source": [
    "model = NeuralNetwork(weights,biases, in_features, out_feature)"
   ]
  },
  {
   "cell_type": "code",
   "execution_count": 5,
   "metadata": {},
   "outputs": [
    {
     "data": {
      "text/plain": [
       "[False, True]"
      ]
     },
     "execution_count": 5,
     "metadata": {},
     "output_type": "execute_result"
    }
   ],
   "source": [
    "sample_point = [\n",
    "    [10,10],\n",
    "    [2,2]\n",
    "]\n",
    "\n",
    "model.predict(np.array(sample_point))"
   ]
  },
  {
   "cell_type": "code",
   "execution_count": 6,
   "metadata": {},
   "outputs": [
    {
     "name": "stdout",
     "output_type": "stream",
     "text": [
      "[[-5.   1. ]\n",
      " [ 0.   1. ]\n",
      " [ 2.5  1. ]\n",
      " [ 0.   1. ]]\n"
     ]
    }
   ],
   "source": [
    "print(weights)"
   ]
  },
  {
   "cell_type": "code",
   "execution_count": 7,
   "metadata": {},
   "outputs": [
    {
     "name": "stdout",
     "output_type": "stream",
     "text": [
      "[-3, -3, -10.5, 2]\n"
     ]
    }
   ],
   "source": [
    "print(biases)"
   ]
  }
 ],
 "metadata": {
  "interpreter": {
   "hash": "c4743f3265159d618cbfb7986907cf5d87d97b4cb2417375c3879348497beb2d"
  },
  "kernelspec": {
   "display_name": "Python 3.9.5 64-bit ('base': conda)",
   "name": "python3"
  },
  "language_info": {
   "codemirror_mode": {
    "name": "ipython",
    "version": 3
   },
   "file_extension": ".py",
   "mimetype": "text/x-python",
   "name": "python",
   "nbconvert_exporter": "python",
   "pygments_lexer": "ipython3",
   "version": "3.9.5"
  }
 },
 "nbformat": 4,
 "nbformat_minor": 2
}
