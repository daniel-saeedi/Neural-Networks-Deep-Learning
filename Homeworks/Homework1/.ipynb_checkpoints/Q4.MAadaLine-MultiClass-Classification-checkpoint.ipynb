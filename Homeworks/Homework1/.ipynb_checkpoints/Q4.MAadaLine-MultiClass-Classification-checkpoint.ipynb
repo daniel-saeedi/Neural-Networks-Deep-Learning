{
 "cells": [
  {
   "cell_type": "markdown",
   "id": "bc5114dd",
   "metadata": {},
   "source": [
    "# MAdaLine\n",
    "In MRI Algorithm only the weights and biases for the hidden AdaLines are adjusted. The weights for the output unit are fixed.\n",
    "<img src=\"images/Q4-LearningAlgorithm-Pt1.png\">\n",
    "<img src=\"images/Q4-LearningAlgorithm-Pt2.png\">"
   ]
  },
  {
   "cell_type": "markdown",
   "id": "080db87b",
   "metadata": {},
   "source": [
    "## Model Architecture\n",
    "\n",
    "The input of our neuron is x and y so we need 2 neurons as input. And we need 6 lines to separate 3 different regions thus we need 6 neurons in the hidden layer. There are 3 distinctive classes we should classify so we need 2 output neurons.\n",
    "\n",
    "<img src=\"images/Q4-ModelArch.png\" width = 500>\n",
    "\n",
    "The boolean function of neuron A and B is:\n",
    "\n",
    "$f_{A}(h_1,h_2,h_3) = \\overline{h_1}.\\overline{h_2}.{h_3} \\$\n",
    "\n",
    "$f_{B}(h_4,h_5,h_6) = \\overline{h_6}.\\overline{h_7}.{h_8} \\$\n",
    "\n",
    "The weights and biases of these two output neurons are learned separately using AdaLine's Learning Algorithm."
   ]
  },
  {
   "cell_type": "markdown",
   "id": "f7ab0ec8",
   "metadata": {},
   "source": [
    "## Making the Dataset"
   ]
  },
  {
   "cell_type": "code",
   "execution_count": 418,
   "id": "005dd66a",
   "metadata": {},
   "outputs": [],
   "source": [
    "def make_points(x_mean,x_sd,y_mean,y_sd,size):\n",
    "    x1 = np.random.normal(x_mean, x_sd, size).reshape(-1,1)\n",
    "    y1 = np.random.normal(y_mean, y_sd, size).reshape(-1,1)\n",
    "    d = pd.DataFrame(np.concatenate((x1, y1), axis=1), columns=['x','y'])\n",
    "    return d\n",
    "\n",
    "A = make_points(3,0.5,0,0.5,100)\n",
    "A['label'] = 'A'\n",
    "B = make_points(0,0.5,0,0.5,100)\n",
    "B['label'] = 'B'"
   ]
  },
  {
   "cell_type": "code",
   "execution_count": 419,
   "id": "3ecd775c",
   "metadata": {},
   "outputs": [],
   "source": [
    "import math\n",
    "from matplotlib import pyplot as plt\n",
    "from random import random\n",
    "\n",
    "\n",
    "from math import sin, cos, radians, pi, sqrt\n",
    "\n",
    "def meteorites():\n",
    "    angle = uniform(0, 2 * pi)  # in radians\n",
    "    distance = sqrt(uniform(16, 36))\n",
    "    return distance * cos(angle), distance * sin(angle)\n",
    "\n",
    "x = np.zeros(250)\n",
    "y = np.zeros(250)\n",
    "for i in range(250):\n",
    "    x[i], y[i] = meteorites()\n",
    "    x[i] += 1.5\n",
    "#     y[i] += 5\n",
    "\n",
    "C = pd.DataFrame(np.concatenate((x.reshape(-1,1), y.reshape(-1,1)), axis=1), columns=['x','y'])\n",
    "C['label'] = 'C'\n",
    "\n",
    "df = pd.concat([C,A,B], axis = 0)"
   ]
  },
  {
   "cell_type": "code",
   "execution_count": 420,
   "id": "a5adef10",
   "metadata": {},
   "outputs": [
    {
     "data": {
      "text/html": [
       "<div>\n",
       "<style scoped>\n",
       "    .dataframe tbody tr th:only-of-type {\n",
       "        vertical-align: middle;\n",
       "    }\n",
       "\n",
       "    .dataframe tbody tr th {\n",
       "        vertical-align: top;\n",
       "    }\n",
       "\n",
       "    .dataframe thead th {\n",
       "        text-align: right;\n",
       "    }\n",
       "</style>\n",
       "<table border=\"1\" class=\"dataframe\">\n",
       "  <thead>\n",
       "    <tr style=\"text-align: right;\">\n",
       "      <th></th>\n",
       "      <th>x</th>\n",
       "      <th>y</th>\n",
       "      <th>label</th>\n",
       "      <th>A</th>\n",
       "      <th>B</th>\n",
       "    </tr>\n",
       "  </thead>\n",
       "  <tbody>\n",
       "    <tr>\n",
       "      <th>0</th>\n",
       "      <td>1.411592</td>\n",
       "      <td>-5.146570</td>\n",
       "      <td>C</td>\n",
       "      <td>0</td>\n",
       "      <td>0</td>\n",
       "    </tr>\n",
       "    <tr>\n",
       "      <th>1</th>\n",
       "      <td>6.472254</td>\n",
       "      <td>-1.458280</td>\n",
       "      <td>C</td>\n",
       "      <td>0</td>\n",
       "      <td>0</td>\n",
       "    </tr>\n",
       "    <tr>\n",
       "      <th>2</th>\n",
       "      <td>1.051115</td>\n",
       "      <td>-5.320839</td>\n",
       "      <td>C</td>\n",
       "      <td>0</td>\n",
       "      <td>0</td>\n",
       "    </tr>\n",
       "    <tr>\n",
       "      <th>3</th>\n",
       "      <td>3.361074</td>\n",
       "      <td>5.279037</td>\n",
       "      <td>C</td>\n",
       "      <td>0</td>\n",
       "      <td>0</td>\n",
       "    </tr>\n",
       "    <tr>\n",
       "      <th>4</th>\n",
       "      <td>4.143921</td>\n",
       "      <td>5.300881</td>\n",
       "      <td>C</td>\n",
       "      <td>0</td>\n",
       "      <td>0</td>\n",
       "    </tr>\n",
       "    <tr>\n",
       "      <th>...</th>\n",
       "      <td>...</td>\n",
       "      <td>...</td>\n",
       "      <td>...</td>\n",
       "      <td>...</td>\n",
       "      <td>...</td>\n",
       "    </tr>\n",
       "    <tr>\n",
       "      <th>95</th>\n",
       "      <td>-0.506803</td>\n",
       "      <td>-0.275838</td>\n",
       "      <td>B</td>\n",
       "      <td>0</td>\n",
       "      <td>1</td>\n",
       "    </tr>\n",
       "    <tr>\n",
       "      <th>96</th>\n",
       "      <td>-0.314797</td>\n",
       "      <td>-0.933123</td>\n",
       "      <td>B</td>\n",
       "      <td>0</td>\n",
       "      <td>1</td>\n",
       "    </tr>\n",
       "    <tr>\n",
       "      <th>97</th>\n",
       "      <td>-0.616295</td>\n",
       "      <td>-0.380142</td>\n",
       "      <td>B</td>\n",
       "      <td>0</td>\n",
       "      <td>1</td>\n",
       "    </tr>\n",
       "    <tr>\n",
       "      <th>98</th>\n",
       "      <td>0.214406</td>\n",
       "      <td>0.864650</td>\n",
       "      <td>B</td>\n",
       "      <td>0</td>\n",
       "      <td>1</td>\n",
       "    </tr>\n",
       "    <tr>\n",
       "      <th>99</th>\n",
       "      <td>-0.728023</td>\n",
       "      <td>-0.745540</td>\n",
       "      <td>B</td>\n",
       "      <td>0</td>\n",
       "      <td>1</td>\n",
       "    </tr>\n",
       "  </tbody>\n",
       "</table>\n",
       "<p>450 rows × 5 columns</p>\n",
       "</div>"
      ],
      "text/plain": [
       "           x         y label  A  B\n",
       "0   1.411592 -5.146570     C  0  0\n",
       "1   6.472254 -1.458280     C  0  0\n",
       "2   1.051115 -5.320839     C  0  0\n",
       "3   3.361074  5.279037     C  0  0\n",
       "4   4.143921  5.300881     C  0  0\n",
       "..       ...       ...   ... .. ..\n",
       "95 -0.506803 -0.275838     B  0  1\n",
       "96 -0.314797 -0.933123     B  0  1\n",
       "97 -0.616295 -0.380142     B  0  1\n",
       "98  0.214406  0.864650     B  0  1\n",
       "99 -0.728023 -0.745540     B  0  1\n",
       "\n",
       "[450 rows x 5 columns]"
      ]
     },
     "execution_count": 420,
     "metadata": {},
     "output_type": "execute_result"
    }
   ],
   "source": [
    "onehot_encoding = pd.get_dummies(df['label'])\n",
    "df = pd.concat([df,onehot_encoding], axis = 1).drop('C',axis = 1)\n",
    "\n",
    "df"
   ]
  },
  {
   "cell_type": "markdown",
   "id": "e8d0330d",
   "metadata": {},
   "source": [
    "### Plotting the Dataset"
   ]
  },
  {
   "cell_type": "code",
   "execution_count": 384,
   "id": "aed67f91",
   "metadata": {},
   "outputs": [],
   "source": [
    "import seaborn as sns\n",
    "import matplotlib.pyplot as plt"
   ]
  },
  {
   "cell_type": "code",
   "execution_count": 385,
   "id": "0ef6334d",
   "metadata": {},
   "outputs": [
    {
     "data": {
      "image/png": "[encoded data removed]",
      "text/plain": [
       "<Figure size 402.875x360 with 1 Axes>"
      ]
     },
     "metadata": {
      "needs_background": "light"
     },
     "output_type": "display_data"
    }
   ],
   "source": [
    "sns.relplot(x=\"x\", y=\"y\", hue=\"label\", data=df);"
   ]
  },
  {
   "cell_type": "markdown",
   "id": "c66a5fe7",
   "metadata": {},
   "source": [
    "# Calculating the output weights & biases"
   ]
  },
  {
   "cell_type": "code",
   "execution_count": 1,
   "id": "d788273c",
   "metadata": {},
   "outputs": [],
   "source": [
    "import numpy as np\n",
    "import pandas as pd\n",
    "class AdaLineNetwork() :\n",
    "    \n",
    "    def __init__(self, in_features, out_features, seed = 42) :\n",
    "        #Seed\n",
    "        np.random.seed(seed)\n",
    "\n",
    "        self.in_features = in_features\n",
    "        self.out_features = out_features\n",
    "        # Initialize Weights & Biases\n",
    "        self.init_wad()\n",
    "        \n",
    "    # Initialize Weights & Biases\n",
    "    def init_wad(self) :\n",
    "        self.weights = np.random.uniform(low=-1, high=1, size=(self.in_features*self.out_features,)).reshape(self.out_features,-1)\n",
    "        self.biases = np.random.uniform(low=-1, high=1, size=(self.out_features,))\n",
    "        \n",
    "        #Learning Rate\n",
    "        self.lr = 0.1\n",
    "        \n",
    "    def h(self,num) :\n",
    "        if num >= 0 :\n",
    "            return 1\n",
    "        else :\n",
    "            return -1\n",
    "    def forward(self, x) :\n",
    "        net = np.matmul(self.weights,x)+self.biases\n",
    "        prediction = pd.Series(np.matmul(self.weights,x)+self.biases)\n",
    "        prediction = prediction.apply(self.h).values\n",
    "        return prediction,net\n",
    "    \n",
    "    def backward(self,t, net, xi) :\n",
    "        self.weights = self.weights + self.lr*(t-net)*xi\n",
    "        self.biases = self.biases + self.lr*(t-net)\n",
    "        \n",
    "    def train(self,df,epochs = 1) :\n",
    "        error_per_epoch = []\n",
    "        for epoch in range(0,epochs):\n",
    "            # Evaluate\n",
    "            error_per_epoch.append(self.evaluate(df))\n",
    "            \n",
    "            for index, row in df.iterrows():\n",
    "                # Forward Propagation\n",
    "                prediction,net = self.forward(row.drop('label').values)\n",
    "                # Backpropagation\n",
    "                self.backward(row['label'],net,row.drop('label').values)\n",
    "        \n",
    "        return error_per_epoch\n",
    "                \n",
    "    def calc_error(self,target,net) :\n",
    "        return (np.square(target-net)/2)\n",
    "    \n",
    "    def evaluate(self,df) :\n",
    "        error = 0\n",
    "        for index, row in df.iterrows():\n",
    "            #Forward Propagation\n",
    "            t,net = self.forward(row.drop('label').values)\n",
    "            error += model.calc_error(t,net)[0]\n",
    "        \n",
    "        return error\n",
    "    \n",
    "    def predict(self,df) :\n",
    "        result = []\n",
    "        for index, row in df.iterrows() :\n",
    "            target,net =  self.forward(row.drop('label').values)\n",
    "            result.append(target[0])\n",
    "        \n",
    "        return result\n",
    "            "
   ]
  },
  {
   "cell_type": "code",
   "execution_count": 2,
   "id": "e7c75ae6",
   "metadata": {},
   "outputs": [
    {
     "name": "stdout",
     "output_type": "stream",
     "text": [
      "[[-0.25091976  0.90142861  0.46398788]]\n",
      "[0.19731697]\n"
     ]
    }
   ],
   "source": [
    "in_features = 3\n",
    "out_features = 1\n",
    "model = AdaLineNetwork(in_features, out_features)\n",
    "print(model.weights)\n",
    "print(model.biases)"
   ]
  },
  {
   "cell_type": "code",
   "execution_count": 3,
   "id": "8208a23b",
   "metadata": {},
   "outputs": [
    {
     "data": {
      "text/html": [
       "<div>\n",
       "<style scoped>\n",
       "    .dataframe tbody tr th:only-of-type {\n",
       "        vertical-align: middle;\n",
       "    }\n",
       "\n",
       "    .dataframe tbody tr th {\n",
       "        vertical-align: top;\n",
       "    }\n",
       "\n",
       "    .dataframe thead th {\n",
       "        text-align: right;\n",
       "    }\n",
       "</style>\n",
       "<table border=\"1\" class=\"dataframe\">\n",
       "  <thead>\n",
       "    <tr style=\"text-align: right;\">\n",
       "      <th></th>\n",
       "      <th>x</th>\n",
       "      <th>y</th>\n",
       "      <th>z</th>\n",
       "      <th>label</th>\n",
       "    </tr>\n",
       "  </thead>\n",
       "  <tbody>\n",
       "    <tr>\n",
       "      <th>0</th>\n",
       "      <td>1</td>\n",
       "      <td>1</td>\n",
       "      <td>1</td>\n",
       "      <td>-1</td>\n",
       "    </tr>\n",
       "    <tr>\n",
       "      <th>1</th>\n",
       "      <td>1</td>\n",
       "      <td>1</td>\n",
       "      <td>-1</td>\n",
       "      <td>-1</td>\n",
       "    </tr>\n",
       "    <tr>\n",
       "      <th>2</th>\n",
       "      <td>1</td>\n",
       "      <td>-1</td>\n",
       "      <td>1</td>\n",
       "      <td>-1</td>\n",
       "    </tr>\n",
       "    <tr>\n",
       "      <th>3</th>\n",
       "      <td>1</td>\n",
       "      <td>-1</td>\n",
       "      <td>-1</td>\n",
       "      <td>-1</td>\n",
       "    </tr>\n",
       "    <tr>\n",
       "      <th>4</th>\n",
       "      <td>-1</td>\n",
       "      <td>1</td>\n",
       "      <td>1</td>\n",
       "      <td>-1</td>\n",
       "    </tr>\n",
       "    <tr>\n",
       "      <th>5</th>\n",
       "      <td>-1</td>\n",
       "      <td>1</td>\n",
       "      <td>-1</td>\n",
       "      <td>-1</td>\n",
       "    </tr>\n",
       "    <tr>\n",
       "      <th>6</th>\n",
       "      <td>-1</td>\n",
       "      <td>-1</td>\n",
       "      <td>1</td>\n",
       "      <td>1</td>\n",
       "    </tr>\n",
       "    <tr>\n",
       "      <th>7</th>\n",
       "      <td>-1</td>\n",
       "      <td>-1</td>\n",
       "      <td>-1</td>\n",
       "      <td>-1</td>\n",
       "    </tr>\n",
       "  </tbody>\n",
       "</table>\n",
       "</div>"
      ],
      "text/plain": [
       "   x  y  z  label\n",
       "0  1  1  1     -1\n",
       "1  1  1 -1     -1\n",
       "2  1 -1  1     -1\n",
       "3  1 -1 -1     -1\n",
       "4 -1  1  1     -1\n",
       "5 -1  1 -1     -1\n",
       "6 -1 -1  1      1\n",
       "7 -1 -1 -1     -1"
      ]
     },
     "execution_count": 3,
     "metadata": {},
     "output_type": "execute_result"
    }
   ],
   "source": [
    "df = pd.read_csv('CustomGate.csv')\n",
    "df"
   ]
  },
  {
   "cell_type": "code",
   "execution_count": 4,
   "id": "22a075dc",
   "metadata": {},
   "outputs": [],
   "source": [
    "epochs_ = 50\n",
    "loss_per_epoch = model.train(df, epochs = epochs_)"
   ]
  },
  {
   "cell_type": "code",
   "execution_count": 14,
   "id": "3fc2fe82",
   "metadata": {},
   "outputs": [
    {
     "name": "stdout",
     "output_type": "stream",
     "text": [
      "[[-0.24242424 -0.27367424  0.35132576]]\n",
      "[-0.75]\n"
     ]
    }
   ],
   "source": [
    "output_weights = model.weights\n",
    "output_bias = model.biases\n",
    "print(model.weights)\n",
    "print(model.biases)"
   ]
  },
  {
   "cell_type": "code",
   "execution_count": 9,
   "id": "9460c437",
   "metadata": {},
   "outputs": [
    {
     "name": "stdout",
     "output_type": "stream",
     "text": [
      "              precision    recall  f1-score   support\n",
      "\n",
      "          -1       1.00      1.00      1.00         7\n",
      "           1       1.00      1.00      1.00         1\n",
      "\n",
      "    accuracy                           1.00         8\n",
      "   macro avg       1.00      1.00      1.00         8\n",
      "weighted avg       1.00      1.00      1.00         8\n",
      "\n"
     ]
    }
   ],
   "source": [
    "from sklearn.metrics import classification_report\n",
    "y_pred = model.predict(df)\n",
    "y_true = df['label'].values\n",
    "print(classification_report(y_true, y_pred, labels=[-1,1]))"
   ]
  },
  {
   "cell_type": "markdown",
   "id": "60318ac7",
   "metadata": {},
   "source": [
    "## MAdaLine Implementation"
   ]
  },
  {
   "cell_type": "code",
   "execution_count": 312,
   "id": "30d1b35c",
   "metadata": {},
   "outputs": [],
   "source": [
    "class AdaLine() :\n",
    "    \n",
    "    def __init__(self, in_features, out_features,weights = None,biases = None, seed = 42) :\n",
    "        #Seed\n",
    "        np.random.seed(seed)\n",
    "\n",
    "        self.in_features = in_features\n",
    "        self.out_features = out_features\n",
    "        # Initialize Weights & Biases\n",
    "        if weights is None:\n",
    "            self.init_wad()\n",
    "        else :\n",
    "            self.weights = weights\n",
    "            self.biases = biases\n",
    "            \n",
    "    def h(self,num) :\n",
    "        if num >= 0 :\n",
    "            return 1\n",
    "        else :\n",
    "            return -1\n",
    "    # Initialize Weights & Biases\n",
    "    def init_wad(self) :\n",
    "        self.weights = np.random.uniform(low=-1, high=1, size=(self.in_features*self.out_features)).reshape(-1,out_features)\n",
    "        self.biases = np.random.uniform(low=-1, high=1, size=(self.out_features,)).reshape(-1,1)\n",
    "\n",
    "        #Learning Rate\n",
    "        self.lr = 0.1\n",
    "    \n",
    "    def forward(self, x) :\n",
    "        net = np.matmul(self.weights,x)+self.biases\n",
    "        prediction = pd.Series(net.flatten())\n",
    "        prediction = prediction.apply(self.h).values.reshape(-1,1)\n",
    "        return prediction,net"
   ]
  },
  {
   "cell_type": "code",
   "execution_count": 313,
   "id": "26761fc9",
   "metadata": {},
   "outputs": [],
   "source": [
    "import numpy as np\n",
    "import pandas as pd\n",
    "class MAdaLineNetwork() :\n",
    "    \n",
    "    def __init__(self, in_features,hidden_neurons, out_features,output_weights,output_biases, seed = 42) :\n",
    "        #Seed\n",
    "        np.random.seed(seed)\n",
    "\n",
    "        self.in_features = in_features\n",
    "        self.hidden_neurons = hidden_neurons\n",
    "        self.out_features = out_features\n",
    "        self.output_weights = output_weights\n",
    "        self.output_biases = output_biases\n",
    "        \n",
    "        self.first_layer = AdaLine(in_features,hidden_neurons)\n",
    "        self.last_layer = AdaLine(hidden_neurons,out_features,output_weights,output_biases)\n",
    "    \n",
    "    \n",
    "    def forward(self,x) :\n",
    "        predictions, net = madaline_model.first_layer.forward(x)\n",
    "\n",
    "        return madaline_model.last_layer.forward(predictions.reshape(-1,1))\n"
   ]
  },
  {
   "cell_type": "code",
   "execution_count": 314,
   "id": "172ce23e",
   "metadata": {},
   "outputs": [],
   "source": [
    "in_features = 2\n",
    "hidden_neurons = 6\n",
    "out_features = 2\n",
    "output_weights_ = np.concatenate((np.concatenate((output_weights,np.array([0,0,0]).reshape(1, 3)), axis=1), np.concatenate((np.array([0,0,0]).reshape(1, 3), output_weights), axis=1)), axis=0).reshape(-1,6)\n",
    "output_biases_ = np.concatenate((output_bias, output_bias), axis=0).reshape(-1,1)\n",
    "madaline_model = MAdaLineNetwork(in_features,hidden_neurons, out_features,output_weights_,output_biases_)"
   ]
  },
  {
   "cell_type": "code",
   "execution_count": 315,
   "id": "200e5447",
   "metadata": {},
   "outputs": [
    {
     "data": {
      "text/plain": [
       "(array([[-1],\n",
       "        [-1]]),\n",
       " array([[-1.61742424],\n",
       "        [-0.42992424]]))"
      ]
     },
     "execution_count": 315,
     "metadata": {},
     "output_type": "execute_result"
    }
   ],
   "source": [
    "madaline_model.forward(np.array([1,2]).reshape(-1,1))"
   ]
  },
  {
   "cell_type": "code",
   "execution_count": 310,
   "id": "ffc5958b",
   "metadata": {},
   "outputs": [
    {
     "data": {
      "text/plain": [
       "array([[ 1],\n",
       "       [ 1],\n",
       "       [-1],\n",
       "       [-1],\n",
       "       [ 1],\n",
       "       [ 1]])"
      ]
     },
     "execution_count": 310,
     "metadata": {},
     "output_type": "execute_result"
    }
   ],
   "source": [
    "predictions"
   ]
  },
  {
   "cell_type": "code",
   "execution_count": 307,
   "id": "fb8aebf2",
   "metadata": {},
   "outputs": [
    {
     "data": {
      "text/plain": [
       "array([[-0.24242424, -0.27367424,  0.35132576,  0.        ,  0.        ,\n",
       "         0.        ],\n",
       "       [ 0.        ,  0.        ,  0.        , -0.24242424, -0.27367424,\n",
       "         0.35132576]])"
      ]
     },
     "execution_count": 307,
     "metadata": {},
     "output_type": "execute_result"
    }
   ],
   "source": []
  },
  {
   "cell_type": "code",
   "execution_count": null,
   "id": "30f72349",
   "metadata": {},
   "outputs": [],
   "source": []
  },
  {
   "cell_type": "code",
   "execution_count": null,
   "id": "c7cd7287",
   "metadata": {},
   "outputs": [],
   "source": []
  }
 ],
 "metadata": {
  "kernelspec": {
   "display_name": "Python 3 (ipykernel)",
   "language": "python",
   "name": "python3"
  },
  "language_info": {
   "codemirror_mode": {
    "name": "ipython",
    "version": 3
   },
   "file_extension": ".py",
   "mimetype": "text/x-python",
   "name": "python",
   "nbconvert_exporter": "python",
   "pygments_lexer": "ipython3",
   "version": "3.9.5"
  }
 },
 "nbformat": 4,
 "nbformat_minor": 5
}
