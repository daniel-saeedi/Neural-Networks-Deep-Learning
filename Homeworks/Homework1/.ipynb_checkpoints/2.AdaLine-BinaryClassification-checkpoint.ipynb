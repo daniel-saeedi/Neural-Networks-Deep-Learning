{
 "cells": [
  {
   "cell_type": "markdown",
   "metadata": {},
   "source": [
    "# Question 2 : Binary Classification Using AdaLine Algorithm\n",
    "\n",
    "\n",
    "<ul>\n",
    "<li>The first category has 100 (x,y) points such that $x \\sim \\mathcal{N}(\\mu = 2,\\,\\sigma^{2} = 0.25)\\, \n",
    "$ and $y \\sim \\mathcal{N}(\\mu = 0,\\,\\sigma^{2} = 0.04)\\,$.</li>\n",
    "<li>The second category has 30 (x,y) points such that $x \\sim \\mathcal{N}(\\mu = 0,\\,\\sigma^{2} = 0.01)\\, \n",
    "$ and $y \\sim \\mathcal{N}(\\mu = 1,\\,\\sigma^{2} = 0.49)\\,$.</li>\n",
    "</ul>\n",
    "\n",
    "\n",
    "## Tasks\n",
    "\n",
    "<ul>\n",
    "<li>Part A : Train the Neural Network using AdaLine Algorithm that can seperate these two categories. Plot the changes in the error ${(t-net)}^{2}/2$.</li>\n",
    "<li>Part B : Is AdaLine Algorithm good for seperating the two categories? If not, give a better solution.</li>\n",
    "</ul>\n",
    "\n",
    "## Adaptive Linear Unit (AdaLine)\n",
    "\n",
    "<img src=\"images/Q2-AdaLineArch.png\" width = 800>\n",
    "\n",
    "## Learning Algorithm for AdaLine\n",
    "\n",
    "<img src=\"images/Q2-LearningRule.png\" width = 800>\n",
    "<img src=\"images/Q2-LearningAlgorithm.png\" width = 800>"
   ]
  },
  {
   "cell_type": "markdown",
   "metadata": {},
   "source": [
    "## Making the Data"
   ]
  },
  {
   "cell_type": "code",
   "execution_count": 6,
   "metadata": {},
   "outputs": [],
   "source": [
    "import numpy as np\n",
    "import pandas as pd"
   ]
  },
  {
   "cell_type": "code",
   "execution_count": 7,
   "metadata": {},
   "outputs": [],
   "source": [
    "x1 = np.random.normal(2, 0.5, 100).reshape(-1,1)\n",
    "y1 = np.random.normal(0, 0.2, 100).reshape(-1,1)\n",
    "A = pd.DataFrame(np.concatenate((x1, y1), axis=1), columns=['x','y'])\n",
    "A['label'] = -1\n",
    "\n",
    "x2 = np.random.normal(0, 0.1, 30).reshape(-1,1)\n",
    "y2 = np.random.normal(1, 0.7, 30).reshape(-1,1)\n",
    "B = pd.DataFrame(np.concatenate((x2, y2), axis=1), columns=['x','y'])\n",
    "B['label'] = 1\n",
    "\n",
    "df = pd.concat([A,B], axis = 0)"
   ]
  },
  {
   "cell_type": "code",
   "execution_count": 8,
   "metadata": {
    "scrolled": false
   },
   "outputs": [
    {
     "data": {
      "text/html": [
       "<div>\n",
       "<style scoped>\n",
       "    .dataframe tbody tr th:only-of-type {\n",
       "        vertical-align: middle;\n",
       "    }\n",
       "\n",
       "    .dataframe tbody tr th {\n",
       "        vertical-align: top;\n",
       "    }\n",
       "\n",
       "    .dataframe thead th {\n",
       "        text-align: right;\n",
       "    }\n",
       "</style>\n",
       "<table border=\"1\" class=\"dataframe\">\n",
       "  <thead>\n",
       "    <tr style=\"text-align: right;\">\n",
       "      <th></th>\n",
       "      <th>x</th>\n",
       "      <th>y</th>\n",
       "      <th>label</th>\n",
       "    </tr>\n",
       "  </thead>\n",
       "  <tbody>\n",
       "    <tr>\n",
       "      <th>0</th>\n",
       "      <td>2.030404</td>\n",
       "      <td>0.277359</td>\n",
       "      <td>-1</td>\n",
       "    </tr>\n",
       "    <tr>\n",
       "      <th>1</th>\n",
       "      <td>2.070208</td>\n",
       "      <td>0.272975</td>\n",
       "      <td>-1</td>\n",
       "    </tr>\n",
       "    <tr>\n",
       "      <th>2</th>\n",
       "      <td>1.333752</td>\n",
       "      <td>0.070443</td>\n",
       "      <td>-1</td>\n",
       "    </tr>\n",
       "    <tr>\n",
       "      <th>3</th>\n",
       "      <td>1.837370</td>\n",
       "      <td>0.352296</td>\n",
       "      <td>-1</td>\n",
       "    </tr>\n",
       "    <tr>\n",
       "      <th>4</th>\n",
       "      <td>1.739539</td>\n",
       "      <td>-0.101535</td>\n",
       "      <td>-1</td>\n",
       "    </tr>\n",
       "    <tr>\n",
       "      <th>...</th>\n",
       "      <td>...</td>\n",
       "      <td>...</td>\n",
       "      <td>...</td>\n",
       "    </tr>\n",
       "    <tr>\n",
       "      <th>25</th>\n",
       "      <td>-0.030671</td>\n",
       "      <td>1.288661</td>\n",
       "      <td>1</td>\n",
       "    </tr>\n",
       "    <tr>\n",
       "      <th>26</th>\n",
       "      <td>-0.127213</td>\n",
       "      <td>1.278229</td>\n",
       "      <td>1</td>\n",
       "    </tr>\n",
       "    <tr>\n",
       "      <th>27</th>\n",
       "      <td>-0.059562</td>\n",
       "      <td>1.759708</td>\n",
       "      <td>1</td>\n",
       "    </tr>\n",
       "    <tr>\n",
       "      <th>28</th>\n",
       "      <td>-0.236098</td>\n",
       "      <td>-0.150768</td>\n",
       "      <td>1</td>\n",
       "    </tr>\n",
       "    <tr>\n",
       "      <th>29</th>\n",
       "      <td>0.030512</td>\n",
       "      <td>-0.293189</td>\n",
       "      <td>1</td>\n",
       "    </tr>\n",
       "  </tbody>\n",
       "</table>\n",
       "<p>130 rows × 3 columns</p>\n",
       "</div>"
      ],
      "text/plain": [
       "           x         y  label\n",
       "0   2.030404  0.277359     -1\n",
       "1   2.070208  0.272975     -1\n",
       "2   1.333752  0.070443     -1\n",
       "3   1.837370  0.352296     -1\n",
       "4   1.739539 -0.101535     -1\n",
       "..       ...       ...    ...\n",
       "25 -0.030671  1.288661      1\n",
       "26 -0.127213  1.278229      1\n",
       "27 -0.059562  1.759708      1\n",
       "28 -0.236098 -0.150768      1\n",
       "29  0.030512 -0.293189      1\n",
       "\n",
       "[130 rows x 3 columns]"
      ]
     },
     "execution_count": 8,
     "metadata": {},
     "output_type": "execute_result"
    }
   ],
   "source": [
    "df"
   ]
  },
  {
   "cell_type": "markdown",
   "metadata": {},
   "source": [
    "## Plotting the Dataset"
   ]
  },
  {
   "cell_type": "code",
   "execution_count": 9,
   "metadata": {},
   "outputs": [],
   "source": [
    "import seaborn as sns\n",
    "import matplotlib.pyplot as plt"
   ]
  },
  {
   "cell_type": "code",
   "execution_count": 10,
   "metadata": {},
   "outputs": [
    {
     "data": {
      "image/png": "[encoded data removed]",
      "text/plain": [
       "<Figure size 406x360 with 1 Axes>"
      ]
     },
     "metadata": {
      "needs_background": "light"
     },
     "output_type": "display_data"
    }
   ],
   "source": [
    "sns.relplot(x=\"x\", y=\"y\", hue=\"label\", data=df);"
   ]
  },
  {
   "cell_type": "markdown",
   "metadata": {},
   "source": [
    "As you can see, these 2 categories are linearly separable."
   ]
  },
  {
   "cell_type": "markdown",
   "metadata": {},
   "source": [
    "## Implementation"
   ]
  },
  {
   "cell_type": "code",
   "execution_count": 58,
   "metadata": {},
   "outputs": [],
   "source": [
    "class AdaLineNetwork() :\n",
    "    \n",
    "    def __init__(self, in_features, out_features, seed = 42) :\n",
    "        #Seed\n",
    "        np.random.seed(seed)\n",
    "\n",
    "        self.in_features = in_features\n",
    "        self.out_features = out_features\n",
    "        # Initialize Weights & Biases\n",
    "        self.init_wad()\n",
    "        \n",
    "    # Initialize Weights & Biases\n",
    "    def init_wad(self) :\n",
    "        self.weights = np.random.uniform(low=-1, high=1, size=(in_features*out_features,)).reshape(out_features,-1)\n",
    "        self.biases = np.random.uniform(low=-1, high=1, size=(out_features,))\n",
    "        \n",
    "        #Learning Rate\n",
    "        self.lr = 0.01\n",
    "        \n",
    "    def h(self,num) :\n",
    "        if num >= 0 :\n",
    "            return 1\n",
    "        else :\n",
    "            return -1\n",
    "    def forward(self, x) :\n",
    "        net = np.matmul(self.weights,x)+self.biases\n",
    "        prediction = pd.Series(np.matmul(self.weights,x)+self.biases)\n",
    "        prediction = prediction.apply(self.h).values\n",
    "        return prediction,net\n",
    "    \n",
    "    def backward(self,t, net, xi) :\n",
    "        self.weights = self.weights + self.lr*(t-net)*xi\n",
    "        self.biases = self.biases + self.lr*(t-net)\n",
    "        \n",
    "    def train(self,df,epochs = 1) :\n",
    "        error_per_epoch = []\n",
    "        for epoch in range(0,epochs):\n",
    "            # Evaluate\n",
    "            error_per_epoch.append(self.evaluate(df))\n",
    "            \n",
    "            for index, row in df.iterrows():\n",
    "                # Forward Propagation\n",
    "                prediction,net = self.forward(row[['x','y']].values)\n",
    "                # Backpropagation\n",
    "                self.backward(row['label'],net,row[['x','y']].values)\n",
    "        \n",
    "        return error_per_epoch\n",
    "                \n",
    "    def calc_error(self,target,net) :\n",
    "        return (np.square(target-net)/2)\n",
    "    \n",
    "    def evaluate(self,df) :\n",
    "        error = 0\n",
    "        for index, row in df.iterrows():\n",
    "            #Forward Propagation\n",
    "            t,net = self.forward(row[['x','y']].values)\n",
    "            error += model.calc_error(t,net)[0]\n",
    "        \n",
    "        return error\n",
    "    \n",
    "    def predict(self,df) :\n",
    "        result = []\n",
    "        for index, row in df.iterrows() :\n",
    "            target,net =  self.forward(row[['x','y']].values)\n",
    "            result.append(target[0])\n",
    "        \n",
    "        return result\n",
    "            "
   ]
  },
  {
   "cell_type": "markdown",
   "metadata": {},
   "source": [
    "## Intializing the model"
   ]
  },
  {
   "cell_type": "markdown",
   "metadata": {},
   "source": [
    "This is a binary classification problem. So we need only 1 output neuron."
   ]
  },
  {
   "cell_type": "code",
   "execution_count": 68,
   "metadata": {},
   "outputs": [
    {
     "name": "stdout",
     "output_type": "stream",
     "text": [
      "[[-0.25091976  0.90142861]]\n",
      "[0.46398788]\n"
     ]
    }
   ],
   "source": [
    "in_features = 2\n",
    "out_features = 1\n",
    "model = AdaLineNetwork(in_features, out_features)\n",
    "print(model.weights)\n",
    "print(model.biases)"
   ]
  },
  {
   "cell_type": "markdown",
   "metadata": {},
   "source": [
    "# Part A"
   ]
  },
  {
   "cell_type": "markdown",
   "metadata": {},
   "source": [
    "## Training"
   ]
  },
  {
   "cell_type": "code",
   "execution_count": 69,
   "metadata": {},
   "outputs": [],
   "source": [
    "epochs_ = 5\n",
    "loss_per_epoch = model.train(df, epochs = epochs_)"
   ]
  },
  {
   "cell_type": "markdown",
   "metadata": {},
   "source": [
    "### Plot the loss function"
   ]
  },
  {
   "cell_type": "code",
   "execution_count": 70,
   "metadata": {},
   "outputs": [
    {
     "data": {
      "text/plain": [
       "[46.651430122570865,\n",
       " 9.236832883909745,\n",
       " 8.120083288641059,\n",
       " 7.938070593334971,\n",
       " 7.92094750586085]"
      ]
     },
     "execution_count": 70,
     "metadata": {},
     "output_type": "execute_result"
    }
   ],
   "source": [
    "loss_per_epoch\n"
   ]
  },
  {
   "cell_type": "code",
   "execution_count": 71,
   "metadata": {},
   "outputs": [
    {
     "name": "stdout",
     "output_type": "stream",
     "text": [
      "[[-0.56871929  0.4471692 ]]\n",
      "[0.24874927]\n"
     ]
    }
   ],
   "source": [
    "print(model.weights)\n",
    "print(model.biases)"
   ]
  },
  {
   "cell_type": "code",
   "execution_count": 72,
   "metadata": {},
   "outputs": [
    {
     "data": {
      "image/png": "[encoded data removed]",
      "text/plain": [
       "<Figure size 432x288 with 1 Axes>"
      ]
     },
     "metadata": {
      "needs_background": "light"
     },
     "output_type": "display_data"
    }
   ],
   "source": [
    "plt.plot(range(1,epochs_+1), loss_per_epoch)\n",
    "plt.ylabel('Loss');\n",
    "plt.xlabel('epoch');"
   ]
  },
  {
   "cell_type": "markdown",
   "metadata": {},
   "source": [
    "As you cna see After 4 epochs our model learns the weights and bias of the separator line."
   ]
  },
  {
   "cell_type": "markdown",
   "metadata": {},
   "source": [
    "## Plotting the separator line\n",
    "Let's plot the separator line that our model learned."
   ]
  },
  {
   "cell_type": "code",
   "execution_count": 73,
   "metadata": {},
   "outputs": [
    {
     "data": {
      "image/png": "[encoded data removed]",
      "text/plain": [
       "<Figure size 406x360 with 1 Axes>"
      ]
     },
     "metadata": {
      "needs_background": "light"
     },
     "output_type": "display_data"
    }
   ],
   "source": [
    "sns.relplot(x=\"x\", y=\"y\", hue=\"label\", data=df)\n",
    "def abline(slope, intercept):\n",
    "    \"\"\"Plot a line from slope and intercept\"\"\"\n",
    "    axes = plt.gca()\n",
    "    x_vals = np.array(axes.get_xlim())\n",
    "    y_vals = intercept + slope * x_vals\n",
    "    plt.plot(x_vals, y_vals, '-')\n",
    "\n",
    "\n",
    "slope = (-1)*(model.weights[0][0]/model.weights[0][1])\n",
    "\n",
    "intercept = (-1)*(model.biases[0]/model.weights[0][1])\n",
    "\n",
    "abline(slope,intercept)\n",
    "# model.biases"
   ]
  },
  {
   "cell_type": "markdown",
   "metadata": {},
   "source": [
    "## Evaluating the Model"
   ]
  },
  {
   "cell_type": "code",
   "execution_count": 74,
   "metadata": {},
   "outputs": [
    {
     "data": {
      "text/plain": [
       "(array([-1,  1]), array([101,  29]))"
      ]
     },
     "execution_count": 74,
     "metadata": {},
     "output_type": "execute_result"
    }
   ],
   "source": [
    "np.unique(np.array(model.predict(df)), return_counts=True)"
   ]
  },
  {
   "cell_type": "code",
   "execution_count": 76,
   "metadata": {},
   "outputs": [
    {
     "name": "stdout",
     "output_type": "stream",
     "text": [
      "              precision    recall  f1-score   support\n",
      "\n",
      "          -1       0.99      1.00      1.00       100\n",
      "           1       1.00      0.97      0.98        30\n",
      "\n",
      "    accuracy                           0.99       130\n",
      "   macro avg       1.00      0.98      0.99       130\n",
      "weighted avg       0.99      0.99      0.99       130\n",
      "\n"
     ]
    }
   ],
   "source": [
    "from sklearn.metrics import classification_report\n",
    "y_pred = model.predict(df)\n",
    "y_true = df['label'].values\n",
    "print(classification_report(y_true, y_pred, labels=[-1,1]))"
   ]
  },
  {
   "cell_type": "markdown",
   "metadata": {},
   "source": [
    "## Part B\n",
    "\n",
    "Our AdaLine Model works fine for this problem."
   ]
  },
  {
   "cell_type": "code",
   "execution_count": null,
   "metadata": {},
   "outputs": [],
   "source": []
  }
 ],
 "metadata": {
  "kernelspec": {
   "display_name": "Python 3 (ipykernel)",
   "language": "python",
   "name": "python3"
  },
  "language_info": {
   "codemirror_mode": {
    "name": "ipython",
    "version": 3
   },
   "file_extension": ".py",
   "mimetype": "text/x-python",
   "name": "python",
   "nbconvert_exporter": "python",
   "pygments_lexer": "ipython3",
   "version": "3.9.5"
  }
 },
 "nbformat": 4,
 "nbformat_minor": 2
}
