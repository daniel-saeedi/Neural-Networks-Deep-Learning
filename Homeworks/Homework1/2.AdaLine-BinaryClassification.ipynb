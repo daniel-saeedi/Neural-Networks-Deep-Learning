{
 "cells": [
  {
   "cell_type": "markdown",
   "metadata": {},
   "source": [
    "# Question 2 : Binary Classification Using AdaLine Algorithm\n",
    "\n",
    "\n",
    "<ul>\n",
    "<li>The first category has 100 (x,y) points such that $x \\sim \\mathcal{N}(\\mu = 2,\\sigma^{2} = 0.25)\\, \n",
    "$ and $y \\sim \\mathcal{N}(\\mu = 0,\\sigma^{2} = 0.04)\\,$.</li>\n",
    "<li>The second category has 30 (x,y) points such that $x \\sim \\mathcal{N}(\\mu = 0,\\sigma^{2} = 0.01)\\, \n",
    "$ and $y \\sim \\mathcal{N}(\\mu = 1,\\sigma^{2} = 0.49)\\,$.</li>\n",
    "</ul>\n",
    "\n",
    "\n",
    "## Tasks\n",
    "\n",
    "<ul>\n",
    "<li>Part A : Train the Neural Network using AdaLine Algorithm that can seperate these two categories. Plot the changes in the error ${(t-net)}^{2}/2$.</li>\n",
    "<li>Part B : Is AdaLine Algorithm good for seperating the two categories? If not, give a better solution.</li>\n",
    "</ul>\n",
    "\n",
    "## Adaptive Linear Unit (AdaLine)\n",
    "![](images/Q2-AdaLineArch.png)\n",
    "\n",
    "## Learning Algorithm for AdaLine\n",
    "![](images/Q2-LearningRule.png)\n",
    "![](images/Q2-LearningAlgorithm.png)"
   ]
  },
  {
   "cell_type": "markdown",
   "metadata": {},
   "source": [
    "## Making the Data"
   ]
  },
  {
   "cell_type": "code",
   "execution_count": 121,
   "metadata": {},
   "outputs": [],
   "source": [
    "import numpy as np\n",
    "import pandas as pd"
   ]
  },
  {
   "cell_type": "code",
   "execution_count": 122,
   "metadata": {},
   "outputs": [],
   "source": [
    "x1 = np.random.normal(2, 0.5, 100).reshape(-1,1)\n",
    "y1 = np.random.normal(0, 0.2, 100).reshape(-1,1)\n",
    "A = pd.DataFrame(np.concatenate((x1, y1), axis=1), columns=['x','y'])\n",
    "A['label'] = 0\n",
    "\n",
    "x2 = np.random.normal(0, 0.1, 30).reshape(-1,1)\n",
    "y2 = np.random.normal(1, 0.7, 30).reshape(-1,1)\n",
    "B = pd.DataFrame(np.concatenate((x2, y2), axis=1), columns=['x','y'])\n",
    "B['label'] = 1\n",
    "\n",
    "df = pd.concat([A,B], axis = 0)"
   ]
  },
  {
   "cell_type": "code",
   "execution_count": 123,
   "metadata": {
    "scrolled": false
   },
   "outputs": [
    {
     "data": {
      "text/html": [
       "<div>\n",
       "<style scoped>\n",
       "    .dataframe tbody tr th:only-of-type {\n",
       "        vertical-align: middle;\n",
       "    }\n",
       "\n",
       "    .dataframe tbody tr th {\n",
       "        vertical-align: top;\n",
       "    }\n",
       "\n",
       "    .dataframe thead th {\n",
       "        text-align: right;\n",
       "    }\n",
       "</style>\n",
       "<table border=\"1\" class=\"dataframe\">\n",
       "  <thead>\n",
       "    <tr style=\"text-align: right;\">\n",
       "      <th></th>\n",
       "      <th>x</th>\n",
       "      <th>y</th>\n",
       "      <th>label</th>\n",
       "    </tr>\n",
       "  </thead>\n",
       "  <tbody>\n",
       "    <tr>\n",
       "      <th>0</th>\n",
       "      <td>2.271872</td>\n",
       "      <td>-0.154809</td>\n",
       "      <td>0</td>\n",
       "    </tr>\n",
       "    <tr>\n",
       "      <th>1</th>\n",
       "      <td>1.692285</td>\n",
       "      <td>-0.071956</td>\n",
       "      <td>0</td>\n",
       "    </tr>\n",
       "    <tr>\n",
       "      <th>2</th>\n",
       "      <td>1.401097</td>\n",
       "      <td>0.144817</td>\n",
       "      <td>0</td>\n",
       "    </tr>\n",
       "    <tr>\n",
       "      <th>3</th>\n",
       "      <td>3.070829</td>\n",
       "      <td>-0.051153</td>\n",
       "      <td>0</td>\n",
       "    </tr>\n",
       "    <tr>\n",
       "      <th>4</th>\n",
       "      <td>1.952689</td>\n",
       "      <td>0.169984</td>\n",
       "      <td>0</td>\n",
       "    </tr>\n",
       "    <tr>\n",
       "      <th>...</th>\n",
       "      <td>...</td>\n",
       "      <td>...</td>\n",
       "      <td>...</td>\n",
       "    </tr>\n",
       "    <tr>\n",
       "      <th>25</th>\n",
       "      <td>-0.169182</td>\n",
       "      <td>0.595206</td>\n",
       "      <td>1</td>\n",
       "    </tr>\n",
       "    <tr>\n",
       "      <th>26</th>\n",
       "      <td>0.065680</td>\n",
       "      <td>0.904998</td>\n",
       "      <td>1</td>\n",
       "    </tr>\n",
       "    <tr>\n",
       "      <th>27</th>\n",
       "      <td>-0.143590</td>\n",
       "      <td>0.444546</td>\n",
       "      <td>1</td>\n",
       "    </tr>\n",
       "    <tr>\n",
       "      <th>28</th>\n",
       "      <td>-0.118327</td>\n",
       "      <td>0.742085</td>\n",
       "      <td>1</td>\n",
       "    </tr>\n",
       "    <tr>\n",
       "      <th>29</th>\n",
       "      <td>0.049500</td>\n",
       "      <td>1.110041</td>\n",
       "      <td>1</td>\n",
       "    </tr>\n",
       "  </tbody>\n",
       "</table>\n",
       "<p>130 rows × 3 columns</p>\n",
       "</div>"
      ],
      "text/plain": [
       "           x         y  label\n",
       "0   2.271872 -0.154809      0\n",
       "1   1.692285 -0.071956      0\n",
       "2   1.401097  0.144817      0\n",
       "3   3.070829 -0.051153      0\n",
       "4   1.952689  0.169984      0\n",
       "..       ...       ...    ...\n",
       "25 -0.169182  0.595206      1\n",
       "26  0.065680  0.904998      1\n",
       "27 -0.143590  0.444546      1\n",
       "28 -0.118327  0.742085      1\n",
       "29  0.049500  1.110041      1\n",
       "\n",
       "[130 rows x 3 columns]"
      ]
     },
     "execution_count": 123,
     "metadata": {},
     "output_type": "execute_result"
    }
   ],
   "source": [
    "df"
   ]
  },
  {
   "cell_type": "markdown",
   "metadata": {},
   "source": [
    "## Plotting the Dataset"
   ]
  },
  {
   "cell_type": "code",
   "execution_count": 124,
   "metadata": {},
   "outputs": [],
   "source": [
    "import seaborn as sns\n",
    "import matplotlib.pyplot as plt"
   ]
  },
  {
   "cell_type": "code",
   "execution_count": 125,
   "metadata": {},
   "outputs": [
    {
     "data": {
      "image/png": "[encoded data removed]",
      "text/plain": [
       "<Figure size 402.375x360 with 1 Axes>"
      ]
     },
     "metadata": {
      "needs_background": "light"
     },
     "output_type": "display_data"
    }
   ],
   "source": [
    "sns.relplot(x=\"x\", y=\"y\", hue=\"label\", data=df);"
   ]
  },
  {
   "cell_type": "markdown",
   "metadata": {},
   "source": [
    "As you can see, these 2 categories are linearly separable."
   ]
  },
  {
   "cell_type": "markdown",
   "metadata": {},
   "source": [
    "## Implementation"
   ]
  },
  {
   "cell_type": "code",
   "execution_count": 181,
   "metadata": {},
   "outputs": [],
   "source": [
    "class AdaLineNetwork() :\n",
    "    \n",
    "    def __init__(self, in_features, out_features, seed = 42) :\n",
    "        #Seed\n",
    "        np.random.seed(seed)\n",
    "\n",
    "        self.in_features = in_features\n",
    "        self.out_features = out_features\n",
    "        # Initialize Weights & Biases\n",
    "        self.init_wad()\n",
    "        \n",
    "    # Initialize Weights & Biases\n",
    "    def init_wad(self) :\n",
    "        self.weights = np.random.randint(low = -2,high = 2, size = in_features*out_features).reshape(out_features,-1)\n",
    "        self.biases = np.random.randint(low = -2,high = 2, size = out_features)\n",
    "        #Learning Rate\n",
    "        self.lr = 0.1\n",
    "        \n",
    "    \n",
    "    def forward(self, x) :\n",
    "        net = np.matmul(self.weights,x)+self.biases\n",
    "        target = np.sign(np.matmul(self.weights,x)+self.biases)\n",
    "        return target,net\n",
    "    \n",
    "    def backward(self,t, net, xi) :\n",
    "        self.weights = self.weights + self.lr*(t-net)*xi\n",
    "        self.biases = self.biases + self.lr*(t-net)\n",
    "        \n",
    "    def train(self,df,epochs = 1) :\n",
    "        error_per_epoch = []\n",
    "        for epoch in range(0,epochs):\n",
    "            # Evaluate\n",
    "            error_per_epoch.append(self.evaluate(df))\n",
    "            \n",
    "            for index, row in df.iterrows():\n",
    "                # Forward Propagation\n",
    "                t,net = self.forward(row[['x','y']].values)\n",
    "                # Backpropagation\n",
    "                self.backward(t,net,row[['x','y']].values)\n",
    "        \n",
    "        return error_per_epoch\n",
    "                \n",
    "    def calc_error(self,target,net) :\n",
    "        return (np.square(target-net)/2)\n",
    "    \n",
    "    def evaluate(self,df) :\n",
    "        error = 0\n",
    "        for index, row in df.iterrows():\n",
    "            #Forward Propagation\n",
    "            t,net = self.forward(row[['x','y']].values)\n",
    "            error += model.calc_error(t,net)[0]\n",
    "        \n",
    "        return error"
   ]
  },
  {
   "cell_type": "markdown",
   "metadata": {},
   "source": [
    "## Intializing the model"
   ]
  },
  {
   "cell_type": "markdown",
   "metadata": {},
   "source": [
    "This is a binary classification problem. So we need only 1 output neuron."
   ]
  },
  {
   "cell_type": "code",
   "execution_count": 192,
   "metadata": {},
   "outputs": [
    {
     "name": "stdout",
     "output_type": "stream",
     "text": [
      "[[0 1]]\n",
      "[-2]\n"
     ]
    }
   ],
   "source": [
    "in_features = 2\n",
    "out_features = 1\n",
    "model = AdaLineNetwork(in_features, out_features)\n",
    "print(model.weights)\n",
    "print(model.biases)"
   ]
  },
  {
   "cell_type": "markdown",
   "metadata": {},
   "source": [
    "# Part A"
   ]
  },
  {
   "cell_type": "markdown",
   "metadata": {},
   "source": [
    "## Training"
   ]
  },
  {
   "cell_type": "code",
   "execution_count": 193,
   "metadata": {},
   "outputs": [],
   "source": [
    "epochs_ = 10\n",
    "loss_per_epoch = model.train(df, epochs = epochs_)"
   ]
  },
  {
   "cell_type": "markdown",
   "metadata": {},
   "source": [
    "### Plot the loss function"
   ]
  },
  {
   "cell_type": "code",
   "execution_count": 194,
   "metadata": {},
   "outputs": [
    {
     "data": {
      "text/plain": [
       "[54.54210617216965,\n",
       " 1.1951623375931228,\n",
       " 0.19932916748361265,\n",
       " 0.029710074034804815,\n",
       " 0.0043044750602946585,\n",
       " 0.0006210596467865315,\n",
       " 8.955562020451168e-05,\n",
       " 1.2912695403642317e-05,\n",
       " 1.861812786615959e-06,\n",
       " 2.684444426235351e-07]"
      ]
     },
     "execution_count": 194,
     "metadata": {},
     "output_type": "execute_result"
    }
   ],
   "source": [
    "loss_per_epoch"
   ]
  },
  {
   "cell_type": "code",
   "execution_count": 195,
   "metadata": {},
   "outputs": [
    {
     "data": {
      "text/plain": [
       "Text(0.5, 0, 'epoch')"
      ]
     },
     "execution_count": 195,
     "metadata": {},
     "output_type": "execute_result"
    },
    {
     "data": {
      "image/png": "[encoded data removed]",
      "text/plain": [
       "<Figure size 432x288 with 1 Axes>"
      ]
     },
     "metadata": {
      "needs_background": "light"
     },
     "output_type": "display_data"
    }
   ],
   "source": [
    "plt.plot(range(1,epochs_+1), loss_per_epoch)\n",
    "plt.ylabel('Loss')\n",
    "plt.xlabel('epoch')"
   ]
  },
  {
   "cell_type": "markdown",
   "metadata": {},
   "source": [
    "As you cna see After 4 epochs our model learns the weights and bias of the separator line."
   ]
  },
  {
   "cell_type": "markdown",
   "metadata": {},
   "source": [
    "## Plotting the separator line\n",
    "Let's plot the separator line that our model learned."
   ]
  },
  {
   "cell_type": "code",
   "execution_count": 196,
   "metadata": {},
   "outputs": [
    {
     "data": {
      "image/png": "[encoded data removed]",
      "text/plain": [
       "<Figure size 402.375x360 with 1 Axes>"
      ]
     },
     "metadata": {
      "needs_background": "light"
     },
     "output_type": "display_data"
    }
   ],
   "source": [
    "sns.relplot(x=\"x\", y=\"y\", hue=\"label\", data=df)\n",
    "def abline(slope, intercept):\n",
    "    \"\"\"Plot a line from slope and intercept\"\"\"\n",
    "    axes = plt.gca()\n",
    "    x_vals = np.array(axes.get_xlim())\n",
    "    y_vals = intercept + slope * x_vals\n",
    "    plt.plot(x_vals, y_vals, '-')\n",
    "\n",
    "\n",
    "slope = (model.weights[0][0]/model.weights[0][1])\n",
    "\n",
    "intercept = (model.biases[0]/model.weights[0][1])\n",
    "\n",
    "abline(slope,0)\n",
    "# model.biases"
   ]
  },
  {
   "cell_type": "markdown",
   "metadata": {},
   "source": [
    "## Part B\n",
    "\n",
    "Our AdaLine model does regression good enough."
   ]
  }
 ],
 "metadata": {
  "kernelspec": {
   "display_name": "Python 3 (ipykernel)",
   "language": "python",
   "name": "python3"
  },
  "language_info": {
   "codemirror_mode": {
    "name": "ipython",
    "version": 3
   },
   "file_extension": ".py",
   "mimetype": "text/x-python",
   "name": "python",
   "nbconvert_exporter": "python",
   "pygments_lexer": "ipython3",
   "version": "3.9.5"
  }
 },
 "nbformat": 4,
 "nbformat_minor": 2
}
