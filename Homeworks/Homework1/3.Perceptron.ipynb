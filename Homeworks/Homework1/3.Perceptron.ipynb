{
 "cells": [
  {
   "cell_type": "markdown",
   "id": "076ec441",
   "metadata": {},
   "source": [
    "# Question 3 : Perceptron\n",
    "\n",
    "## Linear Perceptron Network\n",
    "<img src=\"images/Q3-Perceptron.png\">\n",
    "\n",
    "## Part A : Updating rule for the weights and bias in Perceptron\n",
    "<ul>\n",
    "    <li>Weights : ${w}_{i}(new) = {w}_{i}(old) + \\alpha {x}_{i} {t}$</li>\n",
    "    <li>Bias : ${b}(new) = {b}(old) + \\alpha {t}$</li>\n",
    "    <li>$0 < \\alpha \\leq 1$</li>\n",
    "</ul>\n",
    "Where ${x}_{i}$ denotes ith input, ${t}$ denotes the target value for output and $\\alpha$ denotes the learning rate.\n",
    "\n",
    "<img src = \"images/Q3-LearningAlgorithm.png\">"
   ]
  },
  {
   "cell_type": "markdown",
   "id": "7b0239d3",
   "metadata": {},
   "source": [
    "## Part B\n",
    "Suppose a perceptron network has 3 inputs. The weights and bias of this network is ${w}_{1} = 0.1, {w}_{2} = 0.6,  {w}_{3} = 0.3, {b} = -0.5$ respectively. And the learning rate is $\\alpha = 0.2$.\n",
    "\n",
    "The threshold of the activation function is $\\theta = 0$\n",
    "\n",
    "Train the network with this input (0,3,3) twice and update weights and bias. The output of this input is -1."
   ]
  },
  {
   "cell_type": "markdown",
   "id": "e122710a",
   "metadata": {},
   "source": [
    "## Implementation"
   ]
  },
  {
   "cell_type": "code",
   "execution_count": 17,
   "id": "30810963",
   "metadata": {},
   "outputs": [],
   "source": [
    "import numpy as np\n",
    "import pandas as pd\n",
    "class PerceptronNetwork() :\n",
    "    \n",
    "    def __init__(self, weights,bias, in_features, out_features, seed = 42) :\n",
    "        #Seed\n",
    "        np.random.seed(seed)\n",
    "\n",
    "        self.in_features = in_features\n",
    "        self.out_features = out_features\n",
    "        # Initialize Weights & Biases\n",
    "        self.weights = weights\n",
    "        self.bias = bias\n",
    "        \n",
    "        #Learning Rate\n",
    "        self.lr = 0.2\n",
    "    \n",
    "    # Activation Function\n",
    "    def h(self,num, theta = 0) :\n",
    "        if num >= theta :\n",
    "            return 1\n",
    "        else :\n",
    "            return -1\n",
    "    \n",
    "    def backward(self,t, xi) :\n",
    "        coefficient = self.lr*t\n",
    "        self.weights = np.round(self.weights + coefficient*xi,decimals = 2)\n",
    "        self.bias = round(self.bias + coefficient,2)\n",
    "\n",
    "    def train(self,t,x, epochs) :\n",
    "        for epoch in range(0,epochs):\n",
    "\n",
    "            self.backward(t,x)\n",
    "            print(\"Epoch:\",epoch+1)\n",
    "            print(f'w1 : {self.weights[0]}, w2 : {self.weights[1]} , w3 : {self.weights[2]} , b : {self.bias}')"
   ]
  },
  {
   "cell_type": "code",
   "execution_count": 18,
   "id": "5bfee5bf",
   "metadata": {},
   "outputs": [],
   "source": [
    "in_features = 3\n",
    "out_features = 1\n",
    "weights = np.array([0.1,0.6,0.3]).reshape(-1,1)\n",
    "bias = -0.5\n",
    "model = PerceptronNetwork(weights, bias, in_features, out_features)"
   ]
  },
  {
   "cell_type": "code",
   "execution_count": 19,
   "id": "ae9e5348",
   "metadata": {},
   "outputs": [
    {
     "name": "stdout",
     "output_type": "stream",
     "text": [
      "Epoch: 1\n",
      "w1 : [0.1], w2 : [-0.] , w3 : [-0.3] , b : -0.7\n",
      "Epoch: 2\n",
      "w1 : [0.1], w2 : [-0.6] , w3 : [-0.9] , b : -0.9\n"
     ]
    }
   ],
   "source": [
    "epochs_ = 2\n",
    "\n",
    "model.train(-1,np.array([0,3,3]).reshape(-1,1),epochs_)"
   ]
  },
  {
   "cell_type": "code",
   "execution_count": 5,
   "id": "d728fd3b",
   "metadata": {},
   "outputs": [
    {
     "data": {
      "text/plain": [
       "-2.3"
      ]
     },
     "execution_count": 5,
     "metadata": {},
     "output_type": "execute_result"
    }
   ],
   "source": [
    "model.bias"
   ]
  },
  {
   "cell_type": "code",
   "execution_count": null,
   "id": "c3b1a126",
   "metadata": {},
   "outputs": [],
   "source": []
  }
 ],
 "metadata": {
  "kernelspec": {
   "display_name": "Python 3 (ipykernel)",
   "language": "python",
   "name": "python3"
  },
  "language_info": {
   "codemirror_mode": {
    "name": "ipython",
    "version": 3
   },
   "file_extension": ".py",
   "mimetype": "text/x-python",
   "name": "python",
   "nbconvert_exporter": "python",
   "pygments_lexer": "ipython3",
   "version": "3.9.5"
  }
 },
 "nbformat": 4,
 "nbformat_minor": 5
}
