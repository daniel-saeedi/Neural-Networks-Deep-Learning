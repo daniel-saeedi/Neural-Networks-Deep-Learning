{
 "cells": [
  {
   "cell_type": "markdown",
   "metadata": {},
   "source": [
    "# 3. Question 3 : Discrete Hopfield Net"
   ]
  },
  {
   "cell_type": "markdown",
   "metadata": {},
   "source": [
    "# Importing Dependencies"
   ]
  },
  {
   "cell_type": "code",
   "execution_count": 1,
   "metadata": {},
   "outputs": [],
   "source": [
    "import numpy as np\n",
    "from PIL import Image\n",
    "import os\n",
    "import matplotlib.pyplot as plt"
   ]
  },
  {
   "cell_type": "markdown",
   "metadata": {},
   "source": [
    "# Part 1: Loading images"
   ]
  },
  {
   "cell_type": "code",
   "execution_count": 2,
   "metadata": {},
   "outputs": [],
   "source": [
    "# Set the threshold value\n",
    "threshold = 180\n",
    "\n",
    "path = os.getcwd()\n",
    "\n",
    "path_train = path + '/pacman_Train.jpg'\n",
    "path_test  = path + '/pacman_Test.jpg'\n",
    "\n",
    "def read_binarize_img(path_img):\n",
    "    \n",
    "    # Read the image\n",
    "    img_train = Image.open(path_img).convert(mode=\"L\")\n",
    "    img_train = img_train.resize(size=(100,100))\n",
    "    \n",
    "    # Binarize the image\n",
    "    img_train_array = np.asarray(img_train,dtype=np.uint8)\n",
    "    x = np.zeros(img_train_array.shape,dtype=np.float)\n",
    "    x[img_train_array > threshold] = 1\n",
    "    x[x==0] = -1\n",
    "    \n",
    "    return x"
   ]
  },
  {
   "cell_type": "code",
   "execution_count": 3,
   "metadata": {},
   "outputs": [
    {
     "name": "stderr",
     "output_type": "stream",
     "text": [
      "/var/folders/vm/v0nt374s6078m_5v598g5q4m0000gn/T/ipykernel_4062/1177566195.py:17: DeprecationWarning: `np.float` is a deprecated alias for the builtin `float`. To silence this warning, use `float` by itself. Doing this will not modify any behavior and is safe. If you specifically wanted the numpy scalar type, use `np.float64` here.\n",
      "Deprecated in NumPy 1.20; for more details and guidance: https://numpy.org/devdocs/release/1.20.0-notes.html#deprecations\n",
      "  x = np.zeros(img_train_array.shape,dtype=np.float)\n"
     ]
    }
   ],
   "source": [
    "# Read images\n",
    "train = read_binarize_img(path_train)\n",
    "test = read_binarize_img(path_test)"
   ]
  },
  {
   "cell_type": "code",
   "execution_count": 4,
   "metadata": {},
   "outputs": [
    {
     "name": "stderr",
     "output_type": "stream",
     "text": [
      "Clipping input data to the valid range for imshow with RGB data ([0..1] for floats or [0..255] for integers).\n"
     ]
    },
    {
     "data": {
      "image/png": "[encoded data removed]",
      "text/plain": [
       "<Figure size 432x288 with 1 Axes>"
      ]
     },
     "metadata": {
      "needs_background": "light"
     },
     "output_type": "display_data"
    },
    {
     "name": "stderr",
     "output_type": "stream",
     "text": [
      "Clipping input data to the valid range for imshow with RGB data ([0..1] for floats or [0..255] for integers).\n"
     ]
    },
    {
     "data": {
      "image/png": "[encoded data removed]",
      "text/plain": [
       "<Figure size 432x288 with 1 Axes>"
      ]
     },
     "metadata": {
      "needs_background": "light"
     },
     "output_type": "display_data"
    }
   ],
   "source": [
    "# Plot images\n",
    "plt.imshow(np.repeat(train[:,:,np.newaxis], repeats=3, axis=2))\n",
    "plt.show()\n",
    "plt.imshow(np.repeat(test[:,:,np.newaxis], repeats=3, axis=2))\n",
    "plt.show()"
   ]
  },
  {
   "cell_type": "markdown",
   "metadata": {},
   "source": [
    "# Define Model"
   ]
  },
  {
   "cell_type": "code",
   "execution_count": 5,
   "metadata": {},
   "outputs": [],
   "source": [
    "class DiscreteHopfieldNet(object):\n",
    "\n",
    "    def __init__(self):\n",
    "        self.weight = None\n",
    "\n",
    "    # Modified Hebbian Learning Rule\n",
    "    def train(self, data,):\n",
    "        mat = np.vstack(data)\n",
    "        I = len(data) * np.identity(np.size(mat, 1))\n",
    "        self.weight = np.dot(mat.T, mat) - I\n",
    "\n",
    "    def predict(self, data, theta=0.5, iterations=1000):        \n",
    "        # Random orders for computations\n",
    "        indexs = np.random.randint(0, len(self.weight) - 1, (iterations, len(data)))\n",
    "        for ind in indexs:\n",
    "            diagonal = np.diagonal(np.dot(self.weight[ind], data.T))\n",
    "            diagonal = np.expand_dims(diagonal, -1)\n",
    "            value = np.apply_along_axis(lambda x: 1 if x > theta else -1, 1, diagonal)\n",
    "\n",
    "            for i in range(len(data)):\n",
    "                data[i, ind[i]] = value[i]\n",
    "\n",
    "        return data"
   ]
  },
  {
   "cell_type": "code",
   "execution_count": 6,
   "metadata": {},
   "outputs": [],
   "source": [
    "size = (100, 100)"
   ]
  },
  {
   "cell_type": "code",
   "execution_count": 7,
   "metadata": {},
   "outputs": [],
   "source": [
    "model = DiscreteHopfieldNet()"
   ]
  },
  {
   "cell_type": "markdown",
   "metadata": {},
   "source": [
    "# Part 2: Training(Constructing Weight Matrix)"
   ]
  },
  {
   "cell_type": "code",
   "execution_count": 8,
   "metadata": {},
   "outputs": [
    {
     "name": "stdout",
     "output_type": "stream",
     "text": [
      "CPU times: user 1.7 s, sys: 391 ms, total: 2.09 s\n",
      "Wall time: 959 ms\n"
     ]
    }
   ],
   "source": [
    "%%time\n",
    "model.train([train.flatten()])"
   ]
  },
  {
   "cell_type": "markdown",
   "metadata": {},
   "source": [
    "# Part 3"
   ]
  },
  {
   "cell_type": "markdown",
   "metadata": {},
   "source": [
    "## Iterations = 1000"
   ]
  },
  {
   "cell_type": "code",
   "execution_count": 25,
   "metadata": {},
   "outputs": [
    {
     "name": "stdout",
     "output_type": "stream",
     "text": [
      "CPU times: user 378 ms, sys: 6.52 ms, total: 384 ms\n",
      "Wall time: 77.4 ms\n"
     ]
    }
   ],
   "source": [
    "%%time\n",
    "recovery = model.predict(np.array([test.flatten()], copy=False),iterations=1000)"
   ]
  },
  {
   "cell_type": "code",
   "execution_count": 26,
   "metadata": {},
   "outputs": [],
   "source": [
    "recovery = recovery[0].reshape(size)"
   ]
  },
  {
   "cell_type": "code",
   "execution_count": 27,
   "metadata": {},
   "outputs": [
    {
     "name": "stderr",
     "output_type": "stream",
     "text": [
      "Clipping input data to the valid range for imshow with RGB data ([0..1] for floats or [0..255] for integers).\n",
      "Clipping input data to the valid range for imshow with RGB data ([0..1] for floats or [0..255] for integers).\n"
     ]
    },
    {
     "data": {
      "image/png": "[encoded data removed]",
      "text/plain": [
       "<Figure size 576x576 with 2 Axes>"
      ]
     },
     "metadata": {
      "needs_background": "light"
     },
     "output_type": "display_data"
    }
   ],
   "source": [
    "fig = plt.figure(figsize=(8, 8))\n",
    "fig.add_subplot(1, 3, 1)\n",
    "plt.imshow(np.repeat(test[:,:,np.newaxis], repeats=3, axis=2),cmap='Greys')\n",
    "plt.title('Original')\n",
    "fig.add_subplot(1, 3, 2)\n",
    "plt.imshow(np.repeat(recovery[:,:,np.newaxis], repeats=3, axis=2),cmap='Greys')\n",
    "plt.title('After 1000 iterations')\n",
    "plt.show()"
   ]
  },
  {
   "cell_type": "markdown",
   "metadata": {},
   "source": [
    "## Iterations = 30000\n"
   ]
  },
  {
   "cell_type": "code",
   "execution_count": 46,
   "metadata": {},
   "outputs": [
    {
     "name": "stdout",
     "output_type": "stream",
     "text": [
      "CPU times: user 8.35 s, sys: 50.1 ms, total: 8.4 s\n",
      "Wall time: 1.68 s\n"
     ]
    }
   ],
   "source": [
    "%%time\n",
    "recovery = model.predict(np.array([test.flatten()], copy=False),iterations=30000)\n"
   ]
  },
  {
   "cell_type": "code",
   "execution_count": 47,
   "metadata": {},
   "outputs": [],
   "source": [
    "recovery = recovery[0].reshape(size)\n"
   ]
  },
  {
   "cell_type": "code",
   "execution_count": 48,
   "metadata": {},
   "outputs": [
    {
     "name": "stderr",
     "output_type": "stream",
     "text": [
      "Clipping input data to the valid range for imshow with RGB data ([0..1] for floats or [0..255] for integers).\n",
      "Clipping input data to the valid range for imshow with RGB data ([0..1] for floats or [0..255] for integers).\n"
     ]
    },
    {
     "data": {
      "image/png": "[encoded data removed]",
      "text/plain": [
       "<Figure size 576x576 with 2 Axes>"
      ]
     },
     "metadata": {
      "needs_background": "light"
     },
     "output_type": "display_data"
    }
   ],
   "source": [
    "fig = plt.figure(figsize=(8, 8))\n",
    "fig.add_subplot(1, 3, 1)\n",
    "plt.imshow(np.repeat(test[:,:,np.newaxis], repeats=3, axis=2),cmap='Greys')\n",
    "plt.title('Original')\n",
    "fig.add_subplot(1, 3, 2)\n",
    "plt.imshow(np.repeat(recovery[:,:,np.newaxis], repeats=3, axis=2),cmap='Greys')\n",
    "plt.title('After 30000 iterations')\n",
    "plt.show()\n"
   ]
  },
  {
   "cell_type": "markdown",
   "metadata": {},
   "source": [
    "# Part 4\n"
   ]
  },
  {
   "cell_type": "markdown",
   "metadata": {},
   "source": [
    "## Iterations = 1000\n"
   ]
  },
  {
   "cell_type": "code",
   "execution_count": 18,
   "metadata": {},
   "outputs": [
    {
     "name": "stderr",
     "output_type": "stream",
     "text": [
      "/var/folders/vm/v0nt374s6078m_5v598g5q4m0000gn/T/ipykernel_4062/1177566195.py:17: DeprecationWarning: `np.float` is a deprecated alias for the builtin `float`. To silence this warning, use `float` by itself. Doing this will not modify any behavior and is safe. If you specifically wanted the numpy scalar type, use `np.float64` here.\n",
      "Deprecated in NumPy 1.20; for more details and guidance: https://numpy.org/devdocs/release/1.20.0-notes.html#deprecations\n",
      "  x = np.zeros(img_train_array.shape,dtype=np.float)\n"
     ]
    }
   ],
   "source": [
    "test2 = read_binarize_img('ghost.jpg')"
   ]
  },
  {
   "cell_type": "code",
   "execution_count": 19,
   "metadata": {},
   "outputs": [
    {
     "name": "stdout",
     "output_type": "stream",
     "text": [
      "CPU times: user 350 ms, sys: 4.99 ms, total: 355 ms\n",
      "Wall time: 71.8 ms\n"
     ]
    }
   ],
   "source": [
    "%%time\n",
    "recovery = model.predict(np.array([test2.flatten()], copy=False),iterations=1000)\n"
   ]
  },
  {
   "cell_type": "code",
   "execution_count": 20,
   "metadata": {},
   "outputs": [],
   "source": [
    "recovery = recovery[0].reshape(size)\n"
   ]
  },
  {
   "cell_type": "code",
   "execution_count": 21,
   "metadata": {},
   "outputs": [
    {
     "name": "stderr",
     "output_type": "stream",
     "text": [
      "Clipping input data to the valid range for imshow with RGB data ([0..1] for floats or [0..255] for integers).\n",
      "Clipping input data to the valid range for imshow with RGB data ([0..1] for floats or [0..255] for integers).\n"
     ]
    },
    {
     "data": {
      "image/png": "[encoded data removed]",
      "text/plain": [
       "<Figure size 576x576 with 2 Axes>"
      ]
     },
     "metadata": {
      "needs_background": "light"
     },
     "output_type": "display_data"
    }
   ],
   "source": [
    "fig = plt.figure(figsize=(8, 8))\n",
    "fig.add_subplot(1, 3, 1)\n",
    "plt.imshow(np.repeat(test2[:,:,np.newaxis], repeats=3, axis=2),cmap='Greys')\n",
    "plt.title('Original')\n",
    "fig.add_subplot(1, 3, 2)\n",
    "plt.imshow(np.repeat(recovery[:,:,np.newaxis], repeats=3, axis=2),cmap='Greys')\n",
    "plt.title('After 1000 iterations')\n",
    "plt.show()\n"
   ]
  },
  {
   "cell_type": "markdown",
   "metadata": {},
   "source": [
    "## Iterations = 50000\n"
   ]
  },
  {
   "cell_type": "code",
   "execution_count": 22,
   "metadata": {},
   "outputs": [
    {
     "name": "stdout",
     "output_type": "stream",
     "text": [
      "CPU times: user 14.1 s, sys: 101 ms, total: 14.2 s\n",
      "Wall time: 2.87 s\n"
     ]
    }
   ],
   "source": [
    "%%time\n",
    "recovery = model.predict(np.array([test2.flatten()], copy=False),iterations=50000)\n"
   ]
  },
  {
   "cell_type": "code",
   "execution_count": 23,
   "metadata": {},
   "outputs": [],
   "source": [
    "recovery = recovery[0].reshape(size)"
   ]
  },
  {
   "cell_type": "code",
   "execution_count": 24,
   "metadata": {},
   "outputs": [
    {
     "name": "stderr",
     "output_type": "stream",
     "text": [
      "Clipping input data to the valid range for imshow with RGB data ([0..1] for floats or [0..255] for integers).\n"
     ]
    },
    {
     "data": {
      "image/png": "[encoded data removed]",
      "text/plain": [
       "<Figure size 576x576 with 2 Axes>"
      ]
     },
     "metadata": {
      "needs_background": "light"
     },
     "output_type": "display_data"
    }
   ],
   "source": [
    "fig = plt.figure(figsize=(8, 8))\n",
    "fig.add_subplot(1, 3, 1)\n",
    "plt.imshow(np.repeat(test2[:,:,np.newaxis], repeats=3, axis=2),cmap='Greys')\n",
    "plt.title('Original')\n",
    "fig.add_subplot(1, 3, 2)\n",
    "plt.imshow(recovery,cmap='Greys')\n",
    "plt.title('After 50000 iterations')\n",
    "plt.show()\n"
   ]
  },
  {
   "cell_type": "code",
   "execution_count": null,
   "metadata": {},
   "outputs": [],
   "source": []
  },
  {
   "cell_type": "code",
   "execution_count": null,
   "metadata": {},
   "outputs": [],
   "source": []
  }
 ],
 "metadata": {
  "interpreter": {
   "hash": "c4743f3265159d618cbfb7986907cf5d87d97b4cb2417375c3879348497beb2d"
  },
  "kernelspec": {
   "display_name": "Python 3 (ipykernel)",
   "language": "python",
   "name": "python3"
  },
  "language_info": {
   "codemirror_mode": {
    "name": "ipython",
    "version": 3
   },
   "file_extension": ".py",
   "mimetype": "text/x-python",
   "name": "python",
   "nbconvert_exporter": "python",
   "pygments_lexer": "ipython3",
   "version": "3.9.5"
  }
 },
 "nbformat": 4,
 "nbformat_minor": 2
}
