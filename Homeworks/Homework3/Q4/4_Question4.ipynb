{
 "cells": [
  {
   "cell_type": "markdown",
   "metadata": {},
   "source": [
    "# 4. Question 4 : Bidirectional Associative Memory(BAM)"
   ]
  },
  {
   "cell_type": "code",
   "execution_count": 3,
   "metadata": {},
   "outputs": [],
   "source": [
    "import numpy as np\n",
    "import pandas as pd"
   ]
  },
  {
   "cell_type": "code",
   "execution_count": 79,
   "metadata": {},
   "outputs": [],
   "source": [
    "C = np.array([\n",
    "    -1,1,1,\n",
    "    1,-1,-1,\n",
    "    1,-1,-1,\n",
    "    1,-1,-1,\n",
    "    -1,1,1,\n",
    "])\n",
    "\n",
    "C_code = np.array([-1,-1,-1])\n",
    "\n",
    "E = np.array([\n",
    "    1,1,1,\n",
    "    1,-1,-1,\n",
    "    1,1,-1,\n",
    "    1,-1,-1,\n",
    "    1,1,1,\n",
    "])\n",
    "\n",
    "E_code = np.array([-1,-1,1])\n",
    "\n",
    "\n",
    "R = np.array([\n",
    "    1,1,1,\n",
    "    1,-1,1,\n",
    "    1,1,1,\n",
    "    1,1,-1,\n",
    "    1,-1,1,\n",
    "])\n",
    "\n",
    "R_code = np.array([-1,1,-1])\n",
    "\n",
    "O = np.array([\n",
    "    -1,1,-1,\n",
    "    1,-1,1,\n",
    "    1,-1,1,\n",
    "    1,-1,1,\n",
    "    -1,1,-1,\n",
    "])\n",
    "\n",
    "O_code = np.array([-1,1,1])\n",
    "\n",
    "\n",
    "F = np.array([\n",
    "    1,1,1,\n",
    "    1,-1,-1,\n",
    "    1,1,-1,\n",
    "    1,-1,-1,\n",
    "    1,-1,-1,\n",
    "])\n",
    "\n",
    "F_code = np.array([1,-1,-1])\n",
    "\n",
    "P = np.array([\n",
    "    1,1,1,\n",
    "    1,-1,1,\n",
    "    1,1,1,\n",
    "    1,-1,-1,\n",
    "    1,-1,-1,\n",
    "])\n",
    "\n",
    "P_code = np.array([1,-1,-1])"
   ]
  },
  {
   "cell_type": "code",
   "execution_count": 5,
   "metadata": {},
   "outputs": [
    {
     "data": {
      "image/png": "[encoded data removed]",
      "text/plain": [
       "<Figure size 576x576 with 6 Axes>"
      ]
     },
     "metadata": {
      "needs_background": "light"
     },
     "output_type": "display_data"
    }
   ],
   "source": [
    "from matplotlib import pyplot as plt\n",
    "\n",
    "fig = plt.figure(figsize=(8, 8))\n",
    "fig.add_subplot(2, 3, 1)\n",
    "plt.imshow(C.reshape((5, 3)), interpolation='nearest',cmap='Greys')\n",
    "plt.title('Letter C')\n",
    "fig.add_subplot(2, 3, 2)\n",
    "plt.imshow(E.reshape((5, 3)), interpolation='nearest',cmap='Greys')\n",
    "plt.title('Letter E')\n",
    "fig.add_subplot(2, 3, 3)\n",
    "plt.imshow(R.reshape((5, 3)), interpolation='nearest',cmap='Greys')\n",
    "plt.title('Letter R')\n",
    "\n",
    "fig.add_subplot(2, 3, 4)\n",
    "plt.imshow(O.reshape((5, 3)), interpolation='nearest',cmap='Greys')\n",
    "plt.title('Letter O')\n",
    "fig.add_subplot(2, 3, 5)\n",
    "plt.imshow(F.reshape((5, 3)), interpolation='nearest',cmap='Greys')\n",
    "plt.title('Letter F')\n",
    "fig.add_subplot(2, 3, 6)\n",
    "plt.imshow(P.reshape((5, 3)), interpolation='nearest',cmap='Greys')\n",
    "plt.title('Letter P')\n",
    "plt.show()"
   ]
  },
  {
   "cell_type": "code",
   "execution_count": 6,
   "metadata": {},
   "outputs": [],
   "source": [
    "class BAM() :\n",
    "    \n",
    "    def __init__(self, in_features, out_features, seed = 42) :\n",
    "        #Seed\n",
    "        np.random.seed(seed)\n",
    "\n",
    "        self.in_features = in_features\n",
    "        self.out_features = out_features\n",
    "        # Initialize Weights & Biases\n",
    "        self.init_wad()\n",
    "        \n",
    "    # Initialize Weights with 0\n",
    "    def init_wad(self) :\n",
    "        self.weights = np.zeros(shape=(self.in_features*self.out_features,)).reshape(-1,self.out_features)\n",
    "    \n",
    "    #Activation Function bipolar\n",
    "    def h(self,num,threshold = 0.25) :\n",
    "        if num > threshold :\n",
    "            return 1\n",
    "        elif num < threshold:\n",
    "            return -1\n",
    "        else :\n",
    "            return threshold\n",
    "\n",
    "    def forward(self, x):\n",
    "        net = np.matmul(x,self.weights)\n",
    "        prediction = pd.Series(net)\n",
    "        prediction = prediction.apply(self.h).values\n",
    "        return prediction\n",
    "    \n",
    "    def backward(self,y) :\n",
    "        net = np.matmul(y,self.weights.T)\n",
    "        prediction = pd.Series(net)\n",
    "        prediction = prediction.apply(self.h).values\n",
    "        return prediction\n",
    "\n",
    "    def calculate_new_weights(self,x,y) :\n",
    "        new_weight = np.matmul(x.reshape(-1,1),y.reshape(1,-1))\n",
    "        self.weights = self.weights + new_weight\n",
    "        \n",
    "    def initialize_weights(self,X_train,y_train,epochs = 1) :\n",
    "        for epoch in range(0,epochs):\n",
    "            \n",
    "            for i in range(len(X_train)) :\n",
    "                # Backpropagation\n",
    "                self.calculate_new_weights(X_train[i],y_train[i])"
   ]
  },
  {
   "cell_type": "code",
   "execution_count": 7,
   "metadata": {},
   "outputs": [],
   "source": [
    "model = BAM(in_features=15,out_features=3)"
   ]
  },
  {
   "cell_type": "markdown",
   "metadata": {},
   "source": [
    "# Part 1"
   ]
  },
  {
   "cell_type": "code",
   "execution_count": 8,
   "metadata": {},
   "outputs": [],
   "source": [
    "X_train = np.concatenate([C.reshape(1,15),E.reshape(1,15), R.reshape(1,15)], axis=0)\n",
    "y_train = np.concatenate([C_code.reshape(1,3),E_code.reshape(1,3), R_code.reshape(1,3)], axis=0)"
   ]
  },
  {
   "cell_type": "code",
   "execution_count": 9,
   "metadata": {},
   "outputs": [],
   "source": [
    "model.initialize_weights(X_train, y_train,epochs=1)"
   ]
  },
  {
   "cell_type": "code",
   "execution_count": 10,
   "metadata": {},
   "outputs": [
    {
     "data": {
      "text/plain": [
       "array([[-1.,  1.,  1.],\n",
       "       [-3., -1., -1.],\n",
       "       [-3., -1., -1.],\n",
       "       [-3., -1., -1.],\n",
       "       [ 3.,  1.,  1.],\n",
       "       [ 1.,  3., -1.],\n",
       "       [-3., -1., -1.],\n",
       "       [-1.,  1.,  1.],\n",
       "       [ 1.,  3., -1.],\n",
       "       [-3., -1., -1.],\n",
       "       [ 1.,  3., -1.],\n",
       "       [ 3.,  1.,  1.],\n",
       "       [-1.,  1.,  1.],\n",
       "       [-1., -3.,  1.],\n",
       "       [-3., -1., -1.]])"
      ]
     },
     "execution_count": 10,
     "metadata": {},
     "output_type": "execute_result"
    }
   ],
   "source": [
    "model.weights"
   ]
  },
  {
   "cell_type": "markdown",
   "metadata": {},
   "source": [
    "# Part 2"
   ]
  },
  {
   "cell_type": "markdown",
   "metadata": {},
   "source": [
    "## Forward\n",
    "The trained model is able to classify C and R perfectly. The model mistakes E with C since E is **quite similar** to C.\n",
    "So the forward accuracy for training data set is 2/3 = 66%."
   ]
  },
  {
   "cell_type": "code",
   "execution_count": 11,
   "metadata": {},
   "outputs": [
    {
     "name": "stdout",
     "output_type": "stream",
     "text": [
      "Input : C Output : [-1 -1 -1]\n",
      "Input : E Output : [-1 -1 -1]\n",
      "Input : R Output : [-1  1 -1]\n"
     ]
    }
   ],
   "source": [
    "y_1 = model.forward(X_train[0])\n",
    "y_2 = model.forward(X_train[1])\n",
    "y_3 = model.forward(X_train[2])\n",
    "\n",
    "print('Input : C Output :',y_1)\n",
    "print('Input : E Output :',y_2)\n",
    "print('Input : R Output :',y_3)"
   ]
  },
  {
   "cell_type": "markdown",
   "metadata": {},
   "source": [
    "## Backward\n",
    "The model is able to regenerate each training input with corresponding code. So the backward accuracy is 100% for training data set."
   ]
  },
  {
   "cell_type": "code",
   "execution_count": 12,
   "metadata": {},
   "outputs": [],
   "source": [
    "x_1 = model.backward(y_train[0])\n",
    "x_2 = model.backward(y_train[1])\n",
    "x_3 = model.backward(y_train[2])\n"
   ]
  },
  {
   "cell_type": "code",
   "execution_count": 13,
   "metadata": {},
   "outputs": [
    {
     "data": {
      "image/png": "[encoded data removed]",
      "text/plain": [
       "<Figure size 576x576 with 3 Axes>"
      ]
     },
     "metadata": {
      "needs_background": "light"
     },
     "output_type": "display_data"
    }
   ],
   "source": [
    "fig = plt.figure(figsize=(8, 8))\n",
    "fig.add_subplot(1, 3, 1)\n",
    "plt.imshow(x_1.reshape((5, 3)), interpolation='nearest',cmap='Greys')\n",
    "plt.title('Y=[-1,-1,-1]')\n",
    "fig.add_subplot(1, 3, 2)\n",
    "plt.imshow(x_2.reshape((5, 3)), interpolation='nearest',cmap='Greys')\n",
    "plt.title('Y=[-1,-1,1]')\n",
    "fig.add_subplot(1, 3, 3)\n",
    "plt.imshow(x_3.reshape((5, 3)), interpolation='nearest',cmap='Greys')\n",
    "plt.title('Y=[-1,1,-1]')\n",
    "plt.show()"
   ]
  },
  {
   "cell_type": "markdown",
   "metadata": {},
   "source": [
    "# Part 3\n",
    "The average accuracy of this model with 40% noise applied to each input in 100 runs is 51.66%."
   ]
  },
  {
   "cell_type": "code",
   "execution_count": 14,
   "metadata": {},
   "outputs": [],
   "source": [
    "import math\n",
    "def noise_producer(arr,percentage):\n",
    "    pixels = int(np.prod(arr.shape)*percentage)\n",
    "    with_noise = np.copy(arr)\n",
    "    for pixel in range(pixels) :\n",
    "      random_pixel = np.random.choice(np.prod(with_noise.shape), 1)\n",
    "      if with_noise.flat[random_pixel] == -1 :\n",
    "        with_noise.flat[random_pixel] = 1\n",
    "      else:\n",
    "        with_noise.flat[random_pixel] = -1\n",
    "    \n",
    "    return with_noise"
   ]
  },
  {
   "cell_type": "code",
   "execution_count": 42,
   "metadata": {},
   "outputs": [],
   "source": [
    "correct = 0\n",
    "total = 0\n",
    "for iteration in range(0,100) :\n",
    "    total += 3\n",
    "    # 40% Noise\n",
    "    C_noise = noise_producer(C,0.4)\n",
    "    E_noise = noise_producer(E,0.4)\n",
    "    R_noise = noise_producer(R,0.4)\n",
    "\n",
    "    X_train_noised = np.concatenate([C_noise.reshape(1,15),E_noise.reshape(1,15), R_noise.reshape(1,15)], axis=0)\n",
    "    y_train = np.concatenate([C_code.reshape(1,3),E_code.reshape(1,3), R_code.reshape(1,3)], axis=0)\n",
    "\n",
    "    for i in range(len(X_train_noised)) :\n",
    "      prediction = model.forward(X_train_noised[i])    \n",
    "      if np.array_equal(prediction, y_train[i]):\n",
    "        correct += 1"
   ]
  },
  {
   "cell_type": "code",
   "execution_count": 45,
   "metadata": {},
   "outputs": [
    {
     "name": "stdout",
     "output_type": "stream",
     "text": [
      "Model's accuracy with 40% noised in 100 runs:  51.666666666666664\n"
     ]
    }
   ],
   "source": [
    "print(\"Model's accuracy with 40% noised in 100 runs: \",correct*100/total)    "
   ]
  },
  {
   "cell_type": "markdown",
   "metadata": {},
   "source": [
    "# Part 4\n",
    "The memory or storage capacity of BAM may be given as ${\\displaystyle \\min(m,n)}$, where ${\\displaystyle n}$ is the number of units in the X layer and ${\\displaystyle m}$ is the number of units in the Y layer.\n",
    "In this problem, n and m are 15 and 3 respectively. So the maximum number of patters that can be stored in this model is **3**.  "
   ]
  },
  {
   "cell_type": "markdown",
   "metadata": {},
   "source": [
    "# Part 5"
   ]
  },
  {
   "cell_type": "code",
   "execution_count": 96,
   "metadata": {},
   "outputs": [],
   "source": [
    "model2 = BAM(in_features=15,out_features=3)"
   ]
  },
  {
   "cell_type": "code",
   "execution_count": 97,
   "metadata": {},
   "outputs": [],
   "source": [
    "X_train = np.concatenate([C.reshape(1,15),E.reshape(1,15), R.reshape(1,15), O.reshape(1,15), F.reshape(1,15), P.reshape(1,15)], axis=0)\n",
    "y_train = np.concatenate([C_code.reshape(1,3),E_code.reshape(1,3), R_code.reshape(1,3),O_code.reshape(1,3),F_code.reshape(1,3), P_code.reshape(1,3)], axis=0)"
   ]
  },
  {
   "cell_type": "code",
   "execution_count": 98,
   "metadata": {},
   "outputs": [],
   "source": [
    "model2.initialize_weights(X_train, y_train)"
   ]
  },
  {
   "cell_type": "code",
   "execution_count": 99,
   "metadata": {},
   "outputs": [
    {
     "data": {
      "text/plain": [
       "array([[ 2., -2., -2.],\n",
       "       [-2., -2., -2.],\n",
       "       [ 0., -4., -4.],\n",
       "       [-2., -2., -2.],\n",
       "       [ 2.,  2.,  2.],\n",
       "       [ 0.,  4.,  0.],\n",
       "       [-2., -2., -2.],\n",
       "       [ 2., -2., -2.],\n",
       "       [ 0.,  4.,  0.],\n",
       "       [-2., -2., -2.],\n",
       "       [ 0.,  4.,  0.],\n",
       "       [ 0.,  4.,  4.],\n",
       "       [ 2., -2., -2.],\n",
       "       [-4.,  0.,  4.],\n",
       "       [-4.,  0.,  0.]])"
      ]
     },
     "execution_count": 99,
     "metadata": {},
     "output_type": "execute_result"
    }
   ],
   "source": [
    "model2.weights"
   ]
  },
  {
   "cell_type": "markdown",
   "metadata": {},
   "source": [
    "## Forward\n",
    "The trained model is able to classify C, O and F  perfectly. But other letters are mistaken with letter C.\n",
    "So the forward accuracy for training data set is 3/6 = 50%."
   ]
  },
  {
   "cell_type": "code",
   "execution_count": 100,
   "metadata": {},
   "outputs": [],
   "source": [
    "y_1 = model2.forward(X_train[0])\n",
    "y_2 = model2.forward(X_train[1])\n",
    "y_3 = model2.forward(X_train[2])\n",
    "y_4 = model2.forward(X_train[3])\n",
    "y_5 = model2.forward(X_train[4])\n",
    "y_6 = model2.forward(X_train[5])"
   ]
  },
  {
   "cell_type": "code",
   "execution_count": 101,
   "metadata": {},
   "outputs": [
    {
     "name": "stdout",
     "output_type": "stream",
     "text": [
      "Input : C Output : [-1 -1 -1]\n",
      "Input : E Output : [-1 -1 -1]\n",
      "Input : R Output : [-1 -1 -1]\n",
      "Input : O Output : [-1  1  1]\n",
      "Input : F Output : [ 1 -1 -1]\n",
      "Input : P Output : [ 1 -1 -1]\n"
     ]
    }
   ],
   "source": [
    "\n",
    "print('Input : C Output :',y_1)\n",
    "print('Input : E Output :',y_2)\n",
    "print('Input : R Output :',y_3)\n",
    "\n",
    "print('Input : O Output :',y_4)\n",
    "print('Input : F Output :',y_5)\n",
    "print('Input : P Output :',y_6)"
   ]
  },
  {
   "cell_type": "markdown",
   "metadata": {},
   "source": [
    "## Backward\n",
    "The model is able to regenerate letter F only in backward direction. So the backward accuracy is 1/6 = 16% for training data set."
   ]
  },
  {
   "cell_type": "code",
   "execution_count": 102,
   "metadata": {},
   "outputs": [],
   "source": [
    "\n",
    "x_1 = model2.backward(y_train[0])\n",
    "x_2 = model2.backward(y_train[1])\n",
    "x_3 = model2.backward(y_train[2])\n",
    "x_4 = model2.backward(y_train[3])\n",
    "x_5 = model2.backward(y_train[4])\n",
    "x_6 = model2.backward(y_train[5])\n"
   ]
  },
  {
   "cell_type": "code",
   "execution_count": 103,
   "metadata": {},
   "outputs": [
    {
     "data": {
      "image/png": "[encoded data removed]",
      "text/plain": [
       "<Figure size 576x576 with 6 Axes>"
      ]
     },
     "metadata": {
      "needs_background": "light"
     },
     "output_type": "display_data"
    }
   ],
   "source": [
    "fig = plt.figure(figsize=(8, 8))\n",
    "fig.add_subplot(2, 3, 1)\n",
    "plt.imshow(x_1.reshape((5, 3)), interpolation='nearest',cmap='Greys')\n",
    "plt.title('Letter C')\n",
    "fig.add_subplot(2, 3, 2)\n",
    "plt.imshow(x_2.reshape((5, 3)), interpolation='nearest',cmap='Greys')\n",
    "plt.title('Letter E')\n",
    "fig.add_subplot(2, 3, 3)\n",
    "plt.imshow(x_3.reshape((5, 3)), interpolation='nearest',cmap='Greys')\n",
    "plt.title('Letter R')\n",
    "\n",
    "fig.add_subplot(2, 3, 4)\n",
    "plt.imshow(x_4.reshape((5, 3)), interpolation='nearest',cmap='Greys')\n",
    "plt.title('Letter O')\n",
    "fig.add_subplot(2, 3, 5)\n",
    "plt.imshow(x_5.reshape((5, 3)), interpolation='nearest',cmap='Greys')\n",
    "plt.title('Letter F')\n",
    "fig.add_subplot(2, 3, 6)\n",
    "plt.imshow(x_6.reshape((5, 3)), interpolation='nearest',cmap='Greys')\n",
    "plt.title('Letter P')\n",
    "plt.show()"
   ]
  }
 ],
 "metadata": {
  "interpreter": {
   "hash": "c4743f3265159d618cbfb7986907cf5d87d97b4cb2417375c3879348497beb2d"
  },
  "kernelspec": {
   "display_name": "Python 3 (ipykernel)",
   "language": "python",
   "name": "python3"
  },
  "language_info": {
   "codemirror_mode": {
    "name": "ipython",
    "version": 3
   },
   "file_extension": ".py",
   "mimetype": "text/x-python",
   "name": "python",
   "nbconvert_exporter": "python",
   "pygments_lexer": "ipython3",
   "version": "3.9.5"
  }
 },
 "nbformat": 4,
 "nbformat_minor": 2
}
