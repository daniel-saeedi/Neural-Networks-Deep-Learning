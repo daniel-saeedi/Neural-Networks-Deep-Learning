{
 "cells": [
  {
   "cell_type": "markdown",
   "metadata": {},
   "source": [
    "# 1. Question 1 : Character Recognition using Hebbian Learning Rule"
   ]
  },
  {
   "cell_type": "code",
   "execution_count": 19,
   "metadata": {
    "id": "4J9nC69FPxFb"
   },
   "outputs": [],
   "source": [
    "import numpy as np\n",
    "import pandas as pd"
   ]
  },
  {
   "cell_type": "code",
   "execution_count": 20,
   "metadata": {
    "id": "ASNK3vCnVb3F"
   },
   "outputs": [],
   "source": [
    "A = np.array([\n",
    "    -1,-1,-1,1,-1,-1,-1,\n",
    "    -1,-1,-1,1,-1,-1,-1,\n",
    "    -1,-1,-1,1,-1,-1,-1,\n",
    "    -1,-1,1,-1,1,-1,-1,\n",
    "    -1,-1,1,-1,1,-1,-1,\n",
    "    -1,1,1,1,1,1,-1,\n",
    "    -1,1,-1,-1,-1,1,-1,\n",
    "    -1,1,-1,-1,-1,1,-1,\n",
    "    1,1,1,-1,1,1,1,\n",
    "])\n",
    "\n",
    "B = np.array([\n",
    "    1,1,1,1,1,1,1,\n",
    "    1,-1,-1,-1,-1,-1,1,\n",
    "    1,-1,-1,-1,-1,1,-1,\n",
    "    1,-1,-1,-1,1,-1,-1,\n",
    "    1,1,1,1,-1,-1,-1,\n",
    "    1,-1,-1,-1,1,-1,-1,\n",
    "    1,-1,-1,-1,-1,1,-1,\n",
    "    1,-1,-1,-1,-1,-1,1,\n",
    "    1,1,1,1,1,1,1,\n",
    "])\n",
    "\n",
    "\n",
    "C = np.array([\n",
    "    -1,-1,1,1,1,1,-1,\n",
    "    -1,1,-1,-1,-1,-1,1,\n",
    "    1,-1,-1,-1,-1,-1,-1,\n",
    "    1,-1,-1,-1,-1,-1,-1,\n",
    "    1,-1,-1,-1,-1,-1,-1,\n",
    "    1,-1,-1,-1,-1,-1,-1,\n",
    "    1,-1,-1,-1,-1,-1,-1,\n",
    "    -1,1,-1,-1,-1,-1,1,\n",
    "    -1,-1,1,1,1,1,-1,\n",
    "])"
   ]
  },
  {
   "cell_type": "code",
   "execution_count": 21,
   "metadata": {
    "id": "44uS9QMIZugV"
   },
   "outputs": [],
   "source": [
    "small_A = np.array([\n",
    "    -1,1,-1,\n",
    "    1,-1,1,\n",
    "    1,1,1,\n",
    "    1,-1,1,\n",
    "    1,-1,1,\n",
    "])\n",
    "\n",
    "small_B = np.array([\n",
    "    1,1,-1,\n",
    "    1,-1,1,\n",
    "    1,1,-1,\n",
    "    1,-1,1,\n",
    "    1,1,-1,\n",
    "]).reshape(5,3)\n",
    "\n",
    "small_C = np.array([\n",
    "    -1,1,1,\n",
    "    1,-1,-1,\n",
    "    1,-1,-1,\n",
    "    1,-1,-1,\n",
    "    -1,1,1,\n",
    "]).reshape(5,3)"
   ]
  },
  {
   "cell_type": "code",
   "execution_count": 22,
   "metadata": {
    "colab": {
     "base_uri": "https://localhost:8080/",
     "height": 265
    },
    "id": "5mukNxRpVhSS",
    "outputId": "79cb4644-7924-48b9-f1f3-9944806193d2",
    "scrolled": false
   },
   "outputs": [
    {
     "data": {
      "image/png": "[encoded data removed]",
      "text/plain": [
       "<Figure size 576x576 with 6 Axes>"
      ]
     },
     "metadata": {
      "needs_background": "light"
     },
     "output_type": "display_data"
    }
   ],
   "source": [
    "from matplotlib import pyplot as plt\n",
    "\n",
    "fig = plt.figure(figsize=(8, 8))\n",
    "fig.add_subplot(2, 3, 1)\n",
    "plt.imshow(A.reshape((9, 7)), interpolation='nearest',cmap='Greys')\n",
    "plt.title('Letter A')\n",
    "fig.add_subplot(2, 3, 2)\n",
    "plt.imshow(B.reshape((9, 7)), interpolation='nearest',cmap='Greys')\n",
    "plt.title('Letter B')\n",
    "fig.add_subplot(2, 3, 3)\n",
    "plt.imshow(C.reshape((9, 7)), interpolation='nearest',cmap='Greys')\n",
    "plt.title('Letter C')\n",
    "\n",
    "fig.add_subplot(2, 3, 4)\n",
    "plt.imshow(small_A.reshape((5, 3)), interpolation='nearest',cmap='Greys')\n",
    "\n",
    "fig.add_subplot(2, 3, 5)\n",
    "plt.imshow(small_B.reshape((5, 3)), interpolation='nearest',cmap='Greys')\n",
    "\n",
    "fig.add_subplot(2, 3, 6)\n",
    "plt.imshow(small_C.reshape((5, 3)), interpolation='nearest',cmap='Greys')\n",
    "\n",
    "\n",
    "plt.show()"
   ]
  },
  {
   "cell_type": "code",
   "execution_count": 23,
   "metadata": {
    "id": "7fNIHIVQeysq"
   },
   "outputs": [],
   "source": [
    "X_train = np.concatenate([A.reshape(1,63), B.reshape(1,63), C.reshape(1,63)], axis=0)\n",
    "y_train = np.concatenate([small_A.reshape(1,15), small_B.reshape(1,15), small_C.reshape(1,15)], axis=0)"
   ]
  },
  {
   "cell_type": "markdown",
   "metadata": {},
   "source": [
    "# Define the model"
   ]
  },
  {
   "cell_type": "code",
   "execution_count": 24,
   "metadata": {
    "id": "22UDdDnghnHB"
   },
   "outputs": [],
   "source": [
    "class Network() :\n",
    "    \n",
    "    def __init__(self, in_features, out_features, seed = 42) :\n",
    "        #Seed\n",
    "        np.random.seed(seed)\n",
    "\n",
    "        self.in_features = in_features\n",
    "        self.out_features = out_features\n",
    "        # Initialize Weights & Biases\n",
    "        self.init_wad()\n",
    "        \n",
    "    # Initialize Weights with 0\n",
    "    def init_wad(self) :\n",
    "        self.weights = np.zeros(shape=(in_features*out_features,)).reshape(-1,out_features)\n",
    "    \n",
    "    #Activation Function\n",
    "    def h(self,num) :\n",
    "        if num >= 0 :\n",
    "            return 1\n",
    "        else :\n",
    "            return -1\n",
    "    def forward(self, x):\n",
    "        net = np.matmul(x,self.weights)\n",
    "        prediction = pd.Series(net)\n",
    "        prediction = prediction.apply(self.h).values\n",
    "        return prediction\n",
    "    \n",
    "    def backward(self,x,y) :\n",
    "        new_weight = np.matmul(x.reshape(-1,1),y.reshape(1,-1))\n",
    "        self.weights = self.weights + new_weight\n",
    "        \n",
    "    def train(self,X_train,y_train,epochs = 1) :\n",
    "        error_per_epoch = []\n",
    "        for epoch in range(0,epochs):\n",
    "            \n",
    "            for i in range(len(X_train)) :\n",
    "              # Backpropagation\n",
    "              self.backward(X_train[i],y_train[i])"
   ]
  },
  {
   "cell_type": "markdown",
   "metadata": {
    "id": "H9jJeQCtKLi-"
   },
   "source": [
    "# Part 1"
   ]
  },
  {
   "cell_type": "code",
   "execution_count": 25,
   "metadata": {
    "id": "FKSp97QVn4u9"
   },
   "outputs": [],
   "source": [
    "in_features = 63\n",
    "out_features = 15\n",
    "model = Network(in_features, out_features)"
   ]
  },
  {
   "cell_type": "code",
   "execution_count": 26,
   "metadata": {
    "id": "pcSlSanbxfrs"
   },
   "outputs": [],
   "source": [
    "model.train(X_train,y_train, epochs = 1)"
   ]
  },
  {
   "cell_type": "code",
   "execution_count": 27,
   "metadata": {},
   "outputs": [
    {
     "data": {
      "text/plain": [
       "array([[ 3., -1., -1., -1.,  1.,  1., -1.,  1., -1., -1.,  1.,  1.,  1.,\n",
       "         1., -3.],\n",
       "       [ 3., -1., -1., -1.,  1.,  1., -1.,  1., -1., -1.,  1.,  1.,  1.,\n",
       "         1., -3.],\n",
       "       [ 1.,  1.,  1.,  1., -1., -1.,  1., -1., -3.,  1., -1., -1., -1.,\n",
       "         3., -1.],\n",
       "       [-1.,  3., -1.,  3., -3.,  1.,  3.,  1., -1.,  3., -3.,  1.,  1.,\n",
       "         1.,  1.],\n",
       "       [ 1.,  1.,  1.,  1., -1., -1.,  1., -1., -3.,  1., -1., -1., -1.,\n",
       "         3., -1.],\n",
       "       [ 1.,  1.,  1.,  1., -1., -1.,  1., -1., -3.,  1., -1., -1., -1.,\n",
       "         3., -1.],\n",
       "       [ 3., -1., -1., -1.,  1.,  1., -1.,  1., -1., -1.,  1.,  1.,  1.,\n",
       "         1., -3.],\n",
       "       [ 3., -1., -1., -1.,  1.,  1., -1.,  1., -1., -1.,  1.,  1.,  1.,\n",
       "         1., -3.],\n",
       "       [-1., -1.,  3., -1.,  1., -3., -1., -3., -1., -1.,  1., -3., -3.,\n",
       "         1.,  1.],\n",
       "       [ 1., -3.,  1., -3.,  3., -1., -3., -1.,  1., -3.,  3., -1., -1.,\n",
       "        -1., -1.],\n",
       "       [-1., -1., -1., -1.,  1.,  1., -1.,  1.,  3., -1.,  1.,  1.,  1.,\n",
       "        -3.,  1.],\n",
       "       [ 1., -3.,  1., -3.,  3., -1., -3., -1.,  1., -3.,  3., -1., -1.,\n",
       "        -1., -1.],\n",
       "       [ 1., -3.,  1., -3.,  3., -1., -3., -1.,  1., -3.,  3., -1., -1.,\n",
       "        -1., -1.],\n",
       "       [ 1.,  1.,  1.,  1., -1., -1.,  1., -1., -3.,  1., -1., -1., -1.,\n",
       "         3., -1.],\n",
       "       [ 1.,  1.,  1.,  1., -1., -1.,  1., -1., -3.,  1., -1., -1., -1.,\n",
       "         3., -1.],\n",
       "       [ 1., -3.,  1., -3.,  3., -1., -3., -1.,  1., -3.,  3., -1., -1.,\n",
       "        -1., -1.],\n",
       "       [ 1., -3.,  1., -3.,  3., -1., -3., -1.,  1., -3.,  3., -1., -1.,\n",
       "        -1., -1.],\n",
       "       [-1., -1., -1., -1.,  1.,  1., -1.,  1.,  3., -1.,  1.,  1.,  1.,\n",
       "        -3.,  1.],\n",
       "       [ 1., -3.,  1., -3.,  3., -1., -3., -1.,  1., -3.,  3., -1., -1.,\n",
       "        -1., -1.],\n",
       "       [ 3., -1., -1., -1.,  1.,  1., -1.,  1., -1., -1.,  1.,  1.,  1.,\n",
       "         1., -3.],\n",
       "       [ 1., -3.,  1., -3.,  3., -1., -3., -1.,  1., -3.,  3., -1., -1.,\n",
       "        -1., -1.],\n",
       "       [ 1.,  1.,  1.,  1., -1., -1.,  1., -1., -3.,  1., -1., -1., -1.,\n",
       "         3., -1.],\n",
       "       [ 1., -3.,  1., -3.,  3., -1., -3., -1.,  1., -3.,  3., -1., -1.,\n",
       "        -1., -1.],\n",
       "       [-1., -1., -1., -1.,  1.,  1., -1.,  1.,  3., -1.,  1.,  1.,  1.,\n",
       "        -3.,  1.],\n",
       "       [ 1., -3.,  1., -3.,  3., -1., -3., -1.,  1., -3.,  3., -1., -1.,\n",
       "        -1., -1.],\n",
       "       [ 1.,  1., -3.,  1., -1.,  3.,  1.,  3.,  1.,  1., -1.,  3.,  3.,\n",
       "        -1., -1.],\n",
       "       [ 1., -3.,  1., -3.,  3., -1., -3., -1.,  1., -3.,  3., -1., -1.,\n",
       "        -1., -1.],\n",
       "       [ 1., -3.,  1., -3.,  3., -1., -3., -1.,  1., -3.,  3., -1., -1.,\n",
       "        -1., -1.],\n",
       "       [ 1.,  1.,  1.,  1., -1., -1.,  1., -1., -3.,  1., -1., -1., -1.,\n",
       "         3., -1.],\n",
       "       [ 3., -1., -1., -1.,  1.,  1., -1.,  1., -1., -1.,  1.,  1.,  1.,\n",
       "         1., -3.],\n",
       "       [ 1.,  1., -3.,  1., -1.,  3.,  1.,  3.,  1.,  1., -1.,  3.,  3.,\n",
       "        -1., -1.],\n",
       "       [ 3., -1., -1., -1.,  1.,  1., -1.,  1., -1., -1.,  1.,  1.,  1.,\n",
       "         1., -3.],\n",
       "       [-1., -1., -1., -1.,  1.,  1., -1.,  1.,  3., -1.,  1.,  1.,  1.,\n",
       "        -3.,  1.],\n",
       "       [ 1., -3.,  1., -3.,  3., -1., -3., -1.,  1., -3.,  3., -1., -1.,\n",
       "        -1., -1.],\n",
       "       [ 1., -3.,  1., -3.,  3., -1., -3., -1.,  1., -3.,  3., -1., -1.,\n",
       "        -1., -1.],\n",
       "       [ 1.,  1.,  1.,  1., -1., -1.,  1., -1., -3.,  1., -1., -1., -1.,\n",
       "         3., -1.],\n",
       "       [-1., -1., -1., -1.,  1.,  1., -1.,  1.,  3., -1.,  1.,  1.,  1.,\n",
       "        -3.,  1.],\n",
       "       [-1., -1., -1., -1.,  1.,  1., -1.,  1.,  3., -1.,  1.,  1.,  1.,\n",
       "        -3.,  1.],\n",
       "       [-1., -1., -1., -1.,  1.,  1., -1.,  1.,  3., -1.,  1.,  1.,  1.,\n",
       "        -3.,  1.],\n",
       "       [ 1.,  1., -3.,  1., -1.,  3.,  1.,  3.,  1.,  1., -1.,  3.,  3.,\n",
       "        -1., -1.],\n",
       "       [-1., -1., -1., -1.,  1.,  1., -1.,  1.,  3., -1.,  1.,  1.,  1.,\n",
       "        -3.,  1.],\n",
       "       [ 1., -3.,  1., -3.,  3., -1., -3., -1.,  1., -3.,  3., -1., -1.,\n",
       "        -1., -1.],\n",
       "       [ 1.,  1.,  1.,  1., -1., -1.,  1., -1., -3.,  1., -1., -1., -1.,\n",
       "         3., -1.],\n",
       "       [-1., -1., -1., -1.,  1.,  1., -1.,  1.,  3., -1.,  1.,  1.,  1.,\n",
       "        -3.,  1.],\n",
       "       [ 1., -3.,  1., -3.,  3., -1., -3., -1.,  1., -3.,  3., -1., -1.,\n",
       "        -1., -1.],\n",
       "       [ 1., -3.,  1., -3.,  3., -1., -3., -1.,  1., -3.,  3., -1., -1.,\n",
       "        -1., -1.],\n",
       "       [ 1., -3.,  1., -3.,  3., -1., -3., -1.,  1., -3.,  3., -1., -1.,\n",
       "        -1., -1.],\n",
       "       [ 1.,  1., -3.,  1., -1.,  3.,  1.,  3.,  1.,  1., -1.,  3.,  3.,\n",
       "        -1., -1.],\n",
       "       [ 1., -3.,  1., -3.,  3., -1., -3., -1.,  1., -3.,  3., -1., -1.,\n",
       "        -1., -1.],\n",
       "       [ 3., -1., -1., -1.,  1.,  1., -1.,  1., -1., -1.,  1.,  1.,  1.,\n",
       "         1., -3.],\n",
       "       [-3.,  1.,  1.,  1., -1., -1.,  1., -1.,  1.,  1., -1., -1., -1.,\n",
       "        -1.,  3.],\n",
       "       [ 1., -3.,  1., -3.,  3., -1., -3., -1.,  1., -3.,  3., -1., -1.,\n",
       "        -1., -1.],\n",
       "       [ 1., -3.,  1., -3.,  3., -1., -3., -1.,  1., -3.,  3., -1., -1.,\n",
       "        -1., -1.],\n",
       "       [ 1., -3.,  1., -3.,  3., -1., -3., -1.,  1., -3.,  3., -1., -1.,\n",
       "        -1., -1.],\n",
       "       [-1., -1., -1., -1.,  1.,  1., -1.,  1.,  3., -1.,  1.,  1.,  1.,\n",
       "        -3.,  1.],\n",
       "       [ 1.,  1.,  1.,  1., -1., -1.,  1., -1., -3.,  1., -1., -1., -1.,\n",
       "         3., -1.],\n",
       "       [ 1.,  1., -3.,  1., -1.,  3.,  1.,  3.,  1.,  1., -1.,  3.,  3.,\n",
       "        -1., -1.],\n",
       "       [ 1.,  1., -3.,  1., -1.,  3.,  1.,  3.,  1.,  1., -1.,  3.,  3.,\n",
       "        -1., -1.],\n",
       "       [-1.,  3., -1.,  3., -3.,  1.,  3.,  1., -1.,  3., -3.,  1.,  1.,\n",
       "         1.,  1.],\n",
       "       [ 1.,  1.,  1.,  1., -1., -1.,  1., -1., -3.,  1., -1., -1., -1.,\n",
       "         3., -1.],\n",
       "       [-1.,  3., -1.,  3., -3.,  1.,  3.,  1., -1.,  3., -3.,  1.,  1.,\n",
       "         1.,  1.],\n",
       "       [-1.,  3., -1.,  3., -3.,  1.,  3.,  1., -1.,  3., -3.,  1.,  1.,\n",
       "         1.,  1.],\n",
       "       [ 1.,  1., -3.,  1., -1.,  3.,  1.,  3.,  1.,  1., -1.,  3.,  3.,\n",
       "        -1., -1.]])"
      ]
     },
     "execution_count": 27,
     "metadata": {},
     "output_type": "execute_result"
    }
   ],
   "source": [
    "model.weights"
   ]
  },
  {
   "cell_type": "code",
   "execution_count": 28,
   "metadata": {
    "id": "zGljclqDDfUs"
   },
   "outputs": [],
   "source": [
    "predicted_A = model.forward(X_train[0])\n",
    "predicted_B = model.forward(X_train[1])\n",
    "predicted_C = model.forward(X_train[2])"
   ]
  },
  {
   "cell_type": "code",
   "execution_count": 29,
   "metadata": {
    "colab": {
     "base_uri": "https://localhost:8080/",
     "height": 283
    },
    "id": "DaMJqAcQ_Pdm",
    "outputId": "f3ebf80e-c764-40a7-d504-c1725ea36687"
   },
   "outputs": [
    {
     "data": {
      "image/png": "[encoded data removed]",
      "text/plain": [
       "<Figure size 576x576 with 3 Axes>"
      ]
     },
     "metadata": {
      "needs_background": "light"
     },
     "output_type": "display_data"
    }
   ],
   "source": [
    "fig = plt.figure(figsize=(8, 8))\n",
    "fig.add_subplot(1, 3, 1)\n",
    "plt.imshow(predicted_A.reshape((5, 3)), interpolation='nearest',cmap='Greys')\n",
    "plt.title('Letter A')\n",
    "fig.add_subplot(1, 3, 2)\n",
    "plt.imshow(predicted_B.reshape((5, 3)), interpolation='nearest',cmap='Greys')\n",
    "plt.title('Letter B')\n",
    "fig.add_subplot(1, 3, 3)\n",
    "plt.imshow(predicted_C.reshape((5, 3)), interpolation='nearest',cmap='Greys')\n",
    "plt.title('Letter C')\n",
    "plt.show()"
   ]
  },
  {
   "cell_type": "markdown",
   "metadata": {
    "id": "lnIRvaFrKNyn"
   },
   "source": [
    "# Part 2\n",
    "The smallest dimension we can reduce to is 2x2."
   ]
  },
  {
   "cell_type": "code",
   "execution_count": 42,
   "metadata": {
    "id": "rCfWMKOTDDSz"
   },
   "outputs": [],
   "source": [
    "smallest_A = np.array([\n",
    "    1,-1,\n",
    "    1,-1\n",
    "]).reshape(2,2)\n",
    "\n",
    "smallest_B = np.array([\n",
    "    1,-1,\n",
    "    1,1\n",
    "]).reshape(2,2)\n",
    "\n",
    "smallest_C = np.array([\n",
    "    1,1,\n",
    "    1,-1,\n",
    "]).reshape(2,2)"
   ]
  },
  {
   "cell_type": "code",
   "execution_count": 43,
   "metadata": {
    "colab": {
     "base_uri": "https://localhost:8080/",
     "height": 269
    },
    "id": "9jru_iqDLC3p",
    "outputId": "65ad6ce7-578a-40c9-bd98-70ed4adf75cd"
   },
   "outputs": [
    {
     "data": {
      "image/png": "[encoded data removed]",
      "text/plain": [
       "<Figure size 432x288 with 1 Axes>"
      ]
     },
     "metadata": {
      "needs_background": "light"
     },
     "output_type": "display_data"
    }
   ],
   "source": [
    "plt.imshow(smallest_C.reshape((2,2)), interpolation='nearest',cmap='Greys')\n",
    "plt.show()"
   ]
  },
  {
   "cell_type": "code",
   "execution_count": 44,
   "metadata": {
    "id": "Wt6bfSL-LEyR"
   },
   "outputs": [],
   "source": [
    "y_train2 = np.concatenate([smallest_A.reshape(1,4), smallest_B.reshape(1,4), smallest_C.reshape(1,4)], axis=0)"
   ]
  },
  {
   "cell_type": "code",
   "execution_count": 45,
   "metadata": {
    "id": "2OvIVWWdMLwu"
   },
   "outputs": [],
   "source": [
    "in_features = 63\n",
    "out_features = 4\n",
    "model2 = Network(in_features, out_features)"
   ]
  },
  {
   "cell_type": "code",
   "execution_count": 46,
   "metadata": {
    "id": "yEZAdWVCMUgH"
   },
   "outputs": [],
   "source": [
    "model2.train(X_train,y_train2, epochs = 1)"
   ]
  },
  {
   "cell_type": "code",
   "execution_count": 47,
   "metadata": {
    "id": "X5x83l94MYW6"
   },
   "outputs": [],
   "source": [
    "predicted_A = model2.forward(X_train[0])\n",
    "predicted_B = model2.forward(X_train[1])\n",
    "predicted_C = model2.forward(X_train[2])"
   ]
  },
  {
   "cell_type": "code",
   "execution_count": 49,
   "metadata": {
    "colab": {
     "base_uri": "https://localhost:8080/",
     "height": 195
    },
    "id": "2X0v8FAAMoFl",
    "outputId": "27e489a3-479c-4bc3-9bb8-e6ec14fb3767"
   },
   "outputs": [
    {
     "data": {
      "image/png": "[encoded data removed]",
      "text/plain": [
       "<Figure size 576x576 with 3 Axes>"
      ]
     },
     "metadata": {
      "needs_background": "light"
     },
     "output_type": "display_data"
    }
   ],
   "source": [
    "fig = plt.figure(figsize=(8, 8))\n",
    "fig.add_subplot(1, 3, 1)\n",
    "plt.imshow(predicted_A.reshape((2, 2)), interpolation='nearest',cmap='Greys')\n",
    "plt.title('Letter A')\n",
    "fig.add_subplot(1, 3, 2)\n",
    "plt.imshow(predicted_B.reshape((2, 2)), interpolation='nearest',cmap='Greys')\n",
    "plt.title('Letter B')\n",
    "fig.add_subplot(1, 3, 3)\n",
    "plt.imshow(predicted_C.reshape((2, 2)), interpolation='nearest',cmap='Greys')\n",
    "plt.title('Letter C')\n",
    "plt.show()"
   ]
  },
  {
   "cell_type": "markdown",
   "metadata": {
    "id": "oZaAnI3wOFYN"
   },
   "source": [
    "# Part 3"
   ]
  },
  {
   "cell_type": "code",
   "execution_count": 50,
   "metadata": {
    "id": "XdjD3RrlOd0h"
   },
   "outputs": [],
   "source": [
    "import math\n",
    "def noise_producer(arr,percentage):\n",
    "    pixels = int(np.prod(arr.shape)*percentage)\n",
    "    with_noise = np.copy(arr)\n",
    "    for pixel in range(pixels) :\n",
    "      random_pixel = np.random.choice(np.prod(with_noise.shape), 1)\n",
    "      if with_noise.flat[random_pixel] == -1 :\n",
    "        with_noise.flat[random_pixel] = 1\n",
    "      else:\n",
    "        with_noise.flat[random_pixel] = -1\n",
    "    \n",
    "    return with_noise"
   ]
  },
  {
   "cell_type": "code",
   "execution_count": 51,
   "metadata": {
    "id": "GLm2ek6ORazG"
   },
   "outputs": [],
   "source": [
    "A_noise_10 = noise_producer(A,0.1)\n",
    "B_noise_10 = noise_producer(B,0.1)\n",
    "C_noise_10 = noise_producer(C,0.1)"
   ]
  },
  {
   "cell_type": "code",
   "execution_count": 52,
   "metadata": {
    "colab": {
     "base_uri": "https://localhost:8080/",
     "height": 233
    },
    "id": "fQCf2KDMS7Ae",
    "outputId": "62b6c425-5d42-4c9d-a898-ffc41178c523"
   },
   "outputs": [
    {
     "data": {
      "image/png": "[encoded data removed]",
      "text/plain": [
       "<Figure size 576x576 with 3 Axes>"
      ]
     },
     "metadata": {
      "needs_background": "light"
     },
     "output_type": "display_data"
    }
   ],
   "source": [
    "fig = plt.figure(figsize=(8, 8))\n",
    "fig.add_subplot(1, 3, 1)\n",
    "plt.imshow(A_noise_10.reshape((9, 7)), interpolation='nearest',cmap='Greys')\n",
    "plt.title('Letter A with noise')\n",
    "fig.add_subplot(1, 3, 2)\n",
    "plt.imshow(B_noise_10.reshape((9, 7)), interpolation='nearest',cmap='Greys')\n",
    "plt.title('Letter B with noise')\n",
    "fig.add_subplot(1, 3, 3)\n",
    "plt.imshow(C_noise_10.reshape((9, 7)), interpolation='nearest',cmap='Greys')\n",
    "plt.title('Letter C with noise')\n",
    "plt.show()"
   ]
  },
  {
   "cell_type": "code",
   "execution_count": 53,
   "metadata": {
    "id": "FNznn4zVUvwB"
   },
   "outputs": [],
   "source": [
    "A_noise_40 = noise_producer(A,0.4)\n",
    "B_noise_40 = noise_producer(B,0.4)\n",
    "C_noise_40 = noise_producer(C,0.4)"
   ]
  },
  {
   "cell_type": "code",
   "execution_count": 54,
   "metadata": {
    "colab": {
     "base_uri": "https://localhost:8080/",
     "height": 233
    },
    "id": "wPdTWUtDU45d",
    "outputId": "ebcbdfef-ca4e-49ea-ca8f-0a201db7c27d"
   },
   "outputs": [
    {
     "data": {
      "image/png": "[encoded data removed]",
      "text/plain": [
       "<Figure size 576x576 with 3 Axes>"
      ]
     },
     "metadata": {
      "needs_background": "light"
     },
     "output_type": "display_data"
    }
   ],
   "source": [
    "fig = plt.figure(figsize=(8, 8))\n",
    "fig.add_subplot(1, 3, 1)\n",
    "plt.imshow(A_noise_40.reshape((9, 7)), interpolation='nearest',cmap='Greys')\n",
    "plt.title('Letter A with noise')\n",
    "fig.add_subplot(1, 3, 2)\n",
    "plt.imshow(B_noise_40.reshape((9, 7)), interpolation='nearest',cmap='Greys')\n",
    "plt.title('Letter B with noise')\n",
    "fig.add_subplot(1, 3, 3)\n",
    "plt.imshow(C_noise_40.reshape((9, 7)), interpolation='nearest',cmap='Greys')\n",
    "plt.title('Letter C with noise')\n",
    "plt.show()"
   ]
  },
  {
   "cell_type": "markdown",
   "metadata": {
    "id": "0RBpghY_OTuU"
   },
   "source": [
    "## Adding 10% noise to input of part 1's model\n",
    "The accuracy of part 1's model with 10% noise applied is 100%."
   ]
  },
  {
   "cell_type": "code",
   "execution_count": 55,
   "metadata": {
    "id": "kZ6P2M32TEkh"
   },
   "outputs": [],
   "source": [
    "predicted_A = model.forward(A_noise_10)\n",
    "predicted_B = model.forward(B_noise_10)\n",
    "predicted_C = model.forward(C_noise_10)"
   ]
  },
  {
   "cell_type": "code",
   "execution_count": 56,
   "metadata": {
    "colab": {
     "base_uri": "https://localhost:8080/",
     "height": 283
    },
    "id": "8qxSoPhkX7ON",
    "outputId": "fe760a0b-d0c3-47b9-e278-bee86c684d62"
   },
   "outputs": [
    {
     "data": {
      "image/png": "[encoded data removed]",
      "text/plain": [
       "<Figure size 576x576 with 3 Axes>"
      ]
     },
     "metadata": {
      "needs_background": "light"
     },
     "output_type": "display_data"
    }
   ],
   "source": [
    "fig = plt.figure(figsize=(8, 8))\n",
    "fig.add_subplot(1, 3, 1)\n",
    "plt.imshow(predicted_A.reshape((5, 3)), interpolation='nearest',cmap='Greys')\n",
    "plt.title('Letter A')\n",
    "fig.add_subplot(1, 3, 2)\n",
    "plt.imshow(predicted_B.reshape((5, 3)), interpolation='nearest',cmap='Greys')\n",
    "plt.title('Letter B')\n",
    "fig.add_subplot(1, 3, 3)\n",
    "plt.imshow(predicted_C.reshape((5, 3)), interpolation='nearest',cmap='Greys')\n",
    "plt.title('Letter C')\n",
    "plt.show()"
   ]
  },
  {
   "cell_type": "markdown",
   "metadata": {
    "id": "7Kyd8og_YlgB"
   },
   "source": [
    "## Adding 40% noise to input of part 1's model\n",
    "The accuracy of part 1's model with 40% noise applied is 66%."
   ]
  },
  {
   "cell_type": "code",
   "execution_count": 57,
   "metadata": {
    "id": "el-DQeoSYlgB"
   },
   "outputs": [],
   "source": [
    "predicted_A = model.forward(A_noise_40)\n",
    "predicted_B = model.forward(B_noise_40)\n",
    "predicted_C = model.forward(C_noise_40)"
   ]
  },
  {
   "cell_type": "code",
   "execution_count": 58,
   "metadata": {
    "colab": {
     "base_uri": "https://localhost:8080/",
     "height": 283
    },
    "id": "ZFzBFwj-YlgC",
    "outputId": "7f8565d2-0c67-440e-c535-0c4e44818e17"
   },
   "outputs": [
    {
     "data": {
      "image/png": "[encoded data removed]",
      "text/plain": [
       "<Figure size 576x576 with 3 Axes>"
      ]
     },
     "metadata": {
      "needs_background": "light"
     },
     "output_type": "display_data"
    }
   ],
   "source": [
    "fig = plt.figure(figsize=(8, 8))\n",
    "fig.add_subplot(1, 3, 1)\n",
    "plt.imshow(predicted_A.reshape((5, 3)), interpolation='nearest',cmap='Greys')\n",
    "plt.title('Letter A')\n",
    "fig.add_subplot(1, 3, 2)\n",
    "plt.imshow(predicted_B.reshape((5, 3)), interpolation='nearest',cmap='Greys')\n",
    "plt.title('Letter B')\n",
    "fig.add_subplot(1, 3, 3)\n",
    "plt.imshow(predicted_C.reshape((5, 3)), interpolation='nearest',cmap='Greys')\n",
    "plt.title('Letter C')\n",
    "plt.show()"
   ]
  },
  {
   "cell_type": "markdown",
   "metadata": {
    "id": "-l_UF_VeZO8k"
   },
   "source": [
    "## Adding 10% noise to input of part 2's model\n",
    "The accuracy of part 2's model with 10% noise applied is 100%."
   ]
  },
  {
   "cell_type": "code",
   "execution_count": 60,
   "metadata": {
    "id": "_lZQ6UDPZO8k"
   },
   "outputs": [],
   "source": [
    "predicted_A = model2.forward(A_noise_10)\n",
    "predicted_B = model2.forward(B_noise_10)\n",
    "predicted_C = model2.forward(C_noise_10)"
   ]
  },
  {
   "cell_type": "code",
   "execution_count": 63,
   "metadata": {
    "colab": {
     "base_uri": "https://localhost:8080/",
     "height": 195
    },
    "id": "E2mM6zsCZO8k",
    "outputId": "f85649f9-01ec-4a11-adb4-464aab92033e"
   },
   "outputs": [
    {
     "data": {
      "image/png": "[encoded data removed]",
      "text/plain": [
       "<Figure size 576x576 with 3 Axes>"
      ]
     },
     "metadata": {
      "needs_background": "light"
     },
     "output_type": "display_data"
    }
   ],
   "source": [
    "fig = plt.figure(figsize=(8, 8))\n",
    "fig.add_subplot(1, 3, 1)\n",
    "plt.imshow(predicted_A.reshape((2, 2)), interpolation='nearest',cmap='Greys')\n",
    "plt.title('Letter A')\n",
    "fig.add_subplot(1, 3, 2)\n",
    "plt.imshow(predicted_B.reshape((2, 2)), interpolation='nearest',cmap='Greys')\n",
    "plt.title('Letter B')\n",
    "fig.add_subplot(1, 3, 3)\n",
    "plt.imshow(predicted_C.reshape((2, 2)), interpolation='nearest',cmap='Greys')\n",
    "plt.title('Letter C')\n",
    "plt.show()"
   ]
  },
  {
   "cell_type": "markdown",
   "metadata": {
    "id": "7ChJItqcaOoe"
   },
   "source": [
    "## Adding 40% noise to input of part 2's model\n",
    "The accuracy of part 2's model with 40% noise applied is 100%."
   ]
  },
  {
   "cell_type": "code",
   "execution_count": 64,
   "metadata": {
    "id": "8H5PwvRYaOoe"
   },
   "outputs": [],
   "source": [
    "predicted_A = model2.forward(A_noise_40)\n",
    "predicted_B = model2.forward(B_noise_40)\n",
    "predicted_C = model2.forward(C_noise_40)"
   ]
  },
  {
   "cell_type": "code",
   "execution_count": 66,
   "metadata": {
    "colab": {
     "base_uri": "https://localhost:8080/",
     "height": 195
    },
    "id": "9_-yF_k4aOoe",
    "outputId": "f68ea704-4da7-42ea-b43d-704fb1971564"
   },
   "outputs": [
    {
     "data": {
      "image/png": "[encoded data removed]",
      "text/plain": [
       "<Figure size 576x576 with 3 Axes>"
      ]
     },
     "metadata": {
      "needs_background": "light"
     },
     "output_type": "display_data"
    }
   ],
   "source": [
    "fig = plt.figure(figsize=(8, 8))\n",
    "fig.add_subplot(1, 3, 1)\n",
    "plt.imshow(predicted_A.reshape((2, 2)), interpolation='nearest',cmap='Greys')\n",
    "plt.title('Letter A')\n",
    "fig.add_subplot(1, 3, 2)\n",
    "plt.imshow(predicted_B.reshape((2, 2)), interpolation='nearest',cmap='Greys')\n",
    "plt.title('Letter B')\n",
    "fig.add_subplot(1, 3, 3)\n",
    "plt.imshow(predicted_C.reshape((2, 2)), interpolation='nearest',cmap='Greys')\n",
    "plt.title('Letter C')\n",
    "plt.show()"
   ]
  },
  {
   "cell_type": "markdown",
   "metadata": {
    "id": "6qLRgI2za8wT"
   },
   "source": [
    "# Part 4"
   ]
  },
  {
   "cell_type": "code",
   "execution_count": 67,
   "metadata": {
    "id": "63tTEDsZa8wT"
   },
   "outputs": [],
   "source": [
    "import math\n",
    "def noise_producer2(arr,percentage):\n",
    "    pixels = int(np.prod(arr.shape)*percentage)\n",
    "    with_noise = np.copy(arr)\n",
    "    for pixel in range(pixels) :\n",
    "      random_pixel = np.random.choice(np.prod(with_noise.shape), 1)\n",
    "      with_noise.flat[random_pixel] = 0\n",
    "    return with_noise"
   ]
  },
  {
   "cell_type": "code",
   "execution_count": 68,
   "metadata": {
    "id": "DZYJdSeqa8wT"
   },
   "outputs": [],
   "source": [
    "A_noise_10 = noise_producer2(A,0.1)\n",
    "B_noise_10 = noise_producer2(B,0.1)\n",
    "C_noise_10 = noise_producer2(C,0.1)"
   ]
  },
  {
   "cell_type": "code",
   "execution_count": 69,
   "metadata": {
    "colab": {
     "base_uri": "https://localhost:8080/",
     "height": 233
    },
    "id": "NhqFtxqUa8wT",
    "outputId": "57e118c2-2324-4c2e-a730-d7ac4a1f0fae"
   },
   "outputs": [
    {
     "data": {
      "image/png": "[encoded data removed]",
      "text/plain": [
       "<Figure size 576x576 with 3 Axes>"
      ]
     },
     "metadata": {
      "needs_background": "light"
     },
     "output_type": "display_data"
    }
   ],
   "source": [
    "fig = plt.figure(figsize=(8, 8))\n",
    "fig.add_subplot(1, 3, 1)\n",
    "plt.imshow(A_noise_10.reshape((9, 7)), interpolation='nearest',cmap='Greys')\n",
    "plt.title('Letter A with noise')\n",
    "fig.add_subplot(1, 3, 2)\n",
    "plt.imshow(B_noise_10.reshape((9, 7)), interpolation='nearest',cmap='Greys')\n",
    "plt.title('Letter B with noise')\n",
    "fig.add_subplot(1, 3, 3)\n",
    "plt.imshow(C_noise_10.reshape((9, 7)), interpolation='nearest',cmap='Greys')\n",
    "plt.title('Letter C with noise')\n",
    "plt.show()"
   ]
  },
  {
   "cell_type": "code",
   "execution_count": 70,
   "metadata": {
    "id": "3v7iHscQa8wT"
   },
   "outputs": [],
   "source": [
    "A_noise_40 = noise_producer2(A,0.4)\n",
    "B_noise_40 = noise_producer2(B,0.4)\n",
    "C_noise_40 = noise_producer2(C,0.4)"
   ]
  },
  {
   "cell_type": "code",
   "execution_count": 71,
   "metadata": {
    "colab": {
     "base_uri": "https://localhost:8080/",
     "height": 233
    },
    "id": "XsVUbzgga8wT",
    "outputId": "e1950bc7-d910-4bb6-d76c-d1821c3ae26c"
   },
   "outputs": [
    {
     "data": {
      "image/png": "[encoded data removed]",
      "text/plain": [
       "<Figure size 576x576 with 3 Axes>"
      ]
     },
     "metadata": {
      "needs_background": "light"
     },
     "output_type": "display_data"
    }
   ],
   "source": [
    "fig = plt.figure(figsize=(8, 8))\n",
    "fig.add_subplot(1, 3, 1)\n",
    "plt.imshow(A_noise_40.reshape((9, 7)), interpolation='nearest',cmap='Greys')\n",
    "plt.title('Letter A with noise')\n",
    "fig.add_subplot(1, 3, 2)\n",
    "plt.imshow(B_noise_40.reshape((9, 7)), interpolation='nearest',cmap='Greys')\n",
    "plt.title('Letter B with noise')\n",
    "fig.add_subplot(1, 3, 3)\n",
    "plt.imshow(C_noise_40.reshape((9, 7)), interpolation='nearest',cmap='Greys')\n",
    "plt.title('Letter C with noise')\n",
    "plt.show()"
   ]
  },
  {
   "cell_type": "markdown",
   "metadata": {
    "id": "EIahulRya8wT"
   },
   "source": [
    "## Adding 10% noise to input of part 1's model\n",
    "The accuracy of part 1's model with 10% noise applied is 100%."
   ]
  },
  {
   "cell_type": "code",
   "execution_count": 72,
   "metadata": {
    "id": "R2nfF1qWa8wU"
   },
   "outputs": [],
   "source": [
    "predicted_A = model.forward(A_noise_10)\n",
    "predicted_B = model.forward(B_noise_10)\n",
    "predicted_C = model.forward(C_noise_10)"
   ]
  },
  {
   "cell_type": "code",
   "execution_count": 73,
   "metadata": {
    "colab": {
     "base_uri": "https://localhost:8080/",
     "height": 283
    },
    "id": "K9Kjh8rla8wU",
    "outputId": "1f5f5a51-8d2f-4fc3-a63d-e7bdc202bc87"
   },
   "outputs": [
    {
     "data": {
      "image/png": "[encoded data removed]",
      "text/plain": [
       "<Figure size 576x576 with 3 Axes>"
      ]
     },
     "metadata": {
      "needs_background": "light"
     },
     "output_type": "display_data"
    }
   ],
   "source": [
    "fig = plt.figure(figsize=(8, 8))\n",
    "fig.add_subplot(1, 3, 1)\n",
    "plt.imshow(predicted_A.reshape((5, 3)), interpolation='nearest',cmap='Greys')\n",
    "plt.title('Letter A')\n",
    "fig.add_subplot(1, 3, 2)\n",
    "plt.imshow(predicted_B.reshape((5, 3)), interpolation='nearest',cmap='Greys')\n",
    "plt.title('Letter B')\n",
    "fig.add_subplot(1, 3, 3)\n",
    "plt.imshow(predicted_C.reshape((5, 3)), interpolation='nearest',cmap='Greys')\n",
    "plt.title('Letter C')\n",
    "plt.show()"
   ]
  },
  {
   "cell_type": "markdown",
   "metadata": {
    "id": "4DWPjlE6a8wU"
   },
   "source": [
    "## Adding 40% noise to input of part 1's model\n",
    "The accuracy of part 1's model with 40% noise applied is 100%."
   ]
  },
  {
   "cell_type": "code",
   "execution_count": 74,
   "metadata": {
    "id": "gtiyHazVa8wU"
   },
   "outputs": [],
   "source": [
    "predicted_A = model.forward(A_noise_40)\n",
    "predicted_B = model.forward(B_noise_40)\n",
    "predicted_C = model.forward(C_noise_40)"
   ]
  },
  {
   "cell_type": "code",
   "execution_count": 75,
   "metadata": {
    "colab": {
     "base_uri": "https://localhost:8080/",
     "height": 283
    },
    "id": "HNrUAQ1Ba8wU",
    "outputId": "a58348b3-5d4d-442c-8cef-4df37d3a5e11"
   },
   "outputs": [
    {
     "data": {
      "image/png": "[encoded data removed]",
      "text/plain": [
       "<Figure size 576x576 with 3 Axes>"
      ]
     },
     "metadata": {
      "needs_background": "light"
     },
     "output_type": "display_data"
    }
   ],
   "source": [
    "fig = plt.figure(figsize=(8, 8))\n",
    "fig.add_subplot(1, 3, 1)\n",
    "plt.imshow(predicted_A.reshape((5, 3)), interpolation='nearest',cmap='Greys')\n",
    "plt.title('Letter A')\n",
    "fig.add_subplot(1, 3, 2)\n",
    "plt.imshow(predicted_B.reshape((5, 3)), interpolation='nearest',cmap='Greys')\n",
    "plt.title('Letter B')\n",
    "fig.add_subplot(1, 3, 3)\n",
    "plt.imshow(predicted_C.reshape((5, 3)), interpolation='nearest',cmap='Greys')\n",
    "plt.title('Letter C')\n",
    "plt.show()"
   ]
  },
  {
   "cell_type": "markdown",
   "metadata": {
    "id": "O9mAZIeOa8wU"
   },
   "source": [
    "## Adding 10% noise to input of part 2's model\n",
    "The accuracy of part 2's model with 10% noise applied is 100%."
   ]
  },
  {
   "cell_type": "code",
   "execution_count": 76,
   "metadata": {
    "id": "EKAWojcBa8wV"
   },
   "outputs": [],
   "source": [
    "predicted_A = model2.forward(A_noise_10)\n",
    "predicted_B = model2.forward(B_noise_10)\n",
    "predicted_C = model2.forward(C_noise_10)"
   ]
  },
  {
   "cell_type": "code",
   "execution_count": 78,
   "metadata": {
    "colab": {
     "base_uri": "https://localhost:8080/",
     "height": 195
    },
    "id": "UjILX2m8a8wV",
    "outputId": "a5a611cc-18af-4dc6-b130-f3148ac321fe"
   },
   "outputs": [
    {
     "data": {
      "image/png": "[encoded data removed]",
      "text/plain": [
       "<Figure size 576x576 with 3 Axes>"
      ]
     },
     "metadata": {
      "needs_background": "light"
     },
     "output_type": "display_data"
    }
   ],
   "source": [
    "fig = plt.figure(figsize=(8, 8))\n",
    "fig.add_subplot(1, 3, 1)\n",
    "plt.imshow(predicted_A.reshape((2, 2)), interpolation='nearest',cmap='Greys')\n",
    "plt.title('Letter A')\n",
    "fig.add_subplot(1, 3, 2)\n",
    "plt.imshow(predicted_B.reshape((2, 2)), interpolation='nearest',cmap='Greys')\n",
    "plt.title('Letter B')\n",
    "fig.add_subplot(1, 3, 3)\n",
    "plt.imshow(predicted_C.reshape((2, 2)), interpolation='nearest',cmap='Greys')\n",
    "plt.title('Letter C')\n",
    "plt.show()"
   ]
  },
  {
   "cell_type": "markdown",
   "metadata": {
    "id": "MBxe4j0ta8wV"
   },
   "source": [
    "## Adding 40% noise to input of part 2's model\n",
    "The accuracy of part 2's model with 40% noise applied is 100%."
   ]
  },
  {
   "cell_type": "code",
   "execution_count": null,
   "metadata": {
    "id": "gt4h6dwva8wV"
   },
   "outputs": [],
   "source": [
    "predicted_A = model2.forward(A_noise_40)\n",
    "predicted_B = model2.forward(B_noise_40)\n",
    "predicted_C = model2.forward(C_noise_40)"
   ]
  },
  {
   "cell_type": "code",
   "execution_count": null,
   "metadata": {
    "colab": {
     "base_uri": "https://localhost:8080/",
     "height": 195
    },
    "id": "lr-2OPw-a8wV",
    "outputId": "41963921-d506-4420-cad9-9554329ff151"
   },
   "outputs": [],
   "source": [
    "fig = plt.figure(figsize=(8, 8))\n",
    "fig.add_subplot(1, 3, 1)\n",
    "plt.imshow(predicted_A.reshape((2, 2)), interpolation='nearest',cmap='Greys')\n",
    "plt.title('Letter A')\n",
    "fig.add_subplot(1, 3, 2)\n",
    "plt.imshow(predicted_B.reshape((2, 2)), interpolation='nearest',cmap='Greys')\n",
    "plt.title('Letter B')\n",
    "fig.add_subplot(1, 3, 3)\n",
    "plt.imshow(predicted_C.reshape((2, 2)), interpolation='nearest',cmap='Greys')\n",
    "plt.title('Letter C')\n",
    "plt.show()"
   ]
  },
  {
   "cell_type": "code",
   "execution_count": null,
   "metadata": {
    "id": "KIfc6sc3a8wV"
   },
   "outputs": [],
   "source": []
  }
 ],
 "metadata": {
  "colab": {
   "collapsed_sections": [
    "oZaAnI3wOFYN",
    "0RBpghY_OTuU",
    "7Kyd8og_YlgB",
    "-l_UF_VeZO8k"
   ],
   "name": "1.CharacterRecog.ipynb",
   "provenance": []
  },
  "kernelspec": {
   "display_name": "Python 3 (ipykernel)",
   "language": "python",
   "name": "python3"
  },
  "language_info": {
   "codemirror_mode": {
    "name": "ipython",
    "version": 3
   },
   "file_extension": ".py",
   "mimetype": "text/x-python",
   "name": "python",
   "nbconvert_exporter": "python",
   "pygments_lexer": "ipython3",
   "version": "3.9.5"
  }
 },
 "nbformat": 4,
 "nbformat_minor": 1
}
