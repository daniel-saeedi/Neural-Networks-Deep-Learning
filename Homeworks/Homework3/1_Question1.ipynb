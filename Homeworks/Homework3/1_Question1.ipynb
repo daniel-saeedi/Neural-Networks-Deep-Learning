{
  "nbformat": 4,
  "nbformat_minor": 0,
  "metadata": {
    "colab": {
      "name": "1.CharacterRecog.ipynb",
      "provenance": [],
      "collapsed_sections": [
        "oZaAnI3wOFYN",
        "0RBpghY_OTuU",
        "7Kyd8og_YlgB",
        "-l_UF_VeZO8k"
      ]
    },
    "kernelspec": {
      "name": "python3",
      "display_name": "Python 3"
    },
    "language_info": {
      "name": "python"
    }
  },
  "cells": [
    {
      "cell_type": "code",
      "source": [
        "!pip install neupy"
      ],
      "metadata": {
        "id": "H_29X7r4hptu"
      },
      "execution_count": null,
      "outputs": []
    },
    {
      "cell_type": "code",
      "execution_count": null,
      "metadata": {
        "id": "4J9nC69FPxFb"
      },
      "outputs": [],
      "source": [
        "import numpy as np\n",
        "import pandas as pd"
      ]
    },
    {
      "cell_type": "code",
      "source": [
        "A = np.array([\n",
        "    -1,-1,-1,1,-1,-1,-1,\n",
        "    -1,-1,-1,1,-1,-1,-1,\n",
        "    -1,-1,-1,1,-1,-1,-1,\n",
        "    -1,-1,1,-1,1,-1,-1,\n",
        "    -1,-1,1,-1,1,-1,-1,\n",
        "    -1,1,1,1,1,1,-1,\n",
        "    -1,1,-1,-1,-1,1,-1,\n",
        "    -1,1,-1,-1,-1,1,-1,\n",
        "    1,1,1,-1,1,1,1,\n",
        "])\n",
        "\n",
        "B = np.array([\n",
        "    1,1,1,1,1,1,1,\n",
        "    1,-1,-1,-1,-1,-1,1,\n",
        "    1,-1,-1,-1,-1,1,-1,\n",
        "    1,-1,-1,-1,1,-1,-1,\n",
        "    1,1,1,1,-1,-1,-1,\n",
        "    1,-1,-1,-1,1,-1,-1,\n",
        "    1,-1,-1,-1,-1,1,-1,\n",
        "    1,-1,-1,-1,-1,-1,1,\n",
        "    1,1,1,1,1,1,1,\n",
        "])\n",
        "\n",
        "\n",
        "C = np.array([\n",
        "    -1,-1,1,1,1,1,-1,\n",
        "    -1,1,-1,-1,-1,-1,1,\n",
        "    1,-1,-1,-1,-1,-1,-1,\n",
        "    1,-1,-1,-1,-1,-1,-1,\n",
        "    1,-1,-1,-1,-1,-1,-1,\n",
        "    1,-1,-1,-1,-1,-1,-1,\n",
        "    1,-1,-1,-1,-1,-1,-1,\n",
        "    -1,1,-1,-1,-1,-1,1,\n",
        "    -1,-1,1,1,1,1,-1,\n",
        "])"
      ],
      "metadata": {
        "id": "ASNK3vCnVb3F"
      },
      "execution_count": null,
      "outputs": []
    },
    {
      "cell_type": "code",
      "source": [
        "from matplotlib import pyplot as plt\n",
        "plt.imshow(C.reshape((9, 7)), interpolation='nearest',cmap='Greys')\n",
        "plt.show()"
      ],
      "metadata": {
        "colab": {
          "base_uri": "https://localhost:8080/",
          "height": 265
        },
        "id": "5mukNxRpVhSS",
        "outputId": "79cb4644-7924-48b9-f1f3-9944806193d2"
      },
      "execution_count": null,
      "outputs": [
        {
          "output_type": "display_data",
          "data": {
            "image/png": "[encoded data removed]",
            "text/plain": [
              "<Figure size 432x288 with 1 Axes>"
            ]
          },
          "metadata": {
            "needs_background": "light"
          }
        }
      ]
    },
    {
      "cell_type": "code",
      "source": [
        "small_A = np.array([\n",
        "    -1,1,-1,\n",
        "    1,-1,1,\n",
        "    1,1,1,\n",
        "    1,-1,1,\n",
        "    1,-1,1,\n",
        "])\n",
        "\n",
        "small_B = np.array([\n",
        "    1,1,-1,\n",
        "    1,-1,1,\n",
        "    1,1,-1,\n",
        "    1,-1,1,\n",
        "    1,1,-1,\n",
        "]).reshape(5,3)\n",
        "\n",
        "small_C = np.array([\n",
        "    -1,1,1,\n",
        "    1,-1,-1,\n",
        "    1,-1,-1,\n",
        "    1,-1,-1,\n",
        "    -1,1,1,\n",
        "]).reshape(5,3)"
      ],
      "metadata": {
        "id": "44uS9QMIZugV"
      },
      "execution_count": null,
      "outputs": []
    },
    {
      "cell_type": "code",
      "source": [
        "plt.imshow(small_C.reshape((5, 3)), interpolation='nearest',cmap='Greys')\n",
        "plt.show()"
      ],
      "metadata": {
        "colab": {
          "base_uri": "https://localhost:8080/",
          "height": 265
        },
        "id": "Q54TTWt_eySp",
        "outputId": "31c61c74-06de-4d2b-a1fc-51f9e829abc3"
      },
      "execution_count": null,
      "outputs": [
        {
          "output_type": "display_data",
          "data": {
            "image/png": "[encoded data removed]",
            "text/plain": [
              "<Figure size 432x288 with 1 Axes>"
            ]
          },
          "metadata": {
            "needs_background": "light"
          }
        }
      ]
    },
    {
      "cell_type": "code",
      "source": [
        "X_train = np.concatenate([A.reshape(1,63), B.reshape(1,63), C.reshape(1,63)], axis=0)\n",
        "y_train = np.concatenate([small_A.reshape(1,15), small_B.reshape(1,15), small_C.reshape(1,15)], axis=0)"
      ],
      "metadata": {
        "id": "7fNIHIVQeysq"
      },
      "execution_count": null,
      "outputs": []
    },
    {
      "cell_type": "code",
      "source": [
        "class AdaLineNetwork() :\n",
        "    \n",
        "    def __init__(self, in_features, out_features, seed = 42) :\n",
        "        #Seed\n",
        "        np.random.seed(seed)\n",
        "\n",
        "        self.in_features = in_features\n",
        "        self.out_features = out_features\n",
        "        # Initialize Weights & Biases\n",
        "        self.init_wad()\n",
        "        \n",
        "    # Initialize Weights with 0\n",
        "    def init_wad(self) :\n",
        "        self.weights = np.zeros(shape=(in_features*out_features,)).reshape(-1,out_features)\n",
        "    \n",
        "    #Activation Function\n",
        "    def h(self,num) :\n",
        "        if num >= 0 :\n",
        "            return 1\n",
        "        else :\n",
        "            return -1\n",
        "    def forward(self, x):\n",
        "        net = np.matmul(x,self.weights)\n",
        "        prediction = pd.Series(net)\n",
        "        prediction = prediction.apply(self.h).values\n",
        "        return prediction\n",
        "    \n",
        "    def backward(self,x,y) :\n",
        "        new_weight = np.matmul(x.reshape(-1,1),y.reshape(1,-1))\n",
        "        self.weights = self.weights + new_weight\n",
        "        \n",
        "    def train(self,X_train,y_train,epochs = 1) :\n",
        "        error_per_epoch = []\n",
        "        for epoch in range(0,epochs):\n",
        "            \n",
        "            for i in range(len(X_train)) :\n",
        "              # Backpropagation\n",
        "              self.backward(X_train[i],y_train[i])\n",
        "                \n"
      ],
      "metadata": {
        "id": "22UDdDnghnHB"
      },
      "execution_count": null,
      "outputs": []
    },
    {
      "cell_type": "markdown",
      "source": [
        "# Part 1"
      ],
      "metadata": {
        "id": "H9jJeQCtKLi-"
      }
    },
    {
      "cell_type": "code",
      "source": [
        "in_features = 63\n",
        "out_features = 15\n",
        "model = AdaLineNetwork(in_features, out_features)"
      ],
      "metadata": {
        "id": "FKSp97QVn4u9"
      },
      "execution_count": null,
      "outputs": []
    },
    {
      "cell_type": "code",
      "source": [
        "model.train(X_train,y_train, epochs = 1)"
      ],
      "metadata": {
        "id": "pcSlSanbxfrs"
      },
      "execution_count": null,
      "outputs": []
    },
    {
      "cell_type": "code",
      "source": [
        "predicted_A = model.forward(X_train[0])\n",
        "predicted_B = model.forward(X_train[1])\n",
        "predicted_C = model.forward(X_train[2])"
      ],
      "metadata": {
        "id": "zGljclqDDfUs"
      },
      "execution_count": null,
      "outputs": []
    },
    {
      "cell_type": "code",
      "source": [
        "fig = plt.figure(figsize=(8, 8))\n",
        "fig.add_subplot(1, 3, 1)\n",
        "plt.imshow(predicted_A.reshape((5, 3)), interpolation='nearest',cmap='Greys')\n",
        "plt.title('Letter A')\n",
        "fig.add_subplot(1, 3, 2)\n",
        "plt.imshow(predicted_B.reshape((5, 3)), interpolation='nearest',cmap='Greys')\n",
        "plt.title('Letter B')\n",
        "fig.add_subplot(1, 3, 3)\n",
        "plt.imshow(predicted_C.reshape((5, 3)), interpolation='nearest',cmap='Greys')\n",
        "plt.title('Letter C')\n",
        "plt.show()"
      ],
      "metadata": {
        "colab": {
          "base_uri": "https://localhost:8080/",
          "height": 283
        },
        "id": "DaMJqAcQ_Pdm",
        "outputId": "f3ebf80e-c764-40a7-d504-c1725ea36687"
      },
      "execution_count": null,
      "outputs": [
        {
          "output_type": "display_data",
          "data": {
            "image/png": "[encoded data removed]",
            "text/plain": [
              "<Figure size 576x576 with 3 Axes>"
            ]
          },
          "metadata": {
            "needs_background": "light"
          }
        }
      ]
    },
    {
      "cell_type": "markdown",
      "source": [
        "# Part 2\n",
        "The smallest dimension we can reduce to is 3x3."
      ],
      "metadata": {
        "id": "lnIRvaFrKNyn"
      }
    },
    {
      "cell_type": "code",
      "source": [
        "smallest_A = np.array([\n",
        "    -1,1,-1,\n",
        "    1,1,1,\n",
        "    1,-1,1,\n",
        "]).reshape(3,3)\n",
        "\n",
        "smallest_B = np.array([\n",
        "    1,1,-1,\n",
        "    1,1,1,\n",
        "    1,1,1,\n",
        "]).reshape(3,3)\n",
        "\n",
        "smallest_C = np.array([\n",
        "    1,1,1,\n",
        "    1,-1,-1,\n",
        "    1,1,1,\n",
        "]).reshape(3,3)"
      ],
      "metadata": {
        "id": "rCfWMKOTDDSz"
      },
      "execution_count": null,
      "outputs": []
    },
    {
      "cell_type": "code",
      "source": [
        "plt.imshow(smallest_A.reshape((3, 3)), interpolation='nearest',cmap='Greys')\n",
        "plt.show()"
      ],
      "metadata": {
        "colab": {
          "base_uri": "https://localhost:8080/",
          "height": 269
        },
        "id": "9jru_iqDLC3p",
        "outputId": "65ad6ce7-578a-40c9-bd98-70ed4adf75cd"
      },
      "execution_count": null,
      "outputs": [
        {
          "output_type": "display_data",
          "data": {
            "image/png": "[encoded data removed]",
            "text/plain": [
              "<Figure size 432x288 with 1 Axes>"
            ]
          },
          "metadata": {
            "needs_background": "light"
          }
        }
      ]
    },
    {
      "cell_type": "code",
      "source": [
        "y_train2 = np.concatenate([smallest_A.reshape(1,9), smallest_B.reshape(1,9), smallest_C.reshape(1,9)], axis=0)"
      ],
      "metadata": {
        "id": "Wt6bfSL-LEyR"
      },
      "execution_count": null,
      "outputs": []
    },
    {
      "cell_type": "code",
      "source": [
        "in_features = 63\n",
        "out_features = 9\n",
        "model2 = AdaLineNetwork(in_features, out_features)"
      ],
      "metadata": {
        "id": "2OvIVWWdMLwu"
      },
      "execution_count": null,
      "outputs": []
    },
    {
      "cell_type": "code",
      "source": [
        "model2.train(X_train,y_train2, epochs = 1)"
      ],
      "metadata": {
        "id": "yEZAdWVCMUgH"
      },
      "execution_count": null,
      "outputs": []
    },
    {
      "cell_type": "code",
      "source": [
        "predicted_A = model2.forward(X_train[0])\n",
        "predicted_B = model2.forward(X_train[1])\n",
        "predicted_C = model2.forward(X_train[2])"
      ],
      "metadata": {
        "id": "X5x83l94MYW6"
      },
      "execution_count": null,
      "outputs": []
    },
    {
      "cell_type": "code",
      "source": [
        "fig = plt.figure(figsize=(8, 8))\n",
        "fig.add_subplot(1, 3, 1)\n",
        "plt.imshow(predicted_A.reshape((3, 3)), interpolation='nearest',cmap='Greys')\n",
        "plt.title('Letter A')\n",
        "fig.add_subplot(1, 3, 2)\n",
        "plt.imshow(predicted_B.reshape((3, 3)), interpolation='nearest',cmap='Greys')\n",
        "plt.title('Letter B')\n",
        "fig.add_subplot(1, 3, 3)\n",
        "plt.imshow(predicted_C.reshape((3, 3)), interpolation='nearest',cmap='Greys')\n",
        "plt.title('Letter C')\n",
        "plt.show()"
      ],
      "metadata": {
        "colab": {
          "base_uri": "https://localhost:8080/",
          "height": 195
        },
        "id": "2X0v8FAAMoFl",
        "outputId": "27e489a3-479c-4bc3-9bb8-e6ec14fb3767"
      },
      "execution_count": null,
      "outputs": [
        {
          "output_type": "display_data",
          "data": {
            "image/png": "[encoded data removed]",
            "text/plain": [
              "<Figure size 576x576 with 3 Axes>"
            ]
          },
          "metadata": {
            "needs_background": "light"
          }
        }
      ]
    },
    {
      "cell_type": "markdown",
      "source": [
        "# Part 3"
      ],
      "metadata": {
        "id": "oZaAnI3wOFYN"
      }
    },
    {
      "cell_type": "code",
      "source": [
        "import math\n",
        "def noise_producer(arr,percentage):\n",
        "    pixels = int(np.prod(arr.shape)*percentage)\n",
        "    with_noise = np.copy(arr)\n",
        "    for pixel in range(pixels) :\n",
        "      random_pixel = np.random.choice(np.prod(with_noise.shape), 1)\n",
        "      if with_noise.flat[random_pixel] == -1 :\n",
        "        with_noise.flat[random_pixel] = 1\n",
        "      else:\n",
        "        with_noise.flat[random_pixel] = -1\n",
        "    \n",
        "    return with_noise"
      ],
      "metadata": {
        "id": "XdjD3RrlOd0h"
      },
      "execution_count": null,
      "outputs": []
    },
    {
      "cell_type": "code",
      "source": [
        "A_noise_10 = noise_producer(A,0.1)\n",
        "B_noise_10 = noise_producer(B,0.1)\n",
        "C_noise_10 = noise_producer(C,0.1)"
      ],
      "metadata": {
        "id": "GLm2ek6ORazG"
      },
      "execution_count": null,
      "outputs": []
    },
    {
      "cell_type": "code",
      "source": [
        "fig = plt.figure(figsize=(8, 8))\n",
        "fig.add_subplot(1, 3, 1)\n",
        "plt.imshow(A_noise_10.reshape((9, 7)), interpolation='nearest',cmap='Greys')\n",
        "plt.title('Letter A with noise')\n",
        "fig.add_subplot(1, 3, 2)\n",
        "plt.imshow(B_noise_10.reshape((9, 7)), interpolation='nearest',cmap='Greys')\n",
        "plt.title('Letter B with noise')\n",
        "fig.add_subplot(1, 3, 3)\n",
        "plt.imshow(C_noise_10.reshape((9, 7)), interpolation='nearest',cmap='Greys')\n",
        "plt.title('Letter C with noise')\n",
        "plt.show()"
      ],
      "metadata": {
        "colab": {
          "base_uri": "https://localhost:8080/",
          "height": 233
        },
        "id": "fQCf2KDMS7Ae",
        "outputId": "62b6c425-5d42-4c9d-a898-ffc41178c523"
      },
      "execution_count": null,
      "outputs": [
        {
          "output_type": "display_data",
          "data": {
            "image/png": "[encoded data removed]",
            "text/plain": [
              "<Figure size 576x576 with 3 Axes>"
            ]
          },
          "metadata": {
            "needs_background": "light"
          }
        }
      ]
    },
    {
      "cell_type": "code",
      "source": [
        "A_noise_40 = noise_producer(A,0.4)\n",
        "B_noise_40 = noise_producer(B,0.4)\n",
        "C_noise_40 = noise_producer(C,0.4)"
      ],
      "metadata": {
        "id": "FNznn4zVUvwB"
      },
      "execution_count": null,
      "outputs": []
    },
    {
      "cell_type": "code",
      "source": [
        "fig = plt.figure(figsize=(8, 8))\n",
        "fig.add_subplot(1, 3, 1)\n",
        "plt.imshow(A_noise_40.reshape((9, 7)), interpolation='nearest',cmap='Greys')\n",
        "plt.title('Letter A with noise')\n",
        "fig.add_subplot(1, 3, 2)\n",
        "plt.imshow(B_noise_40.reshape((9, 7)), interpolation='nearest',cmap='Greys')\n",
        "plt.title('Letter B with noise')\n",
        "fig.add_subplot(1, 3, 3)\n",
        "plt.imshow(C_noise_40.reshape((9, 7)), interpolation='nearest',cmap='Greys')\n",
        "plt.title('Letter C with noise')\n",
        "plt.show()"
      ],
      "metadata": {
        "colab": {
          "base_uri": "https://localhost:8080/",
          "height": 233
        },
        "id": "wPdTWUtDU45d",
        "outputId": "ebcbdfef-ca4e-49ea-ca8f-0a201db7c27d"
      },
      "execution_count": null,
      "outputs": [
        {
          "output_type": "display_data",
          "data": {
            "image/png": "[encoded data removed]",
            "text/plain": [
              "<Figure size 576x576 with 3 Axes>"
            ]
          },
          "metadata": {
            "needs_background": "light"
          }
        }
      ]
    },
    {
      "cell_type": "markdown",
      "source": [
        "## Adding 10% noise to input of part 1's model\n",
        "The accuracy of part 1's model with 10% noise applied is 100%."
      ],
      "metadata": {
        "id": "0RBpghY_OTuU"
      }
    },
    {
      "cell_type": "code",
      "source": [
        "predicted_A = model.forward(A_noise_10)\n",
        "predicted_B = model.forward(B_noise_10)\n",
        "predicted_C = model.forward(C_noise_10)"
      ],
      "metadata": {
        "id": "kZ6P2M32TEkh"
      },
      "execution_count": null,
      "outputs": []
    },
    {
      "cell_type": "code",
      "source": [
        "fig = plt.figure(figsize=(8, 8))\n",
        "fig.add_subplot(1, 3, 1)\n",
        "plt.imshow(predicted_A.reshape((5, 3)), interpolation='nearest',cmap='Greys')\n",
        "plt.title('Letter A')\n",
        "fig.add_subplot(1, 3, 2)\n",
        "plt.imshow(predicted_B.reshape((5, 3)), interpolation='nearest',cmap='Greys')\n",
        "plt.title('Letter B')\n",
        "fig.add_subplot(1, 3, 3)\n",
        "plt.imshow(predicted_C.reshape((5, 3)), interpolation='nearest',cmap='Greys')\n",
        "plt.title('Letter C')\n",
        "plt.show()"
      ],
      "metadata": {
        "colab": {
          "base_uri": "https://localhost:8080/",
          "height": 283
        },
        "id": "8qxSoPhkX7ON",
        "outputId": "fe760a0b-d0c3-47b9-e278-bee86c684d62"
      },
      "execution_count": null,
      "outputs": [
        {
          "output_type": "display_data",
          "data": {
            "image/png": "[encoded data removed]",
            "text/plain": [
              "<Figure size 576x576 with 3 Axes>"
            ]
          },
          "metadata": {
            "needs_background": "light"
          }
        }
      ]
    },
    {
      "cell_type": "markdown",
      "source": [
        "## Adding 40% noise to input of part 1's model\n",
        "The accuracy of part 1's model with 40% noise applied is 66%."
      ],
      "metadata": {
        "id": "7Kyd8og_YlgB"
      }
    },
    {
      "cell_type": "code",
      "source": [
        "predicted_A = model.forward(A_noise_40)\n",
        "predicted_B = model.forward(B_noise_40)\n",
        "predicted_C = model.forward(C_noise_40)"
      ],
      "metadata": {
        "id": "el-DQeoSYlgB"
      },
      "execution_count": null,
      "outputs": []
    },
    {
      "cell_type": "code",
      "source": [
        "fig = plt.figure(figsize=(8, 8))\n",
        "fig.add_subplot(1, 3, 1)\n",
        "plt.imshow(predicted_A.reshape((5, 3)), interpolation='nearest',cmap='Greys')\n",
        "plt.title('Letter A')\n",
        "fig.add_subplot(1, 3, 2)\n",
        "plt.imshow(predicted_B.reshape((5, 3)), interpolation='nearest',cmap='Greys')\n",
        "plt.title('Letter B')\n",
        "fig.add_subplot(1, 3, 3)\n",
        "plt.imshow(predicted_C.reshape((5, 3)), interpolation='nearest',cmap='Greys')\n",
        "plt.title('Letter C')\n",
        "plt.show()"
      ],
      "metadata": {
        "colab": {
          "base_uri": "https://localhost:8080/",
          "height": 283
        },
        "outputId": "7f8565d2-0c67-440e-c535-0c4e44818e17",
        "id": "ZFzBFwj-YlgC"
      },
      "execution_count": null,
      "outputs": [
        {
          "output_type": "display_data",
          "data": {
            "image/png": "[encoded data removed]",
            "text/plain": [
              "<Figure size 576x576 with 3 Axes>"
            ]
          },
          "metadata": {
            "needs_background": "light"
          }
        }
      ]
    },
    {
      "cell_type": "markdown",
      "source": [
        "## Adding 10% noise to input of part 2's model\n",
        "The accuracy of part 2's model with 10% noise applied is 100%."
      ],
      "metadata": {
        "id": "-l_UF_VeZO8k"
      }
    },
    {
      "cell_type": "code",
      "source": [
        "predicted_A = model2.forward(A_noise_10)\n",
        "predicted_B = model2.forward(B_noise_10)\n",
        "predicted_C = model2.forward(C_noise_10)"
      ],
      "metadata": {
        "id": "_lZQ6UDPZO8k"
      },
      "execution_count": null,
      "outputs": []
    },
    {
      "cell_type": "code",
      "source": [
        "fig = plt.figure(figsize=(8, 8))\n",
        "fig.add_subplot(1, 3, 1)\n",
        "plt.imshow(predicted_A.reshape((3, 3)), interpolation='nearest',cmap='Greys')\n",
        "plt.title('Letter A')\n",
        "fig.add_subplot(1, 3, 2)\n",
        "plt.imshow(predicted_B.reshape((3, 3)), interpolation='nearest',cmap='Greys')\n",
        "plt.title('Letter B')\n",
        "fig.add_subplot(1, 3, 3)\n",
        "plt.imshow(predicted_C.reshape((3, 3)), interpolation='nearest',cmap='Greys')\n",
        "plt.title('Letter C')\n",
        "plt.show()"
      ],
      "metadata": {
        "colab": {
          "base_uri": "https://localhost:8080/",
          "height": 195
        },
        "outputId": "f85649f9-01ec-4a11-adb4-464aab92033e",
        "id": "E2mM6zsCZO8k"
      },
      "execution_count": null,
      "outputs": [
        {
          "output_type": "display_data",
          "data": {
            "image/png": "[encoded data removed]",
            "text/plain": [
              "<Figure size 576x576 with 3 Axes>"
            ]
          },
          "metadata": {
            "needs_background": "light"
          }
        }
      ]
    },
    {
      "cell_type": "markdown",
      "source": [
        "## Adding 40% noise to input of part 2's model\n",
        "The accuracy of part 2's model with 40% noise applied is 100%."
      ],
      "metadata": {
        "id": "7ChJItqcaOoe"
      }
    },
    {
      "cell_type": "code",
      "source": [
        "predicted_A = model2.forward(A_noise_40)\n",
        "predicted_B = model2.forward(B_noise_40)\n",
        "predicted_C = model2.forward(C_noise_40)"
      ],
      "metadata": {
        "id": "8H5PwvRYaOoe"
      },
      "execution_count": null,
      "outputs": []
    },
    {
      "cell_type": "code",
      "source": [
        "fig = plt.figure(figsize=(8, 8))\n",
        "fig.add_subplot(1, 3, 1)\n",
        "plt.imshow(predicted_A.reshape((3, 3)), interpolation='nearest',cmap='Greys')\n",
        "plt.title('Letter A')\n",
        "fig.add_subplot(1, 3, 2)\n",
        "plt.imshow(predicted_B.reshape((3, 3)), interpolation='nearest',cmap='Greys')\n",
        "plt.title('Letter B')\n",
        "fig.add_subplot(1, 3, 3)\n",
        "plt.imshow(predicted_C.reshape((3, 3)), interpolation='nearest',cmap='Greys')\n",
        "plt.title('Letter C')\n",
        "plt.show()"
      ],
      "metadata": {
        "colab": {
          "base_uri": "https://localhost:8080/",
          "height": 195
        },
        "outputId": "f68ea704-4da7-42ea-b43d-704fb1971564",
        "id": "9_-yF_k4aOoe"
      },
      "execution_count": null,
      "outputs": [
        {
          "output_type": "display_data",
          "data": {
            "image/png": "[encoded data removed]",
            "text/plain": [
              "<Figure size 576x576 with 3 Axes>"
            ]
          },
          "metadata": {
            "needs_background": "light"
          }
        }
      ]
    },
    {
      "cell_type": "code",
      "source": [
        ""
      ],
      "metadata": {
        "id": "X5px7nsCaVr_"
      },
      "execution_count": null,
      "outputs": []
    },
    {
      "cell_type": "markdown",
      "source": [
        "# Part 4"
      ],
      "metadata": {
        "id": "6qLRgI2za8wT"
      }
    },
    {
      "cell_type": "code",
      "source": [
        "import math\n",
        "def noise_producer2(arr,percentage):\n",
        "    pixels = int(np.prod(arr.shape)*percentage)\n",
        "    with_noise = np.copy(arr)\n",
        "    for pixel in range(pixels) :\n",
        "      random_pixel = np.random.choice(np.prod(with_noise.shape), 1)\n",
        "      with_noise.flat[random_pixel] = 0\n",
        "    return with_noise"
      ],
      "metadata": {
        "id": "63tTEDsZa8wT"
      },
      "execution_count": null,
      "outputs": []
    },
    {
      "cell_type": "code",
      "source": [
        "A_noise_10 = noise_producer2(A,0.1)\n",
        "B_noise_10 = noise_producer2(B,0.1)\n",
        "C_noise_10 = noise_producer2(C,0.1)"
      ],
      "metadata": {
        "id": "DZYJdSeqa8wT"
      },
      "execution_count": null,
      "outputs": []
    },
    {
      "cell_type": "code",
      "source": [
        "fig = plt.figure(figsize=(8, 8))\n",
        "fig.add_subplot(1, 3, 1)\n",
        "plt.imshow(A_noise_10.reshape((9, 7)), interpolation='nearest',cmap='Greys')\n",
        "plt.title('Letter A with noise')\n",
        "fig.add_subplot(1, 3, 2)\n",
        "plt.imshow(B_noise_10.reshape((9, 7)), interpolation='nearest',cmap='Greys')\n",
        "plt.title('Letter B with noise')\n",
        "fig.add_subplot(1, 3, 3)\n",
        "plt.imshow(C_noise_10.reshape((9, 7)), interpolation='nearest',cmap='Greys')\n",
        "plt.title('Letter C with noise')\n",
        "plt.show()"
      ],
      "metadata": {
        "colab": {
          "base_uri": "https://localhost:8080/",
          "height": 233
        },
        "outputId": "57e118c2-2324-4c2e-a730-d7ac4a1f0fae",
        "id": "NhqFtxqUa8wT"
      },
      "execution_count": null,
      "outputs": [
        {
          "output_type": "display_data",
          "data": {
            "image/png": "[encoded data removed]",
            "text/plain": [
              "<Figure size 576x576 with 3 Axes>"
            ]
          },
          "metadata": {
            "needs_background": "light"
          }
        }
      ]
    },
    {
      "cell_type": "code",
      "source": [
        "A_noise_40 = noise_producer2(A,0.4)\n",
        "B_noise_40 = noise_producer2(B,0.4)\n",
        "C_noise_40 = noise_producer2(C,0.4)"
      ],
      "metadata": {
        "id": "3v7iHscQa8wT"
      },
      "execution_count": null,
      "outputs": []
    },
    {
      "cell_type": "code",
      "source": [
        "fig = plt.figure(figsize=(8, 8))\n",
        "fig.add_subplot(1, 3, 1)\n",
        "plt.imshow(A_noise_40.reshape((9, 7)), interpolation='nearest',cmap='Greys')\n",
        "plt.title('Letter A with noise')\n",
        "fig.add_subplot(1, 3, 2)\n",
        "plt.imshow(B_noise_40.reshape((9, 7)), interpolation='nearest',cmap='Greys')\n",
        "plt.title('Letter B with noise')\n",
        "fig.add_subplot(1, 3, 3)\n",
        "plt.imshow(C_noise_40.reshape((9, 7)), interpolation='nearest',cmap='Greys')\n",
        "plt.title('Letter C with noise')\n",
        "plt.show()"
      ],
      "metadata": {
        "colab": {
          "base_uri": "https://localhost:8080/",
          "height": 233
        },
        "outputId": "e1950bc7-d910-4bb6-d76c-d1821c3ae26c",
        "id": "XsVUbzgga8wT"
      },
      "execution_count": null,
      "outputs": [
        {
          "output_type": "display_data",
          "data": {
            "image/png": "[encoded data removed]",
            "text/plain": [
              "<Figure size 576x576 with 3 Axes>"
            ]
          },
          "metadata": {
            "needs_background": "light"
          }
        }
      ]
    },
    {
      "cell_type": "markdown",
      "source": [
        "## Adding 10% noise to input of part 1's model\n",
        "The accuracy of part 1's model with 10% noise applied is 100%."
      ],
      "metadata": {
        "id": "EIahulRya8wT"
      }
    },
    {
      "cell_type": "code",
      "source": [
        "predicted_A = model.forward(A_noise_10)\n",
        "predicted_B = model.forward(B_noise_10)\n",
        "predicted_C = model.forward(C_noise_10)"
      ],
      "metadata": {
        "id": "R2nfF1qWa8wU"
      },
      "execution_count": null,
      "outputs": []
    },
    {
      "cell_type": "code",
      "source": [
        "fig = plt.figure(figsize=(8, 8))\n",
        "fig.add_subplot(1, 3, 1)\n",
        "plt.imshow(predicted_A.reshape((5, 3)), interpolation='nearest',cmap='Greys')\n",
        "plt.title('Letter A')\n",
        "fig.add_subplot(1, 3, 2)\n",
        "plt.imshow(predicted_B.reshape((5, 3)), interpolation='nearest',cmap='Greys')\n",
        "plt.title('Letter B')\n",
        "fig.add_subplot(1, 3, 3)\n",
        "plt.imshow(predicted_C.reshape((5, 3)), interpolation='nearest',cmap='Greys')\n",
        "plt.title('Letter C')\n",
        "plt.show()"
      ],
      "metadata": {
        "colab": {
          "base_uri": "https://localhost:8080/",
          "height": 283
        },
        "outputId": "1f5f5a51-8d2f-4fc3-a63d-e7bdc202bc87",
        "id": "K9Kjh8rla8wU"
      },
      "execution_count": null,
      "outputs": [
        {
          "output_type": "display_data",
          "data": {
            "image/png": "[encoded data removed]",
            "text/plain": [
              "<Figure size 576x576 with 3 Axes>"
            ]
          },
          "metadata": {
            "needs_background": "light"
          }
        }
      ]
    },
    {
      "cell_type": "markdown",
      "source": [
        "## Adding 40% noise to input of part 1's model\n",
        "The accuracy of part 1's model with 40% noise applied is 100%."
      ],
      "metadata": {
        "id": "4DWPjlE6a8wU"
      }
    },
    {
      "cell_type": "code",
      "source": [
        "predicted_A = model.forward(A_noise_40)\n",
        "predicted_B = model.forward(B_noise_40)\n",
        "predicted_C = model.forward(C_noise_40)"
      ],
      "metadata": {
        "id": "gtiyHazVa8wU"
      },
      "execution_count": null,
      "outputs": []
    },
    {
      "cell_type": "code",
      "source": [
        "fig = plt.figure(figsize=(8, 8))\n",
        "fig.add_subplot(1, 3, 1)\n",
        "plt.imshow(predicted_A.reshape((5, 3)), interpolation='nearest',cmap='Greys')\n",
        "plt.title('Letter A')\n",
        "fig.add_subplot(1, 3, 2)\n",
        "plt.imshow(predicted_B.reshape((5, 3)), interpolation='nearest',cmap='Greys')\n",
        "plt.title('Letter B')\n",
        "fig.add_subplot(1, 3, 3)\n",
        "plt.imshow(predicted_C.reshape((5, 3)), interpolation='nearest',cmap='Greys')\n",
        "plt.title('Letter C')\n",
        "plt.show()"
      ],
      "metadata": {
        "colab": {
          "base_uri": "https://localhost:8080/",
          "height": 283
        },
        "outputId": "a58348b3-5d4d-442c-8cef-4df37d3a5e11",
        "id": "HNrUAQ1Ba8wU"
      },
      "execution_count": null,
      "outputs": [
        {
          "output_type": "display_data",
          "data": {
            "image/png": "[encoded data removed]",
            "text/plain": [
              "<Figure size 576x576 with 3 Axes>"
            ]
          },
          "metadata": {
            "needs_background": "light"
          }
        }
      ]
    },
    {
      "cell_type": "markdown",
      "source": [
        "## Adding 10% noise to input of part 2's model\n",
        "The accuracy of part 2's model with 10% noise applied is 100%."
      ],
      "metadata": {
        "id": "O9mAZIeOa8wU"
      }
    },
    {
      "cell_type": "code",
      "source": [
        "predicted_A = model2.forward(A_noise_10)\n",
        "predicted_B = model2.forward(B_noise_10)\n",
        "predicted_C = model2.forward(C_noise_10)"
      ],
      "metadata": {
        "id": "EKAWojcBa8wV"
      },
      "execution_count": null,
      "outputs": []
    },
    {
      "cell_type": "code",
      "source": [
        "fig = plt.figure(figsize=(8, 8))\n",
        "fig.add_subplot(1, 3, 1)\n",
        "plt.imshow(predicted_A.reshape((3, 3)), interpolation='nearest',cmap='Greys')\n",
        "plt.title('Letter A')\n",
        "fig.add_subplot(1, 3, 2)\n",
        "plt.imshow(predicted_B.reshape((3, 3)), interpolation='nearest',cmap='Greys')\n",
        "plt.title('Letter B')\n",
        "fig.add_subplot(1, 3, 3)\n",
        "plt.imshow(predicted_C.reshape((3, 3)), interpolation='nearest',cmap='Greys')\n",
        "plt.title('Letter C')\n",
        "plt.show()"
      ],
      "metadata": {
        "colab": {
          "base_uri": "https://localhost:8080/",
          "height": 195
        },
        "outputId": "a5a611cc-18af-4dc6-b130-f3148ac321fe",
        "id": "UjILX2m8a8wV"
      },
      "execution_count": null,
      "outputs": [
        {
          "output_type": "display_data",
          "data": {
            "image/png": "[encoded data removed]",
            "text/plain": [
              "<Figure size 576x576 with 3 Axes>"
            ]
          },
          "metadata": {
            "needs_background": "light"
          }
        }
      ]
    },
    {
      "cell_type": "markdown",
      "source": [
        "## Adding 40% noise to input of part 2's model\n",
        "The accuracy of part 2's model with 40% noise applied is 100%."
      ],
      "metadata": {
        "id": "MBxe4j0ta8wV"
      }
    },
    {
      "cell_type": "code",
      "source": [
        "predicted_A = model2.forward(A_noise_40)\n",
        "predicted_B = model2.forward(B_noise_40)\n",
        "predicted_C = model2.forward(C_noise_40)"
      ],
      "metadata": {
        "id": "gt4h6dwva8wV"
      },
      "execution_count": null,
      "outputs": []
    },
    {
      "cell_type": "code",
      "source": [
        "fig = plt.figure(figsize=(8, 8))\n",
        "fig.add_subplot(1, 3, 1)\n",
        "plt.imshow(predicted_A.reshape((3, 3)), interpolation='nearest',cmap='Greys')\n",
        "plt.title('Letter A')\n",
        "fig.add_subplot(1, 3, 2)\n",
        "plt.imshow(predicted_B.reshape((3, 3)), interpolation='nearest',cmap='Greys')\n",
        "plt.title('Letter B')\n",
        "fig.add_subplot(1, 3, 3)\n",
        "plt.imshow(predicted_C.reshape((3, 3)), interpolation='nearest',cmap='Greys')\n",
        "plt.title('Letter C')\n",
        "plt.show()"
      ],
      "metadata": {
        "colab": {
          "base_uri": "https://localhost:8080/",
          "height": 195
        },
        "outputId": "41963921-d506-4420-cad9-9554329ff151",
        "id": "lr-2OPw-a8wV"
      },
      "execution_count": null,
      "outputs": [
        {
          "output_type": "display_data",
          "data": {
            "image/png": "[encoded data removed]",
            "text/plain": [
              "<Figure size 576x576 with 3 Axes>"
            ]
          },
          "metadata": {
            "needs_background": "light"
          }
        }
      ]
    },
    {
      "cell_type": "code",
      "source": [
        ""
      ],
      "metadata": {
        "id": "KIfc6sc3a8wV"
      },
      "execution_count": null,
      "outputs": []
    }
  ]
}