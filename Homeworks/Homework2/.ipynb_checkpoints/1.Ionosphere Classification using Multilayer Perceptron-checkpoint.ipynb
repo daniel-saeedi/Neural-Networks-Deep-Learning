{
 "cells": [
  {
   "cell_type": "markdown",
   "id": "a0de8bea",
   "metadata": {},
   "source": [
    "# Ionosphere Classification using Multilayer Perceptron\n",
    "\n",
    "For these exercises we'll perform a binary classification on the Ionosphere Data Set available from the <a href = 'https://archive.ics.uci.edu/ml/datasets/Ionosphere'>UC Irvine Machine Learning Repository</a><br>\n",
    "The goal is to classify radar returns from the ionosphere.\n",
    "\n",
    "## Data Set Description\n",
    "This radar data was collected by a system in Goose Bay, Labrador.  This\n",
    "system consists of a phased array of 16 high-frequency antennas with a\n",
    "total transmitted power on the order of 6.4 kilowatts.  See the paper\n",
    "for more details.  The targets were free electrons in the ionosphere.\n",
    "\"Good\" radar returns are those showing evidence of some type of structure \n",
    "in the ionosphere.  \"Bad\" returns are those that do not; their signals pass through the ionosphere.  \n",
    "\n",
    "Received signals were processed using an autocorrelation function whose\n",
    "arguments are the time of a pulse and the pulse number.  There were 17\n",
    "pulse numbers for the Goose Bay system.  Instances in this databse are\n",
    "described by 2 attributes per pulse number, corresponding to the complex\n",
    "values returned by the function resulting from the complex electromagnetic\n",
    "signal.\n",
    "\n",
    "1. <b>Number of Instances:</b> 351\n",
    "\n",
    "2. <b>Number of Attributes:</b> 34 plus the class attribute(Note that all 34 predictor attributes are continuous.)\n",
    "\n",
    "3. <b>Attribute Information:</b>\n",
    "    <ul>\n",
    "    <li>All 34 are continuous, as described above</li>\n",
    "    <li>The 35th attribute is either \"good\" or \"bad\" according to the definitione</li>\n",
    "    <li>This is a binary classification task.</li>\n",
    "    </ul>\n"
   ]
  },
  {
   "cell_type": "markdown",
   "id": "791e6578",
   "metadata": {},
   "source": [
    "# Feature Engineering"
   ]
  },
  {
   "cell_type": "markdown",
   "id": "ee757a59",
   "metadata": {},
   "source": [
    "## Loading the data"
   ]
  },
  {
   "cell_type": "code",
   "execution_count": 394,
   "id": "02024397",
   "metadata": {},
   "outputs": [],
   "source": [
    "import numpy as np\n",
    "import pandas as pd\n",
    "import torch"
   ]
  },
  {
   "cell_type": "code",
   "execution_count": 395,
   "id": "411aaeed",
   "metadata": {},
   "outputs": [],
   "source": [
    "df = pd.read_csv('ionosphere.data',header=None)"
   ]
  },
  {
   "cell_type": "code",
   "execution_count": 396,
   "id": "431ebcf8",
   "metadata": {},
   "outputs": [
    {
     "data": {
      "text/html": [
       "<div>\n",
       "<style scoped>\n",
       "    .dataframe tbody tr th:only-of-type {\n",
       "        vertical-align: middle;\n",
       "    }\n",
       "\n",
       "    .dataframe tbody tr th {\n",
       "        vertical-align: top;\n",
       "    }\n",
       "\n",
       "    .dataframe thead th {\n",
       "        text-align: right;\n",
       "    }\n",
       "</style>\n",
       "<table border=\"1\" class=\"dataframe\">\n",
       "  <thead>\n",
       "    <tr style=\"text-align: right;\">\n",
       "      <th></th>\n",
       "      <th>0</th>\n",
       "      <th>1</th>\n",
       "      <th>2</th>\n",
       "      <th>3</th>\n",
       "      <th>4</th>\n",
       "      <th>5</th>\n",
       "      <th>6</th>\n",
       "      <th>7</th>\n",
       "      <th>8</th>\n",
       "      <th>9</th>\n",
       "      <th>...</th>\n",
       "      <th>25</th>\n",
       "      <th>26</th>\n",
       "      <th>27</th>\n",
       "      <th>28</th>\n",
       "      <th>29</th>\n",
       "      <th>30</th>\n",
       "      <th>31</th>\n",
       "      <th>32</th>\n",
       "      <th>33</th>\n",
       "      <th>34</th>\n",
       "    </tr>\n",
       "  </thead>\n",
       "  <tbody>\n",
       "    <tr>\n",
       "      <th>0</th>\n",
       "      <td>1</td>\n",
       "      <td>0</td>\n",
       "      <td>0.99539</td>\n",
       "      <td>-0.05889</td>\n",
       "      <td>0.85243</td>\n",
       "      <td>0.02306</td>\n",
       "      <td>0.83398</td>\n",
       "      <td>-0.37708</td>\n",
       "      <td>1.00000</td>\n",
       "      <td>0.03760</td>\n",
       "      <td>...</td>\n",
       "      <td>-0.51171</td>\n",
       "      <td>0.41078</td>\n",
       "      <td>-0.46168</td>\n",
       "      <td>0.21266</td>\n",
       "      <td>-0.34090</td>\n",
       "      <td>0.42267</td>\n",
       "      <td>-0.54487</td>\n",
       "      <td>0.18641</td>\n",
       "      <td>-0.45300</td>\n",
       "      <td>g</td>\n",
       "    </tr>\n",
       "    <tr>\n",
       "      <th>1</th>\n",
       "      <td>1</td>\n",
       "      <td>0</td>\n",
       "      <td>1.00000</td>\n",
       "      <td>-0.18829</td>\n",
       "      <td>0.93035</td>\n",
       "      <td>-0.36156</td>\n",
       "      <td>-0.10868</td>\n",
       "      <td>-0.93597</td>\n",
       "      <td>1.00000</td>\n",
       "      <td>-0.04549</td>\n",
       "      <td>...</td>\n",
       "      <td>-0.26569</td>\n",
       "      <td>-0.20468</td>\n",
       "      <td>-0.18401</td>\n",
       "      <td>-0.19040</td>\n",
       "      <td>-0.11593</td>\n",
       "      <td>-0.16626</td>\n",
       "      <td>-0.06288</td>\n",
       "      <td>-0.13738</td>\n",
       "      <td>-0.02447</td>\n",
       "      <td>b</td>\n",
       "    </tr>\n",
       "    <tr>\n",
       "      <th>2</th>\n",
       "      <td>1</td>\n",
       "      <td>0</td>\n",
       "      <td>1.00000</td>\n",
       "      <td>-0.03365</td>\n",
       "      <td>1.00000</td>\n",
       "      <td>0.00485</td>\n",
       "      <td>1.00000</td>\n",
       "      <td>-0.12062</td>\n",
       "      <td>0.88965</td>\n",
       "      <td>0.01198</td>\n",
       "      <td>...</td>\n",
       "      <td>-0.40220</td>\n",
       "      <td>0.58984</td>\n",
       "      <td>-0.22145</td>\n",
       "      <td>0.43100</td>\n",
       "      <td>-0.17365</td>\n",
       "      <td>0.60436</td>\n",
       "      <td>-0.24180</td>\n",
       "      <td>0.56045</td>\n",
       "      <td>-0.38238</td>\n",
       "      <td>g</td>\n",
       "    </tr>\n",
       "    <tr>\n",
       "      <th>3</th>\n",
       "      <td>1</td>\n",
       "      <td>0</td>\n",
       "      <td>1.00000</td>\n",
       "      <td>-0.45161</td>\n",
       "      <td>1.00000</td>\n",
       "      <td>1.00000</td>\n",
       "      <td>0.71216</td>\n",
       "      <td>-1.00000</td>\n",
       "      <td>0.00000</td>\n",
       "      <td>0.00000</td>\n",
       "      <td>...</td>\n",
       "      <td>0.90695</td>\n",
       "      <td>0.51613</td>\n",
       "      <td>1.00000</td>\n",
       "      <td>1.00000</td>\n",
       "      <td>-0.20099</td>\n",
       "      <td>0.25682</td>\n",
       "      <td>1.00000</td>\n",
       "      <td>-0.32382</td>\n",
       "      <td>1.00000</td>\n",
       "      <td>b</td>\n",
       "    </tr>\n",
       "    <tr>\n",
       "      <th>4</th>\n",
       "      <td>1</td>\n",
       "      <td>0</td>\n",
       "      <td>1.00000</td>\n",
       "      <td>-0.02401</td>\n",
       "      <td>0.94140</td>\n",
       "      <td>0.06531</td>\n",
       "      <td>0.92106</td>\n",
       "      <td>-0.23255</td>\n",
       "      <td>0.77152</td>\n",
       "      <td>-0.16399</td>\n",
       "      <td>...</td>\n",
       "      <td>-0.65158</td>\n",
       "      <td>0.13290</td>\n",
       "      <td>-0.53206</td>\n",
       "      <td>0.02431</td>\n",
       "      <td>-0.62197</td>\n",
       "      <td>-0.05707</td>\n",
       "      <td>-0.59573</td>\n",
       "      <td>-0.04608</td>\n",
       "      <td>-0.65697</td>\n",
       "      <td>g</td>\n",
       "    </tr>\n",
       "    <tr>\n",
       "      <th>...</th>\n",
       "      <td>...</td>\n",
       "      <td>...</td>\n",
       "      <td>...</td>\n",
       "      <td>...</td>\n",
       "      <td>...</td>\n",
       "      <td>...</td>\n",
       "      <td>...</td>\n",
       "      <td>...</td>\n",
       "      <td>...</td>\n",
       "      <td>...</td>\n",
       "      <td>...</td>\n",
       "      <td>...</td>\n",
       "      <td>...</td>\n",
       "      <td>...</td>\n",
       "      <td>...</td>\n",
       "      <td>...</td>\n",
       "      <td>...</td>\n",
       "      <td>...</td>\n",
       "      <td>...</td>\n",
       "      <td>...</td>\n",
       "      <td>...</td>\n",
       "    </tr>\n",
       "    <tr>\n",
       "      <th>346</th>\n",
       "      <td>1</td>\n",
       "      <td>0</td>\n",
       "      <td>0.83508</td>\n",
       "      <td>0.08298</td>\n",
       "      <td>0.73739</td>\n",
       "      <td>-0.14706</td>\n",
       "      <td>0.84349</td>\n",
       "      <td>-0.05567</td>\n",
       "      <td>0.90441</td>\n",
       "      <td>-0.04622</td>\n",
       "      <td>...</td>\n",
       "      <td>-0.04202</td>\n",
       "      <td>0.83479</td>\n",
       "      <td>0.00123</td>\n",
       "      <td>1.00000</td>\n",
       "      <td>0.12815</td>\n",
       "      <td>0.86660</td>\n",
       "      <td>-0.10714</td>\n",
       "      <td>0.90546</td>\n",
       "      <td>-0.04307</td>\n",
       "      <td>g</td>\n",
       "    </tr>\n",
       "    <tr>\n",
       "      <th>347</th>\n",
       "      <td>1</td>\n",
       "      <td>0</td>\n",
       "      <td>0.95113</td>\n",
       "      <td>0.00419</td>\n",
       "      <td>0.95183</td>\n",
       "      <td>-0.02723</td>\n",
       "      <td>0.93438</td>\n",
       "      <td>-0.01920</td>\n",
       "      <td>0.94590</td>\n",
       "      <td>0.01606</td>\n",
       "      <td>...</td>\n",
       "      <td>0.01361</td>\n",
       "      <td>0.93522</td>\n",
       "      <td>0.04925</td>\n",
       "      <td>0.93159</td>\n",
       "      <td>0.08168</td>\n",
       "      <td>0.94066</td>\n",
       "      <td>-0.00035</td>\n",
       "      <td>0.91483</td>\n",
       "      <td>0.04712</td>\n",
       "      <td>g</td>\n",
       "    </tr>\n",
       "    <tr>\n",
       "      <th>348</th>\n",
       "      <td>1</td>\n",
       "      <td>0</td>\n",
       "      <td>0.94701</td>\n",
       "      <td>-0.00034</td>\n",
       "      <td>0.93207</td>\n",
       "      <td>-0.03227</td>\n",
       "      <td>0.95177</td>\n",
       "      <td>-0.03431</td>\n",
       "      <td>0.95584</td>\n",
       "      <td>0.02446</td>\n",
       "      <td>...</td>\n",
       "      <td>0.03193</td>\n",
       "      <td>0.92489</td>\n",
       "      <td>0.02542</td>\n",
       "      <td>0.92120</td>\n",
       "      <td>0.02242</td>\n",
       "      <td>0.92459</td>\n",
       "      <td>0.00442</td>\n",
       "      <td>0.92697</td>\n",
       "      <td>-0.00577</td>\n",
       "      <td>g</td>\n",
       "    </tr>\n",
       "    <tr>\n",
       "      <th>349</th>\n",
       "      <td>1</td>\n",
       "      <td>0</td>\n",
       "      <td>0.90608</td>\n",
       "      <td>-0.01657</td>\n",
       "      <td>0.98122</td>\n",
       "      <td>-0.01989</td>\n",
       "      <td>0.95691</td>\n",
       "      <td>-0.03646</td>\n",
       "      <td>0.85746</td>\n",
       "      <td>0.00110</td>\n",
       "      <td>...</td>\n",
       "      <td>-0.02099</td>\n",
       "      <td>0.89147</td>\n",
       "      <td>-0.07760</td>\n",
       "      <td>0.82983</td>\n",
       "      <td>-0.17238</td>\n",
       "      <td>0.96022</td>\n",
       "      <td>-0.03757</td>\n",
       "      <td>0.87403</td>\n",
       "      <td>-0.16243</td>\n",
       "      <td>g</td>\n",
       "    </tr>\n",
       "    <tr>\n",
       "      <th>350</th>\n",
       "      <td>1</td>\n",
       "      <td>0</td>\n",
       "      <td>0.84710</td>\n",
       "      <td>0.13533</td>\n",
       "      <td>0.73638</td>\n",
       "      <td>-0.06151</td>\n",
       "      <td>0.87873</td>\n",
       "      <td>0.08260</td>\n",
       "      <td>0.88928</td>\n",
       "      <td>-0.09139</td>\n",
       "      <td>...</td>\n",
       "      <td>-0.15114</td>\n",
       "      <td>0.81147</td>\n",
       "      <td>-0.04822</td>\n",
       "      <td>0.78207</td>\n",
       "      <td>-0.00703</td>\n",
       "      <td>0.75747</td>\n",
       "      <td>-0.06678</td>\n",
       "      <td>0.85764</td>\n",
       "      <td>-0.06151</td>\n",
       "      <td>g</td>\n",
       "    </tr>\n",
       "  </tbody>\n",
       "</table>\n",
       "<p>351 rows × 35 columns</p>\n",
       "</div>"
      ],
      "text/plain": [
       "     0   1        2        3        4        5        6        7        8   \\\n",
       "0     1   0  0.99539 -0.05889  0.85243  0.02306  0.83398 -0.37708  1.00000   \n",
       "1     1   0  1.00000 -0.18829  0.93035 -0.36156 -0.10868 -0.93597  1.00000   \n",
       "2     1   0  1.00000 -0.03365  1.00000  0.00485  1.00000 -0.12062  0.88965   \n",
       "3     1   0  1.00000 -0.45161  1.00000  1.00000  0.71216 -1.00000  0.00000   \n",
       "4     1   0  1.00000 -0.02401  0.94140  0.06531  0.92106 -0.23255  0.77152   \n",
       "..   ..  ..      ...      ...      ...      ...      ...      ...      ...   \n",
       "346   1   0  0.83508  0.08298  0.73739 -0.14706  0.84349 -0.05567  0.90441   \n",
       "347   1   0  0.95113  0.00419  0.95183 -0.02723  0.93438 -0.01920  0.94590   \n",
       "348   1   0  0.94701 -0.00034  0.93207 -0.03227  0.95177 -0.03431  0.95584   \n",
       "349   1   0  0.90608 -0.01657  0.98122 -0.01989  0.95691 -0.03646  0.85746   \n",
       "350   1   0  0.84710  0.13533  0.73638 -0.06151  0.87873  0.08260  0.88928   \n",
       "\n",
       "          9   ...       25       26       27       28       29       30  \\\n",
       "0    0.03760  ... -0.51171  0.41078 -0.46168  0.21266 -0.34090  0.42267   \n",
       "1   -0.04549  ... -0.26569 -0.20468 -0.18401 -0.19040 -0.11593 -0.16626   \n",
       "2    0.01198  ... -0.40220  0.58984 -0.22145  0.43100 -0.17365  0.60436   \n",
       "3    0.00000  ...  0.90695  0.51613  1.00000  1.00000 -0.20099  0.25682   \n",
       "4   -0.16399  ... -0.65158  0.13290 -0.53206  0.02431 -0.62197 -0.05707   \n",
       "..       ...  ...      ...      ...      ...      ...      ...      ...   \n",
       "346 -0.04622  ... -0.04202  0.83479  0.00123  1.00000  0.12815  0.86660   \n",
       "347  0.01606  ...  0.01361  0.93522  0.04925  0.93159  0.08168  0.94066   \n",
       "348  0.02446  ...  0.03193  0.92489  0.02542  0.92120  0.02242  0.92459   \n",
       "349  0.00110  ... -0.02099  0.89147 -0.07760  0.82983 -0.17238  0.96022   \n",
       "350 -0.09139  ... -0.15114  0.81147 -0.04822  0.78207 -0.00703  0.75747   \n",
       "\n",
       "          31       32       33  34  \n",
       "0   -0.54487  0.18641 -0.45300   g  \n",
       "1   -0.06288 -0.13738 -0.02447   b  \n",
       "2   -0.24180  0.56045 -0.38238   g  \n",
       "3    1.00000 -0.32382  1.00000   b  \n",
       "4   -0.59573 -0.04608 -0.65697   g  \n",
       "..       ...      ...      ...  ..  \n",
       "346 -0.10714  0.90546 -0.04307   g  \n",
       "347 -0.00035  0.91483  0.04712   g  \n",
       "348  0.00442  0.92697 -0.00577   g  \n",
       "349 -0.03757  0.87403 -0.16243   g  \n",
       "350 -0.06678  0.85764 -0.06151   g  \n",
       "\n",
       "[351 rows x 35 columns]"
      ]
     },
     "execution_count": 396,
     "metadata": {},
     "output_type": "execute_result"
    }
   ],
   "source": [
    "df"
   ]
  },
  {
   "cell_type": "markdown",
   "id": "27357deb",
   "metadata": {},
   "source": [
    "## Dealing with categorical columns\n",
    "Categorical data are variables that contain label values rather than numeric values. Many machine learning algorithms cannot operate on label data directly. They require all input variables and output variables to be numeric.\n",
    "\n",
    "Let's assign good and bad category with 1 and 0 respectively. Note that the 0 column acts like categorical feature."
   ]
  },
  {
   "cell_type": "code",
   "execution_count": 397,
   "id": "b6cd4c4d",
   "metadata": {},
   "outputs": [],
   "source": [
    "df['target'] = df[34]\n",
    "df = df.drop(34,axis = 1)\n",
    "\n",
    "df[0] = df[0].astype('category')"
   ]
  },
  {
   "cell_type": "code",
   "execution_count": 398,
   "id": "20ef9379",
   "metadata": {},
   "outputs": [
    {
     "data": {
      "text/plain": [
       "g    225\n",
       "b    126\n",
       "Name: target, dtype: int64"
      ]
     },
     "execution_count": 398,
     "metadata": {},
     "output_type": "execute_result"
    }
   ],
   "source": [
    "df['target'] = df['target'].astype('category')\n",
    "df['target'].value_counts()"
   ]
  },
  {
   "cell_type": "code",
   "execution_count": 399,
   "id": "b35a4e85",
   "metadata": {},
   "outputs": [],
   "source": [
    "df['target'] = df['target'].replace({'g':1, 'b' : 0})"
   ]
  },
  {
   "cell_type": "markdown",
   "id": "5cea3dc4",
   "metadata": {},
   "source": [
    "## Removing Redundant Column\n",
    "As you can see, the 1 column is 100% filled with 0. So this column doesn't give us any specific information."
   ]
  },
  {
   "cell_type": "code",
   "execution_count": 400,
   "id": "25e83b1f",
   "metadata": {},
   "outputs": [
    {
     "data": {
      "text/plain": [
       "0    100.0\n",
       "Name: 1, dtype: float64"
      ]
     },
     "execution_count": 400,
     "metadata": {},
     "output_type": "execute_result"
    }
   ],
   "source": [
    "df[1].value_counts()/ len(df) * 100"
   ]
  },
  {
   "cell_type": "code",
   "execution_count": 401,
   "id": "8b64125e",
   "metadata": {},
   "outputs": [],
   "source": [
    "df = df.drop(1,axis = 1)"
   ]
  },
  {
   "cell_type": "markdown",
   "id": "6aad7410",
   "metadata": {},
   "source": [
    "## Train/Test Split\n",
    "\n",
    "There are a number of ways to split the data into training and testing sets. The most common approach is to use some version of <b>random sampling</b>.\n",
    "\n",
    "<b>1. Random sampling</b> : Completely random sampling is a straightforward strategy to implement and usually protects the process from being biased towards any characteristic of the data.\n",
    "\n",
    "<b>2. Stratified random sample: </b>However random sampling approach can be problematic when the response is not evenly distributed across the outcome. A less risky splitting strategy would be to use a stratified random sample based on the outcome. For classification models, this is accomplished by selecting samples at random within each class. This approach ensures that the frequency distribution of the outcome is approximately equal within the training and test sets.\n",
    "\n",
    "<b>3. Splitting using the temporal component:</b> Non-random sampling can also be used when there is a good reason. One such case would be when there is an important temporal aspect to the data. Here it may be prudent to use the most recent data as the test set.\n",
    "\n",
    "Since the categories are not evenly distributed, we're going to use <b>Stratified Random Sampling</b> for this problem."
   ]
  },
  {
   "cell_type": "code",
   "execution_count": 402,
   "id": "bb103a42",
   "metadata": {},
   "outputs": [],
   "source": [
    "X = df.drop('target',axis = 1).to_numpy()\n",
    "y = df['target'].to_numpy()"
   ]
  },
  {
   "cell_type": "code",
   "execution_count": 403,
   "id": "7dae92fe",
   "metadata": {},
   "outputs": [],
   "source": [
    "from sklearn.model_selection import train_test_split\n",
    "\n",
    "X_train, X_test, y_train, y_test = train_test_split(\n",
    "    X, y, test_size=0.2, random_state=42, stratify=y\n",
    ")"
   ]
  },
  {
   "cell_type": "markdown",
   "id": "bdede355",
   "metadata": {},
   "source": [
    "## Scaling the data"
   ]
  },
  {
   "cell_type": "code",
   "execution_count": 404,
   "id": "75db832c",
   "metadata": {},
   "outputs": [],
   "source": [
    "# from sklearn import preprocessing\n",
    "\n",
    "# Scaler = preprocessing.MinMaxScaler()\n",
    "\n",
    "# X_train_minmax = Scaler.fit_transform(X_train)\n",
    "\n",
    "# X_train = Scaler.transform(X_train)\n",
    "# X_test = Scaler.transform(X_test)"
   ]
  },
  {
   "cell_type": "markdown",
   "id": "bd4e1206",
   "metadata": {},
   "source": [
    "## Convert numpy arrays to tensors"
   ]
  },
  {
   "cell_type": "code",
   "execution_count": 405,
   "id": "3af221bf",
   "metadata": {},
   "outputs": [],
   "source": [
    "y_col = ['target']\n",
    "# Categorical Columns\n",
    "cat_cols = [0]\n",
    "# Continuous Columns\n",
    "cont_cols = [x for x in range(2,34)]"
   ]
  },
  {
   "cell_type": "code",
   "execution_count": 426,
   "id": "7bbab8c0",
   "metadata": {},
   "outputs": [
    {
     "data": {
      "text/plain": [
       "tensor([[ 0.9759, -0.1060,  0.9460, -0.2080,  0.9281, -0.2835,  0.8600, -0.2734,\n",
       "          0.7977, -0.4793,  0.7822, -0.5076,  0.7463, -0.6144,  0.5795, -0.6809,\n",
       "          0.3785, -0.7364,  0.3632, -0.7656,  0.3190, -0.7975,  0.2279, -0.8163,\n",
       "          0.1366, -0.8251,  0.0461, -0.8239, -0.0426, -0.8132, -0.1383, -0.8098],\n",
       "        [ 1.0000,  0.0977,  1.0000,  0.1220,  1.0000,  0.2257,  0.9860,  0.0924,\n",
       "          0.9493,  0.1921,  0.9299,  0.2429,  0.8924,  0.2834,  0.8553,  0.2672,\n",
       "          0.8366,  0.3313,  0.8339,  0.3170,  0.7483,  0.3960,  0.7619,  0.3466,\n",
       "          0.6845,  0.4275,  0.6276,  0.4603,  0.5679,  0.4703,  0.5425,  0.5090],\n",
       "        [ 0.0000,  0.0000,  0.0000,  0.0000,  0.0000,  0.0000,  0.0000,  0.0000,\n",
       "          0.0000,  0.0000,  0.0000,  0.0000,  0.0000,  0.0000,  0.0000,  0.0000,\n",
       "          0.0000,  0.0000,  0.0000,  0.0000,  0.0000,  0.0000,  0.0000,  0.0000,\n",
       "          1.0000, -1.0000,  0.0000,  0.0000,  0.0000,  0.0000,  0.0000,  0.0000],\n",
       "        [ 0.8842,  0.3672,  0.6712,  0.6738,  0.3961,  0.8640,  0.0242,  0.9318,\n",
       "         -0.3515,  0.8371, -0.6032,  0.5884, -0.7866,  0.3878, -0.8328, -0.0064,\n",
       "         -0.6932, -0.3296, -0.5250, -0.5392, -0.2738, -0.6813,  0.0081, -0.6977,\n",
       "          0.2603, -0.6068,  0.4457, -0.4338,  0.5421, -0.2154,  0.5629,  0.0282],\n",
       "        [ 0.8628,  0.1931,  0.8092,  0.4115,  0.6720,  0.5579,  0.5456,  0.6996,\n",
       "          0.3670,  0.8153,  0.1962,  0.8567, -0.0406,  0.8628, -0.1724,  0.7578,\n",
       "         -0.3410,  0.6575, -0.4820,  0.5609, -0.6023,  0.4100, -0.5923,  0.2575,\n",
       "         -0.6304,  0.0882, -0.5724, -0.0782, -0.5487, -0.1992, -0.4291, -0.3195],\n",
       "        [ 1.0000, -0.0108,  1.0000, -0.0270,  1.0000, -0.0649,  0.9513, -0.0162,\n",
       "          0.9892, -0.0324,  0.9892,  0.0865,  1.0000, -0.0649,  0.9513,  0.0919,\n",
       "          0.9784, -0.0054,  1.0000,  0.0649,  1.0000,  0.0432,  0.9784,  0.0919,\n",
       "          0.9856,  0.0125,  1.0000, -0.0324,  1.0000,  0.0270,  1.0000, -0.0703],\n",
       "        [ 0.9845, -0.0274,  0.9806, -0.0410,  1.0000, -0.0764,  0.9872,  0.0146,\n",
       "          0.9528, -0.0260,  0.9850, -0.0746,  0.9938, -0.0715,  0.9740, -0.0953,\n",
       "          0.9726, -0.1222,  0.9929, -0.0525,  0.9528, -0.0891,  0.9735, -0.0834,\n",
       "          0.9665, -0.1291,  0.9347, -0.1492,  0.9713, -0.1576,  0.9678, -0.1880]])"
      ]
     },
     "execution_count": 426,
     "metadata": {},
     "output_type": "execute_result"
    }
   ],
   "source": [
    "test_cats = X_test[:, 0:1]\n",
    "test_conts = X_test[:, 1:]\n",
    "test_cats = torch.tensor(test_cats, dtype = torch.int64)\n",
    "test_conts = torch.tensor(test_conts, dtype=torch.float)\n",
    "\n",
    "train_conts"
   ]
  },
  {
   "cell_type": "code",
   "execution_count": 427,
   "id": "d5b29b51",
   "metadata": {},
   "outputs": [
    {
     "data": {
      "text/plain": [
       "tensor([1, 1, 1, 1, 0, 1, 1, 0, 0, 1])"
      ]
     },
     "execution_count": 427,
     "metadata": {},
     "output_type": "execute_result"
    }
   ],
   "source": [
    "# Convert labels to a tensor\n",
    "y_train_tensor = torch.tensor(y_train).flatten()\n",
    "\n",
    "y_test_tensor = torch.tensor(y_test).flatten()\n",
    "\n",
    "y_train_tensor[:10]"
   ]
  },
  {
   "cell_type": "code",
   "execution_count": 428,
   "id": "b439065e",
   "metadata": {},
   "outputs": [
    {
     "data": {
      "text/plain": [
       "torch.Size([7, 1])"
      ]
     },
     "execution_count": 428,
     "metadata": {},
     "output_type": "execute_result"
    }
   ],
   "source": [
    "train_cats.shape"
   ]
  },
  {
   "cell_type": "code",
   "execution_count": 429,
   "id": "f03066c7",
   "metadata": {},
   "outputs": [
    {
     "data": {
      "text/plain": [
       "torch.Size([7, 32])"
      ]
     },
     "execution_count": 429,
     "metadata": {},
     "output_type": "execute_result"
    }
   ],
   "source": [
    "train_conts.shape"
   ]
  },
  {
   "cell_type": "code",
   "execution_count": 430,
   "id": "daef8815",
   "metadata": {},
   "outputs": [
    {
     "data": {
      "text/plain": [
       "(351,)"
      ]
     },
     "execution_count": 430,
     "metadata": {},
     "output_type": "execute_result"
    }
   ],
   "source": [
    "y.shape"
   ]
  },
  {
   "cell_type": "markdown",
   "id": "a94e037f",
   "metadata": {},
   "source": [
    "## Set an embedding size\n",
    "Since the data set contains categorical feature, we can use <a href=\"https://towardsdatascience.com/neural-network-embeddings-explained-4d028e6f0526\">embdeddings</a> to deal with categorical features."
   ]
  },
  {
   "cell_type": "code",
   "execution_count": 271,
   "id": "b32690dc",
   "metadata": {},
   "outputs": [
    {
     "data": {
      "text/plain": [
       "[(2, 1)]"
      ]
     },
     "execution_count": 271,
     "metadata": {},
     "output_type": "execute_result"
    }
   ],
   "source": [
    "cat_szs = [len(df[col].cat.categories) for col in cat_cols]\n",
    "emb_szs = [(size, min(50, (size+1)//2)) for size in cat_szs]\n",
    "emb_szs"
   ]
  },
  {
   "cell_type": "markdown",
   "id": "fc3a93b9",
   "metadata": {},
   "source": [
    "# Define the model"
   ]
  },
  {
   "cell_type": "markdown",
   "id": "e4cd8a67",
   "metadata": {},
   "source": [
    "Paramaters of our model : \n",
    "<ul>\n",
    "    <li> <b>emb_szs:</b> each categorical variable size is paired with an embedding size</li>\n",
    "    <li> <b>n_cont:</b> number of continuous variables</li>\n",
    "    <li> <b>out_sz:</b> output size</li>\n",
    "    <li> <b>layers:</b> layer sizes</li>\n",
    "    <li> <b>p:</b> dropout probability for each layer</li>\n",
    "</ul>"
   ]
  },
  {
   "cell_type": "code",
   "execution_count": 711,
   "id": "405600a9",
   "metadata": {},
   "outputs": [],
   "source": [
    "import torch.nn as nn\n",
    "seed = 42\n",
    "torch.manual_seed(seed)\n",
    "\n",
    "if torch.cuda.is_available():\n",
    "    torch.cuda.manual_seed_all(seed)\n",
    "\n",
    "class TabularModel(nn.Module):\n",
    "\n",
    "    def __init__(self, emb_szs, n_cont, out_sz, layers, p=0.5, activation_function = nn.ReLU(inplace=True)):\n",
    "        super().__init__()\n",
    "        self.embeds = nn.ModuleList([nn.Embedding(ni, nf) for ni,nf in emb_szs])\n",
    "        self.emb_drop = nn.Dropout(p)\n",
    "        self.bn_cont = nn.BatchNorm1d(n_cont)\n",
    "        \n",
    "        layerlist = []\n",
    "        n_emb = sum((nf for ni,nf in emb_szs))\n",
    "        n_in = n_emb + n_cont\n",
    "        \n",
    "        for i in layers:\n",
    "            layerlist.append(nn.Linear(n_in,i)) \n",
    "            layerlist.append(activation_function)\n",
    "            layerlist.append(nn.BatchNorm1d(i))\n",
    "            layerlist.append(nn.Dropout(p))\n",
    "            n_in = i\n",
    "        layerlist.append(nn.Linear(layers[-1],out_sz))\n",
    "            \n",
    "        self.layers = nn.Sequential(*layerlist)\n",
    "    \n",
    "    def forward(self, x_cat, x_cont):\n",
    "        embeddings = []\n",
    "        for i,e in enumerate(self.embeds):\n",
    "            embeddings.append(e(x_cat[:,i]))\n",
    "        x = torch.cat(embeddings, 1)\n",
    "        x = self.emb_drop(x)\n",
    "        \n",
    "        x_cont = self.bn_cont(x_cont)\n",
    "        x = torch.cat([x, x_cont], 1)\n",
    "        x = self.layers(x)\n",
    "        return x"
   ]
  },
  {
   "cell_type": "markdown",
   "id": "ff504aa9",
   "metadata": {},
   "source": [
    "## Part A : Model Architecture\n",
    "The input layer has 33 neurons (1 categorical and 32 continuous features). And we also need 2 neurons for output layer since the problem is a binary classification.\n",
    "There are two hidden layers with 200 and 100 neurons and the activation function is ReLU for each neuron in hidden layer. To avoid overfitting, we use Dropout."
   ]
  },
  {
   "cell_type": "markdown",
   "id": "4b9cac12",
   "metadata": {},
   "source": [
    "## Train the model\n",
    "\n",
    "Stochastic mini batch based: training data set are randomly divided to a certain number of subsets (mini-batches) then at each time a min-batch is chosen and applied."
   ]
  },
  {
   "cell_type": "code",
   "execution_count": 712,
   "id": "502d1b5b",
   "metadata": {},
   "outputs": [],
   "source": [
    "def train(epochs, batch_size,model,criterion,optimizer) :\n",
    "    training_losses = []\n",
    "    valid_losses = []\n",
    "    \n",
    "    batches = len(X_train)/batch_size\n",
    "    \n",
    "    df_X_y = pd.DataFrame(X_train)\n",
    "    df_X_y['target'] = pd.Series(y_train)\n",
    "    \n",
    "    # Shuffle the training set\n",
    "    df_X_y = df_X_y.sample(frac = 1,random_state = 42)\n",
    "\n",
    "    for i in range(epochs):\n",
    "        # Test set\n",
    "        with torch.no_grad():\n",
    "            y_val = model(test_cats, test_conts)\n",
    "            valid_loss = criterion(y_val, y_test_tensor).item()\n",
    "            valid_losses.append(valid_loss)\n",
    "\n",
    "        X_t = df_X_y.drop('target',axis = 1).values\n",
    "        y_t = df_X_y['target'].values\n",
    "\n",
    "        # Divide the training set into mini-batches and then feed to the network\n",
    "        batch_number = 1\n",
    "        start = 0\n",
    "\n",
    "        while start + batch_size < len(X_train) :        \n",
    "            train_cats = torch.tensor(X_t[start:(start+batch_size), 0:1], dtype = torch.int64)\n",
    "            train_conts = torch.tensor(X_t[start:(start+batch_size), 1:], dtype=torch.float)\n",
    "            y_true = torch.tensor(y_t[start:(start+batch_size)]).flatten()\n",
    "\n",
    "            y_pred = model(train_cats, train_conts)\n",
    "            loss = criterion(y_pred, y_true)\n",
    "\n",
    "            optimizer.zero_grad()\n",
    "            loss.backward()\n",
    "            optimizer.step()\n",
    "\n",
    "\n",
    "            start = start + batch_size\n",
    "\n",
    "            # Last Batch\n",
    "            if start + batch_size >= len(X_train) :\n",
    "                train_cats = torch.tensor(X_t[start:, 0:1], dtype = torch.int64)\n",
    "                train_conts = torch.tensor(X_t[start:, 1:], dtype=torch.float)\n",
    "                y_true = torch.tensor(y_t[start:]).flatten()\n",
    "\n",
    "                y_pred = model(train_cats, train_conts)\n",
    "                final_epoch_loss = criterion(y_pred, y_true)\n",
    "                training_losses.append(final_epoch_loss.item())\n",
    "\n",
    "                optimizer.zero_grad()\n",
    "                final_epoch_loss.backward()\n",
    "                optimizer.step()\n",
    "\n",
    "        # To save screen space, every 25 epoch the training and test loss is shown\n",
    "        if i%10 == 1:\n",
    "            print(f'Epoch: {i:3}  Training Loss: {final_epoch_loss.item():10.8f}  Test Loss: {valid_loss:.8f}')\n",
    "\n",
    "\n",
    "    print(f'Epoch: {epochs}  Training Loss: {final_epoch_loss.item():10.8f}  Test Loss: {valid_loss:.8f}')\n",
    "    \n",
    "    return training_losses,valid_losses"
   ]
  },
  {
   "cell_type": "code",
   "execution_count": 713,
   "id": "14a58b29",
   "metadata": {},
   "outputs": [],
   "source": [
    "import matplotlib.pyplot as plt\n",
    "from sklearn.metrics import confusion_matrix \n",
    "import seaborn as sns\n",
    "from sklearn.metrics import classification_report\n",
    "\n",
    "def show_diagrams(training_losses,valid_losses,model) :\n",
    "    \n",
    "    plt.plot(training_losses)\n",
    "    plt.plot(valid_losses)\n",
    "    plt.title('Loss per epoch')\n",
    "    plt.ylabel('Loss')\n",
    "    plt.xlabel('epoch')\n",
    "    plt.legend(['train', 'test'], loc='upper right')\n",
    "    plt.show()\n",
    "\n",
    "    with torch.no_grad():\n",
    "        y_pred = model(test_cats, test_conts)\n",
    "\n",
    "    y_val = []\n",
    "    for i in range(len(y_pred)):\n",
    "        y_val.append(y_pred[i].argmax().item())\n",
    "\n",
    "    conf_mat = confusion_matrix(y_test.tolist(), y_val)\n",
    "    sns.heatmap(conf_mat, annot=True, cmap='Blues')\n",
    "    plt.title('Confusion Matrix')\n",
    "    \n",
    "    print(classification_report(y_test.tolist(), y_val, target_names=['bad','good']))"
   ]
  },
  {
   "cell_type": "markdown",
   "id": "e6c161bb",
   "metadata": {},
   "source": [
    "## Part B : Trying different neurons in hidden layers\n",
    "### 1) 200 and 100 neurons in hidden layers (Best Model)"
   ]
  },
  {
   "cell_type": "code",
   "execution_count": 714,
   "id": "95ac883b",
   "metadata": {},
   "outputs": [
    {
     "data": {
      "text/plain": [
       "TabularModel(\n",
       "  (embeds): ModuleList(\n",
       "    (0): Embedding(2, 1)\n",
       "  )\n",
       "  (emb_drop): Dropout(p=0.4, inplace=False)\n",
       "  (bn_cont): BatchNorm1d(32, eps=1e-05, momentum=0.1, affine=True, track_running_stats=True)\n",
       "  (layers): Sequential(\n",
       "    (0): Linear(in_features=33, out_features=200, bias=True)\n",
       "    (1): ReLU(inplace=True)\n",
       "    (2): BatchNorm1d(200, eps=1e-05, momentum=0.1, affine=True, track_running_stats=True)\n",
       "    (3): Dropout(p=0.4, inplace=False)\n",
       "    (4): Linear(in_features=200, out_features=100, bias=True)\n",
       "    (5): ReLU(inplace=True)\n",
       "    (6): BatchNorm1d(100, eps=1e-05, momentum=0.1, affine=True, track_running_stats=True)\n",
       "    (7): Dropout(p=0.4, inplace=False)\n",
       "    (8): Linear(in_features=100, out_features=2, bias=True)\n",
       "  )\n",
       ")"
      ]
     },
     "execution_count": 714,
     "metadata": {},
     "output_type": "execute_result"
    }
   ],
   "source": [
    "#Hidden Layer\n",
    "hidden_layer = [200,100]\n",
    "dropout_prob = 0.4\n",
    "model = TabularModel(emb_szs = emb_szs, n_cont = train_conts.shape[1], out_sz = 2,\n",
    "                     layers = hidden_layer , p = 0.4)\n",
    "model"
   ]
  },
  {
   "cell_type": "markdown",
   "id": "05906e8b",
   "metadata": {},
   "source": [
    "### Define loss function and optimizer"
   ]
  },
  {
   "cell_type": "code",
   "execution_count": 715,
   "id": "d1b9b979",
   "metadata": {},
   "outputs": [],
   "source": [
    "criterion = nn.CrossEntropyLoss()\n",
    "optimizer = torch.optim.Adam(model.parameters(), lr=0.001)"
   ]
  },
  {
   "cell_type": "code",
   "execution_count": 716,
   "id": "2ced2447",
   "metadata": {},
   "outputs": [
    {
     "name": "stdout",
     "output_type": "stream",
     "text": [
      "Epoch:   1  Training Loss: 0.62190312  Test Loss: 0.34160656\n",
      "Epoch:  11  Training Loss: 0.39467219  Test Loss: 0.16658089\n",
      "Epoch: 20  Training Loss: 0.02823020  Test Loss: 0.22117382\n",
      "CPU times: user 1.43 s, sys: 792 ms, total: 2.22 s\n",
      "Wall time: 1.54 s\n"
     ]
    }
   ],
   "source": [
    "%%time\n",
    "epochs = 20\n",
    "batch_size = 8\n",
    "training_losses,valid_losses = train(epochs, batch_size,model,criterion,optimizer)"
   ]
  },
  {
   "cell_type": "code",
   "execution_count": 717,
   "id": "e589ee5b",
   "metadata": {},
   "outputs": [
    {
     "data": {
      "image/png": "[encoded data removed]",
      "text/plain": [
       "<Figure size 432x288 with 1 Axes>"
      ]
     },
     "metadata": {
      "needs_background": "light"
     },
     "output_type": "display_data"
    },
    {
     "name": "stdout",
     "output_type": "stream",
     "text": [
      "              precision    recall  f1-score   support\n",
      "\n",
      "         bad       0.91      0.84      0.87        25\n",
      "        good       0.92      0.96      0.94        46\n",
      "\n",
      "    accuracy                           0.92        71\n",
      "   macro avg       0.91      0.90      0.91        71\n",
      "weighted avg       0.92      0.92      0.91        71\n",
      "\n"
     ]
    },
    {
     "data": {
      "image/png": "[encoded data removed]",
      "text/plain": [
       "<Figure size 432x288 with 2 Axes>"
      ]
     },
     "metadata": {
      "needs_background": "light"
     },
     "output_type": "display_data"
    }
   ],
   "source": [
    "show_diagrams(training_losses,valid_losses,model)"
   ]
  },
  {
   "cell_type": "markdown",
   "id": "cc429b26",
   "metadata": {},
   "source": [
    "### 2) 50 and 25 neurons in hidden layers"
   ]
  },
  {
   "cell_type": "code",
   "execution_count": 718,
   "id": "f8397ef8",
   "metadata": {},
   "outputs": [
    {
     "name": "stdout",
     "output_type": "stream",
     "text": [
      "Epoch:   1  Training Loss: 0.71714860  Test Loss: 0.51422668\n",
      "Epoch:  11  Training Loss: 0.26386631  Test Loss: 0.34749949\n",
      "Epoch:  21  Training Loss: 0.08324081  Test Loss: 0.39248392\n",
      "Epoch:  31  Training Loss: 0.14792909  Test Loss: 0.23937041\n",
      "Epoch:  41  Training Loss: 0.08432895  Test Loss: 0.25949612\n",
      "Epoch:  51  Training Loss: 0.06243191  Test Loss: 0.22705834\n",
      "Epoch:  61  Training Loss: 0.04060852  Test Loss: 0.26546901\n",
      "Epoch:  71  Training Loss: 0.11490460  Test Loss: 0.25009045\n",
      "Epoch:  81  Training Loss: 0.14397264  Test Loss: 0.31953943\n",
      "Epoch:  91  Training Loss: 0.10785655  Test Loss: 0.33026770\n",
      "Epoch: 100  Training Loss: 0.22531484  Test Loss: 0.14982951\n"
     ]
    }
   ],
   "source": [
    "#Hidden Layer\n",
    "hidden_layer = [50,25]\n",
    "dropout_prob = 0.4\n",
    "model = TabularModel(emb_szs = emb_szs, n_cont = train_conts.shape[1], out_sz = 2,\n",
    "                     layers = hidden_layer , p = 0.4)\n",
    "criterion = nn.CrossEntropyLoss()\n",
    "optimizer = torch.optim.Adam(model.parameters(), lr=0.001)\n",
    "\n",
    "epochs = 100\n",
    "batch_size = 8\n",
    "training_losses,valid_losses = train(epochs, batch_size,model,criterion,optimizer)"
   ]
  },
  {
   "cell_type": "code",
   "execution_count": 719,
   "id": "3371381c",
   "metadata": {},
   "outputs": [
    {
     "data": {
      "image/png": "[encoded data removed]",
      "text/plain": [
       "<Figure size 432x288 with 1 Axes>"
      ]
     },
     "metadata": {
      "needs_background": "light"
     },
     "output_type": "display_data"
    },
    {
     "name": "stdout",
     "output_type": "stream",
     "text": [
      "              precision    recall  f1-score   support\n",
      "\n",
      "         bad       0.95      0.84      0.89        25\n",
      "        good       0.92      0.98      0.95        46\n",
      "\n",
      "    accuracy                           0.93        71\n",
      "   macro avg       0.94      0.91      0.92        71\n",
      "weighted avg       0.93      0.93      0.93        71\n",
      "\n"
     ]
    },
    {
     "data": {
      "image/png": "[encoded data removed]",
      "text/plain": [
       "<Figure size 432x288 with 2 Axes>"
      ]
     },
     "metadata": {
      "needs_background": "light"
     },
     "output_type": "display_data"
    }
   ],
   "source": [
    "show_diagrams(training_losses,valid_losses,model)"
   ]
  },
  {
   "cell_type": "markdown",
   "id": "5dc5b512",
   "metadata": {},
   "source": [
    "### 3) 10 and 5 neurons in hidden layers\n"
   ]
  },
  {
   "cell_type": "code",
   "execution_count": 720,
   "id": "2078dfa5",
   "metadata": {},
   "outputs": [
    {
     "name": "stdout",
     "output_type": "stream",
     "text": [
      "Epoch:   1  Training Loss: 0.91334093  Test Loss: 0.63836235\n",
      "Epoch:  11  Training Loss: 0.42331275  Test Loss: 0.46629602\n",
      "Epoch:  21  Training Loss: 0.38164279  Test Loss: 0.39110014\n",
      "Epoch:  31  Training Loss: 0.25546923  Test Loss: 0.42145112\n",
      "Epoch:  41  Training Loss: 0.40848580  Test Loss: 0.42181981\n",
      "Epoch:  51  Training Loss: 0.13651922  Test Loss: 0.31835487\n",
      "Epoch:  61  Training Loss: 0.36991757  Test Loss: 0.26481104\n",
      "Epoch:  71  Training Loss: 0.26827812  Test Loss: 0.32917529\n",
      "Epoch:  81  Training Loss: 0.52536446  Test Loss: 0.30419219\n",
      "Epoch:  91  Training Loss: 0.15110216  Test Loss: 0.26998088\n",
      "Epoch: 100  Training Loss: 0.24640682  Test Loss: 0.30450398\n"
     ]
    }
   ],
   "source": [
    "#Hidden Layer\n",
    "hidden_layer = [10,5]\n",
    "dropout_prob = 0.4\n",
    "model = TabularModel(emb_szs = emb_szs, n_cont = train_conts.shape[1], out_sz = 2,\n",
    "                     layers = hidden_layer , p = 0.4)\n",
    "criterion = nn.CrossEntropyLoss()\n",
    "optimizer = torch.optim.Adam(model.parameters(), lr=0.001)\n",
    "\n",
    "epochs = 100\n",
    "batch_size = 8\n",
    "training_losses,valid_losses = train(epochs, batch_size,model,criterion,optimizer)"
   ]
  },
  {
   "cell_type": "code",
   "execution_count": 721,
   "id": "fb020576",
   "metadata": {},
   "outputs": [
    {
     "data": {
      "image/png": "[encoded data removed]",
      "text/plain": [
       "<Figure size 432x288 with 1 Axes>"
      ]
     },
     "metadata": {
      "needs_background": "light"
     },
     "output_type": "display_data"
    },
    {
     "name": "stdout",
     "output_type": "stream",
     "text": [
      "              precision    recall  f1-score   support\n",
      "\n",
      "         bad       0.95      0.80      0.87        25\n",
      "        good       0.90      0.98      0.94        46\n",
      "\n",
      "    accuracy                           0.92        71\n",
      "   macro avg       0.93      0.89      0.90        71\n",
      "weighted avg       0.92      0.92      0.91        71\n",
      "\n"
     ]
    },
    {
     "data": {
      "image/png": "[encoded data removed]",
      "text/plain": [
       "<Figure size 432x288 with 2 Axes>"
      ]
     },
     "metadata": {
      "needs_background": "light"
     },
     "output_type": "display_data"
    }
   ],
   "source": [
    "show_diagrams(training_losses,valid_losses,model)"
   ]
  },
  {
   "cell_type": "markdown",
   "id": "500e7042",
   "metadata": {},
   "source": [
    "## Part C : Trying different batch sizes\n",
    "batch_size = 256 seems to be the best to one choose."
   ]
  },
  {
   "cell_type": "code",
   "execution_count": 722,
   "id": "ac05c316",
   "metadata": {},
   "outputs": [
    {
     "data": {
      "text/plain": [
       "TabularModel(\n",
       "  (embeds): ModuleList(\n",
       "    (0): Embedding(2, 1)\n",
       "  )\n",
       "  (emb_drop): Dropout(p=0.4, inplace=False)\n",
       "  (bn_cont): BatchNorm1d(32, eps=1e-05, momentum=0.1, affine=True, track_running_stats=True)\n",
       "  (layers): Sequential(\n",
       "    (0): Linear(in_features=33, out_features=200, bias=True)\n",
       "    (1): ReLU(inplace=True)\n",
       "    (2): BatchNorm1d(200, eps=1e-05, momentum=0.1, affine=True, track_running_stats=True)\n",
       "    (3): Dropout(p=0.4, inplace=False)\n",
       "    (4): Linear(in_features=200, out_features=100, bias=True)\n",
       "    (5): ReLU(inplace=True)\n",
       "    (6): BatchNorm1d(100, eps=1e-05, momentum=0.1, affine=True, track_running_stats=True)\n",
       "    (7): Dropout(p=0.4, inplace=False)\n",
       "    (8): Linear(in_features=100, out_features=2, bias=True)\n",
       "  )\n",
       ")"
      ]
     },
     "execution_count": 722,
     "metadata": {},
     "output_type": "execute_result"
    }
   ],
   "source": [
    "#Hidden Layer\n",
    "hidden_layer = [200,100]\n",
    "dropout_prob = 0.4\n",
    "model = TabularModel(emb_szs = emb_szs, n_cont = train_conts.shape[1], out_sz = 2,\n",
    "                     layers = hidden_layer , p = 0.4)\n",
    "criterion = nn.CrossEntropyLoss()\n",
    "optimizer = torch.optim.Adam(model.parameters(), lr=0.001)\n",
    "model"
   ]
  },
  {
   "cell_type": "markdown",
   "id": "63cfbaf2",
   "metadata": {},
   "source": [
    "### 1) Batch size = 32"
   ]
  },
  {
   "cell_type": "code",
   "execution_count": 723,
   "id": "98195b72",
   "metadata": {},
   "outputs": [
    {
     "name": "stdout",
     "output_type": "stream",
     "text": [
      "Epoch:   1  Training Loss: 0.32384023  Test Loss: 0.30881387\n",
      "Epoch:  11  Training Loss: 0.04905418  Test Loss: 0.10539200\n",
      "Epoch:  21  Training Loss: 0.06426143  Test Loss: 0.17545575\n",
      "Epoch:  31  Training Loss: 0.01057324  Test Loss: 0.18864432\n",
      "Epoch:  41  Training Loss: 0.00639555  Test Loss: 0.10483795\n",
      "Epoch:  51  Training Loss: 0.01206115  Test Loss: 0.23777319\n",
      "Epoch:  61  Training Loss: 0.00609993  Test Loss: 0.15787815\n",
      "Epoch:  71  Training Loss: 0.00419355  Test Loss: 0.20059787\n",
      "Epoch:  81  Training Loss: 0.00113583  Test Loss: 0.20238093\n",
      "Epoch:  91  Training Loss: 0.00329989  Test Loss: 0.15064089\n",
      "Epoch: 100  Training Loss: 0.00137709  Test Loss: 0.18729563\n",
      "CPU times: user 2.34 s, sys: 1.54 s, total: 3.88 s\n",
      "Wall time: 2.54 s\n"
     ]
    }
   ],
   "source": [
    "%%time\n",
    "epochs = 100\n",
    "batch_size = 32\n",
    "training_losses,valid_losses = train(epochs, batch_size,model,criterion,optimizer)"
   ]
  },
  {
   "cell_type": "code",
   "execution_count": 724,
   "id": "b77e45c3",
   "metadata": {},
   "outputs": [
    {
     "data": {
      "image/png": "[encoded data removed]",
      "text/plain": [
       "<Figure size 432x288 with 1 Axes>"
      ]
     },
     "metadata": {
      "needs_background": "light"
     },
     "output_type": "display_data"
    },
    {
     "name": "stdout",
     "output_type": "stream",
     "text": [
      "              precision    recall  f1-score   support\n",
      "\n",
      "         bad       0.92      0.92      0.92        25\n",
      "        good       0.96      0.96      0.96        46\n",
      "\n",
      "    accuracy                           0.94        71\n",
      "   macro avg       0.94      0.94      0.94        71\n",
      "weighted avg       0.94      0.94      0.94        71\n",
      "\n"
     ]
    },
    {
     "data": {
      "image/png": "[encoded data removed]",
      "text/plain": [
       "<Figure size 432x288 with 2 Axes>"
      ]
     },
     "metadata": {
      "needs_background": "light"
     },
     "output_type": "display_data"
    }
   ],
   "source": [
    "show_diagrams(training_losses,valid_losses,model)"
   ]
  },
  {
   "cell_type": "markdown",
   "id": "9c3e2156",
   "metadata": {},
   "source": [
    "### 2) Batch size = 64"
   ]
  },
  {
   "cell_type": "code",
   "execution_count": 725,
   "id": "6420ee2d",
   "metadata": {},
   "outputs": [
    {
     "name": "stdout",
     "output_type": "stream",
     "text": [
      "Epoch:   1  Training Loss: 0.35949650  Test Loss: 0.36219510\n",
      "Epoch:  11  Training Loss: 0.10133048  Test Loss: 0.13561147\n",
      "Epoch:  21  Training Loss: 0.06059061  Test Loss: 0.13949364\n",
      "Epoch:  31  Training Loss: 0.04560452  Test Loss: 0.15789932\n",
      "Epoch:  41  Training Loss: 0.01392691  Test Loss: 0.13849843\n",
      "Epoch:  51  Training Loss: 0.00719124  Test Loss: 0.19749430\n",
      "Epoch:  61  Training Loss: 0.01189901  Test Loss: 0.18426228\n",
      "Epoch:  71  Training Loss: 0.01253448  Test Loss: 0.28613773\n",
      "Epoch:  81  Training Loss: 0.01017532  Test Loss: 0.27035654\n",
      "Epoch:  91  Training Loss: 0.01383042  Test Loss: 0.20547071\n",
      "Epoch: 100  Training Loss: 0.00222983  Test Loss: 0.18137681\n",
      "CPU times: user 1.45 s, sys: 936 ms, total: 2.39 s\n",
      "Wall time: 1.57 s\n"
     ]
    }
   ],
   "source": [
    "%%time\n",
    "#Hidden Layer\n",
    "hidden_layer = [200,100]\n",
    "model = TabularModel(emb_szs = emb_szs, n_cont = train_conts.shape[1], out_sz = 2,\n",
    "                     layers = hidden_layer , p = 0.4, activation_function = nn.ReLU)\n",
    "criterion = nn.CrossEntropyLoss()\n",
    "optimizer = torch.optim.Adam(model.parameters(), lr=0.001)\n",
    "\n",
    "epochs = 100\n",
    "batch_size = 64\n",
    "training_losses,valid_losses = train(epochs, batch_size,model,criterion,optimizer)"
   ]
  },
  {
   "cell_type": "code",
   "execution_count": 726,
   "id": "58f344c9",
   "metadata": {},
   "outputs": [
    {
     "data": {
      "image/png": "[encoded data removed]",
      "text/plain": [
       "<Figure size 432x288 with 1 Axes>"
      ]
     },
     "metadata": {
      "needs_background": "light"
     },
     "output_type": "display_data"
    },
    {
     "name": "stdout",
     "output_type": "stream",
     "text": [
      "              precision    recall  f1-score   support\n",
      "\n",
      "         bad       0.92      0.88      0.90        25\n",
      "        good       0.94      0.96      0.95        46\n",
      "\n",
      "    accuracy                           0.93        71\n",
      "   macro avg       0.93      0.92      0.92        71\n",
      "weighted avg       0.93      0.93      0.93        71\n",
      "\n"
     ]
    },
    {
     "data": {
      "image/png": "[encoded data removed]",
      "text/plain": [
       "<Figure size 432x288 with 2 Axes>"
      ]
     },
     "metadata": {
      "needs_background": "light"
     },
     "output_type": "display_data"
    }
   ],
   "source": [
    "show_diagrams(training_losses,valid_losses,model)"
   ]
  },
  {
   "cell_type": "markdown",
   "id": "31532e02",
   "metadata": {},
   "source": [
    "### 3) Batch size = 256"
   ]
  },
  {
   "cell_type": "code",
   "execution_count": 727,
   "id": "348d6f31",
   "metadata": {},
   "outputs": [
    {
     "name": "stdout",
     "output_type": "stream",
     "text": [
      "Epoch:   1  Training Loss: 0.48220897  Test Loss: 0.49733526\n",
      "Epoch:  11  Training Loss: 0.12577476  Test Loss: 0.16659279\n",
      "Epoch:  21  Training Loss: 0.07638016  Test Loss: 0.12460247\n",
      "Epoch:  31  Training Loss: 0.02857061  Test Loss: 0.15179414\n",
      "Epoch:  41  Training Loss: 0.04276483  Test Loss: 0.13513318\n",
      "Epoch:  51  Training Loss: 0.02148081  Test Loss: 0.23879696\n",
      "Epoch:  61  Training Loss: 0.01300868  Test Loss: 0.15446523\n",
      "Epoch:  71  Training Loss: 0.00925980  Test Loss: 0.22571531\n",
      "Epoch:  81  Training Loss: 0.00959276  Test Loss: 0.16765778\n",
      "Epoch:  91  Training Loss: 0.00835790  Test Loss: 0.18334152\n",
      "Epoch: 100  Training Loss: 0.00654143  Test Loss: 0.18724841\n",
      "CPU times: user 815 ms, sys: 462 ms, total: 1.28 s\n",
      "Wall time: 851 ms\n"
     ]
    }
   ],
   "source": [
    "%%time\n",
    "#Hidden Layer\n",
    "hidden_layer = [200,100]\n",
    "model = TabularModel(emb_szs = emb_szs, n_cont = train_conts.shape[1], out_sz = 2,\n",
    "                     layers = hidden_layer , p = 0.4)\n",
    "criterion = nn.CrossEntropyLoss()\n",
    "optimizer = torch.optim.Adam(model.parameters(), lr=0.001)\n",
    "\n",
    "epochs = 100\n",
    "batch_size = 256\n",
    "training_losses,valid_losses = train(epochs, batch_size,model,criterion,optimizer)"
   ]
  },
  {
   "cell_type": "code",
   "execution_count": 728,
   "id": "5118d74c",
   "metadata": {},
   "outputs": [
    {
     "data": {
      "image/png": "[encoded data removed]",
      "text/plain": [
       "<Figure size 432x288 with 1 Axes>"
      ]
     },
     "metadata": {
      "needs_background": "light"
     },
     "output_type": "display_data"
    },
    {
     "name": "stdout",
     "output_type": "stream",
     "text": [
      "              precision    recall  f1-score   support\n",
      "\n",
      "         bad       1.00      0.92      0.96        25\n",
      "        good       0.96      1.00      0.98        46\n",
      "\n",
      "    accuracy                           0.97        71\n",
      "   macro avg       0.98      0.96      0.97        71\n",
      "weighted avg       0.97      0.97      0.97        71\n",
      "\n"
     ]
    },
    {
     "data": {
      "image/png": "[encoded data removed]",
      "text/plain": [
       "<Figure size 432x288 with 2 Axes>"
      ]
     },
     "metadata": {
      "needs_background": "light"
     },
     "output_type": "display_data"
    }
   ],
   "source": [
    "show_diagrams(training_losses,valid_losses,model)"
   ]
  },
  {
   "cell_type": "markdown",
   "id": "9802047a",
   "metadata": {},
   "source": [
    "## Part D : Trying different activation functions"
   ]
  },
  {
   "cell_type": "markdown",
   "id": "2fd5472c",
   "metadata": {},
   "source": [
    "### 1) ReLU"
   ]
  },
  {
   "cell_type": "code",
   "execution_count": 731,
   "id": "7328f4d4",
   "metadata": {},
   "outputs": [
    {
     "name": "stdout",
     "output_type": "stream",
     "text": [
      "Epoch:   1  Training Loss: 0.69002461  Test Loss: 0.56422877\n",
      "Epoch:  11  Training Loss: 0.17300463  Test Loss: 0.28812659\n",
      "Epoch:  21  Training Loss: 0.05855882  Test Loss: 0.18819083\n",
      "Epoch:  31  Training Loss: 0.04326583  Test Loss: 0.18539296\n",
      "Epoch:  41  Training Loss: 0.02045463  Test Loss: 0.17565231\n",
      "Epoch:  51  Training Loss: 0.01827507  Test Loss: 0.20319952\n",
      "Epoch:  61  Training Loss: 0.00846320  Test Loss: 0.13809183\n",
      "Epoch:  71  Training Loss: 0.01710900  Test Loss: 0.19143923\n",
      "Epoch:  81  Training Loss: 0.01847627  Test Loss: 0.18732120\n",
      "Epoch:  91  Training Loss: 0.00432464  Test Loss: 0.24176356\n",
      "Epoch: 100  Training Loss: 0.00589630  Test Loss: 0.22332339\n",
      "CPU times: user 759 ms, sys: 450 ms, total: 1.21 s\n",
      "Wall time: 795 ms\n"
     ]
    }
   ],
   "source": [
    "%%time\n",
    "#Hidden Layer\n",
    "hidden_layer = [200,100]\n",
    "model = TabularModel(emb_szs = emb_szs, n_cont = train_conts.shape[1], out_sz = 2,\n",
    "                     layers = hidden_layer , p = 0.4,activation_function = nn.ReLU(inplace=True))\n",
    "criterion = nn.CrossEntropyLoss()\n",
    "optimizer = torch.optim.Adam(model.parameters(), lr=0.001)\n",
    "\n",
    "epochs = 100\n",
    "batch_size = 256\n",
    "training_losses,valid_losses = train(epochs, batch_size,model,criterion,optimizer)"
   ]
  },
  {
   "cell_type": "code",
   "execution_count": 732,
   "id": "44fc6f2f",
   "metadata": {},
   "outputs": [
    {
     "data": {
      "image/png": "[encoded data removed]",
      "text/plain": [
       "<Figure size 432x288 with 1 Axes>"
      ]
     },
     "metadata": {
      "needs_background": "light"
     },
     "output_type": "display_data"
    },
    {
     "name": "stdout",
     "output_type": "stream",
     "text": [
      "              precision    recall  f1-score   support\n",
      "\n",
      "         bad       0.92      0.92      0.92        25\n",
      "        good       0.96      0.96      0.96        46\n",
      "\n",
      "    accuracy                           0.94        71\n",
      "   macro avg       0.94      0.94      0.94        71\n",
      "weighted avg       0.94      0.94      0.94        71\n",
      "\n"
     ]
    },
    {
     "data": {
      "image/png": "[encoded data removed]",
      "text/plain": [
       "<Figure size 432x288 with 2 Axes>"
      ]
     },
     "metadata": {
      "needs_background": "light"
     },
     "output_type": "display_data"
    }
   ],
   "source": [
    "show_diagrams(training_losses,valid_losses,model)"
   ]
  },
  {
   "cell_type": "code",
   "execution_count": null,
   "id": "e90ca653",
   "metadata": {},
   "outputs": [],
   "source": []
  }
 ],
 "metadata": {
  "kernelspec": {
   "display_name": "Python 3 (ipykernel)",
   "language": "python",
   "name": "python3"
  },
  "language_info": {
   "codemirror_mode": {
    "name": "ipython",
    "version": 3
   },
   "file_extension": ".py",
   "mimetype": "text/x-python",
   "name": "python",
   "nbconvert_exporter": "python",
   "pygments_lexer": "ipython3",
   "version": "3.9.5"
  }
 },
 "nbformat": 4,
 "nbformat_minor": 5
}
