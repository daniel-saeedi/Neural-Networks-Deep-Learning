{
 "cells": [
  {
   "cell_type": "markdown",
   "metadata": {
    "id": "JLs647D4ubuQ"
   },
   "source": [
    "# Question 3: Lyrics Generation using RNN"
   ]
  },
  {
   "cell_type": "markdown",
   "metadata": {
    "id": "EGZXBD-lubuQ"
   },
   "source": [
    "# Importing Dependencies\n",
    "\n",
    "\n"
   ]
  },
  {
   "cell_type": "code",
   "execution_count": 1,
   "metadata": {
    "id": "Vp88IY6N9UJH"
   },
   "outputs": [],
   "source": [
    "import tensorflow as tf\n",
    "import numpy as np\n",
    "import os\n",
    "import time\n",
    "import pandas as pd"
   ]
  },
  {
   "cell_type": "markdown",
   "metadata": {
    "id": "FIgl5zpYebeY"
   },
   "source": [
    "# Saving lyrics in a text file "
   ]
  },
  {
   "cell_type": "code",
   "execution_count": 2,
   "metadata": {
    "colab": {
     "base_uri": "https://localhost:8080/",
     "height": 183
    },
    "id": "Kg25TYpcbTnY",
    "outputId": "52e47048-4c86-4feb-ff6c-d09da4fd16f0"
   },
   "outputs": [
    {
     "data": {
      "text/html": [
       "<div>\n",
       "<style scoped>\n",
       "    .dataframe tbody tr th:only-of-type {\n",
       "        vertical-align: middle;\n",
       "    }\n",
       "\n",
       "    .dataframe tbody tr th {\n",
       "        vertical-align: top;\n",
       "    }\n",
       "\n",
       "    .dataframe thead th {\n",
       "        text-align: right;\n",
       "    }\n",
       "</style>\n",
       "<table border=\"1\" class=\"dataframe\">\n",
       "  <thead>\n",
       "    <tr style=\"text-align: right;\">\n",
       "      <th></th>\n",
       "      <th>Artist Name</th>\n",
       "      <th>Song Name</th>\n",
       "      <th>Lyrics</th>\n",
       "    </tr>\n",
       "  </thead>\n",
       "  <tbody>\n",
       "    <tr>\n",
       "      <th>0</th>\n",
       "      <td>Phoebe Bridgers</td>\n",
       "      <td>Motion Sickness</td>\n",
       "      <td>I hate you for what you did And I miss you li...</td>\n",
       "    </tr>\n",
       "    <tr>\n",
       "      <th>1</th>\n",
       "      <td>Phoebe Bridgers</td>\n",
       "      <td>Killer</td>\n",
       "      <td>Sometimes I think I'm a killer I scared you i...</td>\n",
       "    </tr>\n",
       "    <tr>\n",
       "      <th>2</th>\n",
       "      <td>Phoebe Bridgers</td>\n",
       "      <td>Georgia</td>\n",
       "      <td>Georgia, Georgia, I love your son And when he...</td>\n",
       "    </tr>\n",
       "    <tr>\n",
       "      <th>3</th>\n",
       "      <td>Phoebe Bridgers</td>\n",
       "      <td>Kyoto</td>\n",
       "      <td>Day off in Kyoto Got bored at the temple Look...</td>\n",
       "    </tr>\n",
       "    <tr>\n",
       "      <th>4</th>\n",
       "      <td>Phoebe Bridgers</td>\n",
       "      <td>Would You Rather</td>\n",
       "      <td>Playing \"would you rather\" When it comes to f...</td>\n",
       "    </tr>\n",
       "  </tbody>\n",
       "</table>\n",
       "</div>"
      ],
      "text/plain": [
       "       Artist Name         Song Name  \\\n",
       "0  Phoebe Bridgers   Motion Sickness   \n",
       "1  Phoebe Bridgers            Killer   \n",
       "2  Phoebe Bridgers           Georgia   \n",
       "3  Phoebe Bridgers             Kyoto   \n",
       "4  Phoebe Bridgers  Would You Rather   \n",
       "\n",
       "                                              Lyrics  \n",
       "0   I hate you for what you did And I miss you li...  \n",
       "1   Sometimes I think I'm a killer I scared you i...  \n",
       "2   Georgia, Georgia, I love your son And when he...  \n",
       "3   Day off in Kyoto Got bored at the temple Look...  \n",
       "4   Playing \"would you rather\" When it comes to f...  "
      ]
     },
     "execution_count": 2,
     "metadata": {},
     "output_type": "execute_result"
    }
   ],
   "source": [
    "df = pd.read_csv('LYRICS_DATASET.csv')\n",
    "df.head()"
   ]
  },
  {
   "cell_type": "code",
   "execution_count": 3,
   "metadata": {
    "id": "N_NXO7STe9u7"
   },
   "outputs": [],
   "source": [
    "df['Lyrics'].to_csv(r'all_lyrics.txt', header=None, index=None, sep='\\n', mode='a')"
   ]
  },
  {
   "cell_type": "markdown",
   "metadata": {
    "id": "XPZ3OKwfvKK0"
   },
   "source": [
    "# Part 1"
   ]
  },
  {
   "cell_type": "markdown",
   "metadata": {
    "id": "BeZDAtMsxN2M"
   },
   "source": [
    "### Reading all_lyrics.txt"
   ]
  },
  {
   "cell_type": "code",
   "execution_count": 2,
   "metadata": {
    "id": "LZYe710ju3tz"
   },
   "outputs": [],
   "source": [
    "path_to_file = 'all_lyrics.txt'"
   ]
  },
  {
   "cell_type": "code",
   "execution_count": 3,
   "metadata": {
    "_kg_hide-output": true,
    "colab": {
     "base_uri": "https://localhost:8080/"
    },
    "id": "n1k2DRXZvG9d",
    "outputId": "0283b2a1-fc48-4970-ea21-20960c846630"
   },
   "outputs": [
    {
     "name": "stdout",
     "output_type": "stream",
     "text": [
      "389962 characters\n"
     ]
    }
   ],
   "source": [
    "text = open(path_to_file, 'rb').read().decode(encoding='utf-8')\n",
    "\n",
    "print ('{} characters'.format(len(text)))"
   ]
  },
  {
   "cell_type": "code",
   "execution_count": 4,
   "metadata": {
    "colab": {
     "base_uri": "https://localhost:8080/"
    },
    "id": "fHajuqtVvaOO",
    "outputId": "93183919-9e6d-4df0-8e2c-b85f75b4c18c"
   },
   "outputs": [
    {
     "name": "stdout",
     "output_type": "stream",
     "text": [
      "I hate you for what you did\n",
      "And I miss you like a \n"
     ]
    }
   ],
   "source": [
    "print(text[:50])"
   ]
  },
  {
   "cell_type": "markdown",
   "metadata": {
    "id": "6YvdfmUFF0By"
   },
   "source": [
    "### Getting a list of unique characters"
   ]
  },
  {
   "cell_type": "code",
   "execution_count": 5,
   "metadata": {
    "colab": {
     "base_uri": "https://localhost:8080/"
    },
    "id": "AExcxzvKvd1O",
    "outputId": "5f67e295-d80c-4a05-e291-ea70ea3547ba"
   },
   "outputs": [
    {
     "name": "stdout",
     "output_type": "stream",
     "text": [
      "97 unique characters\n"
     ]
    }
   ],
   "source": [
    "vocab = sorted(set(text))\n",
    "print ('{} unique characters'.format(len(vocab)))"
   ]
  },
  {
   "cell_type": "markdown",
   "metadata": {
    "id": "R8BxMpq7xd3i"
   },
   "source": [
    "#### Pre-processing\n",
    "The model doesn't understand characters. So we need to convert it into **numbers**. Here we'll going to build a dictionary for character=>number and number=>character."
   ]
  },
  {
   "cell_type": "code",
   "execution_count": 6,
   "metadata": {
    "id": "xpFuAN8XvlRg"
   },
   "outputs": [],
   "source": [
    "char2idx = {u:i for i, u in enumerate(vocab)}\n",
    "idx2char = np.array(vocab)\n",
    "\n",
    "text_as_int = np.array([char2idx[c] for c in text])"
   ]
  },
  {
   "cell_type": "code",
   "execution_count": 7,
   "metadata": {
    "colab": {
     "base_uri": "https://localhost:8080/"
    },
    "id": "y22qwVJlwOvV",
    "outputId": "4daf10d9-c104-47f2-b1ac-c2777fd46d27"
   },
   "outputs": [
    {
     "name": "stdout",
     "output_type": "stream",
     "text": [
      "  '\\n':   0,\n",
      "  ' ' :   1,\n",
      "  '!' :   2,\n",
      "  '\"' :   3,\n",
      "  '&' :   4,\n",
      "  \"'\" :   5,\n",
      "  '(' :   6,\n",
      "  ')' :   7,\n",
      "  '*' :   8,\n",
      "  ',' :   9,\n",
      "  '-' :  10,\n",
      "  '.' :  11,\n",
      "  '/' :  12,\n",
      "  '0' :  13,\n",
      "  '1' :  14,\n",
      "  '2' :  15,\n",
      "  '3' :  16,\n",
      "  '4' :  17,\n",
      "  '5' :  18,\n",
      "  '6' :  19,\n"
     ]
    }
   ],
   "source": [
    "for char,_ in zip(char2idx, range(20)):\n",
    "    print('  {:4s}: {:3d},'.format(repr(char), char2idx[char]))"
   ]
  },
  {
   "cell_type": "markdown",
   "metadata": {
    "id": "ECFM4kN9H95q"
   },
   "source": [
    "Let's say we want to map this string to intergers:\n",
    "\n",
    "\n",
    ">  I hate you for what\n",
    "\n"
   ]
  },
  {
   "cell_type": "code",
   "execution_count": 8,
   "metadata": {
    "colab": {
     "base_uri": "https://localhost:8080/"
    },
    "id": "P5-xHoW6wSgf",
    "outputId": "0dc10c0c-fd87-4a78-ed67-4fa63f472734"
   },
   "outputs": [
    {
     "name": "stdout",
     "output_type": "stream",
     "text": [
      "'I hate you for what '  [34  1 60 53 72 57  1 77 67 73  1 58 67 70  1 75 60 53 72  1]\n"
     ]
    }
   ],
   "source": [
    "print ('{}  {}'.format(repr(text[:20]), text_as_int[:20]))"
   ]
  },
  {
   "cell_type": "markdown",
   "metadata": {
    "id": "dvv5ug90CPPg"
   },
   "source": [
    "### Creating training examples and targets\n",
    "Here we're going to break the text into sequence of seq_length + 1 , for example let' say the string is Hello:\n",
    "\n",
    "*   Then input sequence becomes : \"Hell\"\n",
    "*   The output sequence becomes : \"ello\""
   ]
  },
  {
   "cell_type": "code",
   "execution_count": 9,
   "metadata": {
    "colab": {
     "base_uri": "https://localhost:8080/"
    },
    "id": "PCl-BN0rwXNU",
    "outputId": "f05f5bcc-869b-43dc-e6f5-74beac857f24"
   },
   "outputs": [
    {
     "name": "stdout",
     "output_type": "stream",
     "text": [
      "I hat"
     ]
    }
   ],
   "source": [
    "seq_length = 100\n",
    "examples_per_epoch = len(text)//(seq_length+1)\n",
    "\n",
    "char_dataset = tf.data.Dataset.from_tensor_slices(text_as_int)\n",
    "\n",
    "for i in char_dataset.take(5):\n",
    "  print(idx2char[i.numpy()] , end = \"\")"
   ]
  },
  {
   "cell_type": "code",
   "execution_count": 10,
   "metadata": {
    "colab": {
     "base_uri": "https://localhost:8080/"
    },
    "id": "Zr-JDdQm3Ewd",
    "outputId": "eb485e70-2cae-4a56-fbf3-a036d5821d27"
   },
   "outputs": [
    {
     "name": "stdout",
     "output_type": "stream",
     "text": [
      "\"I hate you for what you did\\nAnd I miss you like a little kid\\nI faked it every time\\nBut that's alright\"\n",
      "'\\nI can hardly feel anything\\nI hardly feel anything at all\\nYou gave me fifteen hundred\\nTo see your hyp'\n",
      "'notherapist\\nI only went one time\\nYou let it slide\\nFell on hard times a year ago\\nWas hoping you would '\n",
      "'let it go, and you did\\nI have emotional motion sickness\\nSomebody roll the windows down\\nThere are no w'\n",
      "\"ords in the English language\\nI could scream to drown you out\\nI'm on the outside looking through\\nYou'r\"\n"
     ]
    }
   ],
   "source": [
    "sequences = char_dataset.batch(seq_length+1, drop_remainder=True)\n",
    "\n",
    "for item in sequences.take(5):\n",
    "  print(repr(''.join(idx2char[item.numpy()])))"
   ]
  },
  {
   "cell_type": "markdown",
   "metadata": {
    "id": "OR5hdZvHp3TW"
   },
   "source": [
    "### Mapping function\n",
    "This function will split a string into input and target format:"
   ]
  },
  {
   "cell_type": "code",
   "execution_count": 11,
   "metadata": {
    "id": "2E1qhqdT3RN3"
   },
   "outputs": [],
   "source": [
    "def split_input_target(chunk):\n",
    "    input_text = chunk[:-1]\n",
    "    target_text = chunk[1:]\n",
    "    return input_text, target_text\n",
    "\n",
    "dataset = sequences.map(split_input_target)"
   ]
  },
  {
   "cell_type": "markdown",
   "metadata": {
    "id": "Sqn1koIKp9y6"
   },
   "source": [
    "### Creating training batches"
   ]
  },
  {
   "cell_type": "code",
   "execution_count": 12,
   "metadata": {
    "colab": {
     "base_uri": "https://localhost:8080/"
    },
    "id": "18mKD_EI3Z_k",
    "outputId": "bf6689a8-3ded-4c6a-ebbc-bc385abc4022"
   },
   "outputs": [
    {
     "data": {
      "text/plain": [
       "<BatchDataset shapes: ((64, 100), (64, 100)), types: (tf.int64, tf.int64)>"
      ]
     },
     "execution_count": 12,
     "metadata": {},
     "output_type": "execute_result"
    }
   ],
   "source": [
    "# Batch size\n",
    "BATCH_SIZE = 64\n",
    "BUFFER_SIZE = 10000\n",
    "dataset = dataset.shuffle(BUFFER_SIZE).batch(BATCH_SIZE, drop_remainder=True)\n",
    "dataset"
   ]
  },
  {
   "cell_type": "code",
   "execution_count": 13,
   "metadata": {
    "id": "nmPdZBGG3lFb"
   },
   "outputs": [],
   "source": [
    "vocab_size = len(vocab)\n",
    "\n",
    "embedding_dim = 256\n",
    "\n",
    "rnn_units = 1500"
   ]
  },
  {
   "cell_type": "markdown",
   "metadata": {
    "id": "Fgu__rqDHI9p"
   },
   "source": [
    "### Define the model\n",
    "**1. Embedding layer :** The input layer. A trainable lookup table that will map the numbers of each character to a vector with embedding_dim dimensions\n",
    "\n",
    "**2. GRU layer :** A type of RNN with size units=rnn_units (LSTM could also be used here.)\n",
    "\n",
    "**3. Dense layer :** The output layer, with vocab_size outputs and 'RELU' as the activation fuction \n",
    "\n",
    "**4. Dropout layer :** Benifits regularisation and prevents overfitting  \n"
   ]
  },
  {
   "cell_type": "code",
   "execution_count": 38,
   "metadata": {
    "id": "t64ZXPaH4AfR"
   },
   "outputs": [],
   "source": [
    "def build_model(vocab_size, embedding_dim, rnn_units, batch_size):\n",
    "  model = tf.keras.Sequential([\n",
    "                               \n",
    "    tf.keras.layers.Embedding(vocab_size, embedding_dim,\n",
    "                              batch_input_shape=[batch_size, None]),\n",
    "  \n",
    "    tf.keras.layers.GRU(rnn_units,\n",
    "                        return_sequences=True,\n",
    "                        stateful=True,\n",
    "                        recurrent_initializer='glorot_uniform'),\n",
    "\n",
    "    tf.keras.layers.Dense(vocab_size,activation='relu'),\n",
    "    \n",
    "    tf.keras.layers.Dropout(0.2),\n",
    "  ])\n",
    "  return model"
   ]
  },
  {
   "cell_type": "code",
   "execution_count": 39,
   "metadata": {
    "id": "y7YNdwZA4HW6"
   },
   "outputs": [],
   "source": [
    "model = build_model(\n",
    "  vocab_size = len(vocab),\n",
    "  embedding_dim=embedding_dim,\n",
    "  rnn_units=rnn_units,\n",
    "  batch_size=BATCH_SIZE)"
   ]
  },
  {
   "cell_type": "code",
   "execution_count": 40,
   "metadata": {
    "colab": {
     "base_uri": "https://localhost:8080/"
    },
    "id": "1zMgA-w34Kcf",
    "outputId": "e8afc95b-96bc-4c55-84e0-c3f2212b2c16"
   },
   "outputs": [
    {
     "name": "stdout",
     "output_type": "stream",
     "text": [
      "(64, 100, 97) # (batch_size, sequence_length, vocab_size)\n"
     ]
    }
   ],
   "source": [
    "for input_example_batch, target_example_batch in dataset.take(1):\n",
    "  example_batch_predictions = model(input_example_batch)\n",
    "  print(example_batch_predictions.shape, \"# (batch_size, sequence_length, vocab_size)\")"
   ]
  },
  {
   "cell_type": "code",
   "execution_count": 41,
   "metadata": {
    "colab": {
     "base_uri": "https://localhost:8080/"
    },
    "id": "c_FQFXvb4Nin",
    "outputId": "2160542f-ee27-4440-b676-5e3bf19c806f"
   },
   "outputs": [
    {
     "name": "stdout",
     "output_type": "stream",
     "text": [
      "Model: \"sequential_2\"\n",
      "_________________________________________________________________\n",
      " Layer (type)                Output Shape              Param #   \n",
      "=================================================================\n",
      " embedding_2 (Embedding)     (64, None, 256)           24832     \n",
      "                                                                 \n",
      " gru_2 (GRU)                 (64, None, 1500)          7911000   \n",
      "                                                                 \n",
      " dense_2 (Dense)             (64, None, 97)            145597    \n",
      "                                                                 \n",
      " dropout_2 (Dropout)         (64, None, 97)            0         \n",
      "                                                                 \n",
      "=================================================================\n",
      "Total params: 8,081,429\n",
      "Trainable params: 8,081,429\n",
      "Non-trainable params: 0\n",
      "_________________________________________________________________\n"
     ]
    }
   ],
   "source": [
    "model.summary()"
   ]
  },
  {
   "cell_type": "code",
   "execution_count": 42,
   "metadata": {
    "colab": {
     "base_uri": "https://localhost:8080/"
    },
    "id": "0TaUVaap4gI8",
    "outputId": "30c92a5c-6893-4625-8c80-2aef8717e429"
   },
   "outputs": [
    {
     "name": "stdout",
     "output_type": "stream",
     "text": [
      "Prediction shape:  (64, 100, 97)  # (batch_size, sequence_length, vocab_size)\n",
      "scalar_loss:       4.5752373\n"
     ]
    }
   ],
   "source": [
    "def loss(labels, logits):\n",
    "  return tf.keras.losses.sparse_categorical_crossentropy(labels, logits, from_logits=True)\n",
    "\n",
    "example_batch_loss  = loss(target_example_batch, example_batch_predictions)\n",
    "print(\"Prediction shape: \", example_batch_predictions.shape, \" # (batch_size, sequence_length, vocab_size)\")\n",
    "print(\"scalar_loss:      \", example_batch_loss.numpy().mean())"
   ]
  },
  {
   "cell_type": "code",
   "execution_count": 43,
   "metadata": {
    "id": "plUUV_mT4nUB"
   },
   "outputs": [],
   "source": [
    "model.compile(optimizer='adam', loss=loss)"
   ]
  },
  {
   "cell_type": "markdown",
   "metadata": {
    "id": "m-SYsW6mqpTF"
   },
   "source": [
    "### Training"
   ]
  },
  {
   "cell_type": "code",
   "execution_count": 44,
   "metadata": {
    "id": "3MT0yILo4ugb"
   },
   "outputs": [],
   "source": [
    "EPOCHS=15"
   ]
  },
  {
   "cell_type": "code",
   "execution_count": 45,
   "metadata": {
    "colab": {
     "base_uri": "https://localhost:8080/"
    },
    "id": "JqBYt65U41vA",
    "outputId": "3fdffe5d-4338-4d26-95b3-41ab43942451"
   },
   "outputs": [
    {
     "name": "stdout",
     "output_type": "stream",
     "text": [
      "Epoch 1/15\n",
      "60/60 [==============================] - 16s 226ms/step - loss: 3.8047\n",
      "Epoch 2/15\n",
      "60/60 [==============================] - 14s 230ms/step - loss: 3.0052\n",
      "Epoch 3/15\n",
      "60/60 [==============================] - 14s 226ms/step - loss: 2.8308\n",
      "Epoch 4/15\n",
      "60/60 [==============================] - 14s 230ms/step - loss: 2.6977\n",
      "Epoch 5/15\n",
      "60/60 [==============================] - 14s 229ms/step - loss: 2.5962\n",
      "Epoch 6/15\n",
      "60/60 [==============================] - 14s 226ms/step - loss: 2.5086\n",
      "Epoch 7/15\n",
      "60/60 [==============================] - 14s 230ms/step - loss: 2.4329\n",
      "Epoch 8/15\n",
      "60/60 [==============================] - 15s 230ms/step - loss: 2.3640\n",
      "Epoch 9/15\n",
      "60/60 [==============================] - 14s 231ms/step - loss: 2.3023\n",
      "Epoch 10/15\n",
      "60/60 [==============================] - 14s 228ms/step - loss: 2.2419\n",
      "Epoch 11/15\n",
      "60/60 [==============================] - 14s 227ms/step - loss: 2.1842\n",
      "Epoch 12/15\n",
      "60/60 [==============================] - 14s 230ms/step - loss: 2.1323\n",
      "Epoch 13/15\n",
      "60/60 [==============================] - 15s 231ms/step - loss: 2.0592\n",
      "Epoch 14/15\n",
      "60/60 [==============================] - 14s 226ms/step - loss: 2.0040\n",
      "Epoch 15/15\n",
      "60/60 [==============================] - 14s 229ms/step - loss: 1.9413\n"
     ]
    }
   ],
   "source": [
    "history = model.fit(dataset, epochs=EPOCHS)"
   ]
  },
  {
   "cell_type": "code",
   "execution_count": 46,
   "metadata": {
    "colab": {
     "base_uri": "https://localhost:8080/",
     "height": 295
    },
    "id": "NVrRBw6LqxXG",
    "outputId": "dd5f20aa-dff6-447f-fa05-5cdeccf7d472"
   },
   "outputs": [
    {
     "data": {
      "image/png": "[encoded data removed]",
      "text/plain": [
       "<Figure size 432x288 with 1 Axes>"
      ]
     },
     "metadata": {
      "needs_background": "light"
     },
     "output_type": "display_data"
    }
   ],
   "source": [
    "import matplotlib.pyplot as plt\n",
    "plt.plot(history.history['loss'])\n",
    "plt.title('Loss per epoch')\n",
    "plt.ylabel('Loss')\n",
    "plt.xlabel('epoch')\n",
    "plt.legend(['train'], loc='upper right')\n",
    "plt.show()"
   ]
  },
  {
   "cell_type": "markdown",
   "metadata": {
    "id": "vdrJ6bHRhaRU"
   },
   "source": [
    "### Part B: Trying different loss functions"
   ]
  },
  {
   "cell_type": "markdown",
   "metadata": {
    "id": "XkbaW6zIrN1o"
   },
   "source": [
    "### 1. Sparse Categorical Crossentropy\n",
    "In part A, we use sparse_categorical_crossentropy as loss function.\n",
    "\n",
    "**loss = 1.2670**\n",
    "\n"
   ]
  },
  {
   "cell_type": "markdown",
   "metadata": {
    "id": "lYyPhwKnvGQS"
   },
   "source": [
    "### 2. Mean Squared Error(MSE)\n",
    "\n",
    "**loss = 6.6186**\n",
    "\n"
   ]
  },
  {
   "cell_type": "code",
   "execution_count": null,
   "metadata": {
    "id": "SGDLL6D7x9Vm"
   },
   "outputs": [],
   "source": [
    "model = build_model(\n",
    "  vocab_size = len(vocab),\n",
    "  embedding_dim=embedding_dim,\n",
    "  rnn_units=rnn_units,\n",
    "  batch_size=BATCH_SIZE)"
   ]
  },
  {
   "cell_type": "code",
   "execution_count": null,
   "metadata": {
    "id": "XctLTTX5x9Vu"
   },
   "outputs": [],
   "source": [
    "model.compile(optimizer='adam', loss='mean_squared_error')"
   ]
  },
  {
   "cell_type": "code",
   "execution_count": null,
   "metadata": {
    "colab": {
     "base_uri": "https://localhost:8080/"
    },
    "id": "TTWvAuL8x9Vu",
    "outputId": "4c85ca0b-9a7a-49da-eb94-98b51209594b"
   },
   "outputs": [
    {
     "name": "stdout",
     "output_type": "stream",
     "text": [
      "Epoch 1/15\n",
      "60/60 [==============================] - 17s 251ms/step - loss: 5.6347\n",
      "Epoch 2/15\n",
      "60/60 [==============================] - 15s 248ms/step - loss: 5.3683\n",
      "Epoch 3/15\n",
      "60/60 [==============================] - 15s 248ms/step - loss: 5.4342\n",
      "Epoch 4/15\n",
      "60/60 [==============================] - 16s 249ms/step - loss: 5.4868\n",
      "Epoch 5/15\n",
      "60/60 [==============================] - 16s 249ms/step - loss: 6.8124\n",
      "Epoch 6/15\n",
      "60/60 [==============================] - 15s 247ms/step - loss: 6.5915\n",
      "Epoch 7/15\n",
      "60/60 [==============================] - 15s 248ms/step - loss: 6.5700\n",
      "Epoch 8/15\n",
      "60/60 [==============================] - 15s 248ms/step - loss: 6.5898\n",
      "Epoch 9/15\n",
      "60/60 [==============================] - 15s 246ms/step - loss: 6.5908\n",
      "Epoch 10/15\n",
      "60/60 [==============================] - 15s 246ms/step - loss: 6.6023\n",
      "Epoch 11/15\n",
      "60/60 [==============================] - 15s 246ms/step - loss: 6.6229\n",
      "Epoch 12/15\n",
      "60/60 [==============================] - 15s 245ms/step - loss: 6.6020\n",
      "Epoch 13/15\n",
      "60/60 [==============================] - 15s 247ms/step - loss: 6.6196\n",
      "Epoch 14/15\n",
      "60/60 [==============================] - 15s 246ms/step - loss: 6.5961\n",
      "Epoch 15/15\n",
      "60/60 [==============================] - 15s 247ms/step - loss: 6.6186\n"
     ]
    }
   ],
   "source": [
    "history = model.fit(dataset, epochs=EPOCHS)"
   ]
  },
  {
   "cell_type": "markdown",
   "metadata": {
    "id": "OcoW4glRzp8a"
   },
   "source": [
    "### 3. Mean Absolute Error(MAE)\n",
    "\n",
    "**loss = 1.2670**\n",
    "\n"
   ]
  },
  {
   "cell_type": "code",
   "execution_count": null,
   "metadata": {
    "id": "r6Cj1Mguzp8i"
   },
   "outputs": [],
   "source": [
    "model = build_model(\n",
    "  vocab_size = len(vocab),\n",
    "  embedding_dim=embedding_dim,\n",
    "  rnn_units=rnn_units,\n",
    "  batch_size=BATCH_SIZE)"
   ]
  },
  {
   "cell_type": "code",
   "execution_count": null,
   "metadata": {
    "id": "IH5TwpOTzp8i"
   },
   "outputs": [],
   "source": [
    "model.compile(optimizer='adam', loss='mean_absolute_error')"
   ]
  },
  {
   "cell_type": "code",
   "execution_count": null,
   "metadata": {
    "colab": {
     "base_uri": "https://localhost:8080/"
    },
    "id": "08tRsHUYzp8i",
    "outputId": "be4eb836-dbab-4223-fc2c-2e1e46166525"
   },
   "outputs": [
    {
     "name": "stdout",
     "output_type": "stream",
     "text": [
      "Epoch 1/15\n",
      "60/60 [==============================] - 17s 251ms/step - loss: 6.0171\n",
      "Epoch 2/15\n",
      "60/60 [==============================] - 15s 248ms/step - loss: 5.5608\n",
      "Epoch 3/15\n",
      "60/60 [==============================] - 16s 250ms/step - loss: 5.3678\n",
      "Epoch 4/15\n",
      "60/60 [==============================] - 15s 248ms/step - loss: 5.5201\n",
      "Epoch 5/15\n",
      "60/60 [==============================] - 16s 248ms/step - loss: 5.6483\n",
      "Epoch 6/15\n",
      "60/60 [==============================] - 15s 246ms/step - loss: 5.5909\n",
      "Epoch 7/15\n",
      "60/60 [==============================] - 15s 246ms/step - loss: 5.4458\n",
      "Epoch 8/15\n",
      "60/60 [==============================] - 15s 245ms/step - loss: 5.5188\n",
      "Epoch 9/15\n",
      "60/60 [==============================] - 15s 246ms/step - loss: 5.5100\n",
      "Epoch 10/15\n",
      "60/60 [==============================] - 15s 248ms/step - loss: 5.6828\n",
      "Epoch 11/15\n",
      "60/60 [==============================] - 15s 246ms/step - loss: 5.5550\n",
      "Epoch 12/15\n",
      "60/60 [==============================] - 15s 247ms/step - loss: 5.6820\n",
      "Epoch 13/15\n",
      "60/60 [==============================] - 15s 248ms/step - loss: 5.5684\n",
      "Epoch 14/15\n",
      "60/60 [==============================] - 15s 248ms/step - loss: 5.5939\n",
      "Epoch 15/15\n",
      "60/60 [==============================] - 15s 248ms/step - loss: 5.5650\n"
     ]
    }
   ],
   "source": [
    "history = model.fit(dataset, epochs=EPOCHS)"
   ]
  },
  {
   "cell_type": "markdown",
   "metadata": {
    "id": "QPMYSia2q1a8"
   },
   "source": [
    "### Part C: Generating new lyrics"
   ]
  },
  {
   "cell_type": "code",
   "execution_count": null,
   "metadata": {
    "id": "g73reOa05mcN"
   },
   "outputs": [],
   "source": [
    "def generate_text(model, chars_to_generate , temp , start_string):\n",
    "  num_generate = chars_to_generate\n",
    "\n",
    "  input_eval = [char2idx[s] for s in start_string]\n",
    "  input_eval = tf.expand_dims(input_eval, 0)\n",
    "\n",
    "  text_generated = []\n",
    "\n",
    "  temperature = temp\n",
    "\n",
    "  model.reset_states()\n",
    "  for i in range(num_generate):\n",
    "      predictions = model(input_eval)\n",
    "\n",
    "      predictions = tf.squeeze(predictions, 0)\n",
    "\n",
    "      predictions = predictions / temperature\n",
    "      predicted_id = tf.random.categorical(predictions, num_samples=1)[-1,0].numpy()\n",
    "\n",
    "      input_eval = tf.expand_dims([predicted_id], 0)\n",
    "\n",
    "      text_generated.append(idx2char[predicted_id])\n",
    "\n",
    "  return (start_string + ''.join(text_generated))"
   ]
  },
  {
   "cell_type": "code",
   "execution_count": null,
   "metadata": {
    "colab": {
     "base_uri": "https://localhost:8080/"
    },
    "id": "QHOx_XJb5yQr",
    "outputId": "6aeea7f3-c073-44b3-af5c-b9f8c9feb681"
   },
   "outputs": [
    {
     "name": "stdout",
     "output_type": "stream",
     "text": [
      "Baby out to the sturt gives to make it because I believe in us\n",
      "Tell me how long\n",
      "There's a fire too much\n",
      "I think I love you better now\n",
      "I'm in love with your body\n",
      "\n",
      "\n",
      "Oh honey\n",
      "I see the stars are the floor\n",
      "Masier the summer\n",
      "That you can see the stars that we say\n",
      "\n",
      "\n",
      "But I will never be the same\n",
      "\n",
      "\n",
      "But the fell in love with your body\n",
      "Oh many times, how many times, how much I wanna see you now\n",
      "I see the sumeching back a shoulders\n",
      "I'm sunch in the back of my through\n",
      "The sun line the lovers we need\n",
      "Like the sta\n"
     ]
    }
   ],
   "source": [
    "from numpy import arange\n",
    "\n",
    "chars_to_generate = 500 \n",
    "\n",
    "print(generate_text(model , chars_to_generate , 0.35 , start_string=u\"Baby \"))"
   ]
  },
  {
   "cell_type": "code",
   "execution_count": null,
   "metadata": {
    "id": "CR6kH1No8a8L"
   },
   "outputs": [],
   "source": []
  }
 ],
 "metadata": {
  "accelerator": "GPU",
  "colab": {
   "collapsed_sections": [],
   "name": "Q3_Lyrics_Generation.ipynb",
   "provenance": []
  },
  "kernelspec": {
   "display_name": "Python 3 (ipykernel)",
   "language": "python",
   "name": "python3"
  },
  "language_info": {
   "codemirror_mode": {
    "name": "ipython",
    "version": 3
   },
   "file_extension": ".py",
   "mimetype": "text/x-python",
   "name": "python",
   "nbconvert_exporter": "python",
   "pygments_lexer": "ipython3",
   "version": "3.9.5"
  }
 },
 "nbformat": 4,
 "nbformat_minor": 1
}
