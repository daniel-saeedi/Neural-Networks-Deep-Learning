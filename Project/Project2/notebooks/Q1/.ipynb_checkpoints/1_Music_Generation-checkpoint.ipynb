{
 "cells": [
  {
   "cell_type": "markdown",
   "metadata": {
    "id": "bvKayHruHPKB"
   },
   "source": [
    "# Question 1 : Music Generation"
   ]
  },
  {
   "cell_type": "markdown",
   "metadata": {
    "id": "RmC4Prm7HVKc"
   },
   "source": [
    "# Mounting Google Drive"
   ]
  },
  {
   "cell_type": "code",
   "execution_count": 1,
   "metadata": {
    "colab": {
     "base_uri": "https://localhost:8080/"
    },
    "id": "KSXAze9lGWYP",
    "outputId": "c8c97d9d-5d8e-439b-e5e6-e19ba374b792"
   },
   "outputs": [
    {
     "name": "stdout",
     "output_type": "stream",
     "text": [
      "Mounted at /content/drive\n"
     ]
    }
   ],
   "source": [
    "from google.colab import drive\n",
    "drive.mount('/content/drive')"
   ]
  },
  {
   "cell_type": "markdown",
   "metadata": {
    "id": "iix7ngntdZOC"
   },
   "source": [
    "# Importing Libraries"
   ]
  },
  {
   "cell_type": "code",
   "execution_count": 2,
   "metadata": {
    "id": "2GBiBemwSW-y"
   },
   "outputs": [],
   "source": [
    "import tensorflow \n",
    "import numpy as np \n",
    "import pandas as pd\n",
    "import matplotlib.pyplot as plt \n",
    "from sklearn.model_selection import train_test_split\n",
    "from tensorflow.keras.models import Sequential\n",
    "import IPython\n",
    "from IPython.display import Image, Audio\n",
    "import music21\n",
    "from music21 import *\n",
    "from tensorflow.keras.layers import LSTM, Dense, Dropout\n",
    "import tensorflow.keras.backend as K\n",
    "from tensorflow.keras.optimizers import Adamax\n",
    "import seaborn as sns\n",
    "import matplotlib.pyplot as plt\n",
    "import matplotlib.patches as mpatches\n",
    "from collections import Counter\n",
    "import random\n",
    "import os"
   ]
  },
  {
   "cell_type": "markdown",
   "metadata": {
    "id": "cbVHTrcqdR-4"
   },
   "source": [
    "Let's disable warnings:"
   ]
  },
  {
   "cell_type": "code",
   "execution_count": 3,
   "metadata": {
    "id": "YLXLYJwQdRPi"
   },
   "outputs": [],
   "source": [
    "%matplotlib inline\n",
    "import sys\n",
    "import warnings\n",
    "warnings.filterwarnings(\"ignore\")\n",
    "warnings.simplefilter(\"ignore\")\n",
    "np.random.seed(42)"
   ]
  },
  {
   "cell_type": "markdown",
   "metadata": {
    "id": "1OOWFYmBxT-E"
   },
   "source": [
    "# Helping Functions"
   ]
  },
  {
   "cell_type": "code",
   "execution_count": 4,
   "metadata": {
    "id": "bRCRvAtvxIPZ"
   },
   "outputs": [],
   "source": [
    "seq_lenght = 40\n",
    "\n",
    "#Helping function        \n",
    "def extract_notes(file):\n",
    "    notes = []\n",
    "    pick = None\n",
    "    for j in file:\n",
    "        # instrument is a method from music21\n",
    "        songs = instrument.partitionByInstrument(j)\n",
    "        for part in songs.parts:\n",
    "            pick = part.recurse()\n",
    "            for element in pick:\n",
    "                if isinstance(element, note.Note):\n",
    "                    notes.append(str(element.pitch))\n",
    "                elif isinstance(element, chord.Chord):\n",
    "                    notes.append(\".\".join(str(n) for n in element.normalOrder))\n",
    "\n",
    "    return notes\n",
    "\n",
    "def chords_n_notes(Snippet):\n",
    "    Melody = []\n",
    "    offset = 0 #Incremental\n",
    "    for i in Snippet:\n",
    "        #If it is chord\n",
    "        if (\".\" in i or i.isdigit()):\n",
    "            chord_notes = i.split(\".\") #Seperating the notes in chord\n",
    "            notes = [] \n",
    "            for j in chord_notes:\n",
    "                inst_note=int(j)\n",
    "                note_snip = note.Note(inst_note)            \n",
    "                notes.append(note_snip)\n",
    "                chord_snip = chord.Chord(notes)\n",
    "                chord_snip.offset = offset\n",
    "                Melody.append(chord_snip)\n",
    "        # pattern is a note\n",
    "        else: \n",
    "            note_snip = note.Note(i)\n",
    "            note_snip.offset = offset\n",
    "            Melody.append(note_snip)\n",
    "        # increase offset each iteration so that notes do not stack\n",
    "        offset += 1\n",
    "    Melody_midi = stream.Stream(Melody)   \n",
    "    return Melody_midi\n",
    "\n",
    "\n",
    "def Malody_Generator(Note_Count):\n",
    "    # Note_Count = Count of Notes want to generate\n",
    "    seed = [np.random.randint(0,len(X_test)-1, seq_lenght)] #sequence_length = 40\n",
    "    Music = \"\"\n",
    "    Notes_Generated=[]\n",
    "    for i in range(Note_Count):\n",
    "        seed = np.array(seed).reshape(1,seq_lenght,1)\n",
    "        prediction = model.predict(seed, verbose=0)[0]\n",
    "        prediction = np.log(prediction) / 1.0 #diversity\n",
    "        exp_preds = np.exp(prediction)\n",
    "        prediction = exp_preds / np.sum(exp_preds)\n",
    "        index = np.argmax(prediction)\n",
    "        index_N = index/ float(length_symbols)  # L_symb is length of total unique characters\n",
    "        Notes_Generated.append(index)\n",
    "        Music = [reverse_dictionary[char] for char in Notes_Generated] # reverse_mapping is a dictionary that maps each number to its related note \n",
    "        seed = np.insert(seed[0],len(seed[0]),index_N)\n",
    "        seed = seed[1:]\n",
    "    #Now, we have music in form or a list of chords and notes and we want to be a midi file.\n",
    "    Melody = chords_n_notes(Music)\n",
    "    Melody_midi = stream.Stream(Melody)   \n",
    "    return Music,Melody_midi"
   ]
  },
  {
   "cell_type": "markdown",
   "metadata": {
    "id": "HwF8XUjNSKQk"
   },
   "source": [
    "# Part 1\n",
    "\n",
    "**Note:** A note is your basic building block of music. A note is one key on a piano. It's pretty hard to define by itself.\n",
    "\n",
    "**Chord:** A chord is 3 or more notes played together at the same time. For example, a C Major chord consists of 3 notes, C E and G. It can be any group of 3 different notes, some just wouldn't sound good."
   ]
  },
  {
   "cell_type": "code",
   "execution_count": 5,
   "metadata": {
    "colab": {
     "base_uri": "https://localhost:8080/"
    },
    "id": "qnhB9He2GXOx",
    "outputId": "b72c277c-cb7e-48fc-eb01-377ca333fea1"
   },
   "outputs": [
    {
     "name": "stdout",
     "output_type": "stream",
     "text": [
      "Requirement already satisfied: music21 in /usr/local/lib/python3.7/dist-packages (5.5.0)\n"
     ]
    }
   ],
   "source": [
    "!pip install music21"
   ]
  },
  {
   "cell_type": "markdown",
   "metadata": {
    "id": "EZP_F_FVxtN4"
   },
   "source": [
    "## Loading Dataset"
   ]
  },
  {
   "cell_type": "code",
   "execution_count": 6,
   "metadata": {
    "id": "_182hfZZvQif"
   },
   "outputs": [],
   "source": [
    "# Frédéric Chopin \n",
    "path = \"/content/drive/MyDrive/MP2_Dataset/Classical_Music_MIDI/\"\n",
    "#Getting midi files\n",
    "midi_list = []\n",
    "for i in os.listdir(path):\n",
    "  if i.endswith(\".mid\"):\n",
    "    tr = path+i\n",
    "    midi = converter.parse(tr)\n",
    "    midi_list.append(midi)"
   ]
  },
  {
   "cell_type": "code",
   "execution_count": 7,
   "metadata": {
    "colab": {
     "base_uri": "https://localhost:8080/"
    },
    "id": "x29jW68cvtkp",
    "outputId": "48ba23d1-3f77-4e38-a03a-7751c83daae3"
   },
   "outputs": [
    {
     "data": {
      "text/plain": [
       "[<music21.stream.Score 0x7f93373aad90>,\n",
       " <music21.stream.Score 0x7f9337c05d50>,\n",
       " <music21.stream.Score 0x7f9334400b90>,\n",
       " <music21.stream.Score 0x7f933815c190>,\n",
       " <music21.stream.Score 0x7f933487cd10>,\n",
       " <music21.stream.Score 0x7f933839d9d0>,\n",
       " <music21.stream.Score 0x7f9336800d10>,\n",
       " <music21.stream.Score 0x7f933745d7d0>,\n",
       " <music21.stream.Score 0x7f9335c82190>,\n",
       " <music21.stream.Score 0x7f933132bc90>,\n",
       " <music21.stream.Score 0x7f9331a2b710>,\n",
       " <music21.stream.Score 0x7f9331e63450>,\n",
       " <music21.stream.Score 0x7f9331063490>,\n",
       " <music21.stream.Score 0x7f9335750050>,\n",
       " <music21.stream.Score 0x7f933121ae90>,\n",
       " <music21.stream.Score 0x7f932fa6add0>,\n",
       " <music21.stream.Score 0x7f932f2d2310>,\n",
       " <music21.stream.Score 0x7f932eedff90>,\n",
       " <music21.stream.Score 0x7f932f511790>,\n",
       " <music21.stream.Score 0x7f9332fd8f90>,\n",
       " <music21.stream.Score 0x7f932d127550>,\n",
       " <music21.stream.Score 0x7f932da87e50>,\n",
       " <music21.stream.Score 0x7f932d70af50>,\n",
       " <music21.stream.Score 0x7f932ef01650>,\n",
       " <music21.stream.Score 0x7f93329d5ad0>,\n",
       " <music21.stream.Score 0x7f932d63f290>,\n",
       " <music21.stream.Score 0x7f932c611ed0>,\n",
       " <music21.stream.Score 0x7f932c60a290>,\n",
       " <music21.stream.Score 0x7f932831b350>,\n",
       " <music21.stream.Score 0x7f932ca26490>,\n",
       " <music21.stream.Score 0x7f9329cccb90>,\n",
       " <music21.stream.Score 0x7f93282f0810>,\n",
       " <music21.stream.Score 0x7f93283001d0>,\n",
       " <music21.stream.Score 0x7f932a4b1d90>,\n",
       " <music21.stream.Score 0x7f9324384cd0>,\n",
       " <music21.stream.Score 0x7f9329185490>,\n",
       " <music21.stream.Score 0x7f93248080d0>,\n",
       " <music21.stream.Score 0x7f9323ae8cd0>,\n",
       " <music21.stream.Score 0x7f9323f4cc90>,\n",
       " <music21.stream.Score 0x7f932310b8d0>,\n",
       " <music21.stream.Score 0x7f9325402f10>,\n",
       " <music21.stream.Score 0x7f932b879c90>,\n",
       " <music21.stream.Score 0x7f93202ca050>,\n",
       " <music21.stream.Score 0x7f9325d0b390>,\n",
       " <music21.stream.Score 0x7f9325dba210>,\n",
       " <music21.stream.Score 0x7f932c81d290>,\n",
       " <music21.stream.Score 0x7f932aa04250>,\n",
       " <music21.stream.Score 0x7f9327b4e190>]"
      ]
     },
     "execution_count": 7,
     "metadata": {},
     "output_type": "execute_result"
    }
   ],
   "source": [
    "midi_list"
   ]
  },
  {
   "cell_type": "markdown",
   "metadata": {
    "id": "isxvh92vyEXp"
   },
   "source": [
    "## Extracting Notes"
   ]
  },
  {
   "cell_type": "code",
   "execution_count": 8,
   "metadata": {
    "id": "XQnquZtyyF2N"
   },
   "outputs": [],
   "source": [
    "corpus = extract_notes(midi_list)"
   ]
  },
  {
   "cell_type": "code",
   "execution_count": 9,
   "metadata": {
    "colab": {
     "base_uri": "https://localhost:8080/"
    },
    "id": "Nlhk4KEFqT85",
    "outputId": "06009f39-7e73-4a12-a1ca-702c7d618712"
   },
   "outputs": [
    {
     "name": "stdout",
     "output_type": "stream",
     "text": [
      "Total notes: 63429\n"
     ]
    }
   ],
   "source": [
    "print(\"Total notes:\", len(corpus))"
   ]
  },
  {
   "cell_type": "markdown",
   "metadata": {
    "id": "RLaOd0mKoxKL"
   },
   "source": [
    "# Part 2: Data Exploration & Pre-processing"
   ]
  },
  {
   "cell_type": "markdown",
   "metadata": {
    "id": "oyVjBbXK1NmB"
   },
   "source": [
    "### Create a count dictionary"
   ]
  },
  {
   "cell_type": "code",
   "execution_count": 10,
   "metadata": {
    "colab": {
     "base_uri": "https://localhost:8080/"
    },
    "id": "A2fLzsAN0XE1",
    "outputId": "04b3ff8a-ec2f-4c84-9ca5-4ec0b48610d0"
   },
   "outputs": [
    {
     "name": "stdout",
     "output_type": "stream",
     "text": [
      "Unique notes: 317\n"
     ]
    }
   ],
   "source": [
    "count = Counter(corpus)\n",
    "print(\"Unique notes:\", len(count))"
   ]
  },
  {
   "cell_type": "markdown",
   "metadata": {
    "id": "0aTSdJJV1y5O"
   },
   "source": [
    "### Exploring the notes dictionary"
   ]
  },
  {
   "cell_type": "code",
   "execution_count": 11,
   "metadata": {
    "id": "JYm0k1OB2dP2"
   },
   "outputs": [],
   "source": [
    "def Average(lst):\n",
    "    return sum(lst) / len(lst)"
   ]
  },
  {
   "cell_type": "code",
   "execution_count": 12,
   "metadata": {
    "id": "ZwwCgn7l1v-R"
   },
   "outputs": [],
   "source": [
    "notes = list(count.keys())\n",
    "frequency = list(count.values())"
   ]
  },
  {
   "cell_type": "code",
   "execution_count": 13,
   "metadata": {
    "colab": {
     "base_uri": "https://localhost:8080/"
    },
    "id": "Ik8QMRG71aFx",
    "outputId": "32aa35a5-e194-4e90-dd0e-3a8dea905595"
   },
   "outputs": [
    {
     "name": "stdout",
     "output_type": "stream",
     "text": [
      "Avg frequency for a note: 200.09148264984228\n",
      "Most frequent note appeared: 1869 times\n",
      "Least frequent note appeared: 1 time\n"
     ]
    }
   ],
   "source": [
    "print(\"Avg frequency for a note:\", Average(frequency))\n",
    "print(\"Most frequent note appeared:\", max(frequency), \"times\")\n",
    "print(\"Least frequent note appeared:\", min(frequency), \"time\")"
   ]
  },
  {
   "cell_type": "markdown",
   "metadata": {
    "id": "i7prHFEB2_6x"
   },
   "source": [
    "### Plotting Distribution of Notes"
   ]
  },
  {
   "cell_type": "code",
   "execution_count": 14,
   "metadata": {
    "colab": {
     "base_uri": "https://localhost:8080/",
     "height": 239
    },
    "id": "6Kjie2BV1omr",
    "outputId": "2939e416-0f38-454a-ace0-c80b3e806ab1"
   },
   "outputs": [
    {
     "data": {
      "image/png": "[encoded data removed]",
      "text/plain": [
       "<Figure size 1296x216 with 1 Axes>"
      ]
     },
     "metadata": {
      "image/png": {
       "height": 222,
       "width": 1058
      },
      "needs_background": "light"
     },
     "output_type": "display_data"
    }
   ],
   "source": [
    "# Plotting the distribution of Notes\n",
    "plt.figure(figsize=(18,3))\n",
    "bins = np.arange(0,(max(frequency)), 50) \n",
    "plt.hist(frequency, bins=bins)\n",
    "plt.title(\"Frequency distribution of notes\")\n",
    "plt.xlabel(\"Frequency of notes\")\n",
    "plt.ylabel(\"Number of notes\")\n",
    "plt.show()"
   ]
  },
  {
   "cell_type": "markdown",
   "metadata": {
    "id": "LBO0a8gG3W94"
   },
   "source": [
    " ### Finding Rare Notes\n",
    " Let's find the list of rare notes(less than 80 recurrence) and remove them."
   ]
  },
  {
   "cell_type": "code",
   "execution_count": 15,
   "metadata": {
    "colab": {
     "base_uri": "https://localhost:8080/"
    },
    "id": "cGpKyK7b2l_y",
    "outputId": "281d5997-0600-4e46-d3b9-a03924f10a39"
   },
   "outputs": [
    {
     "name": "stdout",
     "output_type": "stream",
     "text": [
      "193\n"
     ]
    }
   ],
   "source": [
    "rare_note_occurrence = 80\n",
    "rare_note = []\n",
    "for index, (key, value) in enumerate(count.items()):\n",
    "  if value < rare_note_occurrence:\n",
    "    rare_note.append(key)\n",
    "\n",
    "# Number of occurrence of notes less than 80\n",
    "print(len(rare_note))"
   ]
  },
  {
   "cell_type": "markdown",
   "metadata": {
    "id": "MnQt6FqL5Ulr"
   },
   "source": [
    "### Removing Rare Notes"
   ]
  },
  {
   "cell_type": "code",
   "execution_count": 16,
   "metadata": {
    "id": "JopDSJrw4xNi"
   },
   "outputs": [],
   "source": [
    "for element in corpus:\n",
    "  if element in rare_note:\n",
    "    corpus.remove(element)"
   ]
  },
  {
   "cell_type": "markdown",
   "metadata": {
    "id": "1wSw-lvP8rtY"
   },
   "source": [
    "### Creating Training/Test Dataset"
   ]
  },
  {
   "cell_type": "markdown",
   "metadata": {
    "id": "evIsIjv587S6"
   },
   "source": [
    "We'll create a list of sorted unique symbols:"
   ]
  },
  {
   "cell_type": "code",
   "execution_count": 17,
   "metadata": {
    "colab": {
     "base_uri": "https://localhost:8080/"
    },
    "id": "NCtfYyJw5fbw",
    "outputId": "f09691ed-f090-4389-d67b-642338203e19"
   },
   "outputs": [
    {
     "data": {
      "text/plain": [
       "['5.8.0',\n",
       " '5.8.10',\n",
       " '5.9',\n",
       " '5.9.0',\n",
       " '5.9.11',\n",
       " '6',\n",
       " '6.10',\n",
       " '6.10.0',\n",
       " '6.10.1',\n",
       " '6.11']"
      ]
     },
     "execution_count": 17,
     "metadata": {},
     "output_type": "execute_result"
    }
   ],
   "source": [
    "symbols = sorted(list(set(corpus)))\n",
    "\n",
    "symbols[90:100]"
   ]
  },
  {
   "cell_type": "markdown",
   "metadata": {
    "id": "UMUqQW1j9bMX"
   },
   "source": [
    "The length of corpus and number of unique symbols are stored at length_corpus and lenght_symbols respectively:"
   ]
  },
  {
   "cell_type": "code",
   "execution_count": 18,
   "metadata": {
    "id": "JlqkP3KR9E3i"
   },
   "outputs": [],
   "source": [
    "length_corpus = len(corpus)\n",
    "length_symbols = len(symbols)"
   ]
  },
  {
   "cell_type": "markdown",
   "metadata": {
    "id": "2YiciUre_uky"
   },
   "source": [
    "And then we'll build a dictionary of symbols and their indices:"
   ]
  },
  {
   "cell_type": "code",
   "execution_count": 19,
   "metadata": {
    "id": "C7uvxx39-D-x"
   },
   "outputs": [],
   "source": [
    "dictionary = dict((c, i) for i, c in enumerate(symbols))\n",
    "reverse_dictionary = dict((i, c) for i, c in enumerate(symbols))"
   ]
  },
  {
   "cell_type": "code",
   "execution_count": 20,
   "metadata": {
    "colab": {
     "base_uri": "https://localhost:8080/"
    },
    "id": "fs1DYMGh_n2s",
    "outputId": "b8126d33-0327-4866-c548-7569aa7eb45f"
   },
   "outputs": [
    {
     "data": {
      "text/plain": [
       "{'0': 0,\n",
       " '0.2': 1,\n",
       " '0.2.5': 2,\n",
       " '0.2.6': 3,\n",
       " '0.2.6.8': 4,\n",
       " '0.3': 5,\n",
       " '0.3.5': 6,\n",
       " '0.3.6': 7,\n",
       " '0.3.6.8': 8,\n",
       " '0.3.7': 9,\n",
       " '0.4': 10,\n",
       " '0.4.6': 11,\n",
       " '0.4.7': 12,\n",
       " '0.5': 13,\n",
       " '0.6': 14,\n",
       " '1': 15,\n",
       " '1.2.4.8': 16,\n",
       " '1.3': 17,\n",
       " '1.3.7': 18,\n",
       " '1.4': 19,\n",
       " '1.4.6': 20,\n",
       " '1.4.7': 21,\n",
       " '1.5': 22,\n",
       " '1.5.8': 23,\n",
       " '1.6': 24,\n",
       " '1.7': 25,\n",
       " '10': 26,\n",
       " '10.0': 27,\n",
       " '10.0.3.6': 28,\n",
       " '10.0.4': 29,\n",
       " '10.1': 30,\n",
       " '10.1.3': 31,\n",
       " '10.1.4': 32,\n",
       " '10.1.5': 33,\n",
       " '10.2': 34,\n",
       " '10.2.5': 35,\n",
       " '10.3': 36,\n",
       " '11': 37,\n",
       " '11.0.4': 38,\n",
       " '11.1': 39,\n",
       " '11.1.5': 40,\n",
       " '11.1.6': 41,\n",
       " '11.2': 42,\n",
       " '11.2.4': 43,\n",
       " '11.2.5': 44,\n",
       " '11.2.6': 45,\n",
       " '11.3': 46,\n",
       " '11.3.6': 47,\n",
       " '11.4': 48,\n",
       " '2': 49,\n",
       " '2.3': 50,\n",
       " '2.4.7': 51,\n",
       " '2.4.8': 52,\n",
       " '2.5': 53,\n",
       " '2.5.7': 54,\n",
       " '2.5.8': 55,\n",
       " '2.5.9': 56,\n",
       " '2.6': 57,\n",
       " '2.7': 58,\n",
       " '2.8': 59,\n",
       " '3': 60,\n",
       " '3.4': 61,\n",
       " '3.5': 62,\n",
       " '3.5.10': 63,\n",
       " '3.5.8': 64,\n",
       " '3.5.8.11': 65,\n",
       " '3.5.9': 66,\n",
       " '3.6': 67,\n",
       " '3.6.10': 68,\n",
       " '3.6.9': 69,\n",
       " '3.7': 70,\n",
       " '3.7.10': 71,\n",
       " '3.8': 72,\n",
       " '3.9': 73,\n",
       " '4': 74,\n",
       " '4.10': 75,\n",
       " '4.6': 76,\n",
       " '4.6.11': 77,\n",
       " '4.6.9': 78,\n",
       " '4.7': 79,\n",
       " '4.7.11': 80,\n",
       " '4.8': 81,\n",
       " '4.8.11': 82,\n",
       " '4.9': 83,\n",
       " '5': 84,\n",
       " '5.10': 85,\n",
       " '5.11': 86,\n",
       " '5.7': 87,\n",
       " '5.7.10': 88,\n",
       " '5.8': 89,\n",
       " '5.8.0': 90,\n",
       " '5.8.10': 91,\n",
       " '5.9': 92,\n",
       " '5.9.0': 93,\n",
       " '5.9.11': 94,\n",
       " '6': 95,\n",
       " '6.10': 96,\n",
       " '6.10.0': 97,\n",
       " '6.10.1': 98,\n",
       " '6.11': 99,\n",
       " '6.8': 100,\n",
       " '6.8.0': 101,\n",
       " '6.8.1': 102,\n",
       " '6.8.11.2': 103,\n",
       " '6.9': 104,\n",
       " '6.9.0': 105,\n",
       " '6.9.1': 106,\n",
       " '6.9.11': 107,\n",
       " '7': 108,\n",
       " '7.0': 109,\n",
       " '7.10': 110,\n",
       " '7.10.1': 111,\n",
       " '7.10.1.3': 112,\n",
       " '7.10.2': 113,\n",
       " '7.11': 114,\n",
       " '7.11.2': 115,\n",
       " '7.8.1': 116,\n",
       " '7.9': 117,\n",
       " '7.9.2': 118,\n",
       " '8': 119,\n",
       " '8.0': 120,\n",
       " '8.0.3': 121,\n",
       " '8.1': 122,\n",
       " '8.10.3': 123,\n",
       " '8.11': 124,\n",
       " '8.11.1': 125,\n",
       " '8.11.2': 126,\n",
       " '8.11.2.4': 127,\n",
       " '8.11.3': 128,\n",
       " '8.9': 129,\n",
       " '8.9.0.3': 130,\n",
       " '8.9.11.3': 131,\n",
       " '9': 132,\n",
       " '9.0': 133,\n",
       " '9.0.2': 134,\n",
       " '9.0.3': 135,\n",
       " '9.0.3.5': 136,\n",
       " '9.0.4': 137,\n",
       " '9.1': 138,\n",
       " '9.11': 139,\n",
       " '9.11.3': 140,\n",
       " '9.11.4': 141,\n",
       " '9.2': 142,\n",
       " '9.2.3': 143,\n",
       " 'A1': 144,\n",
       " 'A2': 145,\n",
       " 'A3': 146,\n",
       " 'A4': 147,\n",
       " 'A5': 148,\n",
       " 'A6': 149,\n",
       " 'B-1': 150,\n",
       " 'B-2': 151,\n",
       " 'B-3': 152,\n",
       " 'B-4': 153,\n",
       " 'B-5': 154,\n",
       " 'B-6': 155,\n",
       " 'B1': 156,\n",
       " 'B2': 157,\n",
       " 'B3': 158,\n",
       " 'B4': 159,\n",
       " 'B5': 160,\n",
       " 'B6': 161,\n",
       " 'C#2': 162,\n",
       " 'C#3': 163,\n",
       " 'C#4': 164,\n",
       " 'C#5': 165,\n",
       " 'C#6': 166,\n",
       " 'C#7': 167,\n",
       " 'C2': 168,\n",
       " 'C3': 169,\n",
       " 'C4': 170,\n",
       " 'C5': 171,\n",
       " 'C6': 172,\n",
       " 'C7': 173,\n",
       " 'D1': 174,\n",
       " 'D2': 175,\n",
       " 'D3': 176,\n",
       " 'D4': 177,\n",
       " 'D5': 178,\n",
       " 'D6': 179,\n",
       " 'D7': 180,\n",
       " 'E-1': 181,\n",
       " 'E-2': 182,\n",
       " 'E-3': 183,\n",
       " 'E-4': 184,\n",
       " 'E-5': 185,\n",
       " 'E-6': 186,\n",
       " 'E-7': 187,\n",
       " 'E1': 188,\n",
       " 'E2': 189,\n",
       " 'E3': 190,\n",
       " 'E4': 191,\n",
       " 'E5': 192,\n",
       " 'E6': 193,\n",
       " 'E7': 194,\n",
       " 'F#1': 195,\n",
       " 'F#2': 196,\n",
       " 'F#3': 197,\n",
       " 'F#4': 198,\n",
       " 'F#5': 199,\n",
       " 'F#6': 200,\n",
       " 'F1': 201,\n",
       " 'F2': 202,\n",
       " 'F3': 203,\n",
       " 'F4': 204,\n",
       " 'F5': 205,\n",
       " 'F6': 206,\n",
       " 'F7': 207,\n",
       " 'G#1': 208,\n",
       " 'G#2': 209,\n",
       " 'G#3': 210,\n",
       " 'G#4': 211,\n",
       " 'G#5': 212,\n",
       " 'G#6': 213,\n",
       " 'G1': 214,\n",
       " 'G2': 215,\n",
       " 'G3': 216,\n",
       " 'G4': 217,\n",
       " 'G5': 218,\n",
       " 'G6': 219}"
      ]
     },
     "execution_count": 20,
     "metadata": {},
     "output_type": "execute_result"
    }
   ],
   "source": [
    "dictionary"
   ]
  },
  {
   "cell_type": "markdown",
   "metadata": {
    "id": "K38NOlYLBtRn"
   },
   "source": [
    "### Train/Test Split\n",
    "Here we will split the corpus in equal length of strings and output target:(Length of each sequence = 40 based on project description)"
   ]
  },
  {
   "cell_type": "code",
   "execution_count": 21,
   "metadata": {
    "id": "tHz6Rlp5_obQ"
   },
   "outputs": [],
   "source": [
    "sequence_length = 40\n",
    "features = []\n",
    "targets = []\n",
    "for i in range(0, length_corpus - sequence_length, 1):\n",
    "    feature = corpus[i:i + sequence_length]\n",
    "    target = corpus[i + sequence_length]\n",
    "    features.append([dictionary[j] for j in feature])\n",
    "    targets.append(dictionary[target])"
   ]
  },
  {
   "cell_type": "code",
   "execution_count": 22,
   "metadata": {
    "colab": {
     "base_uri": "https://localhost:8080/"
    },
    "id": "gwy2IyqKTGp7",
    "outputId": "c9d058cf-5936-4a00-f0fd-432277014c1f"
   },
   "outputs": [
    {
     "name": "stdout",
     "output_type": "stream",
     "text": [
      "Total # sequences in the corpus: 60318\n"
     ]
    }
   ],
   "source": [
    "length_datapoints = len(targets)\n",
    "print(\"Total # sequences in the corpus:\", length_datapoints)"
   ]
  },
  {
   "cell_type": "markdown",
   "metadata": {
    "id": "AbX1-7q9TyVu"
   },
   "source": [
    "### Normalize data"
   ]
  },
  {
   "cell_type": "code",
   "execution_count": 23,
   "metadata": {
    "id": "blAUV8_vT4QN"
   },
   "outputs": [],
   "source": [
    "shape = (length_datapoints, sequence_length, 1)\n",
    "X = np.reshape(features, shape)\n",
    "X = X/float(length_symbols)"
   ]
  },
  {
   "cell_type": "markdown",
   "metadata": {
    "id": "s3GQmt1lTeZD"
   },
   "source": [
    "### One-hot encoding for target"
   ]
  },
  {
   "cell_type": "code",
   "execution_count": 24,
   "metadata": {
    "id": "SCQ-zSXPTZ5F"
   },
   "outputs": [],
   "source": [
    "y = tensorflow.keras.utils.to_categorical(targets) "
   ]
  },
  {
   "cell_type": "code",
   "execution_count": 25,
   "metadata": {
    "id": "wZ8u7czsUfJA"
   },
   "outputs": [],
   "source": [
    "X_train, X_test, y_train, y_test = train_test_split(X, y, test_size=0.2, random_state=42)"
   ]
  },
  {
   "cell_type": "markdown",
   "metadata": {
    "id": "dE77gd8HXQH2"
   },
   "source": [
    "# Part 3: Defining the model"
   ]
  },
  {
   "cell_type": "code",
   "execution_count": 26,
   "metadata": {
    "id": "R3WczH0IUrnC"
   },
   "outputs": [],
   "source": [
    "import tensorflow as tf\n",
    "model = Sequential()\n",
    "\n",
    "in_shape = (X.shape[1], X.shape[2])\n",
    "\n",
    "model.add(LSTM(1024, input_shape=in_shape, return_sequences=True))\n",
    "model.add(LSTM(512))\n",
    "model.add(Dense(512))\n",
    "\n",
    "#Output\n",
    "model.add(Dense(y.shape[1], activation='softmax'))\n",
    "\n",
    "optimizer = tf.keras.optimizers.Adam(learning_rate=0.001)\n",
    "model.compile(loss='categorical_crossentropy', optimizer=optimizer)"
   ]
  },
  {
   "cell_type": "code",
   "execution_count": 27,
   "metadata": {
    "colab": {
     "base_uri": "https://localhost:8080/"
    },
    "id": "_umzWK-hX7me",
    "outputId": "c7408133-3395-414e-b603-bd45a4076ef8"
   },
   "outputs": [
    {
     "name": "stdout",
     "output_type": "stream",
     "text": [
      "Model: \"sequential\"\n",
      "_________________________________________________________________\n",
      " Layer (type)                Output Shape              Param #   \n",
      "=================================================================\n",
      " lstm (LSTM)                 (None, 40, 1024)          4202496   \n",
      "                                                                 \n",
      " lstm_1 (LSTM)               (None, 512)               3147776   \n",
      "                                                                 \n",
      " dense (Dense)               (None, 512)               262656    \n",
      "                                                                 \n",
      " dense_1 (Dense)             (None, 220)               112860    \n",
      "                                                                 \n",
      "=================================================================\n",
      "Total params: 7,725,788\n",
      "Trainable params: 7,725,788\n",
      "Non-trainable params: 0\n",
      "_________________________________________________________________\n"
     ]
    }
   ],
   "source": [
    "model.summary()"
   ]
  },
  {
   "cell_type": "markdown",
   "metadata": {
    "id": "IR69XKuFcz_V"
   },
   "source": [
    "# Part 4: Training and Evaluating the Modle"
   ]
  },
  {
   "cell_type": "code",
   "execution_count": 28,
   "metadata": {
    "colab": {
     "base_uri": "https://localhost:8080/"
    },
    "id": "dMx_UfYHX8Ao",
    "outputId": "13e3b236-b62e-49fa-807b-4ada49328de2"
   },
   "outputs": [
    {
     "name": "stdout",
     "output_type": "stream",
     "text": [
      "Epoch 1/30\n",
      "189/189 [==============================] - 23s 92ms/step - loss: 4.4293 - val_loss: 4.3433\n",
      "Epoch 2/30\n",
      "189/189 [==============================] - 17s 88ms/step - loss: 4.3307 - val_loss: 4.3376\n",
      "Epoch 3/30\n",
      "189/189 [==============================] - 18s 94ms/step - loss: 4.3112 - val_loss: 4.3247\n",
      "Epoch 4/30\n",
      "189/189 [==============================] - 17s 88ms/step - loss: 4.2973 - val_loss: 4.2998\n",
      "Epoch 5/30\n",
      "189/189 [==============================] - 17s 88ms/step - loss: 4.2804 - val_loss: 4.2828\n",
      "Epoch 6/30\n",
      "189/189 [==============================] - 17s 88ms/step - loss: 4.2578 - val_loss: 4.2643\n",
      "Epoch 7/30\n",
      "189/189 [==============================] - 17s 88ms/step - loss: 4.2271 - val_loss: 4.2341\n",
      "Epoch 8/30\n",
      "189/189 [==============================] - 17s 89ms/step - loss: 4.1864 - val_loss: 4.1848\n",
      "Epoch 9/30\n",
      "189/189 [==============================] - 17s 88ms/step - loss: 4.1330 - val_loss: 4.1854\n",
      "Epoch 10/30\n",
      "189/189 [==============================] - 17s 88ms/step - loss: 4.0745 - val_loss: 4.0813\n",
      "Epoch 11/30\n",
      "189/189 [==============================] - 17s 88ms/step - loss: 3.9712 - val_loss: 3.9890\n",
      "Epoch 12/30\n",
      "189/189 [==============================] - 17s 88ms/step - loss: 3.8296 - val_loss: 3.8589\n",
      "Epoch 13/30\n",
      "189/189 [==============================] - 17s 88ms/step - loss: 3.6471 - val_loss: 3.7636\n",
      "Epoch 14/30\n",
      "189/189 [==============================] - 17s 88ms/step - loss: 3.4207 - val_loss: 3.5880\n",
      "Epoch 15/30\n",
      "189/189 [==============================] - 17s 88ms/step - loss: 3.1637 - val_loss: 3.4587\n",
      "Epoch 16/30\n",
      "189/189 [==============================] - 17s 89ms/step - loss: 2.8802 - val_loss: 3.3241\n",
      "Epoch 17/30\n",
      "189/189 [==============================] - 17s 88ms/step - loss: 2.5808 - val_loss: 3.2465\n",
      "Epoch 18/30\n",
      "189/189 [==============================] - 17s 88ms/step - loss: 2.2824 - val_loss: 3.1789\n",
      "Epoch 19/30\n",
      "189/189 [==============================] - 17s 88ms/step - loss: 2.0015 - val_loss: 3.1411\n",
      "Epoch 20/30\n",
      "189/189 [==============================] - 17s 88ms/step - loss: 1.7397 - val_loss: 3.1621\n",
      "Epoch 21/30\n",
      "189/189 [==============================] - 17s 88ms/step - loss: 1.4861 - val_loss: 3.1602\n",
      "Epoch 22/30\n",
      "189/189 [==============================] - 17s 88ms/step - loss: 1.2478 - val_loss: 3.2677\n",
      "Epoch 23/30\n",
      "189/189 [==============================] - 17s 88ms/step - loss: 1.0608 - val_loss: 3.3454\n",
      "Epoch 24/30\n",
      "189/189 [==============================] - 17s 88ms/step - loss: 0.8786 - val_loss: 3.4677\n",
      "Epoch 25/30\n",
      "189/189 [==============================] - 17s 88ms/step - loss: 0.7313 - val_loss: 3.5588\n",
      "Epoch 26/30\n",
      "189/189 [==============================] - 17s 88ms/step - loss: 0.6007 - val_loss: 3.7400\n",
      "Epoch 27/30\n",
      "189/189 [==============================] - 17s 88ms/step - loss: 0.5001 - val_loss: 3.9036\n",
      "Epoch 28/30\n",
      "189/189 [==============================] - 17s 88ms/step - loss: 0.4218 - val_loss: 4.0830\n",
      "Epoch 29/30\n",
      "189/189 [==============================] - 17s 88ms/step - loss: 0.3405 - val_loss: 4.2181\n",
      "Epoch 30/30\n",
      "189/189 [==============================] - 17s 88ms/step - loss: 0.2800 - val_loss: 4.4383\n",
      "CPU times: user 5min 38s, sys: 8.51 s, total: 5min 46s\n",
      "Wall time: 8min 28s\n"
     ]
    }
   ],
   "source": [
    "%%time\n",
    "history = model.fit(X_train, y_train,validation_data=(X_test,y_test), batch_size=256, epochs=30)"
   ]
  },
  {
   "cell_type": "markdown",
   "metadata": {
    "id": "1Tr0-sa8hkNK"
   },
   "source": [
    "### Plotting training/validation loss per epoch"
   ]
  },
  {
   "cell_type": "code",
   "execution_count": 29,
   "metadata": {
    "colab": {
     "base_uri": "https://localhost:8080/",
     "height": 294
    },
    "id": "uPtYa8DNdH_5",
    "outputId": "0c0e610b-bf76-46b9-ee47-e784f5ce2421"
   },
   "outputs": [
    {
     "data": {
      "image/png": "[encoded data removed]",
      "text/plain": [
       "<Figure size 432x288 with 1 Axes>"
      ]
     },
     "metadata": {
      "image/png": {
       "height": 277,
       "width": 377
      },
      "needs_background": "light"
     },
     "output_type": "display_data"
    }
   ],
   "source": [
    "plt.plot(history.history['loss'])\n",
    "plt.plot(history.history['val_loss'])\n",
    "plt.title('Loss per epoch')\n",
    "plt.ylabel('Loss')\n",
    "plt.xlabel('epoch')\n",
    "plt.legend(['train', 'test'], loc='upper right')\n",
    "plt.show()"
   ]
  },
  {
   "cell_type": "markdown",
   "metadata": {
    "id": "7qp_cWGnhx2F"
   },
   "source": [
    "# Generating multiple melodies"
   ]
  },
  {
   "cell_type": "code",
   "execution_count": 30,
   "metadata": {
    "colab": {
     "base_uri": "https://localhost:8080/",
     "height": 35
    },
    "id": "Sdbk0dIOhhf_",
    "outputId": "aaf53f5c-9fc3-4419-8050-89c3abb13db4"
   },
   "outputs": [
    {
     "data": {
      "application/vnd.google.colaboratory.intrinsic+json": {
       "type": "string"
      },
      "text/plain": [
       "'Generated1.mid'"
      ]
     },
     "execution_count": 30,
     "metadata": {},
     "output_type": "execute_result"
    }
   ],
   "source": [
    "Music_notes, Melody = Malody_Generator(100)\n",
    "Melody.write('midi','Generated1.mid')"
   ]
  },
  {
   "cell_type": "code",
   "execution_count": 31,
   "metadata": {
    "colab": {
     "base_uri": "https://localhost:8080/",
     "height": 35
    },
    "id": "EfZHwmoQiQVV",
    "outputId": "37565453-5b8f-4250-a830-93d5bc3129f3"
   },
   "outputs": [
    {
     "data": {
      "application/vnd.google.colaboratory.intrinsic+json": {
       "type": "string"
      },
      "text/plain": [
       "'Generated2.mid'"
      ]
     },
     "execution_count": 31,
     "metadata": {},
     "output_type": "execute_result"
    }
   ],
   "source": [
    "Music_notes2, Melody2 = Malody_Generator(100)\n",
    "Melody.write('midi','Generated2.mid')"
   ]
  },
  {
   "cell_type": "markdown",
   "metadata": {
    "id": "3tY16hEEr6Rg"
   },
   "source": [
    "## Training with Mozart songs and adding Dropout Layer"
   ]
  },
  {
   "cell_type": "code",
   "execution_count": 32,
   "metadata": {
    "id": "bX-XnycskOcI"
   },
   "outputs": [],
   "source": [
    "# Frédéric Chopin \n",
    "path = \"/content/drive/MyDrive/MP2_Dataset/mozart/\"\n",
    "#Getting midi files\n",
    "midi_list = []\n",
    "for i in os.listdir(path):\n",
    "  if i.endswith(\".mid\"):\n",
    "    tr = path+i\n",
    "    midi = converter.parse(tr)\n",
    "    midi_list.append(midi)"
   ]
  },
  {
   "cell_type": "markdown",
   "metadata": {
    "id": "OjnISXNEtFE8"
   },
   "source": [
    "## Extracting Notes"
   ]
  },
  {
   "cell_type": "code",
   "execution_count": 33,
   "metadata": {
    "id": "nFV1eyTGtFFH"
   },
   "outputs": [],
   "source": [
    "corpus = extract_notes(midi_list)"
   ]
  },
  {
   "cell_type": "code",
   "execution_count": 34,
   "metadata": {
    "colab": {
     "base_uri": "https://localhost:8080/"
    },
    "id": "d4zauCavtFFH",
    "outputId": "5b05ddc5-c901-4b65-b2de-ac36ba56f486"
   },
   "outputs": [
    {
     "name": "stdout",
     "output_type": "stream",
     "text": [
      "Total notes: 59618\n"
     ]
    }
   ],
   "source": [
    "print(\"Total notes:\", len(corpus))"
   ]
  },
  {
   "cell_type": "markdown",
   "metadata": {
    "id": "GGIUrAmntFFH"
   },
   "source": [
    "## Data Exploration & Pre-processing for Mozart Dataset"
   ]
  },
  {
   "cell_type": "markdown",
   "metadata": {
    "id": "yEGrREXRtFFH"
   },
   "source": [
    "### Create a count dictionary"
   ]
  },
  {
   "cell_type": "code",
   "execution_count": 35,
   "metadata": {
    "colab": {
     "base_uri": "https://localhost:8080/"
    },
    "id": "hO7pN4xztFFI",
    "outputId": "4fdbb77b-0b67-4ca7-8375-88f496bf8bb3"
   },
   "outputs": [
    {
     "name": "stdout",
     "output_type": "stream",
     "text": [
      "Unique notes: 197\n"
     ]
    }
   ],
   "source": [
    "count = Counter(corpus)\n",
    "print(\"Unique notes:\", len(count))"
   ]
  },
  {
   "cell_type": "markdown",
   "metadata": {
    "id": "eremxajbtFFI"
   },
   "source": [
    "### Exploring the notes dictionary"
   ]
  },
  {
   "cell_type": "code",
   "execution_count": 36,
   "metadata": {
    "id": "wguY0DdCtFFI"
   },
   "outputs": [],
   "source": [
    "notes = list(count.keys())\n",
    "frequency = list(count.values())"
   ]
  },
  {
   "cell_type": "code",
   "execution_count": 37,
   "metadata": {
    "colab": {
     "base_uri": "https://localhost:8080/"
    },
    "id": "6TwlPKb2tFFI",
    "outputId": "861fab8b-6943-4d28-990f-cb201162e7ae"
   },
   "outputs": [
    {
     "name": "stdout",
     "output_type": "stream",
     "text": [
      "Avg frequency for a note: 302.6294416243655\n",
      "Most frequent note appeared: 3116 times\n",
      "Least frequent note appeared: 1 time\n"
     ]
    }
   ],
   "source": [
    "print(\"Avg frequency for a note:\", Average(frequency))\n",
    "print(\"Most frequent note appeared:\", max(frequency), \"times\")\n",
    "print(\"Least frequent note appeared:\", min(frequency), \"time\")"
   ]
  },
  {
   "cell_type": "code",
   "execution_count": 38,
   "metadata": {
    "colab": {
     "base_uri": "https://localhost:8080/",
     "height": 239
    },
    "id": "k2qdwc_CtFFI",
    "outputId": "658a6fad-9f10-4333-9223-1fef24393e76"
   },
   "outputs": [
    {
     "data": {
      "image/png": "[encoded data removed]",
      "text/plain": [
       "<Figure size 1296x216 with 1 Axes>"
      ]
     },
     "metadata": {
      "image/png": {
       "height": 222,
       "width": 1058
      },
      "needs_background": "light"
     },
     "output_type": "display_data"
    }
   ],
   "source": [
    "# Plotting the distribution of Notes\n",
    "plt.figure(figsize=(18,3))\n",
    "bins = np.arange(0,(max(frequency)), 50) \n",
    "plt.hist(frequency, bins=bins)\n",
    "plt.title(\"Frequency distribution of notes\")\n",
    "plt.xlabel(\"Frequency of notes\")\n",
    "plt.ylabel(\"Number of notes\")\n",
    "plt.show()"
   ]
  },
  {
   "cell_type": "markdown",
   "metadata": {
    "id": "0izZA3xytFFJ"
   },
   "source": [
    " ### Finding Rare Notes\n",
    " Let's find the list of rare notes(less than 80 recurrence) and remove them."
   ]
  },
  {
   "cell_type": "code",
   "execution_count": 39,
   "metadata": {
    "colab": {
     "base_uri": "https://localhost:8080/"
    },
    "id": "nKrJ6UittFFJ",
    "outputId": "5b351b41-3582-4c87-d8cb-37b7fc030ae2"
   },
   "outputs": [
    {
     "name": "stdout",
     "output_type": "stream",
     "text": [
      "121\n"
     ]
    }
   ],
   "source": [
    "rare_note_occurrence = 80\n",
    "rare_note = []\n",
    "for index, (key, value) in enumerate(count.items()):\n",
    "  if value < rare_note_occurrence:\n",
    "    rare_note.append(key)\n",
    "\n",
    "# Number of occurrence of notes less than 80\n",
    "print(len(rare_note))"
   ]
  },
  {
   "cell_type": "markdown",
   "metadata": {
    "id": "O8WAzFdutFFJ"
   },
   "source": [
    "### Removing Rare Notes"
   ]
  },
  {
   "cell_type": "code",
   "execution_count": 40,
   "metadata": {
    "id": "57rar2jZtFFJ"
   },
   "outputs": [],
   "source": [
    "for element in corpus:\n",
    "  if element in rare_note:\n",
    "    corpus.remove(element)"
   ]
  },
  {
   "cell_type": "markdown",
   "metadata": {
    "id": "wCdtt2kQtFFJ"
   },
   "source": [
    "### Creating Training/Test Dataset"
   ]
  },
  {
   "cell_type": "markdown",
   "metadata": {
    "id": "ZPlM9Cm-tFFJ"
   },
   "source": [
    "We'll create a list of sorted unique symbols:"
   ]
  },
  {
   "cell_type": "code",
   "execution_count": 41,
   "metadata": {
    "colab": {
     "base_uri": "https://localhost:8080/"
    },
    "id": "BBWGDkSRtFFJ",
    "outputId": "ec882628-39b2-44f1-836e-536e00df77ee"
   },
   "outputs": [
    {
     "data": {
      "text/plain": [
       "['B-3', 'B-4', 'B-5', 'B1', 'B2', 'B3', 'B4', 'B5', 'C#3', 'C#4']"
      ]
     },
     "execution_count": 41,
     "metadata": {},
     "output_type": "execute_result"
    }
   ],
   "source": [
    "symbols = sorted(list(set(corpus)))\n",
    "\n",
    "symbols[90:100]"
   ]
  },
  {
   "cell_type": "markdown",
   "metadata": {
    "id": "j0LWk0A1tFFJ"
   },
   "source": [
    "The length of corpus and number of unique symbols are stored at length_corpus and lenght_symbols respectively:"
   ]
  },
  {
   "cell_type": "code",
   "execution_count": 42,
   "metadata": {
    "id": "_Z3kEzjAtFFK"
   },
   "outputs": [],
   "source": [
    "length_corpus = len(corpus)\n",
    "length_symbols = len(symbols)"
   ]
  },
  {
   "cell_type": "markdown",
   "metadata": {
    "id": "XxcssrmAtFFK"
   },
   "source": [
    "And then we'll build a dictionary of symbols and their indices:"
   ]
  },
  {
   "cell_type": "code",
   "execution_count": 43,
   "metadata": {
    "id": "au_LXDTetFFK"
   },
   "outputs": [],
   "source": [
    "dictionary = dict((c, i) for i, c in enumerate(symbols))\n",
    "reverse_dictionary = dict((i, c) for i, c in enumerate(symbols))"
   ]
  },
  {
   "cell_type": "code",
   "execution_count": 44,
   "metadata": {
    "colab": {
     "base_uri": "https://localhost:8080/"
    },
    "id": "kS474_hrtFFK",
    "outputId": "7b53d47d-1c84-43a5-a5af-5a82bf132f69"
   },
   "outputs": [
    {
     "data": {
      "text/plain": [
       "{'0': 0,\n",
       " '0.1': 1,\n",
       " '0.2': 2,\n",
       " '0.2.6': 3,\n",
       " '0.3': 4,\n",
       " '0.3.5': 5,\n",
       " '0.3.6': 6,\n",
       " '0.3.6.9': 7,\n",
       " '0.3.7': 8,\n",
       " '0.4': 9,\n",
       " '0.4.7': 10,\n",
       " '1': 11,\n",
       " '1.2': 12,\n",
       " '1.4': 13,\n",
       " '1.5.8': 14,\n",
       " '1.7': 15,\n",
       " '10': 16,\n",
       " '10.0': 17,\n",
       " '10.1': 18,\n",
       " '10.1.4': 19,\n",
       " '10.2': 20,\n",
       " '10.2.3': 21,\n",
       " '10.2.5': 22,\n",
       " '10.3': 23,\n",
       " '11': 24,\n",
       " '11.0': 25,\n",
       " '11.2': 26,\n",
       " '11.2.5': 27,\n",
       " '11.2.6': 28,\n",
       " '2': 29,\n",
       " '2.4': 30,\n",
       " '2.4.8': 31,\n",
       " '2.5': 32,\n",
       " '2.5.8': 33,\n",
       " '2.5.9': 34,\n",
       " '2.6': 35,\n",
       " '2.6.9': 36,\n",
       " '2.7': 37,\n",
       " '2.8': 38,\n",
       " '3': 39,\n",
       " '3.5': 40,\n",
       " '3.7': 41,\n",
       " '4': 42,\n",
       " '4.10': 43,\n",
       " '4.6': 44,\n",
       " '4.7': 45,\n",
       " '4.7.10': 46,\n",
       " '4.7.9': 47,\n",
       " '4.8': 48,\n",
       " '4.8.11': 49,\n",
       " '4.9': 50,\n",
       " '5': 51,\n",
       " '5.10': 52,\n",
       " '5.11': 53,\n",
       " '5.7': 54,\n",
       " '5.7.11': 55,\n",
       " '5.8': 56,\n",
       " '5.9': 57,\n",
       " '5.9.0': 58,\n",
       " '6': 59,\n",
       " '6.10': 60,\n",
       " '6.7': 61,\n",
       " '6.9': 62,\n",
       " '7': 63,\n",
       " '7.0': 64,\n",
       " '7.10': 65,\n",
       " '7.10.1': 66,\n",
       " '7.10.2': 67,\n",
       " '7.11': 68,\n",
       " '7.9': 69,\n",
       " '8': 70,\n",
       " '8.0': 71,\n",
       " '8.10': 72,\n",
       " '8.11': 73,\n",
       " '8.9': 74,\n",
       " '9': 75,\n",
       " '9.0': 76,\n",
       " '9.0.2': 77,\n",
       " '9.0.3': 78,\n",
       " '9.1': 79,\n",
       " '9.1.4': 80,\n",
       " '9.10': 81,\n",
       " '9.11': 82,\n",
       " '9.2': 83,\n",
       " 'A2': 84,\n",
       " 'A3': 85,\n",
       " 'A4': 86,\n",
       " 'A5': 87,\n",
       " 'B-1': 88,\n",
       " 'B-2': 89,\n",
       " 'B-3': 90,\n",
       " 'B-4': 91,\n",
       " 'B-5': 92,\n",
       " 'B1': 93,\n",
       " 'B2': 94,\n",
       " 'B3': 95,\n",
       " 'B4': 96,\n",
       " 'B5': 97,\n",
       " 'C#3': 98,\n",
       " 'C#4': 99,\n",
       " 'C#5': 100,\n",
       " 'C#6': 101,\n",
       " 'C2': 102,\n",
       " 'C3': 103,\n",
       " 'C4': 104,\n",
       " 'C5': 105,\n",
       " 'C6': 106,\n",
       " 'D2': 107,\n",
       " 'D3': 108,\n",
       " 'D4': 109,\n",
       " 'D5': 110,\n",
       " 'D6': 111,\n",
       " 'E-2': 112,\n",
       " 'E-3': 113,\n",
       " 'E-4': 114,\n",
       " 'E-5': 115,\n",
       " 'E-6': 116,\n",
       " 'E2': 117,\n",
       " 'E3': 118,\n",
       " 'E4': 119,\n",
       " 'E5': 120,\n",
       " 'E6': 121,\n",
       " 'F#2': 122,\n",
       " 'F#3': 123,\n",
       " 'F#4': 124,\n",
       " 'F#5': 125,\n",
       " 'F2': 126,\n",
       " 'F3': 127,\n",
       " 'F4': 128,\n",
       " 'F5': 129,\n",
       " 'F6': 130,\n",
       " 'G#2': 131,\n",
       " 'G#3': 132,\n",
       " 'G#4': 133,\n",
       " 'G#5': 134,\n",
       " 'G2': 135,\n",
       " 'G3': 136,\n",
       " 'G4': 137,\n",
       " 'G5': 138,\n",
       " 'G6': 139}"
      ]
     },
     "execution_count": 44,
     "metadata": {},
     "output_type": "execute_result"
    }
   ],
   "source": [
    "dictionary"
   ]
  },
  {
   "cell_type": "markdown",
   "metadata": {
    "id": "xQzFyTsRtFFK"
   },
   "source": [
    "### Train/Test Split\n",
    "Here we will split the corpus in equal length of strings and output target:(Length of each sequence = 40 based on project description)"
   ]
  },
  {
   "cell_type": "code",
   "execution_count": 45,
   "metadata": {
    "id": "2Wyn5SOLtFFK"
   },
   "outputs": [],
   "source": [
    "sequence_length = 40\n",
    "features = []\n",
    "targets = []\n",
    "for i in range(0, length_corpus - sequence_length, 1):\n",
    "    feature = corpus[i:i + sequence_length]\n",
    "    target = corpus[i + sequence_length]\n",
    "    features.append([dictionary[j] for j in feature])\n",
    "    targets.append(dictionary[target])"
   ]
  },
  {
   "cell_type": "code",
   "execution_count": 46,
   "metadata": {
    "colab": {
     "base_uri": "https://localhost:8080/"
    },
    "id": "HFAiFEMjtFFK",
    "outputId": "d8d6ca5c-059a-4415-c257-cad6eac43166"
   },
   "outputs": [
    {
     "name": "stdout",
     "output_type": "stream",
     "text": [
      "Total # sequences in the corpus: 57344\n"
     ]
    }
   ],
   "source": [
    "length_datapoints = len(targets)\n",
    "print(\"Total # sequences in the corpus:\", length_datapoints)"
   ]
  },
  {
   "cell_type": "markdown",
   "metadata": {
    "id": "apHDstJCtFFK"
   },
   "source": [
    "### Normalize data"
   ]
  },
  {
   "cell_type": "code",
   "execution_count": 47,
   "metadata": {
    "id": "02TF-NY3tFFL"
   },
   "outputs": [],
   "source": [
    "shape = (length_datapoints, sequence_length, 1)\n",
    "X = np.reshape(features, shape)\n",
    "X = X/float(length_symbols)"
   ]
  },
  {
   "cell_type": "markdown",
   "metadata": {
    "id": "ch39jOtUtFFL"
   },
   "source": [
    "### One-hot encoding for target"
   ]
  },
  {
   "cell_type": "code",
   "execution_count": 48,
   "metadata": {
    "id": "KHKYLUrwtFFL"
   },
   "outputs": [],
   "source": [
    "y = tensorflow.keras.utils.to_categorical(targets) "
   ]
  },
  {
   "cell_type": "code",
   "execution_count": 49,
   "metadata": {
    "id": "oMTlsqJ8tFFL"
   },
   "outputs": [],
   "source": [
    "X_train, X_test, y_train, y_test = train_test_split(X, y, test_size=0.2, random_state=42)"
   ]
  },
  {
   "cell_type": "code",
   "execution_count": 50,
   "metadata": {
    "id": "lc9sjp5cwKLu"
   },
   "outputs": [],
   "source": [
    "model = Sequential()\n",
    "\n",
    "in_shape = (X.shape[1], X.shape[2])\n",
    "\n",
    "model.add(LSTM(1024, input_shape=in_shape, return_sequences=True))\n",
    "model.add(Dropout(0.5))\n",
    "model.add(LSTM(512))\n",
    "model.add(Dropout(0.5))\n",
    "model.add(Dense(512))\n",
    "model.add(Dropout(0.5))\n",
    "\n",
    "#Output\n",
    "model.add(Dense(y.shape[1], activation='softmax'))\n",
    "\n",
    "optimizer = tf.keras.optimizers.Adam(learning_rate=0.001)\n",
    "model.compile(loss='categorical_crossentropy', optimizer=optimizer)"
   ]
  },
  {
   "cell_type": "code",
   "execution_count": 51,
   "metadata": {
    "colab": {
     "base_uri": "https://localhost:8080/"
    },
    "id": "0gckhOLZwKL3",
    "outputId": "b9326a16-8a88-474d-d08a-bf9ceead8cea"
   },
   "outputs": [
    {
     "name": "stdout",
     "output_type": "stream",
     "text": [
      "Model: \"sequential_1\"\n",
      "_________________________________________________________________\n",
      " Layer (type)                Output Shape              Param #   \n",
      "=================================================================\n",
      " lstm_2 (LSTM)               (None, 40, 1024)          4202496   \n",
      "                                                                 \n",
      " dropout (Dropout)           (None, 40, 1024)          0         \n",
      "                                                                 \n",
      " lstm_3 (LSTM)               (None, 512)               3147776   \n",
      "                                                                 \n",
      " dropout_1 (Dropout)         (None, 512)               0         \n",
      "                                                                 \n",
      " dense_2 (Dense)             (None, 512)               262656    \n",
      "                                                                 \n",
      " dropout_2 (Dropout)         (None, 512)               0         \n",
      "                                                                 \n",
      " dense_3 (Dense)             (None, 140)               71820     \n",
      "                                                                 \n",
      "=================================================================\n",
      "Total params: 7,684,748\n",
      "Trainable params: 7,684,748\n",
      "Non-trainable params: 0\n",
      "_________________________________________________________________\n"
     ]
    }
   ],
   "source": [
    "model.summary()"
   ]
  },
  {
   "cell_type": "code",
   "execution_count": 52,
   "metadata": {
    "colab": {
     "base_uri": "https://localhost:8080/"
    },
    "id": "gHKzho1wwKL3",
    "outputId": "d71c1388-4506-4e23-b3f5-734c91150d0e"
   },
   "outputs": [
    {
     "name": "stdout",
     "output_type": "stream",
     "text": [
      "Epoch 1/30\n",
      "180/180 [==============================] - 19s 93ms/step - loss: 3.9720 - val_loss: 3.8651\n",
      "Epoch 2/30\n",
      "180/180 [==============================] - 16s 89ms/step - loss: 3.8835 - val_loss: 3.8459\n",
      "Epoch 3/30\n",
      "180/180 [==============================] - 16s 90ms/step - loss: 3.8563 - val_loss: 3.8477\n",
      "Epoch 4/30\n",
      "180/180 [==============================] - 16s 89ms/step - loss: 3.8425 - val_loss: 3.8146\n",
      "Epoch 5/30\n",
      "180/180 [==============================] - 16s 89ms/step - loss: 3.8324 - val_loss: 3.8221\n",
      "Epoch 6/30\n",
      "180/180 [==============================] - 16s 89ms/step - loss: 3.8182 - val_loss: 3.8042\n",
      "Epoch 7/30\n",
      "180/180 [==============================] - 16s 89ms/step - loss: 3.8102 - val_loss: 3.7795\n",
      "Epoch 8/30\n",
      "180/180 [==============================] - 16s 89ms/step - loss: 3.7955 - val_loss: 3.7599\n",
      "Epoch 9/30\n",
      "180/180 [==============================] - 16s 89ms/step - loss: 3.7857 - val_loss: 3.7674\n",
      "Epoch 10/30\n",
      "180/180 [==============================] - 16s 89ms/step - loss: 3.7707 - val_loss: 3.7755\n",
      "Epoch 11/30\n",
      "180/180 [==============================] - 16s 89ms/step - loss: 3.7600 - val_loss: 3.7392\n",
      "Epoch 12/30\n",
      "180/180 [==============================] - 16s 89ms/step - loss: 3.7442 - val_loss: 3.7384\n",
      "Epoch 13/30\n",
      "180/180 [==============================] - 16s 89ms/step - loss: 3.7268 - val_loss: 3.7021\n",
      "Epoch 14/30\n",
      "180/180 [==============================] - 16s 89ms/step - loss: 3.7002 - val_loss: 3.6756\n",
      "Epoch 15/30\n",
      "180/180 [==============================] - 16s 89ms/step - loss: 3.6792 - val_loss: 3.6474\n",
      "Epoch 16/30\n",
      "180/180 [==============================] - 16s 89ms/step - loss: 3.6497 - val_loss: 3.6055\n",
      "Epoch 17/30\n",
      "180/180 [==============================] - 16s 89ms/step - loss: 3.6066 - val_loss: 3.5743\n",
      "Epoch 18/30\n",
      "180/180 [==============================] - 16s 89ms/step - loss: 3.5652 - val_loss: 3.5118\n",
      "Epoch 19/30\n",
      "180/180 [==============================] - 16s 89ms/step - loss: 3.5050 - val_loss: 3.4884\n",
      "Epoch 20/30\n",
      "180/180 [==============================] - 16s 89ms/step - loss: 3.4438 - val_loss: 3.4099\n",
      "Epoch 21/30\n",
      "180/180 [==============================] - 16s 89ms/step - loss: 3.3838 - val_loss: 3.3639\n",
      "Epoch 22/30\n",
      "180/180 [==============================] - 16s 90ms/step - loss: 3.2963 - val_loss: 3.2553\n",
      "Epoch 23/30\n",
      "180/180 [==============================] - 16s 89ms/step - loss: 3.2134 - val_loss: 3.1935\n",
      "Epoch 24/30\n",
      "180/180 [==============================] - 16s 89ms/step - loss: 3.1250 - val_loss: 3.1286\n",
      "Epoch 25/30\n",
      "180/180 [==============================] - 16s 90ms/step - loss: 3.0452 - val_loss: 3.0557\n",
      "Epoch 26/30\n",
      "180/180 [==============================] - 16s 89ms/step - loss: 2.9421 - val_loss: 2.9968\n",
      "Epoch 27/30\n",
      "180/180 [==============================] - 16s 90ms/step - loss: 2.8502 - val_loss: 2.8847\n",
      "Epoch 28/30\n",
      "180/180 [==============================] - 16s 89ms/step - loss: 2.7628 - val_loss: 2.8039\n",
      "Epoch 29/30\n",
      "180/180 [==============================] - 16s 89ms/step - loss: 2.6654 - val_loss: 2.7550\n",
      "Epoch 30/30\n",
      "180/180 [==============================] - 16s 89ms/step - loss: 2.5858 - val_loss: 2.7182\n",
      "CPU times: user 5min 24s, sys: 7.88 s, total: 5min 32s\n",
      "Wall time: 8min 5s\n"
     ]
    }
   ],
   "source": [
    "%%time\n",
    "history = model.fit(X_train, y_train,validation_data=(X_test,y_test), batch_size=256, epochs=30)"
   ]
  },
  {
   "cell_type": "markdown",
   "metadata": {
    "id": "MOEwzbHBwKL3"
   },
   "source": [
    "### Plotting training/validation loss per epoch"
   ]
  },
  {
   "cell_type": "code",
   "execution_count": 53,
   "metadata": {
    "colab": {
     "base_uri": "https://localhost:8080/",
     "height": 294
    },
    "id": "GQXevRw7wKL3",
    "outputId": "6a5c9e9b-0bc9-4cc5-98cd-40aea1f70e68"
   },
   "outputs": [
    {
     "data": {
      "image/png": "[encoded data removed]",
      "text/plain": [
       "<Figure size 432x288 with 1 Axes>"
      ]
     },
     "metadata": {
      "image/png": {
       "height": 277,
       "width": 387
      },
      "needs_background": "light"
     },
     "output_type": "display_data"
    }
   ],
   "source": [
    "plt.plot(history.history['loss'])\n",
    "plt.plot(history.history['val_loss'])\n",
    "plt.title('Loss per epoch')\n",
    "plt.ylabel('Loss')\n",
    "plt.xlabel('epoch')\n",
    "plt.legend(['train', 'test'], loc='upper right')\n",
    "plt.show()"
   ]
  },
  {
   "cell_type": "markdown",
   "metadata": {
    "id": "U3-hAuwxwKL4"
   },
   "source": [
    "# Generating multiple melodies(Mozart)"
   ]
  },
  {
   "cell_type": "code",
   "execution_count": 54,
   "metadata": {
    "colab": {
     "base_uri": "https://localhost:8080/",
     "height": 35
    },
    "id": "AkpAa2MLwKL4",
    "outputId": "0a03ce13-2297-4310-ef49-0e0f8b6edc87"
   },
   "outputs": [
    {
     "data": {
      "application/vnd.google.colaboratory.intrinsic+json": {
       "type": "string"
      },
      "text/plain": [
       "'Generated1_Mozart.mid'"
      ]
     },
     "execution_count": 54,
     "metadata": {},
     "output_type": "execute_result"
    }
   ],
   "source": [
    "Music_notes, Melody = Malody_Generator(100)\n",
    "Melody.write('midi','Generated1_Mozart.mid')"
   ]
  },
  {
   "cell_type": "code",
   "execution_count": 55,
   "metadata": {
    "colab": {
     "base_uri": "https://localhost:8080/",
     "height": 35
    },
    "id": "koG5fbW2wKL4",
    "outputId": "20495be3-9cc7-4c37-fb4f-09e9c51785a6"
   },
   "outputs": [
    {
     "data": {
      "application/vnd.google.colaboratory.intrinsic+json": {
       "type": "string"
      },
      "text/plain": [
       "'Generated2_Mozart.mid'"
      ]
     },
     "execution_count": 55,
     "metadata": {},
     "output_type": "execute_result"
    }
   ],
   "source": [
    "Music_notes2, Melody2 = Malody_Generator(100)\n",
    "Melody.write('midi','Generated2_Mozart.mid')"
   ]
  },
  {
   "cell_type": "code",
   "execution_count": 55,
   "metadata": {
    "id": "msKOa3zuyab6"
   },
   "outputs": [],
   "source": []
  }
 ],
 "metadata": {
  "accelerator": "GPU",
  "colab": {
   "collapsed_sections": [],
   "name": "1.Music_Generation.ipynb",
   "provenance": []
  },
  "kernelspec": {
   "display_name": "Python 3 (ipykernel)",
   "language": "python",
   "name": "python3"
  },
  "language_info": {
   "codemirror_mode": {
    "name": "ipython",
    "version": 3
   },
   "file_extension": ".py",
   "mimetype": "text/x-python",
   "name": "python",
   "nbconvert_exporter": "python",
   "pygments_lexer": "ipython3",
   "version": "3.9.5"
  }
 },
 "nbformat": 4,
 "nbformat_minor": 1
}
