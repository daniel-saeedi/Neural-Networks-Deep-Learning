{
 "cells": [
  {
   "cell_type": "markdown",
   "metadata": {
    "id": "h9MYxgHFyPVR"
   },
   "source": [
    "# Question 3"
   ]
  },
  {
   "cell_type": "markdown",
   "metadata": {
    "id": "9zkOGB-jIY7L"
   },
   "source": [
    "# Part I: Trying One-sided Label Smoothing and Adding Noise\n",
    "In this part we're going to use [one-sided label smoothing](https://proceedings.neurips.cc/paper/2016/file/8a3363abe792db2d8761d6403605aeb7-Paper.pdf) and [adding noise](https://arxiv.org/pdf/1701.04862.pdf) techniques for improving GAN's performance and stability.\n",
    "\n",
    "### Basic GAN Loss Function: \n",
    "\n",
    "$\\underset{G}{\\text{min}} \\underset{D}{\\text{max}}V(D,G) = \\mathbb{E}_{x\\sim p_{data}(x)}\\big[logD(x)\\big] + \\mathbb{E}_{z\\sim p_{z}(z)}\\big[log(1-D(G(z)))\\big]$\n"
   ]
  },
  {
   "cell_type": "markdown",
   "metadata": {
    "id": "YlhvHHJRJle-"
   },
   "source": [
    "## Importing Dependecies"
   ]
  },
  {
   "cell_type": "code",
   "execution_count": null,
   "metadata": {
    "colab": {
     "base_uri": "https://localhost:8080/"
    },
    "id": "-KkMjLnHyNyz",
    "outputId": "9e715de6-87b7-4aa6-c1ae-55cdd05483a4"
   },
   "outputs": [
    {
     "name": "stdout",
     "output_type": "stream",
     "text": [
      "\u001b[K     |████████████████████████████████| 1.7 MB 33.7 MB/s \n",
      "\u001b[K     |████████████████████████████████| 143 kB 69.6 MB/s \n",
      "\u001b[K     |████████████████████████████████| 180 kB 73.4 MB/s \n",
      "\u001b[K     |████████████████████████████████| 97 kB 9.6 MB/s \n",
      "\u001b[K     |████████████████████████████████| 63 kB 1.7 MB/s \n",
      "\u001b[?25h  Building wheel for subprocess32 (setup.py) ... \u001b[?25l\u001b[?25hdone\n",
      "  Building wheel for pathtools (setup.py) ... \u001b[?25l\u001b[?25hdone\n"
     ]
    }
   ],
   "source": [
    "!pip install wandb -q"
   ]
  },
  {
   "cell_type": "code",
   "execution_count": null,
   "metadata": {
    "colab": {
     "base_uri": "https://localhost:8080/",
     "height": 365,
     "referenced_widgets": [
      "66007746fa1c4ce8b75914ad33be35e9",
      "49ad4484e5454929b778329ebf9e03a7",
      "5f2c3fc421cb4ed3a0c9f9dbe48926f1",
      "b0cfd261955e4fc78a3e8e2b81d61147",
      "db5b63910afe4c46908a449ff189a49d",
      "69d90e1845294e7688b0c22f0258ea32",
      "469c1cfb93f24a3bae952278ad44d464",
      "690c8e8f6ff8463399d93e05c808be24"
     ]
    },
    "id": "t70jFsbzJ8CX",
    "outputId": "b38ef3f0-1289-45b5-ac26-3073e699cd23"
   },
   "outputs": [
    {
     "name": "stderr",
     "output_type": "stream",
     "text": [
      "\u001b[34m\u001b[1mwandb\u001b[0m: \u001b[33mWARNING\u001b[0m Calling wandb.login() after wandb.init() has no effect.\n"
     ]
    },
    {
     "data": {
      "text/html": [
       "Finishing last run (ID:2xl61hs9) before initializing another..."
      ],
      "text/plain": [
       "<IPython.core.display.HTML object>"
      ]
     },
     "metadata": {},
     "output_type": "display_data"
    },
    {
     "data": {
      "text/html": [
       "<br/>Waiting for W&B process to finish, PID 171... <strong style=\"color:green\">(success).</strong>"
      ],
      "text/plain": [
       "<IPython.core.display.HTML object>"
      ]
     },
     "metadata": {},
     "output_type": "display_data"
    },
    {
     "data": {
      "application/vnd.jupyter.widget-view+json": {
       "model_id": "66007746fa1c4ce8b75914ad33be35e9",
       "version_major": 2,
       "version_minor": 0
      },
      "text/plain": [
       "VBox(children=(Label(value=' 17.81MB of 17.81MB uploaded (0.00MB deduped)\\r'), FloatProgress(value=1.0, max=1.…"
      ]
     },
     "metadata": {},
     "output_type": "display_data"
    },
    {
     "data": {
      "text/html": [
       "<style>\n",
       "    table.wandb td:nth-child(1) { padding: 0 10px; text-align: right }\n",
       "    .wandb-row { display: flex; flex-direction: row; flex-wrap: wrap; width: 100% }\n",
       "    .wandb-col { display: flex; flex-direction: column; flex-basis: 100%; flex: 1; padding: 10px; }\n",
       "    </style>\n",
       "<div class=\"wandb-row\"><div class=\"wandb-col\">\n",
       "<h3>Run history:</h3><br/><table class=\"wandb\"><tr><td>Disc Loss</td><td>▁▃▂▄▃█▅▃▂▃▅▄▃▄▃▅▅▄▄▅█▃▅▃▆▄▃▃▃▅▅▄▄▅▅▄▃▄▃▄</td></tr><tr><td>Gen Loss</td><td>█▅▃▄▃▂▂▂▂▂▄▂▂▂▂▁▂▃▂▂▅▂▂▂▃▁▂▂▂▁▁▁▂▁▂▁▂▁▂▂</td></tr></table><br/></div><div class=\"wandb-col\">\n",
       "<h3>Run summary:</h3><br/><table class=\"wandb\"><tr><td>Disc Loss</td><td>1.05833</td></tr><tr><td>Gen Loss</td><td>1.50804</td></tr></table>\n",
       "</div></div>\n",
       "Synced 5 W&B file(s), 32 media file(s), 0 artifact file(s) and 1 other file(s)\n",
       "<br/>Synced <strong style=\"color:#cdcd00\">swift-durian-3</strong>: <a href=\"https://wandb.ai/danielsaeedi/dcgan/runs/2xl61hs9\" target=\"_blank\">https://wandb.ai/danielsaeedi/dcgan/runs/2xl61hs9</a><br/>\n",
       "Find logs at: <code>./wandb/run-20220128_152052-2xl61hs9/logs</code><br/>\n"
      ],
      "text/plain": [
       "<IPython.core.display.HTML object>"
      ]
     },
     "metadata": {},
     "output_type": "display_data"
    },
    {
     "data": {
      "text/html": [
       "Successfully finished last run (ID:2xl61hs9). Initializing new run:<br/>"
      ],
      "text/plain": [
       "<IPython.core.display.HTML object>"
      ]
     },
     "metadata": {},
     "output_type": "display_data"
    },
    {
     "data": {
      "text/html": [
       "\n",
       "                    Syncing run <strong><a href=\"https://wandb.ai/danielsaeedi/dcgan/runs/3s2y5gow\" target=\"_blank\">denim-serenity-4</a></strong> to <a href=\"https://wandb.ai/danielsaeedi/dcgan\" target=\"_blank\">Weights & Biases</a> (<a href=\"https://docs.wandb.com/integrations/jupyter.html\" target=\"_blank\">docs</a>).<br/>\n",
       "\n",
       "                "
      ],
      "text/plain": [
       "<IPython.core.display.HTML object>"
      ]
     },
     "metadata": {},
     "output_type": "display_data"
    },
    {
     "data": {
      "text/html": [
       "<button onClick=\"this.nextSibling.style.display='block';this.style.display='none';\">Display W&B run</button><iframe src=\"https://wandb.ai/danielsaeedi/dcgan/runs/3s2y5gow?jupyter=true\" style=\"border:none;width:100%;height:420px;display:none;\"></iframe>"
      ],
      "text/plain": [
       "<wandb.sdk.wandb_run.Run at 0x7f324658ee50>"
      ]
     },
     "execution_count": 28,
     "metadata": {},
     "output_type": "execute_result"
    }
   ],
   "source": [
    "from __future__ import print_function\n",
    "import argparse\n",
    "import random\n",
    "import os\n",
    "import numpy as np\n",
    "import matplotlib.pyplot as plt\n",
    "import matplotlib.animation as animation\n",
    "from IPython.display import HTML\n",
    "import torch\n",
    "import torch.nn as nn\n",
    "import torch.nn.functional as F\n",
    "import torch.nn.parallel\n",
    "import torch.backends.cudnn as cudnn\n",
    "import torch.utils.data\n",
    "import torchvision.utils as vutils\n",
    "import torch.optim as optim\n",
    "from torchvision import datasets, transforms\n",
    "import logging\n",
    "logging.propagate = False \n",
    "logging.getLogger().setLevel(logging.ERROR)\n",
    "\n",
    "import matplotlib.pyplot as plt\n",
    "from torchvision.utils import make_grid\n",
    "\n",
    "import wandb\n",
    "wandb.login()\n",
    "wandb.init(project=\"dcgan\")"
   ]
  },
  {
   "cell_type": "code",
   "execution_count": null,
   "metadata": {
    "colab": {
     "base_uri": "https://localhost:8080/"
    },
    "id": "gfzHjNX-KNHY",
    "outputId": "92eabb43-d6a7-4da7-d9e8-03b90f51324c"
   },
   "outputs": [
    {
     "data": {
      "text/plain": [
       "<torch._C.Generator at 0x7f32d5df0ab0>"
      ]
     },
     "execution_count": 3,
     "metadata": {},
     "output_type": "execute_result"
    }
   ],
   "source": [
    "# Set random seed for reproducibility\n",
    "manualSeed = 42\n",
    "random.seed(manualSeed)\n",
    "torch.manual_seed(manualSeed)"
   ]
  },
  {
   "cell_type": "markdown",
   "metadata": {
    "id": "t9R_mH6qKnjw"
   },
   "source": [
    "## Hyper Parameters\n"
   ]
  },
  {
   "cell_type": "code",
   "execution_count": null,
   "metadata": {
    "id": "XS1yMCgYKZgY"
   },
   "outputs": [],
   "source": [
    "# Number of workers for dataloader\n",
    "workers = 2\n",
    "\n",
    "# Batch size during training\n",
    "batch_size = 128\n",
    "\n",
    "# All images will be reduced to 32.\n",
    "image_size = 32\n",
    "\n",
    "# Number of channels in the training images. For color images this is 3\n",
    "nc = 3\n",
    "\n",
    "# Size of z latent vector (i.e. size of generator input)\n",
    "nz = 100\n",
    "\n",
    "# Size of feature maps in generator\n",
    "ngf = 64\n",
    "\n",
    "# Size of feature maps in discriminator\n",
    "ndf = 64\n",
    "\n",
    "# Number of training epochs\n",
    "num_epochs = 30\n",
    "\n",
    "# Learning rate for optimizers\n",
    "lr = 0.0002\n",
    "\n",
    "# Beta1 hyperparam for Adam optimizers\n",
    "beta1 = 0.5\n",
    "\n",
    "# Number of GPUs available. Use 0 for CPU mode.\n",
    "ngpu = 1"
   ]
  },
  {
   "cell_type": "markdown",
   "metadata": {
    "id": "jtxjiMFNK4JN"
   },
   "source": [
    "## Define the model"
   ]
  },
  {
   "cell_type": "code",
   "execution_count": null,
   "metadata": {
    "id": "Ted1tkT_K0fb"
   },
   "outputs": [],
   "source": [
    "def weights_init(m):\n",
    "    classname = m.__class__.__name__\n",
    "    if classname.find('Conv') != -1:\n",
    "        nn.init.normal_(m.weight.data, 0.0, 0.02)\n",
    "    elif classname.find('BatchNorm') != -1:\n",
    "        nn.init.normal_(m.weight.data, 1.0, 0.02)\n",
    "        nn.init.constant_(m.bias.data, 0)"
   ]
  },
  {
   "cell_type": "code",
   "execution_count": null,
   "metadata": {
    "id": "6jdHqqZwK8hS"
   },
   "outputs": [],
   "source": [
    "# Generator\n",
    "class Generator(nn.Module):\n",
    "    def __init__(self, ngpu):\n",
    "        super(Generator, self).__init__()\n",
    "        self.ngpu = ngpu\n",
    "        self.main = nn.Sequential(\n",
    "            nn.ConvTranspose2d( nz, ngf * 8, 4, 1, 0, bias=False),\n",
    "            nn.BatchNorm2d(ngf * 8),\n",
    "            nn.ReLU(True),\n",
    "            nn.ConvTranspose2d(ngf * 8, ngf * 4, 4, 2, 1, bias=False),\n",
    "            nn.BatchNorm2d(ngf * 4),\n",
    "            nn.ReLU(True),\n",
    "            nn.ConvTranspose2d( ngf * 4, ngf * 2, 4, 2, 1, bias=False),\n",
    "            nn.BatchNorm2d(ngf * 2),\n",
    "            nn.ReLU(True),\n",
    "            nn.ConvTranspose2d( ngf * 2, nc, 4, 2, 1, bias=False),\n",
    "            nn.Tanh()\n",
    "        )\n",
    "\n",
    "    def forward(self, input):\n",
    "        return self.main(input)"
   ]
  },
  {
   "cell_type": "code",
   "execution_count": null,
   "metadata": {
    "id": "17uSXTjeLArd"
   },
   "outputs": [],
   "source": [
    "# Discriminator\n",
    "class Discriminator(nn.Module):\n",
    "    def __init__(self, ngpu):\n",
    "        super(Discriminator, self).__init__()\n",
    "        self.ngpu = ngpu\n",
    "        self.main = nn.Sequential(\n",
    "            nn.Conv2d(nc, ndf, 4, 2, 1, bias=False),\n",
    "            nn.LeakyReLU(0.2, inplace=True),\n",
    "            nn.Conv2d(ndf, ndf * 2, 4, 2, 1, bias=False),\n",
    "            nn.BatchNorm2d(ndf * 2),\n",
    "            nn.LeakyReLU(0.2, inplace=True),\n",
    "            nn.Conv2d(ndf * 2, ndf * 4, 4, 2, 1, bias=False),\n",
    "            nn.BatchNorm2d(ndf * 4),\n",
    "            nn.LeakyReLU(0.2, inplace=True),\n",
    "            nn.Conv2d(ndf * 4, 1, 4, 1, 0, bias=False),\n",
    "            nn.Sigmoid()\n",
    "        )\n",
    "\n",
    "    def forward(self, input):\n",
    "        return self.main(input)"
   ]
  },
  {
   "cell_type": "code",
   "execution_count": null,
   "metadata": {
    "id": "g8BicTVeLgd1"
   },
   "outputs": [],
   "source": [
    "def train(args, gen, disc, device, dataloader, optimizerG, optimizerD, criterion, epoch, iters):\n",
    "  gen.train()\n",
    "  disc.train()\n",
    "  img_list = []\n",
    "  fixed_noise = torch.randn(64, config.nz, 1, 1, device=device)\n",
    "\n",
    "  # Establish convention for real and fake labels during training (with label smoothing)\n",
    "  real_label = 0.9\n",
    "  fake_label = 0.1\n",
    "\n",
    "  G_loss = 0\n",
    "  D_loss = 0\n",
    "  for i, data in enumerate(dataloader, 0):\n",
    "\n",
    "      #*****\n",
    "      # Update Discriminator\n",
    "      #*****\n",
    "      ## Train with all-real batch\n",
    "      disc.zero_grad()\n",
    "      # Format batch\n",
    "      real_cpu = data[0].to(device)\n",
    "      b_size = real_cpu.size(0)\n",
    "      label = torch.full((b_size,), real_label, device=device)\n",
    "      # Forward pass real batch through D\n",
    "      output = disc(real_cpu).view(-1)\n",
    "      # Calculate loss on all-real batch\n",
    "      errD_real = criterion(output, label)\n",
    "      # Calculate gradients for D in backward pass\n",
    "      errD_real.backward()\n",
    "      D_x = output.mean().item()\n",
    "\n",
    "      ## Train with all-fake batch\n",
    "      # Generate batch of latent vectors\n",
    "      noise = torch.randn(b_size, config.nz, 1, 1, device=device)\n",
    "      # Generate fake image batch with G\n",
    "      fake = gen(noise)\n",
    "      label.fill_(fake_label)\n",
    "      # Classify all fake batch with D\n",
    "      output = disc(fake.detach()).view(-1)\n",
    "      # Calculate D's loss on the all-fake batch\n",
    "      errD_fake = criterion(output, label)\n",
    "      # Calculate the gradients for this batch\n",
    "      errD_fake.backward()\n",
    "      D_G_z1 = output.mean().item()\n",
    "      # Add the gradients from the all-real and all-fake batches\n",
    "      errD = errD_real + errD_fake\n",
    "      # Update D\n",
    "      optimizerD.step()\n",
    "\n",
    "      #*****\n",
    "      # Update Generator\n",
    "      #*****\n",
    "      gen.zero_grad()\n",
    "      label.fill_(real_label)  # fake labels are real for generator cost\n",
    "      # Since we just updated D, perform another forward pass of all-fake batch through D\n",
    "      output = disc(fake).view(-1)\n",
    "      # Calculate G's loss based on this output\n",
    "      errG = criterion(output, label)\n",
    "      # Calculate gradients for G\n",
    "      errG.backward()\n",
    "      D_G_z2 = output.mean().item()\n",
    "      # Update G\n",
    "      optimizerG.step()\n",
    "\n",
    "      # Output training stats\n",
    "      if i % 50 == 0:\n",
    "          print('[%d/%d][%d/%d]\\tLoss_D: %.4f\\tLoss_G: %.4f\\tD(x): %.4f\\tD(G(z)): %.4f / %.4f'\n",
    "                % (epoch, args.epochs, i, len(dataloader),\n",
    "                    errD.item(), errG.item(), D_x, D_G_z1, D_G_z2))\n",
    "          wandb.log({\n",
    "              \"Gen Loss\": errG.item(),\n",
    "              \"Disc Loss\": errD.item()})\n",
    "\n",
    "      # Check how the generator is doing by saving G's output on fixed_noise\n",
    "      if (iters % 500 == 0) or ((epoch == args.epochs-1) and (i == len(dataloader)-1)):\n",
    "          with torch.no_grad():\n",
    "              fake = gen(fixed_noise).detach().cpu()\n",
    "          img_list.append(wandb.Image(vutils.make_grid(fake, padding=2, normalize=True)))\n",
    "          wandb.log({\n",
    "              \"Generated Images\": img_list})\n",
    "      iters += 1\n",
    "\n",
    "      G_loss = errG.item()\n",
    "      D_loss = errD.item()\n",
    "  \n",
    "  return G_loss, D_loss"
   ]
  },
  {
   "cell_type": "markdown",
   "metadata": {
    "id": "MgVKHyxHL07V"
   },
   "source": [
    "## Training with CIFAR-10 Dataset"
   ]
  },
  {
   "cell_type": "code",
   "execution_count": null,
   "metadata": {
    "id": "zwzx5qAPLDky"
   },
   "outputs": [],
   "source": [
    "#hide-collapse\n",
    "wandb.watch_called = False \n",
    "# WandB – Config is a variable that holds and saves hyperparameters and inputs\n",
    "config = wandb.config          # Initialize config\n",
    "config.batch_size = batch_size \n",
    "config.epochs = num_epochs         \n",
    "config.lr = lr              \n",
    "config.beta1 = beta1\n",
    "config.nz = nz          \n",
    "config.no_cuda = False         \n",
    "config.seed = manualSeed # random seed (default: 42)\n",
    "config.log_interval = 10 # how many batches to wait before logging training status"
   ]
  },
  {
   "cell_type": "code",
   "execution_count": null,
   "metadata": {
    "colab": {
     "base_uri": "https://localhost:8080/",
     "height": 1000,
     "referenced_widgets": [
      "f611fa5ff9464aacaffa518697dbf56d",
      "deb50501f0d84cc7b33df024b0dd4ea1",
      "9066fa7aa97148049c653efdb4dd9500",
      "0bc5d52b25ca4d87bf23924e2ebfe6b9",
      "e8d0312d32be4e888a81a7ca812ca406",
      "acae2406bdf849cb83f75bb876270da4",
      "5103a441b655414a9d863cbaa3a81620",
      "efdddf9c9a0548f4849952baf1a09762",
      "5b6ed504d2e54f3da7e0aa703bd84fe6",
      "0bc80877307b46beb68f5477847cec3f",
      "902e9be2a940465d8010b967bf833b31"
     ]
    },
    "id": "M2ozVRq5MKP-",
    "outputId": "250fc554-7c57-441d-c52a-311cea131f02"
   },
   "outputs": [
    {
     "metadata": {
      "tags": null
     },
     "name": "stdout",
     "output_type": "stream",
     "text": [
      "Downloading https://www.cs.toronto.edu/~kriz/cifar-10-python.tar.gz to ./data/cifar-10-python.tar.gz\n"
     ]
    },
    {
     "data": {
      "application/vnd.jupyter.widget-view+json": {
       "model_id": "f611fa5ff9464aacaffa518697dbf56d",
       "version_major": 2,
       "version_minor": 0
      },
      "text/plain": [
       "  0%|          | 0/170498071 [00:00<?, ?it/s]"
      ]
     },
     "metadata": {},
     "output_type": "display_data"
    },
    {
     "name": "stdout",
     "output_type": "stream",
     "text": [
      "Extracting ./data/cifar-10-python.tar.gz to ./data\n",
      "[1/30][0/391]\tLoss_D: 1.4780\tLoss_G: 2.0657\tD(x): 0.5485\tD(G(z)): 0.5116 / 0.1238\n",
      "[1/30][50/391]\tLoss_D: 0.7863\tLoss_G: 4.2930\tD(x): 0.7728\tD(G(z)): 0.1886 / 0.0097\n",
      "[1/30][100/391]\tLoss_D: 0.7035\tLoss_G: 1.5641\tD(x): 0.8523\tD(G(z)): 0.1028 / 0.1834\n",
      "[1/30][150/391]\tLoss_D: 0.8511\tLoss_G: 3.6485\tD(x): 0.8814\tD(G(z)): 0.3523 / 0.0180\n",
      "[1/30][200/391]\tLoss_D: 0.9049\tLoss_G: 1.6140\tD(x): 0.6729\tD(G(z)): 0.2003 / 0.1814\n",
      "[1/30][250/391]\tLoss_D: 1.0602\tLoss_G: 2.0955\tD(x): 0.6861\tD(G(z)): 0.3761 / 0.1115\n",
      "[1/30][300/391]\tLoss_D: 1.1982\tLoss_G: 2.1059\tD(x): 0.4815\tD(G(z)): 0.1628 / 0.1144\n",
      "[1/30][350/391]\tLoss_D: 1.0344\tLoss_G: 3.0397\tD(x): 0.7016\tD(G(z)): 0.3281 / 0.0411\n",
      "[2/30][0/391]\tLoss_D: 1.2561\tLoss_G: 2.3377\tD(x): 0.7495\tD(G(z)): 0.5304 / 0.0992\n",
      "[2/30][50/391]\tLoss_D: 1.0936\tLoss_G: 1.4919\tD(x): 0.5788\tD(G(z)): 0.2912 / 0.2096\n",
      "[2/30][100/391]\tLoss_D: 0.8826\tLoss_G: 1.9171\tD(x): 0.7179\tD(G(z)): 0.2568 / 0.1329\n",
      "[2/30][150/391]\tLoss_D: 1.0381\tLoss_G: 1.9709\tD(x): 0.5869\tD(G(z)): 0.2089 / 0.1361\n",
      "[2/30][200/391]\tLoss_D: 0.9219\tLoss_G: 2.1319\tD(x): 0.7177\tD(G(z)): 0.2748 / 0.1120\n",
      "[2/30][250/391]\tLoss_D: 0.8672\tLoss_G: 1.6064\tD(x): 0.7194\tD(G(z)): 0.2398 / 0.1868\n",
      "[2/30][300/391]\tLoss_D: 0.8104\tLoss_G: 1.9737\tD(x): 0.7477\tD(G(z)): 0.1919 / 0.1287\n",
      "[2/30][350/391]\tLoss_D: 0.9576\tLoss_G: 1.6844\tD(x): 0.6826\tD(G(z)): 0.2102 / 0.1831\n",
      "[3/30][0/391]\tLoss_D: 0.8812\tLoss_G: 1.9783\tD(x): 0.7065\tD(G(z)): 0.2574 / 0.1258\n",
      "[3/30][50/391]\tLoss_D: 0.9265\tLoss_G: 2.0555\tD(x): 0.6886\tD(G(z)): 0.1940 / 0.1201\n",
      "[3/30][100/391]\tLoss_D: 0.8052\tLoss_G: 1.9361\tD(x): 0.7784\tD(G(z)): 0.2317 / 0.1321\n",
      "[3/30][150/391]\tLoss_D: 1.0659\tLoss_G: 2.2791\tD(x): 0.7749\tD(G(z)): 0.4319 / 0.0986\n",
      "[3/30][200/391]\tLoss_D: 1.1419\tLoss_G: 1.8599\tD(x): 0.7116\tD(G(z)): 0.4340 / 0.1627\n",
      "[3/30][250/391]\tLoss_D: 1.0203\tLoss_G: 1.7775\tD(x): 0.6694\tD(G(z)): 0.3360 / 0.1604\n",
      "[3/30][300/391]\tLoss_D: 1.0948\tLoss_G: 1.6050\tD(x): 0.7176\tD(G(z)): 0.4286 / 0.1946\n",
      "[3/30][350/391]\tLoss_D: 1.0063\tLoss_G: 1.3779\tD(x): 0.6074\tD(G(z)): 0.2548 / 0.2470\n",
      "[4/30][0/391]\tLoss_D: 1.0686\tLoss_G: 2.3346\tD(x): 0.8175\tD(G(z)): 0.4658 / 0.0915\n",
      "[4/30][50/391]\tLoss_D: 1.0107\tLoss_G: 2.0003\tD(x): 0.7367\tD(G(z)): 0.3802 / 0.1318\n",
      "[4/30][100/391]\tLoss_D: 1.2044\tLoss_G: 1.1297\tD(x): 0.4744\tD(G(z)): 0.1352 / 0.3356\n",
      "[4/30][150/391]\tLoss_D: 1.0185\tLoss_G: 1.5886\tD(x): 0.6410\tD(G(z)): 0.2913 / 0.1977\n",
      "[4/30][200/391]\tLoss_D: 0.8829\tLoss_G: 1.5678\tD(x): 0.7156\tD(G(z)): 0.2705 / 0.1978\n",
      "[4/30][250/391]\tLoss_D: 0.8552\tLoss_G: 1.8851\tD(x): 0.7160\tD(G(z)): 0.2054 / 0.1414\n",
      "[4/30][300/391]\tLoss_D: 0.9623\tLoss_G: 2.8315\tD(x): 0.7565\tD(G(z)): 0.3689 / 0.0551\n",
      "[4/30][350/391]\tLoss_D: 1.5144\tLoss_G: 1.1696\tD(x): 0.3323\tD(G(z)): 0.0576 / 0.3364\n",
      "[5/30][0/391]\tLoss_D: 0.9065\tLoss_G: 1.6861\tD(x): 0.7459\tD(G(z)): 0.2920 / 0.1765\n",
      "[5/30][50/391]\tLoss_D: 1.0850\tLoss_G: 1.0772\tD(x): 0.5369\tD(G(z)): 0.2084 / 0.3446\n",
      "[5/30][100/391]\tLoss_D: 1.0721\tLoss_G: 1.7906\tD(x): 0.6957\tD(G(z)): 0.4110 / 0.1543\n",
      "[5/30][150/391]\tLoss_D: 1.1126\tLoss_G: 2.0627\tD(x): 0.7914\tD(G(z)): 0.4643 / 0.1266\n",
      "[5/30][200/391]\tLoss_D: 0.9823\tLoss_G: 2.2405\tD(x): 0.7489\tD(G(z)): 0.3748 / 0.0979\n",
      "[5/30][250/391]\tLoss_D: 1.1762\tLoss_G: 1.2313\tD(x): 0.4746\tD(G(z)): 0.1975 / 0.2914\n",
      "[5/30][300/391]\tLoss_D: 0.9796\tLoss_G: 1.5145\tD(x): 0.6223\tD(G(z)): 0.2609 / 0.2078\n",
      "[5/30][350/391]\tLoss_D: 1.1238\tLoss_G: 1.2853\tD(x): 0.6222\tD(G(z)): 0.3851 / 0.2654\n",
      "[6/30][0/391]\tLoss_D: 1.0174\tLoss_G: 1.5655\tD(x): 0.7228\tD(G(z)): 0.3771 / 0.2030\n",
      "[6/30][50/391]\tLoss_D: 1.0613\tLoss_G: 1.3523\tD(x): 0.6476\tD(G(z)): 0.3554 / 0.2533\n",
      "[6/30][100/391]\tLoss_D: 1.0856\tLoss_G: 1.3561\tD(x): 0.6528\tD(G(z)): 0.3893 / 0.2432\n",
      "[6/30][150/391]\tLoss_D: 1.0452\tLoss_G: 1.2369\tD(x): 0.6048\tD(G(z)): 0.3103 / 0.2791\n",
      "[6/30][200/391]\tLoss_D: 0.9968\tLoss_G: 1.4621\tD(x): 0.7251\tD(G(z)): 0.3766 / 0.2211\n",
      "[6/30][250/391]\tLoss_D: 0.9640\tLoss_G: 1.2299\tD(x): 0.6380\tD(G(z)): 0.2726 / 0.2829\n",
      "[6/30][300/391]\tLoss_D: 0.9777\tLoss_G: 1.3642\tD(x): 0.6269\tD(G(z)): 0.2646 / 0.2456\n",
      "[6/30][350/391]\tLoss_D: 1.1199\tLoss_G: 2.0979\tD(x): 0.7373\tD(G(z)): 0.4606 / 0.1216\n",
      "[7/30][0/391]\tLoss_D: 0.9972\tLoss_G: 1.7328\tD(x): 0.7080\tD(G(z)): 0.3634 / 0.1648\n",
      "[7/30][50/391]\tLoss_D: 0.9329\tLoss_G: 1.5456\tD(x): 0.7083\tD(G(z)): 0.3028 / 0.2007\n",
      "[7/30][100/391]\tLoss_D: 1.0921\tLoss_G: 1.9916\tD(x): 0.6994\tD(G(z)): 0.4340 / 0.1251\n",
      "[7/30][150/391]\tLoss_D: 1.1536\tLoss_G: 1.4312\tD(x): 0.6537\tD(G(z)): 0.4314 / 0.2294\n",
      "[7/30][200/391]\tLoss_D: 1.0520\tLoss_G: 1.6274\tD(x): 0.7002\tD(G(z)): 0.4049 / 0.1898\n",
      "[7/30][250/391]\tLoss_D: 1.0128\tLoss_G: 1.4201\tD(x): 0.6487\tD(G(z)): 0.3246 / 0.2303\n",
      "[7/30][300/391]\tLoss_D: 1.0522\tLoss_G: 1.8707\tD(x): 0.7666\tD(G(z)): 0.4445 / 0.1434\n",
      "[7/30][350/391]\tLoss_D: 1.0048\tLoss_G: 1.5189\tD(x): 0.5783\tD(G(z)): 0.2116 / 0.2139\n",
      "[8/30][0/391]\tLoss_D: 1.1211\tLoss_G: 0.9192\tD(x): 0.5257\tD(G(z)): 0.2367 / 0.4023\n",
      "[8/30][50/391]\tLoss_D: 1.1924\tLoss_G: 0.9199\tD(x): 0.5064\tD(G(z)): 0.2859 / 0.3971\n",
      "[8/30][100/391]\tLoss_D: 1.0780\tLoss_G: 1.3950\tD(x): 0.6986\tD(G(z)): 0.4162 / 0.2403\n",
      "[8/30][150/391]\tLoss_D: 1.2304\tLoss_G: 1.6398\tD(x): 0.7358\tD(G(z)): 0.5306 / 0.1872\n",
      "[8/30][200/391]\tLoss_D: 1.0310\tLoss_G: 1.7485\tD(x): 0.7116\tD(G(z)): 0.3949 / 0.1622\n",
      "[8/30][250/391]\tLoss_D: 1.2135\tLoss_G: 2.4800\tD(x): 0.8291\tD(G(z)): 0.5498 / 0.0772\n",
      "[8/30][300/391]\tLoss_D: 1.0299\tLoss_G: 1.3645\tD(x): 0.6476\tD(G(z)): 0.3434 / 0.2443\n",
      "[8/30][350/391]\tLoss_D: 1.1081\tLoss_G: 1.3758\tD(x): 0.6538\tD(G(z)): 0.4088 / 0.2432\n",
      "[9/30][0/391]\tLoss_D: 1.1576\tLoss_G: 0.9203\tD(x): 0.4718\tD(G(z)): 0.1746 / 0.4022\n",
      "[9/30][50/391]\tLoss_D: 1.0552\tLoss_G: 1.5303\tD(x): 0.6743\tD(G(z)): 0.3809 / 0.2062\n",
      "[9/30][100/391]\tLoss_D: 0.9157\tLoss_G: 1.3916\tD(x): 0.7626\tD(G(z)): 0.3347 / 0.2413\n",
      "[9/30][150/391]\tLoss_D: 1.0546\tLoss_G: 1.4388\tD(x): 0.6839\tD(G(z)): 0.3891 / 0.2298\n",
      "[9/30][200/391]\tLoss_D: 1.2746\tLoss_G: 1.1529\tD(x): 0.4352\tD(G(z)): 0.1714 / 0.3271\n",
      "[9/30][250/391]\tLoss_D: 1.2085\tLoss_G: 1.2763\tD(x): 0.5831\tD(G(z)): 0.4207 / 0.2660\n",
      "[9/30][300/391]\tLoss_D: 1.0916\tLoss_G: 1.6051\tD(x): 0.7686\tD(G(z)): 0.4725 / 0.1841\n",
      "[9/30][350/391]\tLoss_D: 0.9801\tLoss_G: 1.2795\tD(x): 0.6900\tD(G(z)): 0.3459 / 0.2662\n",
      "[10/30][0/391]\tLoss_D: 1.1632\tLoss_G: 2.0348\tD(x): 0.8083\tD(G(z)): 0.5164 / 0.1214\n",
      "[10/30][50/391]\tLoss_D: 1.0211\tLoss_G: 1.3021\tD(x): 0.6534\tD(G(z)): 0.3450 / 0.2584\n",
      "[10/30][100/391]\tLoss_D: 1.1273\tLoss_G: 1.0074\tD(x): 0.5139\tD(G(z)): 0.2401 / 0.3614\n",
      "[10/30][150/391]\tLoss_D: 1.2399\tLoss_G: 2.0899\tD(x): 0.7447\tD(G(z)): 0.5444 / 0.1159\n",
      "[10/30][200/391]\tLoss_D: 1.0275\tLoss_G: 1.7053\tD(x): 0.7651\tD(G(z)): 0.4284 / 0.1708\n",
      "[10/30][250/391]\tLoss_D: 1.2093\tLoss_G: 1.8584\tD(x): 0.7722\tD(G(z)): 0.5473 / 0.1403\n",
      "[10/30][300/391]\tLoss_D: 1.0337\tLoss_G: 1.6897\tD(x): 0.7505\tD(G(z)): 0.4214 / 0.1743\n",
      "[10/30][350/391]\tLoss_D: 1.1089\tLoss_G: 1.4221\tD(x): 0.5477\tD(G(z)): 0.2873 / 0.2371\n",
      "[11/30][0/391]\tLoss_D: 1.0023\tLoss_G: 1.0963\tD(x): 0.6257\tD(G(z)): 0.3004 / 0.3256\n",
      "[11/30][50/391]\tLoss_D: 1.1394\tLoss_G: 0.9125\tD(x): 0.4717\tD(G(z)): 0.1621 / 0.4049\n",
      "[11/30][100/391]\tLoss_D: 1.1449\tLoss_G: 0.6575\tD(x): 0.4741\tD(G(z)): 0.1626 / 0.5547\n",
      "[11/30][150/391]\tLoss_D: 0.8993\tLoss_G: 1.4576\tD(x): 0.6706\tD(G(z)): 0.2394 / 0.2234\n",
      "[11/30][200/391]\tLoss_D: 1.5728\tLoss_G: 0.6006\tD(x): 0.2951\tD(G(z)): 0.1503 / 0.6094\n",
      "[11/30][250/391]\tLoss_D: 0.9563\tLoss_G: 1.4883\tD(x): 0.6853\tD(G(z)): 0.3154 / 0.2145\n",
      "[11/30][300/391]\tLoss_D: 0.9822\tLoss_G: 1.3333\tD(x): 0.6190\tD(G(z)): 0.2589 / 0.2560\n",
      "[11/30][350/391]\tLoss_D: 0.9573\tLoss_G: 1.2691\tD(x): 0.6790\tD(G(z)): 0.3039 / 0.2685\n",
      "[12/30][0/391]\tLoss_D: 0.9550\tLoss_G: 1.3073\tD(x): 0.6630\tD(G(z)): 0.2942 / 0.2546\n",
      "[12/30][50/391]\tLoss_D: 1.1880\tLoss_G: 0.9715\tD(x): 0.5390\tD(G(z)): 0.3535 / 0.3729\n",
      "[12/30][100/391]\tLoss_D: 0.9706\tLoss_G: 1.1902\tD(x): 0.6198\tD(G(z)): 0.2568 / 0.2936\n",
      "[12/30][150/391]\tLoss_D: 1.2050\tLoss_G: 0.9333\tD(x): 0.5505\tD(G(z)): 0.3792 / 0.3927\n",
      "[12/30][200/391]\tLoss_D: 0.9039\tLoss_G: 1.3548\tD(x): 0.7347\tD(G(z)): 0.3078 / 0.2445\n",
      "[12/30][250/391]\tLoss_D: 1.1267\tLoss_G: 1.6334\tD(x): 0.7736\tD(G(z)): 0.5039 / 0.1793\n",
      "[12/30][300/391]\tLoss_D: 0.9914\tLoss_G: 1.6728\tD(x): 0.6665\tD(G(z)): 0.3203 / 0.1754\n",
      "[12/30][350/391]\tLoss_D: 0.9702\tLoss_G: 1.3499\tD(x): 0.7300\tD(G(z)): 0.3672 / 0.2496\n",
      "[13/30][0/391]\tLoss_D: 0.9957\tLoss_G: 1.4483\tD(x): 0.7194\tD(G(z)): 0.3787 / 0.2225\n",
      "[13/30][50/391]\tLoss_D: 1.1827\tLoss_G: 1.3365\tD(x): 0.5987\tD(G(z)): 0.3958 / 0.2573\n",
      "[13/30][100/391]\tLoss_D: 1.0118\tLoss_G: 1.2285\tD(x): 0.7333\tD(G(z)): 0.4010 / 0.2826\n",
      "[13/30][150/391]\tLoss_D: 1.1072\tLoss_G: 2.0900\tD(x): 0.7796\tD(G(z)): 0.4976 / 0.1107\n",
      "[13/30][200/391]\tLoss_D: 1.0273\tLoss_G: 1.4335\tD(x): 0.6585\tD(G(z)): 0.3505 / 0.2309\n",
      "[13/30][250/391]\tLoss_D: 0.9500\tLoss_G: 1.1113\tD(x): 0.6417\tD(G(z)): 0.2602 / 0.3225\n",
      "[13/30][300/391]\tLoss_D: 1.1912\tLoss_G: 0.9781\tD(x): 0.4970\tD(G(z)): 0.2753 / 0.3820\n",
      "[13/30][350/391]\tLoss_D: 1.1090\tLoss_G: 1.5910\tD(x): 0.6961\tD(G(z)): 0.4463 / 0.1913\n",
      "[14/30][0/391]\tLoss_D: 1.0609\tLoss_G: 1.0011\tD(x): 0.6066\tD(G(z)): 0.3287 / 0.3574\n",
      "[14/30][50/391]\tLoss_D: 1.1990\tLoss_G: 1.0222\tD(x): 0.5243\tD(G(z)): 0.3321 / 0.3579\n",
      "[14/30][100/391]\tLoss_D: 1.0124\tLoss_G: 1.4360\tD(x): 0.6891\tD(G(z)): 0.3648 / 0.2241\n",
      "[14/30][150/391]\tLoss_D: 1.3923\tLoss_G: 0.8739\tD(x): 0.3539\tD(G(z)): 0.1105 / 0.4261\n",
      "[14/30][200/391]\tLoss_D: 1.0056\tLoss_G: 1.3612\tD(x): 0.6991\tD(G(z)): 0.3666 / 0.2497\n",
      "[14/30][250/391]\tLoss_D: 1.1168\tLoss_G: 1.3479\tD(x): 0.7018\tD(G(z)): 0.4537 / 0.2481\n",
      "[14/30][300/391]\tLoss_D: 1.0045\tLoss_G: 1.3359\tD(x): 0.6512\tD(G(z)): 0.3168 / 0.2534\n",
      "[14/30][350/391]\tLoss_D: 1.0553\tLoss_G: 1.2722\tD(x): 0.6827\tD(G(z)): 0.3973 / 0.2675\n",
      "[15/30][0/391]\tLoss_D: 1.1667\tLoss_G: 1.7195\tD(x): 0.7258\tD(G(z)): 0.5005 / 0.1731\n",
      "[15/30][50/391]\tLoss_D: 1.0792\tLoss_G: 1.5531\tD(x): 0.7167\tD(G(z)): 0.4396 / 0.2049\n",
      "[15/30][100/391]\tLoss_D: 1.6252\tLoss_G: 0.6282\tD(x): 0.2826\tD(G(z)): 0.1338 / 0.5693\n",
      "[15/30][150/391]\tLoss_D: 1.2021\tLoss_G: 1.5700\tD(x): 0.7752\tD(G(z)): 0.5408 / 0.1949\n",
      "[15/30][200/391]\tLoss_D: 1.1739\tLoss_G: 0.8966\tD(x): 0.4907\tD(G(z)): 0.2471 / 0.4125\n",
      "[15/30][250/391]\tLoss_D: 1.1108\tLoss_G: 1.5804\tD(x): 0.7110\tD(G(z)): 0.4596 / 0.1934\n",
      "[15/30][300/391]\tLoss_D: 1.2248\tLoss_G: 1.0868\tD(x): 0.6026\tD(G(z)): 0.4416 / 0.3312\n",
      "[15/30][350/391]\tLoss_D: 1.2492\tLoss_G: 0.8418\tD(x): 0.4483\tD(G(z)): 0.2635 / 0.4403\n",
      "[16/30][0/391]\tLoss_D: 1.1087\tLoss_G: 0.9409\tD(x): 0.5244\tD(G(z)): 0.2440 / 0.3908\n",
      "[16/30][50/391]\tLoss_D: 1.2812\tLoss_G: 0.7042\tD(x): 0.4153\tD(G(z)): 0.2326 / 0.5098\n",
      "[16/30][100/391]\tLoss_D: 0.9677\tLoss_G: 1.5742\tD(x): 0.6558\tD(G(z)): 0.2930 / 0.1943\n",
      "[16/30][150/391]\tLoss_D: 1.4931\tLoss_G: 2.6163\tD(x): 0.9112\tD(G(z)): 0.6907 / 0.0646\n",
      "[16/30][200/391]\tLoss_D: 1.0237\tLoss_G: 1.1131\tD(x): 0.6254\tD(G(z)): 0.3135 / 0.3198\n",
      "[16/30][250/391]\tLoss_D: 1.1114\tLoss_G: 0.9290\tD(x): 0.5327\tD(G(z)): 0.2678 / 0.3973\n",
      "[16/30][300/391]\tLoss_D: 1.2303\tLoss_G: 0.8347\tD(x): 0.4347\tD(G(z)): 0.1716 / 0.4470\n",
      "[16/30][350/391]\tLoss_D: 1.1851\tLoss_G: 1.1465\tD(x): 0.5232\tD(G(z)): 0.3286 / 0.3093\n",
      "[17/30][0/391]\tLoss_D: 1.1184\tLoss_G: 1.2628\tD(x): 0.6727\tD(G(z)): 0.4253 / 0.2803\n",
      "[17/30][50/391]\tLoss_D: 1.0171\tLoss_G: 1.3460\tD(x): 0.7199\tD(G(z)): 0.3946 / 0.2455\n",
      "[17/30][100/391]\tLoss_D: 1.1382\tLoss_G: 1.3170\tD(x): 0.7342\tD(G(z)): 0.4889 / 0.2550\n",
      "[17/30][150/391]\tLoss_D: 1.0943\tLoss_G: 0.9430\tD(x): 0.5552\tD(G(z)): 0.2937 / 0.3887\n",
      "[17/30][200/391]\tLoss_D: 1.1099\tLoss_G: 1.5283\tD(x): 0.7341\tD(G(z)): 0.4676 / 0.2045\n",
      "[17/30][250/391]\tLoss_D: 1.1462\tLoss_G: 1.0464\tD(x): 0.6051\tD(G(z)): 0.3988 / 0.3441\n",
      "[17/30][300/391]\tLoss_D: 1.1370\tLoss_G: 1.2387\tD(x): 0.6365\tD(G(z)): 0.4240 / 0.2781\n",
      "[17/30][350/391]\tLoss_D: 1.1569\tLoss_G: 1.3191\tD(x): 0.7207\tD(G(z)): 0.4903 / 0.2589\n",
      "[18/30][0/391]\tLoss_D: 1.1925\tLoss_G: 1.3835\tD(x): 0.7522\tD(G(z)): 0.5320 / 0.2396\n",
      "[18/30][50/391]\tLoss_D: 1.0763\tLoss_G: 1.2116\tD(x): 0.6581\tD(G(z)): 0.3949 / 0.2889\n",
      "[18/30][100/391]\tLoss_D: 0.9993\tLoss_G: 1.5627\tD(x): 0.7440\tD(G(z)): 0.4013 / 0.1985\n",
      "[18/30][150/391]\tLoss_D: 1.0748\tLoss_G: 1.0407\tD(x): 0.5916\tD(G(z)): 0.3312 / 0.3483\n",
      "[18/30][200/391]\tLoss_D: 1.0575\tLoss_G: 1.5056\tD(x): 0.6862\tD(G(z)): 0.4048 / 0.2062\n",
      "[18/30][250/391]\tLoss_D: 1.0394\tLoss_G: 1.2768\tD(x): 0.6661\tD(G(z)): 0.3671 / 0.2736\n",
      "[18/30][300/391]\tLoss_D: 1.0303\tLoss_G: 1.2290\tD(x): 0.6427\tD(G(z)): 0.3435 / 0.2874\n",
      "[18/30][350/391]\tLoss_D: 1.1499\tLoss_G: 1.7104\tD(x): 0.7556\tD(G(z)): 0.4985 / 0.1723\n",
      "[19/30][0/391]\tLoss_D: 1.1468\tLoss_G: 1.1557\tD(x): 0.5687\tD(G(z)): 0.3595 / 0.3092\n",
      "[19/30][50/391]\tLoss_D: 1.1209\tLoss_G: 1.0678\tD(x): 0.5727\tD(G(z)): 0.3391 / 0.3420\n",
      "[19/30][100/391]\tLoss_D: 1.0465\tLoss_G: 1.1254\tD(x): 0.6163\tD(G(z)): 0.3209 / 0.3160\n",
      "[19/30][150/391]\tLoss_D: 1.2600\tLoss_G: 1.7587\tD(x): 0.7155\tD(G(z)): 0.5391 / 0.1578\n",
      "[19/30][200/391]\tLoss_D: 1.2282\tLoss_G: 1.2122\tD(x): 0.6047\tD(G(z)): 0.4466 / 0.2900\n",
      "[19/30][250/391]\tLoss_D: 1.0147\tLoss_G: 1.2177\tD(x): 0.6542\tD(G(z)): 0.3370 / 0.2903\n",
      "[19/30][300/391]\tLoss_D: 0.9494\tLoss_G: 1.6265\tD(x): 0.7229\tD(G(z)): 0.3542 / 0.1804\n",
      "[19/30][350/391]\tLoss_D: 1.0587\tLoss_G: 1.1448\tD(x): 0.6235\tD(G(z)): 0.3454 / 0.3058\n",
      "[20/30][0/391]\tLoss_D: 1.2443\tLoss_G: 1.2299\tD(x): 0.6314\tD(G(z)): 0.4746 / 0.2877\n",
      "[20/30][50/391]\tLoss_D: 1.0649\tLoss_G: 1.0726\tD(x): 0.6193\tD(G(z)): 0.3471 / 0.3362\n",
      "[20/30][100/391]\tLoss_D: 1.0972\tLoss_G: 0.9249\tD(x): 0.5252\tD(G(z)): 0.2394 / 0.3990\n",
      "[20/30][150/391]\tLoss_D: 1.0926\tLoss_G: 1.3981\tD(x): 0.6748\tD(G(z)): 0.4219 / 0.2385\n",
      "[20/30][200/391]\tLoss_D: 1.1019\tLoss_G: 1.2533\tD(x): 0.6682\tD(G(z)): 0.4207 / 0.2732\n",
      "[20/30][250/391]\tLoss_D: 1.1671\tLoss_G: 0.9965\tD(x): 0.5388\tD(G(z)): 0.3292 / 0.3675\n",
      "[20/30][300/391]\tLoss_D: 1.0227\tLoss_G: 1.2679\tD(x): 0.6339\tD(G(z)): 0.3197 / 0.2738\n",
      "[20/30][350/391]\tLoss_D: 1.0424\tLoss_G: 1.1935\tD(x): 0.5858\tD(G(z)): 0.2854 / 0.2949\n",
      "[21/30][0/391]\tLoss_D: 1.3698\tLoss_G: 1.9784\tD(x): 0.7171\tD(G(z)): 0.5838 / 0.1354\n",
      "[21/30][50/391]\tLoss_D: 1.1784\tLoss_G: 1.0860\tD(x): 0.5252\tD(G(z)): 0.3115 / 0.3327\n",
      "[21/30][100/391]\tLoss_D: 1.1152\tLoss_G: 1.1033\tD(x): 0.6067\tD(G(z)): 0.3803 / 0.3200\n",
      "[21/30][150/391]\tLoss_D: 1.1135\tLoss_G: 1.8474\tD(x): 0.7339\tD(G(z)): 0.4658 / 0.1488\n",
      "[21/30][200/391]\tLoss_D: 1.1402\tLoss_G: 1.2141\tD(x): 0.6858\tD(G(z)): 0.4591 / 0.2854\n",
      "[21/30][250/391]\tLoss_D: 0.9755\tLoss_G: 1.3137\tD(x): 0.6850\tD(G(z)): 0.3359 / 0.2581\n",
      "[21/30][300/391]\tLoss_D: 1.1547\tLoss_G: 0.9754\tD(x): 0.5940\tD(G(z)): 0.3826 / 0.3746\n",
      "[21/30][350/391]\tLoss_D: 1.1087\tLoss_G: 1.5562\tD(x): 0.7307\tD(G(z)): 0.4658 / 0.2010\n",
      "[22/30][0/391]\tLoss_D: 1.0620\tLoss_G: 1.2380\tD(x): 0.6263\tD(G(z)): 0.3530 / 0.2798\n",
      "[22/30][50/391]\tLoss_D: 1.3478\tLoss_G: 0.5642\tD(x): 0.3827\tD(G(z)): 0.2018 / 0.6124\n",
      "[22/30][100/391]\tLoss_D: 1.1476\tLoss_G: 1.6041\tD(x): 0.7744\tD(G(z)): 0.5156 / 0.1942\n",
      "[22/30][150/391]\tLoss_D: 0.9940\tLoss_G: 1.5049\tD(x): 0.7115\tD(G(z)): 0.3760 / 0.2117\n",
      "[22/30][200/391]\tLoss_D: 1.0659\tLoss_G: 1.3190\tD(x): 0.6146\tD(G(z)): 0.3334 / 0.2593\n",
      "[22/30][250/391]\tLoss_D: 1.1657\tLoss_G: 1.0411\tD(x): 0.5778\tD(G(z)): 0.3800 / 0.3493\n",
      "[22/30][300/391]\tLoss_D: 1.1297\tLoss_G: 1.4136\tD(x): 0.6591\tD(G(z)): 0.4334 / 0.2306\n",
      "[22/30][350/391]\tLoss_D: 2.4118\tLoss_G: 2.3230\tD(x): 0.9323\tD(G(z)): 0.8708 / 0.0869\n",
      "[23/30][0/391]\tLoss_D: 1.1231\tLoss_G: 1.3120\tD(x): 0.6855\tD(G(z)): 0.4440 / 0.2603\n",
      "[23/30][50/391]\tLoss_D: 1.1998\tLoss_G: 1.0892\tD(x): 0.6053\tD(G(z)): 0.4331 / 0.3343\n",
      "[23/30][100/391]\tLoss_D: 1.1209\tLoss_G: 0.9632\tD(x): 0.5478\tD(G(z)): 0.3078 / 0.3779\n",
      "[23/30][150/391]\tLoss_D: 1.1954\tLoss_G: 1.4726\tD(x): 0.7127\tD(G(z)): 0.5112 / 0.2173\n",
      "[23/30][200/391]\tLoss_D: 1.0657\tLoss_G: 1.1997\tD(x): 0.6226\tD(G(z)): 0.3429 / 0.2954\n",
      "[23/30][250/391]\tLoss_D: 1.1894\tLoss_G: 1.3847\tD(x): 0.6637\tD(G(z)): 0.4676 / 0.2406\n",
      "[23/30][300/391]\tLoss_D: 1.1124\tLoss_G: 1.4697\tD(x): 0.6368\tD(G(z)): 0.3978 / 0.2213\n",
      "[23/30][350/391]\tLoss_D: 1.1787\tLoss_G: 0.8513\tD(x): 0.4613\tD(G(z)): 0.2113 / 0.4391\n",
      "[24/30][0/391]\tLoss_D: 1.5619\tLoss_G: 0.5614\tD(x): 0.3115\tD(G(z)): 0.2007 / 0.6181\n",
      "[24/30][50/391]\tLoss_D: 1.0945\tLoss_G: 1.2857\tD(x): 0.6291\tD(G(z)): 0.3802 / 0.2679\n",
      "[24/30][100/391]\tLoss_D: 1.1578\tLoss_G: 1.0204\tD(x): 0.5101\tD(G(z)): 0.2714 / 0.3582\n",
      "[24/30][150/391]\tLoss_D: 1.0629\tLoss_G: 1.3679\tD(x): 0.6812\tD(G(z)): 0.3969 / 0.2460\n",
      "[24/30][200/391]\tLoss_D: 1.0567\tLoss_G: 1.1964\tD(x): 0.6311\tD(G(z)): 0.3539 / 0.2950\n",
      "[24/30][250/391]\tLoss_D: 1.0501\tLoss_G: 1.0735\tD(x): 0.5732\tD(G(z)): 0.2691 / 0.3398\n",
      "[24/30][300/391]\tLoss_D: 2.6212\tLoss_G: 3.2852\tD(x): 0.9337\tD(G(z)): 0.8761 / 0.0346\n",
      "[24/30][350/391]\tLoss_D: 1.2100\tLoss_G: 0.9787\tD(x): 0.5483\tD(G(z)): 0.3811 / 0.3725\n",
      "[25/30][0/391]\tLoss_D: 1.1359\tLoss_G: 1.1565\tD(x): 0.5958\tD(G(z)): 0.3750 / 0.3071\n",
      "[25/30][50/391]\tLoss_D: 1.1235\tLoss_G: 0.9897\tD(x): 0.5045\tD(G(z)): 0.2328 / 0.3720\n",
      "[25/30][100/391]\tLoss_D: 1.2956\tLoss_G: 0.7156\tD(x): 0.4050\tD(G(z)): 0.2018 / 0.5063\n",
      "[25/30][150/391]\tLoss_D: 1.0548\tLoss_G: 1.1180\tD(x): 0.6209\tD(G(z)): 0.3382 / 0.3226\n",
      "[25/30][200/391]\tLoss_D: 1.2762\tLoss_G: 1.7866\tD(x): 0.7629\tD(G(z)): 0.5689 / 0.1571\n",
      "[25/30][250/391]\tLoss_D: 1.0773\tLoss_G: 1.1359\tD(x): 0.5588\tD(G(z)): 0.2614 / 0.3137\n",
      "[25/30][300/391]\tLoss_D: 1.1751\tLoss_G: 1.4867\tD(x): 0.7689\tD(G(z)): 0.5200 / 0.2142\n",
      "[25/30][350/391]\tLoss_D: 0.9943\tLoss_G: 1.2014\tD(x): 0.6364\tD(G(z)): 0.2951 / 0.2923\n",
      "[26/30][0/391]\tLoss_D: 1.2792\tLoss_G: 2.2022\tD(x): 0.7164\tD(G(z)): 0.5570 / 0.1023\n",
      "[26/30][50/391]\tLoss_D: 1.1721\tLoss_G: 1.0894\tD(x): 0.5461\tD(G(z)): 0.3437 / 0.3301\n",
      "[26/30][100/391]\tLoss_D: 1.0540\tLoss_G: 1.1626\tD(x): 0.5404\tD(G(z)): 0.2058 / 0.3028\n",
      "[26/30][150/391]\tLoss_D: 1.5210\tLoss_G: 2.8898\tD(x): 0.8944\tD(G(z)): 0.6880 / 0.0513\n",
      "[26/30][200/391]\tLoss_D: 1.1721\tLoss_G: 0.9142\tD(x): 0.5136\tD(G(z)): 0.3050 / 0.4063\n",
      "[26/30][250/391]\tLoss_D: 1.1603\tLoss_G: 0.4825\tD(x): 0.4792\tD(G(z)): 0.2140 / 0.6964\n",
      "[26/30][300/391]\tLoss_D: 1.1059\tLoss_G: 1.1080\tD(x): 0.5933\tD(G(z)): 0.3445 / 0.3276\n",
      "[26/30][350/391]\tLoss_D: 1.1508\tLoss_G: 1.1202\tD(x): 0.5755\tD(G(z)): 0.3654 / 0.3181\n",
      "[27/30][0/391]\tLoss_D: 3.4692\tLoss_G: 3.7123\tD(x): 0.9707\tD(G(z)): 0.9525 / 0.0235\n",
      "[27/30][50/391]\tLoss_D: 1.0215\tLoss_G: 1.3246\tD(x): 0.6786\tD(G(z)): 0.3622 / 0.2590\n",
      "[27/30][100/391]\tLoss_D: 1.1387\tLoss_G: 1.5674\tD(x): 0.7746\tD(G(z)): 0.5064 / 0.1977\n",
      "[27/30][150/391]\tLoss_D: 1.0194\tLoss_G: 1.1848\tD(x): 0.6731\tD(G(z)): 0.3656 / 0.2964\n",
      "[27/30][200/391]\tLoss_D: 1.1773\tLoss_G: 1.0138\tD(x): 0.5504\tD(G(z)): 0.3539 / 0.3577\n",
      "[27/30][250/391]\tLoss_D: 1.0957\tLoss_G: 0.9511\tD(x): 0.5867\tD(G(z)): 0.3367 / 0.3894\n",
      "[27/30][300/391]\tLoss_D: 1.0408\tLoss_G: 1.5137\tD(x): 0.6530\tD(G(z)): 0.3456 / 0.2109\n",
      "[27/30][350/391]\tLoss_D: 1.3627\tLoss_G: 2.0469\tD(x): 0.7859\tD(G(z)): 0.6159 / 0.1223\n",
      "[28/30][0/391]\tLoss_D: 1.0906\tLoss_G: 1.2377\tD(x): 0.6726\tD(G(z)): 0.4109 / 0.2828\n",
      "[28/30][50/391]\tLoss_D: 1.0614\tLoss_G: 1.5898\tD(x): 0.6907\tD(G(z)): 0.4069 / 0.1924\n",
      "[28/30][100/391]\tLoss_D: 1.1160\tLoss_G: 1.1058\tD(x): 0.5813\tD(G(z)): 0.3414 / 0.3240\n",
      "[28/30][150/391]\tLoss_D: 1.0035\tLoss_G: 1.1622\tD(x): 0.6265\tD(G(z)): 0.2904 / 0.3126\n",
      "[28/30][200/391]\tLoss_D: 1.2095\tLoss_G: 1.2439\tD(x): 0.6266\tD(G(z)): 0.4462 / 0.2815\n",
      "[28/30][250/391]\tLoss_D: 1.1183\tLoss_G: 1.0011\tD(x): 0.5122\tD(G(z)): 0.2360 / 0.3624\n",
      "[28/30][300/391]\tLoss_D: 1.1165\tLoss_G: 1.4748\tD(x): 0.7265\tD(G(z)): 0.4681 / 0.2198\n",
      "[28/30][350/391]\tLoss_D: 1.1360\tLoss_G: 1.1438\tD(x): 0.5998\tD(G(z)): 0.3783 / 0.3153\n",
      "[29/30][0/391]\tLoss_D: 1.0063\tLoss_G: 1.3324\tD(x): 0.6519\tD(G(z)): 0.3270 / 0.2520\n",
      "[29/30][50/391]\tLoss_D: 1.0689\tLoss_G: 1.0855\tD(x): 0.5522\tD(G(z)): 0.2553 / 0.3341\n",
      "[29/30][100/391]\tLoss_D: 1.1002\tLoss_G: 1.1194\tD(x): 0.6838\tD(G(z)): 0.4314 / 0.3187\n",
      "[29/30][150/391]\tLoss_D: 1.0095\tLoss_G: 1.2339\tD(x): 0.6567\tD(G(z)): 0.3279 / 0.2861\n",
      "[29/30][200/391]\tLoss_D: 1.2467\tLoss_G: 1.7359\tD(x): 0.7583\tD(G(z)): 0.5519 / 0.1668\n",
      "[29/30][250/391]\tLoss_D: 1.0085\tLoss_G: 1.2193\tD(x): 0.6350\tD(G(z)): 0.3164 / 0.2840\n",
      "[29/30][300/391]\tLoss_D: 1.0549\tLoss_G: 1.3885\tD(x): 0.6993\tD(G(z)): 0.4053 / 0.2391\n",
      "[29/30][350/391]\tLoss_D: 1.0376\tLoss_G: 1.2075\tD(x): 0.6739\tD(G(z)): 0.3679 / 0.2896\n",
      "[30/30][0/391]\tLoss_D: 1.4232\tLoss_G: 1.6851\tD(x): 0.6809\tD(G(z)): 0.5933 / 0.1811\n",
      "[30/30][50/391]\tLoss_D: 1.0499\tLoss_G: 1.3145\tD(x): 0.6976\tD(G(z)): 0.4076 / 0.2572\n",
      "[30/30][100/391]\tLoss_D: 1.0584\tLoss_G: 1.2151\tD(x): 0.6601\tD(G(z)): 0.3846 / 0.2830\n",
      "[30/30][150/391]\tLoss_D: 1.0689\tLoss_G: 1.2963\tD(x): 0.6183\tD(G(z)): 0.3381 / 0.2671\n",
      "[30/30][200/391]\tLoss_D: 1.0490\tLoss_G: 1.2568\tD(x): 0.6223\tD(G(z)): 0.3356 / 0.2731\n",
      "[30/30][250/391]\tLoss_D: 1.0625\tLoss_G: 1.2940\tD(x): 0.6252\tD(G(z)): 0.3433 / 0.2663\n",
      "[30/30][300/391]\tLoss_D: 0.9983\tLoss_G: 1.3955\tD(x): 0.6535\tD(G(z)): 0.3273 / 0.2334\n",
      "[30/30][350/391]\tLoss_D: 1.0583\tLoss_G: 1.5080\tD(x): 0.7509\tD(G(z)): 0.4424 / 0.2113\n"
     ]
    },
    {
     "data": {
      "text/plain": [
       "['/content/wandb/run-20220128_152052-2xl61hs9/files/model.h5']"
      ]
     },
     "execution_count": 11,
     "metadata": {},
     "output_type": "execute_result"
    }
   ],
   "source": [
    "use_cuda = not config.no_cuda and torch.cuda.is_available()\n",
    "device = torch.device(\"cuda\" if use_cuda else \"cpu\")\n",
    "kwargs = {'num_workers': 1, 'pin_memory': True} if use_cuda else {}\n",
    "\n",
    "# Set random seeds and deterministic pytorch for reproducibility\n",
    "random.seed(config.seed)       # python random seed\n",
    "torch.manual_seed(config.seed) # pytorch random seed\n",
    "np.random.seed(config.seed) # numpy random seed\n",
    "torch.backends.cudnn.deterministic = True\n",
    "\n",
    "# Load the dataset\n",
    "transform = transforms.Compose(\n",
    "    [transforms.ToTensor(),\n",
    "    transforms.Normalize((0.5, 0.5, 0.5), (0.5, 0.5, 0.5))])\n",
    "\n",
    "trainset = datasets.CIFAR10(root='./data', train=True,\n",
    "                                        download=True, transform=transform)\n",
    "trainloader = torch.utils.data.DataLoader(trainset, batch_size=config.batch_size,\n",
    "                                          shuffle=True, num_workers=workers)\n",
    "\n",
    "# Create the generator\n",
    "netG = Generator(ngpu).to(device)\n",
    "\n",
    "# Handle multi-gpu if desired\n",
    "if (device.type == 'cuda') and (ngpu > 1):\n",
    "    netG = nn.DataParallel(netG, list(range(ngpu)))\n",
    "\n",
    "# Apply the weights_init function to randomly initialize all weights\n",
    "#  to mean=0, stdev=0.2.\n",
    "netG.apply(weights_init)\n",
    "\n",
    "# Create the Discriminator\n",
    "netD = Discriminator(ngpu).to(device)\n",
    "\n",
    "# Handle multi-gpu if desired\n",
    "if (device.type == 'cuda') and (ngpu > 1):\n",
    "    netD = nn.DataParallel(netD, list(range(ngpu)))\n",
    "\n",
    "# Apply the weights_init function to randomly initialize all weights\n",
    "#  to mean=0, stdev=0.2.\n",
    "netD.apply(weights_init)\n",
    "\n",
    "# Initialize BCELoss function\n",
    "criterion = nn.BCELoss()\n",
    "\n",
    "# Setup Adam optimizers for both G and D\n",
    "optimizerD = optim.Adam(netD.parameters(), lr=config.lr, betas=(config.beta1, 0.999))\n",
    "optimizerG = optim.Adam(netG.parameters(), lr=config.lr, betas=(config.beta1, 0.999))\n",
    "\n",
    "# WandB – wandb.watch() automatically fetches all layer dimensions, gradients, model parameters and logs them automatically to your dashboard.\n",
    "# Using log=\"all\" log histograms of parameter values in addition to gradients\n",
    "wandb.watch(netG, log=\"all\")\n",
    "wandb.watch(netD, log=\"all\")\n",
    "iters = 0\n",
    "\n",
    "D_losses = []\n",
    "G_losses = []\n",
    "for epoch in range(1, config.epochs + 1):\n",
    "    G_loss, D_loss = train(config, netG, netD, device, trainloader, optimizerG, optimizerD, criterion, epoch, iters)\n",
    "\n",
    "    D_losses.append(D_loss)\n",
    "    G_losses.append(G_loss)\n",
    "\n",
    "# WandB – Save the model checkpoint. This automatically saves a file to the cloud and associates it with the current run.\n",
    "torch.save(netG.state_dict(), \"model.h5\")\n",
    "wandb.save('model.h5')"
   ]
  },
  {
   "cell_type": "markdown",
   "metadata": {
    "id": "v0-Gio6sWc5e"
   },
   "source": [
    "## Plotting Loss History"
   ]
  },
  {
   "cell_type": "code",
   "execution_count": null,
   "metadata": {
    "colab": {
     "base_uri": "https://localhost:8080/",
     "height": 295
    },
    "id": "-bBt3fVhX-tY",
    "outputId": "a2949a7c-18dd-4c88-ad50-3ae52d9501a3"
   },
   "outputs": [
    {
     "data": {
      "image/png": "[encoded data removed]",
      "text/plain": [
       "<Figure size 432x288 with 1 Axes>"
      ]
     },
     "metadata": {
      "needs_background": "light"
     },
     "output_type": "display_data"
    }
   ],
   "source": [
    "plt.plot(D_losses)\n",
    "plt.plot(G_losses)\n",
    "plt.title('Loss per epoch')\n",
    "plt.ylabel('Loss')\n",
    "plt.xlabel('epoch')\n",
    "plt.legend(['Disc Loss', 'Gen Loss'], loc='upper right')\n",
    "plt.show()"
   ]
  },
  {
   "cell_type": "markdown",
   "metadata": {
    "id": "AuZ85e3ZWfkK"
   },
   "source": [
    "## Generating Images"
   ]
  },
  {
   "cell_type": "code",
   "execution_count": null,
   "metadata": {
    "id": "GYHCOmBCaXpm"
   },
   "outputs": [],
   "source": [
    "def showImage(images,epoch=-99, idx = -99):\n",
    "    images = images.cpu().numpy()\n",
    "    images = images/2 + 0.5\n",
    "    plt.imshow(np.transpose(images,axes = (1,2,0)))\n",
    "    plt.axis('off')\n",
    "    if epoch!=-99:\n",
    "        plt.savefig(\"result/e\" + str(epoch) + \"i\" + str(idx) + \".png\")"
   ]
  },
  {
   "cell_type": "code",
   "execution_count": null,
   "metadata": {
    "colab": {
     "base_uri": "https://localhost:8080/",
     "height": 248
    },
    "id": "wvB4F69QY12g",
    "outputId": "ecab9970-d9b9-4365-bf99-8a79798d8cb4"
   },
   "outputs": [
    {
     "data": {
      "image/png": "[encoded data removed]",
      "text/plain": [
       "<Figure size 432x288 with 1 Axes>"
      ]
     },
     "metadata": {
      "needs_background": "light"
     },
     "output_type": "display_data"
    }
   ],
   "source": [
    "with torch.no_grad():\n",
    "  noise = torch.randn(64, config.nz, 1, 1, device=device)\n",
    "  generated = netG(noise).detach().cpu()\n",
    "  showImage(make_grid(generated))"
   ]
  },
  {
   "cell_type": "markdown",
   "metadata": {
    "id": "4CQE2tYuWNqo"
   },
   "source": [
    "## Fashion MNIST Dataset"
   ]
  },
  {
   "cell_type": "code",
   "execution_count": null,
   "metadata": {
    "id": "D17_zBHSdfEv"
   },
   "outputs": [],
   "source": [
    "# Number of workers for dataloader\n",
    "workers = 2\n",
    "\n",
    "# Batch size during training\n",
    "batch_size = 128\n",
    "\n",
    "# All images will be reduced to 28.\n",
    "image_size = 32\n",
    "\n",
    "# Number of channels in the training images. For color images this is 1\n",
    "nc = 1\n",
    "\n",
    "# Size of z latent vector (i.e. size of generator input)\n",
    "nz = 100\n",
    "\n",
    "# Size of feature maps in generator\n",
    "ngf = 64\n",
    "\n",
    "# Size of feature maps in discriminator\n",
    "ndf = 64\n",
    "\n",
    "# Number of training epochs\n",
    "num_epochs = 30\n",
    "\n",
    "# Learning rate for optimizers\n",
    "lr = 0.0002\n",
    "\n",
    "# Beta1 hyperparam for Adam optimizers\n",
    "beta1 = 0.5\n",
    "\n",
    "# Number of GPUs available. Use 0 for CPU mode.\n",
    "ngpu = 1"
   ]
  },
  {
   "cell_type": "code",
   "execution_count": null,
   "metadata": {
    "colab": {
     "base_uri": "https://localhost:8080/"
    },
    "id": "1xZSX1-SPOza",
    "outputId": "c62e6a55-e24d-4022-8144-990415b2563c"
   },
   "outputs": [
    {
     "name": "stdout",
     "output_type": "stream",
     "text": [
      "[1/30][0/469]\tLoss_D: 1.5461\tLoss_G: 1.5454\tD(x): 0.5848\tD(G(z)): 0.5634 / 0.2117\n",
      "[1/30][50/469]\tLoss_D: 0.7603\tLoss_G: 2.9506\tD(x): 0.8624\tD(G(z)): 0.2138 / 0.0437\n",
      "[1/30][100/469]\tLoss_D: 0.8444\tLoss_G: 2.1474\tD(x): 0.7144\tD(G(z)): 0.1808 / 0.1020\n",
      "[1/30][150/469]\tLoss_D: 0.9171\tLoss_G: 2.2605\tD(x): 0.7644\tD(G(z)): 0.3241 / 0.1038\n",
      "[1/30][200/469]\tLoss_D: 0.7307\tLoss_G: 2.1148\tD(x): 0.8494\tD(G(z)): 0.1936 / 0.1095\n",
      "[1/30][250/469]\tLoss_D: 0.7741\tLoss_G: 1.3802\tD(x): 0.7662\tD(G(z)): 0.1449 / 0.2437\n",
      "[1/30][300/469]\tLoss_D: 0.8359\tLoss_G: 2.4194\tD(x): 0.8679\tD(G(z)): 0.3108 / 0.0832\n",
      "[1/30][350/469]\tLoss_D: 0.7414\tLoss_G: 1.5041\tD(x): 0.7734\tD(G(z)): 0.1314 / 0.2081\n",
      "[1/30][400/469]\tLoss_D: 0.7941\tLoss_G: 1.9262\tD(x): 0.8323\tD(G(z)): 0.2415 / 0.1402\n",
      "[1/30][450/469]\tLoss_D: 0.7343\tLoss_G: 1.9308\tD(x): 0.8409\tD(G(z)): 0.1969 / 0.1318\n",
      "[2/30][0/469]\tLoss_D: 0.8700\tLoss_G: 1.4625\tD(x): 0.6816\tD(G(z)): 0.1320 / 0.2250\n",
      "[2/30][50/469]\tLoss_D: 0.7744\tLoss_G: 1.7296\tD(x): 0.8125\tD(G(z)): 0.2225 / 0.1663\n",
      "[2/30][100/469]\tLoss_D: 0.7950\tLoss_G: 2.0736\tD(x): 0.8504\tD(G(z)): 0.2799 / 0.1114\n",
      "[2/30][150/469]\tLoss_D: 0.8071\tLoss_G: 1.3983\tD(x): 0.7209\tD(G(z)): 0.1587 / 0.2368\n",
      "[2/30][200/469]\tLoss_D: 0.7978\tLoss_G: 1.4477\tD(x): 0.7375\tD(G(z)): 0.1901 / 0.2227\n",
      "[2/30][250/469]\tLoss_D: 0.7679\tLoss_G: 1.6765\tD(x): 0.7972\tD(G(z)): 0.2048 / 0.1741\n",
      "[2/30][300/469]\tLoss_D: 0.8480\tLoss_G: 2.3427\tD(x): 0.8861\tD(G(z)): 0.3325 / 0.0871\n",
      "[2/30][350/469]\tLoss_D: 0.8349\tLoss_G: 1.9402\tD(x): 0.7709\tD(G(z)): 0.2371 / 0.1389\n",
      "[2/30][400/469]\tLoss_D: 0.8331\tLoss_G: 1.6743\tD(x): 0.8084\tD(G(z)): 0.2772 / 0.1804\n",
      "[2/30][450/469]\tLoss_D: 0.7761\tLoss_G: 1.5483\tD(x): 0.7472\tD(G(z)): 0.1322 / 0.2011\n",
      "[3/30][0/469]\tLoss_D: 1.2751\tLoss_G: 2.6678\tD(x): 0.9230\tD(G(z)): 0.5824 / 0.0767\n",
      "[3/30][50/469]\tLoss_D: 0.7965\tLoss_G: 1.7484\tD(x): 0.8002\tD(G(z)): 0.2273 / 0.1680\n",
      "[3/30][100/469]\tLoss_D: 0.8099\tLoss_G: 2.1613\tD(x): 0.8583\tD(G(z)): 0.3011 / 0.1022\n",
      "[3/30][150/469]\tLoss_D: 1.1140\tLoss_G: 2.7479\tD(x): 0.9249\tD(G(z)): 0.4803 / 0.0705\n",
      "[3/30][200/469]\tLoss_D: 0.8582\tLoss_G: 1.6676\tD(x): 0.7519\tD(G(z)): 0.2488 / 0.1948\n",
      "[3/30][250/469]\tLoss_D: 1.1696\tLoss_G: 1.6894\tD(x): 0.7278\tD(G(z)): 0.4222 / 0.1802\n",
      "[3/30][300/469]\tLoss_D: 0.8572\tLoss_G: 2.1061\tD(x): 0.8968\tD(G(z)): 0.3517 / 0.1113\n",
      "[3/30][350/469]\tLoss_D: 0.8462\tLoss_G: 1.0927\tD(x): 0.6820\tD(G(z)): 0.1380 / 0.3378\n",
      "[3/30][400/469]\tLoss_D: 0.8464\tLoss_G: 1.3826\tD(x): 0.7825\tD(G(z)): 0.2825 / 0.2461\n",
      "[3/30][450/469]\tLoss_D: 0.8033\tLoss_G: 1.9980\tD(x): 0.8337\tD(G(z)): 0.2799 / 0.1240\n"
     ]
    },
    {
     "name": "stderr",
     "output_type": "stream",
     "text": [
      "Exception ignored in: <function _MultiProcessingDataLoaderIter.__del__ at 0x7f32d4e368c0>\n",
      "Exception ignored in: <function _MultiProcessingDataLoaderIter.__del__ at 0x7f32d4e368c0>\n",
      "Traceback (most recent call last):\n",
      "  File \"/usr/local/lib/python3.7/dist-packages/torch/utils/data/dataloader.py\", line 1328, in __del__\n",
      "    self._shutdown_workers()\n",
      "  File \"/usr/local/lib/python3.7/dist-packages/torch/utils/data/dataloader.py\", line 1320, in _shutdown_workers\n",
      "    if w.is_alive():\n",
      "Traceback (most recent call last):\n",
      "  File \"/usr/local/lib/python3.7/dist-packages/torch/utils/data/dataloader.py\", line 1328, in __del__\n",
      "  File \"/usr/lib/python3.7/multiprocessing/process.py\", line 151, in is_alive\n",
      "    self._shutdown_workers()\n",
      "    assert self._parent_pid == os.getpid(), 'can only test a child process'\n",
      "  File \"/usr/local/lib/python3.7/dist-packages/torch/utils/data/dataloader.py\", line 1320, in _shutdown_workers\n",
      "    if w.is_alive():\n",
      "AssertionError: can only test a child process\n",
      "  File \"/usr/lib/python3.7/multiprocessing/process.py\", line 151, in is_alive\n",
      "    assert self._parent_pid == os.getpid(), 'can only test a child process'\n",
      "AssertionError: can only test a child process\n"
     ]
    },
    {
     "name": "stdout",
     "output_type": "stream",
     "text": [
      "[4/30][0/469]\tLoss_D: 1.0938\tLoss_G: 1.0126\tD(x): 0.5147\tD(G(z)): 0.1292 / 0.3977\n",
      "[4/30][50/469]\tLoss_D: 1.0270\tLoss_G: 2.7841\tD(x): 0.9236\tD(G(z)): 0.4695 / 0.0608\n",
      "[4/30][100/469]\tLoss_D: 1.0981\tLoss_G: 2.4060\tD(x): 0.8578\tD(G(z)): 0.4957 / 0.0993\n",
      "[4/30][150/469]\tLoss_D: 0.9062\tLoss_G: 2.3791\tD(x): 0.8537\tD(G(z)): 0.3767 / 0.0815\n",
      "[4/30][200/469]\tLoss_D: 0.8133\tLoss_G: 1.2354\tD(x): 0.7139\tD(G(z)): 0.1660 / 0.2847\n",
      "[4/30][250/469]\tLoss_D: 0.8245\tLoss_G: 1.5756\tD(x): 0.8204\tD(G(z)): 0.2892 / 0.1925\n",
      "[4/30][300/469]\tLoss_D: 1.1681\tLoss_G: 2.6407\tD(x): 0.9311\tD(G(z)): 0.5329 / 0.0686\n",
      "[4/30][350/469]\tLoss_D: 1.1967\tLoss_G: 2.7741\tD(x): 0.9494\tD(G(z)): 0.5494 / 0.0598\n",
      "[4/30][400/469]\tLoss_D: 0.8347\tLoss_G: 1.8028\tD(x): 0.8261\tD(G(z)): 0.2984 / 0.1567\n",
      "[4/30][450/469]\tLoss_D: 0.7287\tLoss_G: 1.6273\tD(x): 0.8060\tD(G(z)): 0.1644 / 0.1806\n",
      "[5/30][0/469]\tLoss_D: 0.9704\tLoss_G: 0.9039\tD(x): 0.6069\tD(G(z)): 0.1655 / 0.4379\n",
      "[5/30][50/469]\tLoss_D: 0.8249\tLoss_G: 2.0790\tD(x): 0.8348\tD(G(z)): 0.2931 / 0.1146\n",
      "[5/30][100/469]\tLoss_D: 0.8135\tLoss_G: 1.5519\tD(x): 0.7711\tD(G(z)): 0.2351 / 0.1987\n",
      "[5/30][150/469]\tLoss_D: 0.7687\tLoss_G: 1.4769\tD(x): 0.7497\tD(G(z)): 0.1287 / 0.2239\n",
      "[5/30][200/469]\tLoss_D: 1.1047\tLoss_G: 2.0984\tD(x): 0.8164\tD(G(z)): 0.4681 / 0.1287\n",
      "[5/30][250/469]\tLoss_D: 0.7699\tLoss_G: 1.9504\tD(x): 0.7858\tD(G(z)): 0.2093 / 0.1268\n",
      "[5/30][300/469]\tLoss_D: 0.8056\tLoss_G: 1.3907\tD(x): 0.7364\tD(G(z)): 0.1978 / 0.2353\n",
      "[5/30][350/469]\tLoss_D: 1.0970\tLoss_G: 2.5904\tD(x): 0.9125\tD(G(z)): 0.4877 / 0.0857\n",
      "[5/30][400/469]\tLoss_D: 0.8367\tLoss_G: 1.4870\tD(x): 0.7616\tD(G(z)): 0.2587 / 0.2136\n",
      "[5/30][450/469]\tLoss_D: 0.8009\tLoss_G: 1.5864\tD(x): 0.7305\tD(G(z)): 0.1590 / 0.1929\n",
      "[6/30][0/469]\tLoss_D: 0.8448\tLoss_G: 2.6198\tD(x): 0.9157\tD(G(z)): 0.3324 / 0.0617\n",
      "[6/30][50/469]\tLoss_D: 0.8327\tLoss_G: 1.9768\tD(x): 0.8779\tD(G(z)): 0.3286 / 0.1219\n",
      "[6/30][100/469]\tLoss_D: 0.8568\tLoss_G: 1.4512\tD(x): 0.6563\tD(G(z)): 0.1292 / 0.2233\n",
      "[6/30][150/469]\tLoss_D: 0.8535\tLoss_G: 2.3476\tD(x): 0.9124\tD(G(z)): 0.3453 / 0.0820\n",
      "[6/30][200/469]\tLoss_D: 0.7866\tLoss_G: 1.5057\tD(x): 0.7478\tD(G(z)): 0.1536 / 0.2228\n",
      "[6/30][250/469]\tLoss_D: 0.9448\tLoss_G: 0.9367\tD(x): 0.6181\tD(G(z)): 0.2133 / 0.3986\n",
      "[6/30][300/469]\tLoss_D: 0.7413\tLoss_G: 2.1977\tD(x): 0.8896\tD(G(z)): 0.2439 / 0.0964\n",
      "[6/30][350/469]\tLoss_D: 1.2417\tLoss_G: 3.2203\tD(x): 0.7876\tD(G(z)): 0.5047 / 0.0351\n",
      "[6/30][400/469]\tLoss_D: 0.8359\tLoss_G: 1.7781\tD(x): 0.7857\tD(G(z)): 0.2688 / 0.1569\n",
      "[6/30][450/469]\tLoss_D: 0.7884\tLoss_G: 1.8365\tD(x): 0.7263\tD(G(z)): 0.0786 / 0.1474\n",
      "[7/30][0/469]\tLoss_D: 0.9274\tLoss_G: 1.3260\tD(x): 0.6289\tD(G(z)): 0.1532 / 0.2769\n",
      "[7/30][50/469]\tLoss_D: 0.7114\tLoss_G: 2.0263\tD(x): 0.8004\tD(G(z)): 0.1050 / 0.1138\n",
      "[7/30][100/469]\tLoss_D: 0.7755\tLoss_G: 2.0746\tD(x): 0.8468\tD(G(z)): 0.2582 / 0.1125\n",
      "[7/30][150/469]\tLoss_D: 0.8065\tLoss_G: 1.9785\tD(x): 0.8233\tD(G(z)): 0.2736 / 0.1287\n",
      "[7/30][200/469]\tLoss_D: 0.6926\tLoss_G: 2.0431\tD(x): 0.8974\tD(G(z)): 0.1567 / 0.1144\n",
      "[7/30][250/469]\tLoss_D: 1.0045\tLoss_G: 0.7431\tD(x): 0.5759\tD(G(z)): 0.1541 / 0.5380\n",
      "[7/30][300/469]\tLoss_D: 0.7619\tLoss_G: 1.6623\tD(x): 0.8166\tD(G(z)): 0.2226 / 0.1724\n",
      "[7/30][350/469]\tLoss_D: 0.6902\tLoss_G: 1.7779\tD(x): 0.8515\tD(G(z)): 0.1407 / 0.1496\n",
      "[7/30][400/469]\tLoss_D: 0.7787\tLoss_G: 1.7305\tD(x): 0.7937\tD(G(z)): 0.2223 / 0.1597\n",
      "[7/30][450/469]\tLoss_D: 0.6861\tLoss_G: 2.0906\tD(x): 0.8412\tD(G(z)): 0.0999 / 0.1073\n",
      "[8/30][0/469]\tLoss_D: 0.8651\tLoss_G: 2.0057\tD(x): 0.6363\tD(G(z)): 0.0893 / 0.1187\n",
      "[8/30][50/469]\tLoss_D: 0.9666\tLoss_G: 2.4243\tD(x): 0.9330\tD(G(z)): 0.4159 / 0.0776\n",
      "[8/30][100/469]\tLoss_D: 0.6937\tLoss_G: 2.1775\tD(x): 0.8363\tD(G(z)): 0.0758 / 0.0966\n",
      "[8/30][150/469]\tLoss_D: 0.8643\tLoss_G: 1.9983\tD(x): 0.8903\tD(G(z)): 0.3611 / 0.1234\n",
      "[8/30][200/469]\tLoss_D: 0.7287\tLoss_G: 2.0761\tD(x): 0.9045\tD(G(z)): 0.2135 / 0.1099\n",
      "[8/30][250/469]\tLoss_D: 0.8713\tLoss_G: 1.1898\tD(x): 0.6922\tD(G(z)): 0.2360 / 0.2975\n",
      "[8/30][300/469]\tLoss_D: 0.8419\tLoss_G: 1.7835\tD(x): 0.7889\tD(G(z)): 0.3021 / 0.1525\n",
      "[8/30][350/469]\tLoss_D: 1.0622\tLoss_G: 1.5816\tD(x): 0.5074\tD(G(z)): 0.1008 / 0.1888\n",
      "[8/30][400/469]\tLoss_D: 0.6923\tLoss_G: 2.1088\tD(x): 0.8947\tD(G(z)): 0.1608 / 0.1056\n",
      "[8/30][450/469]\tLoss_D: 0.7558\tLoss_G: 1.9662\tD(x): 0.7598\tD(G(z)): 0.1387 / 0.1286\n",
      "[9/30][0/469]\tLoss_D: 0.8432\tLoss_G: 2.1344\tD(x): 0.6499\tD(G(z)): 0.1020 / 0.1100\n",
      "[9/30][50/469]\tLoss_D: 0.7959\tLoss_G: 1.4494\tD(x): 0.7276\tD(G(z)): 0.0607 / 0.2277\n",
      "[9/30][100/469]\tLoss_D: 0.6685\tLoss_G: 2.1842\tD(x): 0.8884\tD(G(z)): 0.1160 / 0.0950\n",
      "[9/30][150/469]\tLoss_D: 0.7151\tLoss_G: 2.4167\tD(x): 0.9311\tD(G(z)): 0.2008 / 0.0738\n",
      "[9/30][200/469]\tLoss_D: 0.8353\tLoss_G: 1.6790\tD(x): 0.7460\tD(G(z)): 0.2446 / 0.1743\n",
      "[9/30][250/469]\tLoss_D: 0.6902\tLoss_G: 2.0746\tD(x): 0.8309\tD(G(z)): 0.0979 / 0.1081\n",
      "[9/30][300/469]\tLoss_D: 0.7724\tLoss_G: 2.2325\tD(x): 0.7366\tD(G(z)): 0.0558 / 0.0933\n",
      "[9/30][350/469]\tLoss_D: 0.7349\tLoss_G: 2.3607\tD(x): 0.7721\tD(G(z)): 0.0634 / 0.0786\n",
      "[9/30][400/469]\tLoss_D: 0.6876\tLoss_G: 2.2335\tD(x): 0.8943\tD(G(z)): 0.1672 / 0.0893\n",
      "[9/30][450/469]\tLoss_D: 0.8614\tLoss_G: 1.1156\tD(x): 0.6581\tD(G(z)): 0.1685 / 0.3191\n",
      "[10/30][0/469]\tLoss_D: 0.6921\tLoss_G: 2.1119\tD(x): 0.8866\tD(G(z)): 0.1685 / 0.1046\n",
      "[10/30][50/469]\tLoss_D: 0.6836\tLoss_G: 2.2206\tD(x): 0.8594\tD(G(z)): 0.1339 / 0.0918\n",
      "[10/30][100/469]\tLoss_D: 0.8431\tLoss_G: 1.4124\tD(x): 0.7063\tD(G(z)): 0.1854 / 0.2386\n",
      "[10/30][150/469]\tLoss_D: 0.7696\tLoss_G: 1.4307\tD(x): 0.7347\tD(G(z)): 0.0996 / 0.2294\n",
      "[10/30][200/469]\tLoss_D: 0.7934\tLoss_G: 2.2633\tD(x): 0.7253\tD(G(z)): 0.0492 / 0.0881\n",
      "[10/30][250/469]\tLoss_D: 0.6793\tLoss_G: 2.0567\tD(x): 0.8591\tD(G(z)): 0.1265 / 0.1100\n",
      "[10/30][300/469]\tLoss_D: 0.6864\tLoss_G: 2.3221\tD(x): 0.8441\tD(G(z)): 0.1103 / 0.0819\n",
      "[10/30][350/469]\tLoss_D: 1.0834\tLoss_G: 2.8484\tD(x): 0.9594\tD(G(z)): 0.4892 / 0.0521\n",
      "[10/30][400/469]\tLoss_D: 0.9198\tLoss_G: 1.5490\tD(x): 0.7256\tD(G(z)): 0.3032 / 0.2027\n",
      "[10/30][450/469]\tLoss_D: 0.6923\tLoss_G: 1.9586\tD(x): 0.8531\tD(G(z)): 0.1270 / 0.1250\n",
      "[11/30][0/469]\tLoss_D: 0.7409\tLoss_G: 3.0132\tD(x): 0.9097\tD(G(z)): 0.2359 / 0.0399\n",
      "[11/30][50/469]\tLoss_D: 0.7598\tLoss_G: 1.9511\tD(x): 0.8226\tD(G(z)): 0.1931 / 0.1344\n",
      "[11/30][100/469]\tLoss_D: 0.7532\tLoss_G: 1.7386\tD(x): 0.7597\tD(G(z)): 0.1391 / 0.1606\n",
      "[11/30][150/469]\tLoss_D: 0.6688\tLoss_G: 2.2057\tD(x): 0.8964\tD(G(z)): 0.1015 / 0.0927\n",
      "[11/30][200/469]\tLoss_D: 0.6820\tLoss_G: 2.0607\tD(x): 0.8679\tD(G(z)): 0.1287 / 0.1095\n",
      "[11/30][250/469]\tLoss_D: 0.7143\tLoss_G: 2.1342\tD(x): 0.8641\tD(G(z)): 0.2033 / 0.1017\n",
      "[11/30][300/469]\tLoss_D: 0.7364\tLoss_G: 1.7124\tD(x): 0.8130\tD(G(z)): 0.1827 / 0.1655\n",
      "[11/30][350/469]\tLoss_D: 0.8313\tLoss_G: 2.4667\tD(x): 0.9105\tD(G(z)): 0.3353 / 0.0708\n",
      "[11/30][400/469]\tLoss_D: 0.8412\tLoss_G: 1.0830\tD(x): 0.6718\tD(G(z)): 0.1598 / 0.3322\n",
      "[11/30][450/469]\tLoss_D: 0.6818\tLoss_G: 2.2224\tD(x): 0.9202\tD(G(z)): 0.0700 / 0.0929\n",
      "[12/30][0/469]\tLoss_D: 0.6765\tLoss_G: 1.9435\tD(x): 0.8668\tD(G(z)): 0.1105 / 0.1238\n",
      "[12/30][50/469]\tLoss_D: 0.7001\tLoss_G: 2.6061\tD(x): 0.9471\tD(G(z)): 0.1650 / 0.0595\n",
      "[12/30][100/469]\tLoss_D: 0.8744\tLoss_G: 3.2724\tD(x): 0.9430\tD(G(z)): 0.3347 / 0.0417\n",
      "[12/30][150/469]\tLoss_D: 0.7130\tLoss_G: 2.0162\tD(x): 0.8583\tD(G(z)): 0.1800 / 0.1182\n",
      "[12/30][200/469]\tLoss_D: 0.6936\tLoss_G: 2.2035\tD(x): 0.8582\tD(G(z)): 0.0549 / 0.0938\n",
      "[12/30][250/469]\tLoss_D: 0.9279\tLoss_G: 1.3100\tD(x): 0.6276\tD(G(z)): 0.1741 / 0.2595\n",
      "[12/30][300/469]\tLoss_D: 0.6773\tLoss_G: 2.0132\tD(x): 0.8615\tD(G(z)): 0.1190 / 0.1156\n",
      "[12/30][350/469]\tLoss_D: 0.7157\tLoss_G: 1.9916\tD(x): 0.7952\tD(G(z)): 0.1264 / 0.1199\n",
      "[12/30][400/469]\tLoss_D: 0.6921\tLoss_G: 2.0017\tD(x): 0.8369\tD(G(z)): 0.1095 / 0.1191\n",
      "[12/30][450/469]\tLoss_D: 0.7245\tLoss_G: 2.5573\tD(x): 0.9071\tD(G(z)): 0.2244 / 0.0642\n",
      "[13/30][0/469]\tLoss_D: 0.8007\tLoss_G: 1.5242\tD(x): 0.7967\tD(G(z)): 0.2226 / 0.2111\n",
      "[13/30][50/469]\tLoss_D: 0.8354\tLoss_G: 1.1903\tD(x): 0.6960\tD(G(z)): 0.1606 / 0.3094\n",
      "[13/30][100/469]\tLoss_D: 0.6730\tLoss_G: 2.1593\tD(x): 0.9124\tD(G(z)): 0.0751 / 0.0987\n",
      "[13/30][150/469]\tLoss_D: 0.7505\tLoss_G: 1.5973\tD(x): 0.7797\tD(G(z)): 0.1758 / 0.1851\n",
      "[13/30][200/469]\tLoss_D: 0.6881\tLoss_G: 2.0596\tD(x): 0.8570\tD(G(z)): 0.1526 / 0.1099\n",
      "[13/30][250/469]\tLoss_D: 0.7372\tLoss_G: 1.4360\tD(x): 0.7700\tD(G(z)): 0.1019 / 0.2263\n",
      "[13/30][300/469]\tLoss_D: 0.6810\tLoss_G: 1.9023\tD(x): 0.8509\tD(G(z)): 0.1019 / 0.1301\n",
      "[13/30][350/469]\tLoss_D: 0.6861\tLoss_G: 2.3571\tD(x): 0.9258\tD(G(z)): 0.1434 / 0.0804\n",
      "[13/30][400/469]\tLoss_D: 0.6677\tLoss_G: 2.1305\tD(x): 0.8998\tD(G(z)): 0.1016 / 0.1010\n",
      "[13/30][450/469]\tLoss_D: 0.8520\tLoss_G: 1.9515\tD(x): 0.7827\tD(G(z)): 0.3003 / 0.1275\n",
      "[14/30][0/469]\tLoss_D: 0.7573\tLoss_G: 2.1555\tD(x): 0.8736\tD(G(z)): 0.2536 / 0.1015\n",
      "[14/30][50/469]\tLoss_D: 1.1130\tLoss_G: 2.2107\tD(x): 0.4758\tD(G(z)): 0.1005 / 0.0993\n",
      "[14/30][100/469]\tLoss_D: 0.7574\tLoss_G: 2.0118\tD(x): 0.8053\tD(G(z)): 0.1928 / 0.1206\n",
      "[14/30][150/469]\tLoss_D: 0.7189\tLoss_G: 2.1724\tD(x): 0.9180\tD(G(z)): 0.2013 / 0.0982\n",
      "[14/30][200/469]\tLoss_D: 0.7585\tLoss_G: 1.7169\tD(x): 0.7439\tD(G(z)): 0.1292 / 0.1672\n",
      "[14/30][250/469]\tLoss_D: 0.6720\tLoss_G: 2.2776\tD(x): 0.9248\tD(G(z)): 0.0822 / 0.0848\n",
      "[14/30][300/469]\tLoss_D: 0.7442\tLoss_G: 2.0043\tD(x): 0.7752\tD(G(z)): 0.1359 / 0.1200\n",
      "[14/30][350/469]\tLoss_D: 0.6703\tLoss_G: 2.2490\tD(x): 0.9203\tD(G(z)): 0.1070 / 0.0884\n",
      "[14/30][400/469]\tLoss_D: 1.1091\tLoss_G: 1.0712\tD(x): 0.4991\tD(G(z)): 0.0904 / 0.3918\n",
      "[14/30][450/469]\tLoss_D: 0.6964\tLoss_G: 1.8756\tD(x): 0.8355\tD(G(z)): 0.1037 / 0.1385\n",
      "[15/30][0/469]\tLoss_D: 0.7915\tLoss_G: 2.1460\tD(x): 0.7312\tD(G(z)): 0.0444 / 0.1019\n",
      "[15/30][50/469]\tLoss_D: 0.9637\tLoss_G: 2.1191\tD(x): 0.8410\tD(G(z)): 0.3885 / 0.1085\n",
      "[15/30][100/469]\tLoss_D: 0.7346\tLoss_G: 2.2962\tD(x): 0.8947\tD(G(z)): 0.2250 / 0.0885\n",
      "[15/30][150/469]\tLoss_D: 0.6804\tLoss_G: 2.0676\tD(x): 0.9164\tD(G(z)): 0.1469 / 0.1078\n",
      "[15/30][200/469]\tLoss_D: 0.8817\tLoss_G: 2.3407\tD(x): 0.8608\tD(G(z)): 0.3474 / 0.0854\n",
      "[15/30][250/469]\tLoss_D: 0.7050\tLoss_G: 2.0005\tD(x): 0.8781\tD(G(z)): 0.1758 / 0.1196\n",
      "[15/30][300/469]\tLoss_D: 0.6696\tLoss_G: 1.8198\tD(x): 0.9048\tD(G(z)): 0.0923 / 0.1437\n",
      "[15/30][350/469]\tLoss_D: 0.6815\tLoss_G: 1.9528\tD(x): 0.8949\tD(G(z)): 0.1262 / 0.1240\n",
      "[15/30][400/469]\tLoss_D: 0.9987\tLoss_G: 1.6284\tD(x): 0.5612\tD(G(z)): 0.0537 / 0.1858\n",
      "[15/30][450/469]\tLoss_D: 0.7053\tLoss_G: 2.0398\tD(x): 0.8220\tD(G(z)): 0.0975 / 0.1142\n",
      "[16/30][0/469]\tLoss_D: 0.7036\tLoss_G: 1.9332\tD(x): 0.8327\tD(G(z)): 0.0590 / 0.1257\n",
      "[16/30][50/469]\tLoss_D: 0.6789\tLoss_G: 1.9105\tD(x): 0.8798\tD(G(z)): 0.0929 / 0.1329\n",
      "[16/30][100/469]\tLoss_D: 0.6771\tLoss_G: 2.2791\tD(x): 0.9136\tD(G(z)): 0.1321 / 0.0858\n",
      "[16/30][150/469]\tLoss_D: 0.7235\tLoss_G: 2.0167\tD(x): 0.7979\tD(G(z)): 0.1243 / 0.1224\n",
      "[16/30][200/469]\tLoss_D: 0.6879\tLoss_G: 2.0824\tD(x): 0.8677\tD(G(z)): 0.1073 / 0.1095\n",
      "[16/30][250/469]\tLoss_D: 0.6871\tLoss_G: 2.0104\tD(x): 0.8637\tD(G(z)): 0.0690 / 0.1168\n",
      "[16/30][300/469]\tLoss_D: 1.2887\tLoss_G: 2.6003\tD(x): 0.8982\tD(G(z)): 0.5982 / 0.0691\n",
      "[16/30][350/469]\tLoss_D: 0.6745\tLoss_G: 2.4059\tD(x): 0.9081\tD(G(z)): 0.1130 / 0.0774\n",
      "[16/30][400/469]\tLoss_D: 0.6745\tLoss_G: 2.1765\tD(x): 0.9175\tD(G(z)): 0.1109 / 0.0957\n",
      "[16/30][450/469]\tLoss_D: 0.6851\tLoss_G: 2.1445\tD(x): 0.8692\tD(G(z)): 0.1225 / 0.1025\n",
      "[17/30][0/469]\tLoss_D: 0.6834\tLoss_G: 1.8206\tD(x): 0.8720\tD(G(z)): 0.0710 / 0.1473\n",
      "[17/30][50/469]\tLoss_D: 1.1807\tLoss_G: 3.1103\tD(x): 0.9491\tD(G(z)): 0.5470 / 0.0398\n",
      "[17/30][100/469]\tLoss_D: 0.7517\tLoss_G: 1.6274\tD(x): 0.7683\tD(G(z)): 0.1443 / 0.1965\n",
      "[17/30][150/469]\tLoss_D: 0.7757\tLoss_G: 1.5119\tD(x): 0.7384\tD(G(z)): 0.1267 / 0.2113\n",
      "[17/30][200/469]\tLoss_D: 0.6944\tLoss_G: 2.4475\tD(x): 0.9276\tD(G(z)): 0.1518 / 0.0728\n",
      "[17/30][250/469]\tLoss_D: 0.8399\tLoss_G: 2.9461\tD(x): 0.6725\tD(G(z)): 0.0648 / 0.0450\n",
      "[17/30][300/469]\tLoss_D: 0.6878\tLoss_G: 2.1378\tD(x): 0.8718\tD(G(z)): 0.1448 / 0.1012\n",
      "[17/30][350/469]\tLoss_D: 0.6900\tLoss_G: 1.7753\tD(x): 0.8289\tD(G(z)): 0.0868 / 0.1484\n",
      "[17/30][400/469]\tLoss_D: 0.6814\tLoss_G: 2.1615\tD(x): 0.8646\tD(G(z)): 0.1412 / 0.0972\n",
      "[17/30][450/469]\tLoss_D: 0.8663\tLoss_G: 1.2574\tD(x): 0.6482\tD(G(z)): 0.1309 / 0.2868\n",
      "[18/30][0/469]\tLoss_D: 0.7427\tLoss_G: 2.2310\tD(x): 0.8582\tD(G(z)): 0.2220 / 0.0926\n",
      "[18/30][50/469]\tLoss_D: 0.7061\tLoss_G: 2.4486\tD(x): 0.9051\tD(G(z)): 0.1993 / 0.0710\n",
      "[18/30][100/469]\tLoss_D: 0.6730\tLoss_G: 2.0154\tD(x): 0.8756\tD(G(z)): 0.1054 / 0.1176\n",
      "[18/30][150/469]\tLoss_D: 0.7288\tLoss_G: 1.8062\tD(x): 0.8626\tD(G(z)): 0.2152 / 0.1482\n",
      "[18/30][200/469]\tLoss_D: 0.7148\tLoss_G: 2.1578\tD(x): 0.8036\tD(G(z)): 0.0660 / 0.1011\n",
      "[18/30][250/469]\tLoss_D: 0.7009\tLoss_G: 1.9047\tD(x): 0.8653\tD(G(z)): 0.1667 / 0.1356\n",
      "[18/30][300/469]\tLoss_D: 0.6921\tLoss_G: 1.8852\tD(x): 0.8282\tD(G(z)): 0.1168 / 0.1327\n",
      "[18/30][350/469]\tLoss_D: 0.7023\tLoss_G: 2.5104\tD(x): 0.9496\tD(G(z)): 0.1461 / 0.0672\n",
      "[18/30][400/469]\tLoss_D: 0.8003\tLoss_G: 2.4121\tD(x): 0.7378\tD(G(z)): 0.0346 / 0.0757\n",
      "[18/30][450/469]\tLoss_D: 0.9451\tLoss_G: 1.4408\tD(x): 0.7124\tD(G(z)): 0.3198 / 0.2361\n",
      "[19/30][0/469]\tLoss_D: 0.8955\tLoss_G: 1.5070\tD(x): 0.6304\tD(G(z)): 0.1336 / 0.2103\n",
      "[19/30][50/469]\tLoss_D: 0.6919\tLoss_G: 1.9408\tD(x): 0.8486\tD(G(z)): 0.1043 / 0.1307\n",
      "[19/30][100/469]\tLoss_D: 0.7447\tLoss_G: 2.0511\tD(x): 0.8749\tD(G(z)): 0.2336 / 0.1152\n",
      "[19/30][150/469]\tLoss_D: 0.7011\tLoss_G: 1.8586\tD(x): 0.8208\tD(G(z)): 0.0690 / 0.1380\n",
      "[19/30][200/469]\tLoss_D: 0.7927\tLoss_G: 2.0499\tD(x): 0.8593\tD(G(z)): 0.2756 / 0.1148\n",
      "[19/30][250/469]\tLoss_D: 0.8574\tLoss_G: 1.4516\tD(x): 0.7413\tD(G(z)): 0.2611 / 0.2228\n",
      "[19/30][300/469]\tLoss_D: 0.6803\tLoss_G: 1.9277\tD(x): 0.8734\tD(G(z)): 0.1220 / 0.1287\n",
      "[19/30][350/469]\tLoss_D: 0.6841\tLoss_G: 1.7169\tD(x): 0.8932\tD(G(z)): 0.1399 / 0.1590\n",
      "[19/30][400/469]\tLoss_D: 0.7365\tLoss_G: 2.2440\tD(x): 0.8904\tD(G(z)): 0.2361 / 0.0903\n",
      "[19/30][450/469]\tLoss_D: 0.6804\tLoss_G: 2.1372\tD(x): 0.9005\tD(G(z)): 0.1488 / 0.0994\n",
      "[20/30][0/469]\tLoss_D: 1.5688\tLoss_G: 0.3547\tD(x): 0.3105\tD(G(z)): 0.0761 / 0.8978\n",
      "[20/30][50/469]\tLoss_D: 0.7861\tLoss_G: 1.7464\tD(x): 0.8172\tD(G(z)): 0.2322 / 0.1635\n",
      "[20/30][100/469]\tLoss_D: 0.7030\tLoss_G: 1.8636\tD(x): 0.8255\tD(G(z)): 0.0943 / 0.1395\n",
      "[20/30][150/469]\tLoss_D: 0.8252\tLoss_G: 3.1279\tD(x): 0.9373\tD(G(z)): 0.3136 / 0.0365\n",
      "[20/30][200/469]\tLoss_D: 0.9169\tLoss_G: 1.5856\tD(x): 0.6946\tD(G(z)): 0.2652 / 0.1959\n",
      "[20/30][250/469]\tLoss_D: 0.7353\tLoss_G: 1.8093\tD(x): 0.8141\tD(G(z)): 0.1857 / 0.1506\n",
      "[20/30][300/469]\tLoss_D: 0.6874\tLoss_G: 1.9460\tD(x): 0.8416\tD(G(z)): 0.0907 / 0.1257\n",
      "[20/30][350/469]\tLoss_D: 0.7099\tLoss_G: 2.0944\tD(x): 0.8184\tD(G(z)): 0.0600 / 0.1058\n",
      "[20/30][400/469]\tLoss_D: 0.6864\tLoss_G: 2.3746\tD(x): 0.9278\tD(G(z)): 0.1555 / 0.0774\n",
      "[20/30][450/469]\tLoss_D: 0.8338\tLoss_G: 1.7675\tD(x): 0.7563\tD(G(z)): 0.2373 / 0.1620\n",
      "[21/30][0/469]\tLoss_D: 0.7976\tLoss_G: 2.2280\tD(x): 0.8139\tD(G(z)): 0.2334 / 0.1082\n",
      "[21/30][50/469]\tLoss_D: 0.7133\tLoss_G: 1.9681\tD(x): 0.8107\tD(G(z)): 0.1023 / 0.1250\n",
      "[21/30][100/469]\tLoss_D: 0.6798\tLoss_G: 1.9365\tD(x): 0.8646\tD(G(z)): 0.1057 / 0.1257\n",
      "[21/30][150/469]\tLoss_D: 0.7220\tLoss_G: 2.0132\tD(x): 0.7993\tD(G(z)): 0.1010 / 0.1243\n",
      "[21/30][200/469]\tLoss_D: 0.7759\tLoss_G: 2.1496\tD(x): 0.8857\tD(G(z)): 0.2637 / 0.1055\n",
      "[21/30][250/469]\tLoss_D: 0.6718\tLoss_G: 1.7257\tD(x): 0.8869\tD(G(z)): 0.0967 / 0.1597\n",
      "[21/30][300/469]\tLoss_D: 0.7039\tLoss_G: 2.0279\tD(x): 0.8538\tD(G(z)): 0.1733 / 0.1133\n",
      "[21/30][350/469]\tLoss_D: 0.8993\tLoss_G: 2.0313\tD(x): 0.8479\tD(G(z)): 0.3522 / 0.1323\n",
      "[21/30][400/469]\tLoss_D: 0.6796\tLoss_G: 2.3529\tD(x): 0.9146\tD(G(z)): 0.1451 / 0.0794\n",
      "[21/30][450/469]\tLoss_D: 0.6789\tLoss_G: 2.1699\tD(x): 0.8822\tD(G(z)): 0.1443 / 0.0965\n",
      "[22/30][0/469]\tLoss_D: 0.6691\tLoss_G: 2.0564\tD(x): 0.8820\tD(G(z)): 0.0858 / 0.1096\n",
      "[22/30][50/469]\tLoss_D: 0.7030\tLoss_G: 2.0000\tD(x): 0.8212\tD(G(z)): 0.0972 / 0.1209\n",
      "[22/30][100/469]\tLoss_D: 0.9837\tLoss_G: 1.7655\tD(x): 0.6416\tD(G(z)): 0.2187 / 0.1668\n",
      "[22/30][150/469]\tLoss_D: 0.7087\tLoss_G: 2.2192\tD(x): 0.8176\tD(G(z)): 0.1452 / 0.0929\n",
      "[22/30][200/469]\tLoss_D: 0.6707\tLoss_G: 2.0809\tD(x): 0.8939\tD(G(z)): 0.1045 / 0.1067\n",
      "[22/30][250/469]\tLoss_D: 0.9339\tLoss_G: 1.4288\tD(x): 0.5934\tD(G(z)): 0.0750 / 0.2360\n",
      "[22/30][300/469]\tLoss_D: 0.6991\tLoss_G: 1.8716\tD(x): 0.8310\tD(G(z)): 0.1380 / 0.1363\n",
      "[22/30][350/469]\tLoss_D: 0.6787\tLoss_G: 2.1004\tD(x): 0.8725\tD(G(z)): 0.0921 / 0.1052\n",
      "[22/30][400/469]\tLoss_D: 1.0381\tLoss_G: 0.7216\tD(x): 0.5284\tD(G(z)): 0.1092 / 0.5192\n",
      "[22/30][450/469]\tLoss_D: 1.0183\tLoss_G: 1.3451\tD(x): 0.5467\tD(G(z)): 0.1011 / 0.2555\n",
      "[23/30][0/469]\tLoss_D: 0.8606\tLoss_G: 2.5781\tD(x): 0.9003\tD(G(z)): 0.3207 / 0.0696\n",
      "[23/30][50/469]\tLoss_D: 0.7053\tLoss_G: 2.2967\tD(x): 0.9096\tD(G(z)): 0.1918 / 0.0858\n",
      "[23/30][100/469]\tLoss_D: 0.7265\tLoss_G: 1.5805\tD(x): 0.7735\tD(G(z)): 0.0915 / 0.1872\n",
      "[23/30][150/469]\tLoss_D: 0.6713\tLoss_G: 2.2959\tD(x): 0.9142\tD(G(z)): 0.0917 / 0.0837\n",
      "[23/30][200/469]\tLoss_D: 0.6723\tLoss_G: 1.9784\tD(x): 0.8818\tD(G(z)): 0.1174 / 0.1202\n",
      "[23/30][250/469]\tLoss_D: 0.7166\tLoss_G: 1.9563\tD(x): 0.8241\tD(G(z)): 0.1077 / 0.1418\n",
      "[23/30][300/469]\tLoss_D: 0.7890\tLoss_G: 2.1103\tD(x): 0.7494\tD(G(z)): 0.1385 / 0.1159\n",
      "[23/30][350/469]\tLoss_D: 0.7646\tLoss_G: 2.3460\tD(x): 0.7327\tD(G(z)): 0.0902 / 0.0836\n",
      "[23/30][400/469]\tLoss_D: 0.6845\tLoss_G: 2.4983\tD(x): 0.9208\tD(G(z)): 0.1400 / 0.0682\n",
      "[23/30][450/469]\tLoss_D: 0.9015\tLoss_G: 1.7676\tD(x): 0.7549\tD(G(z)): 0.3030 / 0.1643\n",
      "[24/30][0/469]\tLoss_D: 0.8895\tLoss_G: 1.3127\tD(x): 0.6351\tD(G(z)): 0.1428 / 0.2615\n",
      "[24/30][50/469]\tLoss_D: 0.7639\tLoss_G: 1.6377\tD(x): 0.8453\tD(G(z)): 0.2402 / 0.1839\n",
      "[24/30][100/469]\tLoss_D: 0.6725\tLoss_G: 2.0935\tD(x): 0.8733\tD(G(z)): 0.0956 / 0.1065\n",
      "[24/30][150/469]\tLoss_D: 0.7245\tLoss_G: 2.0920\tD(x): 0.9263\tD(G(z)): 0.2085 / 0.1071\n",
      "[24/30][200/469]\tLoss_D: 0.6972\tLoss_G: 1.9405\tD(x): 0.9127\tD(G(z)): 0.1643 / 0.1287\n",
      "[24/30][250/469]\tLoss_D: 0.7322\tLoss_G: 2.1307\tD(x): 0.8772\tD(G(z)): 0.2042 / 0.1054\n",
      "[24/30][300/469]\tLoss_D: 0.6899\tLoss_G: 2.3120\tD(x): 0.9234\tD(G(z)): 0.1649 / 0.0820\n",
      "[24/30][350/469]\tLoss_D: 0.7234\tLoss_G: 2.5693\tD(x): 0.8938\tD(G(z)): 0.2199 / 0.0640\n",
      "[24/30][400/469]\tLoss_D: 1.2569\tLoss_G: 3.1732\tD(x): 0.9670\tD(G(z)): 0.5560 / 0.0355\n",
      "[24/30][450/469]\tLoss_D: 0.7385\tLoss_G: 1.8501\tD(x): 0.7929\tD(G(z)): 0.1712 / 0.1439\n",
      "[25/30][0/469]\tLoss_D: 0.7104\tLoss_G: 2.4013\tD(x): 0.8828\tD(G(z)): 0.1960 / 0.0761\n",
      "[25/30][50/469]\tLoss_D: 0.6964\tLoss_G: 2.2980\tD(x): 0.9135\tD(G(z)): 0.1812 / 0.0842\n",
      "[25/30][100/469]\tLoss_D: 0.7141\tLoss_G: 2.0301\tD(x): 0.8271\tD(G(z)): 0.1632 / 0.1210\n",
      "[25/30][150/469]\tLoss_D: 0.7238\tLoss_G: 2.3085\tD(x): 0.8701\tD(G(z)): 0.2138 / 0.0838\n",
      "[25/30][200/469]\tLoss_D: 1.0120\tLoss_G: 0.9139\tD(x): 0.5565\tD(G(z)): 0.1141 / 0.4146\n",
      "[25/30][250/469]\tLoss_D: 0.8762\tLoss_G: 2.3142\tD(x): 0.9182\tD(G(z)): 0.3393 / 0.0900\n",
      "[25/30][300/469]\tLoss_D: 0.7907\tLoss_G: 1.8859\tD(x): 0.8036\tD(G(z)): 0.2203 / 0.1423\n",
      "[25/30][350/469]\tLoss_D: 0.6876\tLoss_G: 1.9585\tD(x): 0.8542\tD(G(z)): 0.0902 / 0.1260\n",
      "[25/30][400/469]\tLoss_D: 0.6900\tLoss_G: 2.0581\tD(x): 0.8602\tD(G(z)): 0.0569 / 0.1090\n",
      "[25/30][450/469]\tLoss_D: 0.7020\tLoss_G: 2.6290\tD(x): 0.9043\tD(G(z)): 0.1912 / 0.0589\n",
      "[26/30][0/469]\tLoss_D: 0.6674\tLoss_G: 2.2562\tD(x): 0.8995\tD(G(z)): 0.1086 / 0.0883\n",
      "[26/30][50/469]\tLoss_D: 0.7188\tLoss_G: 1.9037\tD(x): 0.8346\tD(G(z)): 0.1735 / 0.1315\n",
      "[26/30][100/469]\tLoss_D: 0.7399\tLoss_G: 2.0701\tD(x): 0.8274\tD(G(z)): 0.1586 / 0.1167\n",
      "[26/30][150/469]\tLoss_D: 0.6719\tLoss_G: 2.1540\tD(x): 0.8985\tD(G(z)): 0.1188 / 0.0979\n",
      "[26/30][200/469]\tLoss_D: 0.7952\tLoss_G: 1.5542\tD(x): 0.7330\tD(G(z)): 0.1721 / 0.2064\n",
      "[26/30][250/469]\tLoss_D: 0.7064\tLoss_G: 1.7644\tD(x): 0.8260\tD(G(z)): 0.1505 / 0.1514\n",
      "[26/30][300/469]\tLoss_D: 0.9216\tLoss_G: 1.1497\tD(x): 0.6020\tD(G(z)): 0.0794 / 0.3135\n",
      "[26/30][350/469]\tLoss_D: 0.7239\tLoss_G: 1.9440\tD(x): 0.8680\tD(G(z)): 0.1967 / 0.1289\n",
      "[26/30][400/469]\tLoss_D: 0.7007\tLoss_G: 2.4964\tD(x): 0.9132\tD(G(z)): 0.1693 / 0.0684\n",
      "[26/30][450/469]\tLoss_D: 0.6921\tLoss_G: 2.1421\tD(x): 0.8676\tD(G(z)): 0.1207 / 0.1032\n",
      "[27/30][0/469]\tLoss_D: 0.6693\tLoss_G: 1.8695\tD(x): 0.8759\tD(G(z)): 0.0966 / 0.1340\n",
      "[27/30][50/469]\tLoss_D: 0.6807\tLoss_G: 2.3010\tD(x): 0.9177\tD(G(z)): 0.1069 / 0.0871\n",
      "[27/30][100/469]\tLoss_D: 0.7018\tLoss_G: 1.8067\tD(x): 0.8310\tD(G(z)): 0.1438 / 0.1457\n",
      "[27/30][150/469]\tLoss_D: 1.1429\tLoss_G: 1.8559\tD(x): 0.8454\tD(G(z)): 0.4969 / 0.1460\n",
      "[27/30][200/469]\tLoss_D: 0.7065\tLoss_G: 1.8924\tD(x): 0.8442\tD(G(z)): 0.1608 / 0.1359\n",
      "[27/30][250/469]\tLoss_D: 0.6784\tLoss_G: 2.1711\tD(x): 0.8798\tD(G(z)): 0.1397 / 0.0967\n",
      "[27/30][300/469]\tLoss_D: 0.7201\tLoss_G: 1.7701\tD(x): 0.8308\tD(G(z)): 0.1784 / 0.1535\n",
      "[27/30][350/469]\tLoss_D: 0.6791\tLoss_G: 2.2025\tD(x): 0.8856\tD(G(z)): 0.0826 / 0.0950\n",
      "[27/30][400/469]\tLoss_D: 1.3508\tLoss_G: 1.4125\tD(x): 0.5654\tD(G(z)): 0.4430 / 0.2404\n",
      "[27/30][450/469]\tLoss_D: 0.7140\tLoss_G: 2.2632\tD(x): 0.8889\tD(G(z)): 0.2002 / 0.0890\n",
      "[28/30][0/469]\tLoss_D: 0.7188\tLoss_G: 2.3399\tD(x): 0.8372\tD(G(z)): 0.0418 / 0.0817\n",
      "[28/30][50/469]\tLoss_D: 0.6757\tLoss_G: 2.0064\tD(x): 0.8779\tD(G(z)): 0.1139 / 0.1179\n",
      "[28/30][100/469]\tLoss_D: 0.8185\tLoss_G: 1.7743\tD(x): 0.7395\tD(G(z)): 0.2142 / 0.1571\n",
      "[28/30][150/469]\tLoss_D: 1.0749\tLoss_G: 1.8113\tD(x): 0.5075\tD(G(z)): 0.1697 / 0.1583\n",
      "[28/30][200/469]\tLoss_D: 0.8598\tLoss_G: 1.7207\tD(x): 0.7447\tD(G(z)): 0.2405 / 0.1749\n",
      "[28/30][250/469]\tLoss_D: 0.7256\tLoss_G: 2.3034\tD(x): 0.9175\tD(G(z)): 0.2158 / 0.0836\n",
      "[28/30][300/469]\tLoss_D: 0.8846\tLoss_G: 1.5646\tD(x): 0.7170\tD(G(z)): 0.2710 / 0.2058\n",
      "[28/30][350/469]\tLoss_D: 0.7392\tLoss_G: 2.4002\tD(x): 0.8458\tD(G(z)): 0.1090 / 0.0790\n",
      "[28/30][400/469]\tLoss_D: 0.7768\tLoss_G: 1.8270\tD(x): 0.7156\tD(G(z)): 0.0986 / 0.1453\n",
      "[28/30][450/469]\tLoss_D: 0.8057\tLoss_G: 1.3702\tD(x): 0.7080\tD(G(z)): 0.1454 / 0.2422\n",
      "[29/30][0/469]\tLoss_D: 0.7124\tLoss_G: 2.2764\tD(x): 0.8955\tD(G(z)): 0.1877 / 0.0886\n",
      "[29/30][50/469]\tLoss_D: 0.6689\tLoss_G: 2.0223\tD(x): 0.8949\tD(G(z)): 0.1237 / 0.1147\n",
      "[29/30][100/469]\tLoss_D: 0.8046\tLoss_G: 2.3724\tD(x): 0.8909\tD(G(z)): 0.3137 / 0.0766\n",
      "[29/30][150/469]\tLoss_D: 0.9252\tLoss_G: 1.3346\tD(x): 0.6312\tD(G(z)): 0.1967 / 0.2588\n",
      "[29/30][200/469]\tLoss_D: 0.7148\tLoss_G: 2.0870\tD(x): 0.7945\tD(G(z)): 0.0885 / 0.1093\n",
      "[29/30][250/469]\tLoss_D: 0.6803\tLoss_G: 2.0702\tD(x): 0.8732\tD(G(z)): 0.1274 / 0.1090\n",
      "[29/30][300/469]\tLoss_D: 0.7221\tLoss_G: 1.7653\tD(x): 0.8030\tD(G(z)): 0.1327 / 0.1562\n",
      "[29/30][350/469]\tLoss_D: 0.6882\tLoss_G: 1.7879\tD(x): 0.8295\tD(G(z)): 0.1000 / 0.1491\n",
      "[29/30][400/469]\tLoss_D: 0.6782\tLoss_G: 2.1936\tD(x): 0.8872\tD(G(z)): 0.1173 / 0.0966\n",
      "[29/30][450/469]\tLoss_D: 1.0778\tLoss_G: 1.7256\tD(x): 0.5114\tD(G(z)): 0.1756 / 0.1792\n",
      "[30/30][0/469]\tLoss_D: 0.8490\tLoss_G: 2.3205\tD(x): 0.8436\tD(G(z)): 0.3191 / 0.1061\n",
      "[30/30][50/469]\tLoss_D: 0.6766\tLoss_G: 2.2926\tD(x): 0.9032\tD(G(z)): 0.0836 / 0.0854\n",
      "[30/30][100/469]\tLoss_D: 0.7187\tLoss_G: 1.7716\tD(x): 0.7959\tD(G(z)): 0.0863 / 0.1554\n",
      "[30/30][150/469]\tLoss_D: 0.6844\tLoss_G: 2.0081\tD(x): 0.8578\tD(G(z)): 0.1291 / 0.1182\n",
      "[30/30][200/469]\tLoss_D: 0.6863\tLoss_G: 2.1299\tD(x): 0.8592\tD(G(z)): 0.1281 / 0.1014\n",
      "[30/30][250/469]\tLoss_D: 0.7635\tLoss_G: 1.9883\tD(x): 0.8048\tD(G(z)): 0.2111 / 0.1241\n",
      "[30/30][300/469]\tLoss_D: 1.0554\tLoss_G: 1.5710\tD(x): 0.6320\tD(G(z)): 0.2636 / 0.2253\n",
      "[30/30][350/469]\tLoss_D: 0.8209\tLoss_G: 1.5787\tD(x): 0.7924\tD(G(z)): 0.2638 / 0.1919\n",
      "[30/30][400/469]\tLoss_D: 0.6887\tLoss_G: 1.9398\tD(x): 0.8566\tD(G(z)): 0.1385 / 0.1262\n",
      "[30/30][450/469]\tLoss_D: 0.6939\tLoss_G: 2.0449\tD(x): 0.8586\tD(G(z)): 0.1376 / 0.1142\n"
     ]
    },
    {
     "data": {
      "text/plain": [
       "['/content/wandb/run-20220128_160611-3s2y5gow/files/model.h5']"
      ]
     },
     "execution_count": 42,
     "metadata": {},
     "output_type": "execute_result"
    }
   ],
   "source": [
    "use_cuda = not config.no_cuda and torch.cuda.is_available()\n",
    "device = torch.device(\"cuda\" if use_cuda else \"cpu\")\n",
    "kwargs = {'num_workers': 1, 'pin_memory': True} if use_cuda else {}\n",
    "\n",
    "# Set random seeds and deterministic pytorch for reproducibility\n",
    "random.seed(config.seed)       # python random seed\n",
    "torch.manual_seed(config.seed) # pytorch random seed\n",
    "np.random.seed(config.seed) # numpy random seed\n",
    "torch.backends.cudnn.deterministic = True\n",
    "\n",
    "# Load the dataset\n",
    "transform = transforms.Compose(\n",
    "    [transforms.ToTensor(),transforms.Resize(32)])\n",
    "\n",
    "trainset = datasets.FashionMNIST(root='./data', train=True,\n",
    "                                        download=True, transform=transform)\n",
    "trainloader = torch.utils.data.DataLoader(trainset, batch_size=config.batch_size,\n",
    "                                          shuffle=True, num_workers=workers)\n",
    "\n",
    "# Create the generator\n",
    "netG = Generator(ngpu).to(device)\n",
    "\n",
    "# Handle multi-gpu if desired\n",
    "if (device.type == 'cuda') and (ngpu > 1):\n",
    "    netG = nn.DataParallel(netG, list(range(ngpu)))\n",
    "\n",
    "# Apply the weights_init function to randomly initialize all weights\n",
    "#  to mean=0, stdev=0.2.\n",
    "netG.apply(weights_init)\n",
    "\n",
    "# Create the Discriminator\n",
    "netD = Discriminator(ngpu).to(device)\n",
    "\n",
    "# Handle multi-gpu if desired\n",
    "if (device.type == 'cuda') and (ngpu > 1):\n",
    "    netD = nn.DataParallel(netD, list(range(ngpu)))\n",
    "\n",
    "# Apply the weights_init function to randomly initialize all weights\n",
    "#  to mean=0, stdev=0.2.\n",
    "netD.apply(weights_init)\n",
    "\n",
    "# Initialize BCELoss function\n",
    "criterion = nn.BCELoss()\n",
    "\n",
    "# Setup Adam optimizers for both G and D\n",
    "optimizerD = optim.Adam(netD.parameters(), lr=config.lr, betas=(config.beta1, 0.999))\n",
    "optimizerG = optim.Adam(netG.parameters(), lr=config.lr, betas=(config.beta1, 0.999))\n",
    "\n",
    "# WandB – wandb.watch() automatically fetches all layer dimensions, gradients, model parameters and logs them automatically to your dashboard.\n",
    "# Using log=\"all\" log histograms of parameter values in addition to gradients\n",
    "wandb.watch(netG, log=\"all\")\n",
    "wandb.watch(netD, log=\"all\")\n",
    "iters = 0\n",
    "\n",
    "D_losses = []\n",
    "G_losses = []\n",
    "for epoch in range(1, config.epochs + 1):\n",
    "    G_loss, D_loss = train(config, netG, netD, device, trainloader, optimizerG, optimizerD, criterion, epoch, iters)\n",
    "\n",
    "    D_losses.append(D_loss)\n",
    "    G_losses.append(G_loss)\n",
    "\n",
    "# WandB – Save the model checkpoint. This automatically saves a file to the cloud and associates it with the current run.\n",
    "torch.save(netG.state_dict(), \"model.h5\")\n",
    "wandb.save('model.h5')"
   ]
  },
  {
   "cell_type": "markdown",
   "metadata": {
    "id": "eClSyysvc8ut"
   },
   "source": [
    "## Plotting Loss History"
   ]
  },
  {
   "cell_type": "code",
   "execution_count": null,
   "metadata": {
    "colab": {
     "base_uri": "https://localhost:8080/",
     "height": 295
    },
    "id": "ghQD7JmJc8uu",
    "outputId": "23a57310-8568-48d2-f50f-35bbacb446b4"
   },
   "outputs": [
    {
     "data": {
      "image/png": "[encoded data removed]",
      "text/plain": [
       "<Figure size 432x288 with 1 Axes>"
      ]
     },
     "metadata": {
      "needs_background": "light"
     },
     "output_type": "display_data"
    }
   ],
   "source": [
    "plt.plot(D_losses)\n",
    "plt.plot(G_losses)\n",
    "plt.title('Loss per epoch')\n",
    "plt.ylabel('Loss')\n",
    "plt.xlabel('epoch')\n",
    "plt.legend(['Disc Loss', 'Gen Loss'], loc='upper right')\n",
    "plt.show()"
   ]
  },
  {
   "cell_type": "markdown",
   "metadata": {
    "id": "c7ZH49Ytc8uu"
   },
   "source": [
    "## Generating Images"
   ]
  },
  {
   "cell_type": "code",
   "execution_count": null,
   "metadata": {
    "id": "cEh6Y4lcc8uu"
   },
   "outputs": [],
   "source": [
    "def showImage(images,epoch=-99, idx = -99):\n",
    "    images = images.cpu().numpy()\n",
    "    images = images/2 + 0.5\n",
    "    plt.imshow(np.transpose(images,axes = (1,2,0)))\n",
    "    plt.axis('off')\n",
    "    if epoch!=-99:\n",
    "        plt.savefig(\"result/e\" + str(epoch) + \"i\" + str(idx) + \".png\")"
   ]
  },
  {
   "cell_type": "code",
   "execution_count": null,
   "metadata": {
    "colab": {
     "base_uri": "https://localhost:8080/",
     "height": 248
    },
    "id": "MevOF0wLc8uu",
    "outputId": "07fe7f83-e02d-49b6-ef96-204e5e7002b5"
   },
   "outputs": [
    {
     "data": {
      "image/png": "[encoded data removed]",
      "text/plain": [
       "<Figure size 432x288 with 1 Axes>"
      ]
     },
     "metadata": {
      "needs_background": "light"
     },
     "output_type": "display_data"
    }
   ],
   "source": [
    "with torch.no_grad():\n",
    "  noise = torch.randn(64, config.nz, 1, 1, device=device)\n",
    "  generated = netG(noise).detach().cpu()\n",
    "  showImage(make_grid(generated))"
   ]
  }
 ],
 "metadata": {
  "accelerator": "GPU",
  "colab": {
   "collapsed_sections": [
    "c7ZH49Ytc8uu"
   ],
   "name": "3_Question3_Part1.ipynb",
   "provenance": []
  },
  "kernelspec": {
   "display_name": "Python 3 (ipykernel)",
   "language": "python",
   "name": "python3"
  },
  "language_info": {
   "codemirror_mode": {
    "name": "ipython",
    "version": 3
   },
   "file_extension": ".py",
   "mimetype": "text/x-python",
   "name": "python",
   "nbconvert_exporter": "python",
   "pygments_lexer": "ipython3",
   "version": "3.9.5"
  },
  "widgets": {
   "application/vnd.jupyter.widget-state+json": {
    "0bc5d52b25ca4d87bf23924e2ebfe6b9": {
     "model_module": "@jupyter-widgets/controls",
     "model_module_version": "1.5.0",
     "model_name": "FloatProgressModel",
     "state": {
      "_dom_classes": [],
      "_model_module": "@jupyter-widgets/controls",
      "_model_module_version": "1.5.0",
      "_model_name": "FloatProgressModel",
      "_view_count": null,
      "_view_module": "@jupyter-widgets/controls",
      "_view_module_version": "1.5.0",
      "_view_name": "ProgressView",
      "bar_style": "success",
      "description": "",
      "description_tooltip": null,
      "layout": "IPY_MODEL_5b6ed504d2e54f3da7e0aa703bd84fe6",
      "max": 170498071,
      "min": 0,
      "orientation": "horizontal",
      "style": "IPY_MODEL_efdddf9c9a0548f4849952baf1a09762",
      "value": 170498071
     }
    },
    "0bc80877307b46beb68f5477847cec3f": {
     "model_module": "@jupyter-widgets/controls",
     "model_module_version": "1.5.0",
     "model_name": "DescriptionStyleModel",
     "state": {
      "_model_module": "@jupyter-widgets/controls",
      "_model_module_version": "1.5.0",
      "_model_name": "DescriptionStyleModel",
      "_view_count": null,
      "_view_module": "@jupyter-widgets/base",
      "_view_module_version": "1.2.0",
      "_view_name": "StyleView",
      "description_width": ""
     }
    },
    "469c1cfb93f24a3bae952278ad44d464": {
     "model_module": "@jupyter-widgets/controls",
     "model_module_version": "1.5.0",
     "model_name": "ProgressStyleModel",
     "state": {
      "_model_module": "@jupyter-widgets/controls",
      "_model_module_version": "1.5.0",
      "_model_name": "ProgressStyleModel",
      "_view_count": null,
      "_view_module": "@jupyter-widgets/base",
      "_view_module_version": "1.2.0",
      "_view_name": "StyleView",
      "bar_color": null,
      "description_width": ""
     }
    },
    "49ad4484e5454929b778329ebf9e03a7": {
     "model_module": "@jupyter-widgets/base",
     "model_module_version": "1.2.0",
     "model_name": "LayoutModel",
     "state": {
      "_model_module": "@jupyter-widgets/base",
      "_model_module_version": "1.2.0",
      "_model_name": "LayoutModel",
      "_view_count": null,
      "_view_module": "@jupyter-widgets/base",
      "_view_module_version": "1.2.0",
      "_view_name": "LayoutView",
      "align_content": null,
      "align_items": null,
      "align_self": null,
      "border": null,
      "bottom": null,
      "display": null,
      "flex": null,
      "flex_flow": null,
      "grid_area": null,
      "grid_auto_columns": null,
      "grid_auto_flow": null,
      "grid_auto_rows": null,
      "grid_column": null,
      "grid_gap": null,
      "grid_row": null,
      "grid_template_areas": null,
      "grid_template_columns": null,
      "grid_template_rows": null,
      "height": null,
      "justify_content": null,
      "justify_items": null,
      "left": null,
      "margin": null,
      "max_height": null,
      "max_width": null,
      "min_height": null,
      "min_width": null,
      "object_fit": null,
      "object_position": null,
      "order": null,
      "overflow": null,
      "overflow_x": null,
      "overflow_y": null,
      "padding": null,
      "right": null,
      "top": null,
      "visibility": null,
      "width": null
     }
    },
    "5103a441b655414a9d863cbaa3a81620": {
     "model_module": "@jupyter-widgets/base",
     "model_module_version": "1.2.0",
     "model_name": "LayoutModel",
     "state": {
      "_model_module": "@jupyter-widgets/base",
      "_model_module_version": "1.2.0",
      "_model_name": "LayoutModel",
      "_view_count": null,
      "_view_module": "@jupyter-widgets/base",
      "_view_module_version": "1.2.0",
      "_view_name": "LayoutView",
      "align_content": null,
      "align_items": null,
      "align_self": null,
      "border": null,
      "bottom": null,
      "display": null,
      "flex": null,
      "flex_flow": null,
      "grid_area": null,
      "grid_auto_columns": null,
      "grid_auto_flow": null,
      "grid_auto_rows": null,
      "grid_column": null,
      "grid_gap": null,
      "grid_row": null,
      "grid_template_areas": null,
      "grid_template_columns": null,
      "grid_template_rows": null,
      "height": null,
      "justify_content": null,
      "justify_items": null,
      "left": null,
      "margin": null,
      "max_height": null,
      "max_width": null,
      "min_height": null,
      "min_width": null,
      "object_fit": null,
      "object_position": null,
      "order": null,
      "overflow": null,
      "overflow_x": null,
      "overflow_y": null,
      "padding": null,
      "right": null,
      "top": null,
      "visibility": null,
      "width": null
     }
    },
    "5b6ed504d2e54f3da7e0aa703bd84fe6": {
     "model_module": "@jupyter-widgets/base",
     "model_module_version": "1.2.0",
     "model_name": "LayoutModel",
     "state": {
      "_model_module": "@jupyter-widgets/base",
      "_model_module_version": "1.2.0",
      "_model_name": "LayoutModel",
      "_view_count": null,
      "_view_module": "@jupyter-widgets/base",
      "_view_module_version": "1.2.0",
      "_view_name": "LayoutView",
      "align_content": null,
      "align_items": null,
      "align_self": null,
      "border": null,
      "bottom": null,
      "display": null,
      "flex": null,
      "flex_flow": null,
      "grid_area": null,
      "grid_auto_columns": null,
      "grid_auto_flow": null,
      "grid_auto_rows": null,
      "grid_column": null,
      "grid_gap": null,
      "grid_row": null,
      "grid_template_areas": null,
      "grid_template_columns": null,
      "grid_template_rows": null,
      "height": null,
      "justify_content": null,
      "justify_items": null,
      "left": null,
      "margin": null,
      "max_height": null,
      "max_width": null,
      "min_height": null,
      "min_width": null,
      "object_fit": null,
      "object_position": null,
      "order": null,
      "overflow": null,
      "overflow_x": null,
      "overflow_y": null,
      "padding": null,
      "right": null,
      "top": null,
      "visibility": null,
      "width": null
     }
    },
    "5f2c3fc421cb4ed3a0c9f9dbe48926f1": {
     "model_module": "@jupyter-widgets/controls",
     "model_module_version": "1.5.0",
     "model_name": "LabelModel",
     "state": {
      "_dom_classes": [],
      "_model_module": "@jupyter-widgets/controls",
      "_model_module_version": "1.5.0",
      "_model_name": "LabelModel",
      "_view_count": null,
      "_view_module": "@jupyter-widgets/controls",
      "_view_module_version": "1.5.0",
      "_view_name": "LabelView",
      "description": "",
      "description_tooltip": null,
      "layout": "IPY_MODEL_69d90e1845294e7688b0c22f0258ea32",
      "placeholder": "​",
      "style": "IPY_MODEL_db5b63910afe4c46908a449ff189a49d",
      "value": " 17.94MB of 17.94MB uploaded (0.00MB deduped)\r"
     }
    },
    "66007746fa1c4ce8b75914ad33be35e9": {
     "model_module": "@jupyter-widgets/controls",
     "model_module_version": "1.5.0",
     "model_name": "VBoxModel",
     "state": {
      "_dom_classes": [],
      "_model_module": "@jupyter-widgets/controls",
      "_model_module_version": "1.5.0",
      "_model_name": "VBoxModel",
      "_view_count": null,
      "_view_module": "@jupyter-widgets/controls",
      "_view_module_version": "1.5.0",
      "_view_name": "VBoxView",
      "box_style": "",
      "children": [
       "IPY_MODEL_5f2c3fc421cb4ed3a0c9f9dbe48926f1",
       "IPY_MODEL_b0cfd261955e4fc78a3e8e2b81d61147"
      ],
      "layout": "IPY_MODEL_49ad4484e5454929b778329ebf9e03a7"
     }
    },
    "690c8e8f6ff8463399d93e05c808be24": {
     "model_module": "@jupyter-widgets/base",
     "model_module_version": "1.2.0",
     "model_name": "LayoutModel",
     "state": {
      "_model_module": "@jupyter-widgets/base",
      "_model_module_version": "1.2.0",
      "_model_name": "LayoutModel",
      "_view_count": null,
      "_view_module": "@jupyter-widgets/base",
      "_view_module_version": "1.2.0",
      "_view_name": "LayoutView",
      "align_content": null,
      "align_items": null,
      "align_self": null,
      "border": null,
      "bottom": null,
      "display": null,
      "flex": null,
      "flex_flow": null,
      "grid_area": null,
      "grid_auto_columns": null,
      "grid_auto_flow": null,
      "grid_auto_rows": null,
      "grid_column": null,
      "grid_gap": null,
      "grid_row": null,
      "grid_template_areas": null,
      "grid_template_columns": null,
      "grid_template_rows": null,
      "height": null,
      "justify_content": null,
      "justify_items": null,
      "left": null,
      "margin": null,
      "max_height": null,
      "max_width": null,
      "min_height": null,
      "min_width": null,
      "object_fit": null,
      "object_position": null,
      "order": null,
      "overflow": null,
      "overflow_x": null,
      "overflow_y": null,
      "padding": null,
      "right": null,
      "top": null,
      "visibility": null,
      "width": null
     }
    },
    "69d90e1845294e7688b0c22f0258ea32": {
     "model_module": "@jupyter-widgets/base",
     "model_module_version": "1.2.0",
     "model_name": "LayoutModel",
     "state": {
      "_model_module": "@jupyter-widgets/base",
      "_model_module_version": "1.2.0",
      "_model_name": "LayoutModel",
      "_view_count": null,
      "_view_module": "@jupyter-widgets/base",
      "_view_module_version": "1.2.0",
      "_view_name": "LayoutView",
      "align_content": null,
      "align_items": null,
      "align_self": null,
      "border": null,
      "bottom": null,
      "display": null,
      "flex": null,
      "flex_flow": null,
      "grid_area": null,
      "grid_auto_columns": null,
      "grid_auto_flow": null,
      "grid_auto_rows": null,
      "grid_column": null,
      "grid_gap": null,
      "grid_row": null,
      "grid_template_areas": null,
      "grid_template_columns": null,
      "grid_template_rows": null,
      "height": null,
      "justify_content": null,
      "justify_items": null,
      "left": null,
      "margin": null,
      "max_height": null,
      "max_width": null,
      "min_height": null,
      "min_width": null,
      "object_fit": null,
      "object_position": null,
      "order": null,
      "overflow": null,
      "overflow_x": null,
      "overflow_y": null,
      "padding": null,
      "right": null,
      "top": null,
      "visibility": null,
      "width": null
     }
    },
    "902e9be2a940465d8010b967bf833b31": {
     "model_module": "@jupyter-widgets/base",
     "model_module_version": "1.2.0",
     "model_name": "LayoutModel",
     "state": {
      "_model_module": "@jupyter-widgets/base",
      "_model_module_version": "1.2.0",
      "_model_name": "LayoutModel",
      "_view_count": null,
      "_view_module": "@jupyter-widgets/base",
      "_view_module_version": "1.2.0",
      "_view_name": "LayoutView",
      "align_content": null,
      "align_items": null,
      "align_self": null,
      "border": null,
      "bottom": null,
      "display": null,
      "flex": null,
      "flex_flow": null,
      "grid_area": null,
      "grid_auto_columns": null,
      "grid_auto_flow": null,
      "grid_auto_rows": null,
      "grid_column": null,
      "grid_gap": null,
      "grid_row": null,
      "grid_template_areas": null,
      "grid_template_columns": null,
      "grid_template_rows": null,
      "height": null,
      "justify_content": null,
      "justify_items": null,
      "left": null,
      "margin": null,
      "max_height": null,
      "max_width": null,
      "min_height": null,
      "min_width": null,
      "object_fit": null,
      "object_position": null,
      "order": null,
      "overflow": null,
      "overflow_x": null,
      "overflow_y": null,
      "padding": null,
      "right": null,
      "top": null,
      "visibility": null,
      "width": null
     }
    },
    "9066fa7aa97148049c653efdb4dd9500": {
     "model_module": "@jupyter-widgets/controls",
     "model_module_version": "1.5.0",
     "model_name": "HTMLModel",
     "state": {
      "_dom_classes": [],
      "_model_module": "@jupyter-widgets/controls",
      "_model_module_version": "1.5.0",
      "_model_name": "HTMLModel",
      "_view_count": null,
      "_view_module": "@jupyter-widgets/controls",
      "_view_module_version": "1.5.0",
      "_view_name": "HTMLView",
      "description": "",
      "description_tooltip": null,
      "layout": "IPY_MODEL_5103a441b655414a9d863cbaa3a81620",
      "placeholder": "​",
      "style": "IPY_MODEL_acae2406bdf849cb83f75bb876270da4",
      "value": ""
     }
    },
    "acae2406bdf849cb83f75bb876270da4": {
     "model_module": "@jupyter-widgets/controls",
     "model_module_version": "1.5.0",
     "model_name": "DescriptionStyleModel",
     "state": {
      "_model_module": "@jupyter-widgets/controls",
      "_model_module_version": "1.5.0",
      "_model_name": "DescriptionStyleModel",
      "_view_count": null,
      "_view_module": "@jupyter-widgets/base",
      "_view_module_version": "1.2.0",
      "_view_name": "StyleView",
      "description_width": ""
     }
    },
    "b0cfd261955e4fc78a3e8e2b81d61147": {
     "model_module": "@jupyter-widgets/controls",
     "model_module_version": "1.5.0",
     "model_name": "FloatProgressModel",
     "state": {
      "_dom_classes": [],
      "_model_module": "@jupyter-widgets/controls",
      "_model_module_version": "1.5.0",
      "_model_name": "FloatProgressModel",
      "_view_count": null,
      "_view_module": "@jupyter-widgets/controls",
      "_view_module_version": "1.5.0",
      "_view_name": "ProgressView",
      "bar_style": "",
      "description": "",
      "description_tooltip": null,
      "layout": "IPY_MODEL_690c8e8f6ff8463399d93e05c808be24",
      "max": 1,
      "min": 0,
      "orientation": "horizontal",
      "style": "IPY_MODEL_469c1cfb93f24a3bae952278ad44d464",
      "value": 1
     }
    },
    "db5b63910afe4c46908a449ff189a49d": {
     "model_module": "@jupyter-widgets/controls",
     "model_module_version": "1.5.0",
     "model_name": "DescriptionStyleModel",
     "state": {
      "_model_module": "@jupyter-widgets/controls",
      "_model_module_version": "1.5.0",
      "_model_name": "DescriptionStyleModel",
      "_view_count": null,
      "_view_module": "@jupyter-widgets/base",
      "_view_module_version": "1.2.0",
      "_view_name": "StyleView",
      "description_width": ""
     }
    },
    "deb50501f0d84cc7b33df024b0dd4ea1": {
     "model_module": "@jupyter-widgets/base",
     "model_module_version": "1.2.0",
     "model_name": "LayoutModel",
     "state": {
      "_model_module": "@jupyter-widgets/base",
      "_model_module_version": "1.2.0",
      "_model_name": "LayoutModel",
      "_view_count": null,
      "_view_module": "@jupyter-widgets/base",
      "_view_module_version": "1.2.0",
      "_view_name": "LayoutView",
      "align_content": null,
      "align_items": null,
      "align_self": null,
      "border": null,
      "bottom": null,
      "display": null,
      "flex": null,
      "flex_flow": null,
      "grid_area": null,
      "grid_auto_columns": null,
      "grid_auto_flow": null,
      "grid_auto_rows": null,
      "grid_column": null,
      "grid_gap": null,
      "grid_row": null,
      "grid_template_areas": null,
      "grid_template_columns": null,
      "grid_template_rows": null,
      "height": null,
      "justify_content": null,
      "justify_items": null,
      "left": null,
      "margin": null,
      "max_height": null,
      "max_width": null,
      "min_height": null,
      "min_width": null,
      "object_fit": null,
      "object_position": null,
      "order": null,
      "overflow": null,
      "overflow_x": null,
      "overflow_y": null,
      "padding": null,
      "right": null,
      "top": null,
      "visibility": null,
      "width": null
     }
    },
    "e8d0312d32be4e888a81a7ca812ca406": {
     "model_module": "@jupyter-widgets/controls",
     "model_module_version": "1.5.0",
     "model_name": "HTMLModel",
     "state": {
      "_dom_classes": [],
      "_model_module": "@jupyter-widgets/controls",
      "_model_module_version": "1.5.0",
      "_model_name": "HTMLModel",
      "_view_count": null,
      "_view_module": "@jupyter-widgets/controls",
      "_view_module_version": "1.5.0",
      "_view_name": "HTMLView",
      "description": "",
      "description_tooltip": null,
      "layout": "IPY_MODEL_902e9be2a940465d8010b967bf833b31",
      "placeholder": "​",
      "style": "IPY_MODEL_0bc80877307b46beb68f5477847cec3f",
      "value": " 170499072/? [00:02&lt;00:00, 62643618.46it/s]"
     }
    },
    "efdddf9c9a0548f4849952baf1a09762": {
     "model_module": "@jupyter-widgets/controls",
     "model_module_version": "1.5.0",
     "model_name": "ProgressStyleModel",
     "state": {
      "_model_module": "@jupyter-widgets/controls",
      "_model_module_version": "1.5.0",
      "_model_name": "ProgressStyleModel",
      "_view_count": null,
      "_view_module": "@jupyter-widgets/base",
      "_view_module_version": "1.2.0",
      "_view_name": "StyleView",
      "bar_color": null,
      "description_width": ""
     }
    },
    "f611fa5ff9464aacaffa518697dbf56d": {
     "model_module": "@jupyter-widgets/controls",
     "model_module_version": "1.5.0",
     "model_name": "HBoxModel",
     "state": {
      "_dom_classes": [],
      "_model_module": "@jupyter-widgets/controls",
      "_model_module_version": "1.5.0",
      "_model_name": "HBoxModel",
      "_view_count": null,
      "_view_module": "@jupyter-widgets/controls",
      "_view_module_version": "1.5.0",
      "_view_name": "HBoxView",
      "box_style": "",
      "children": [
       "IPY_MODEL_9066fa7aa97148049c653efdb4dd9500",
       "IPY_MODEL_0bc5d52b25ca4d87bf23924e2ebfe6b9",
       "IPY_MODEL_e8d0312d32be4e888a81a7ca812ca406"
      ],
      "layout": "IPY_MODEL_deb50501f0d84cc7b33df024b0dd4ea1"
     }
    }
   }
  }
 },
 "nbformat": 4,
 "nbformat_minor": 1
}
